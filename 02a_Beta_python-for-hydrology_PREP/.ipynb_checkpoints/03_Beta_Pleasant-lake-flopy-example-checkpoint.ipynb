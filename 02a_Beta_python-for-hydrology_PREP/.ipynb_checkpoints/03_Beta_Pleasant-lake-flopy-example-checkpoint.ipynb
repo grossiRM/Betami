{
 "cells": [
  {
   "cell_type": "code",
   "execution_count": 2,
   "id": "f667f0c2-b0ed-4cb9-aaef-0a072f15a944",
   "metadata": {},
   "outputs": [
    {
     "name": "stdout",
     "output_type": "stream",
     "text": [
      "Collecting sfrmaker\n",
      "  Using cached sfrmaker-0.11.3-py3-none-any.whl.metadata (7.0 kB)\n",
      "Collecting geopandas (from sfrmaker)\n",
      "  Downloading geopandas-1.0.1-py3-none-any.whl.metadata (2.2 kB)\n",
      "Collecting gis-utils (from sfrmaker)\n",
      "  Using cached gis_utils-0.3.6-py3-none-any.whl.metadata (4.6 kB)\n",
      "Collecting fiona (from sfrmaker)\n",
      "  Downloading fiona-1.10.1-cp311-cp311-win_amd64.whl.metadata (58 kB)\n",
      "Requirement already satisfied: flopy in c:\\users\\gross.desktop-airqm2m\\.conda\\envs\\gmdsitut\\lib\\site-packages (from sfrmaker) (3.8.2)\n",
      "Collecting modflow-export (from sfrmaker)\n",
      "  Using cached modflow_export-0.3.0-py3-none-any.whl.metadata (5.5 kB)\n",
      "Collecting netcdf4 (from sfrmaker)\n",
      "  Downloading netCDF4-1.7.2-cp311-cp311-win_amd64.whl.metadata (1.8 kB)\n",
      "Requirement already satisfied: numpy in c:\\users\\gross.desktop-airqm2m\\.conda\\envs\\gmdsitut\\lib\\site-packages (from sfrmaker) (1.26.4)\n",
      "Requirement already satisfied: pandas in c:\\users\\gross.desktop-airqm2m\\.conda\\envs\\gmdsitut\\lib\\site-packages (from sfrmaker) (2.2.3)\n",
      "Requirement already satisfied: pyproj in c:\\users\\gross.desktop-airqm2m\\.conda\\envs\\gmdsitut\\lib\\site-packages (from sfrmaker) (3.7.0)\n",
      "Requirement already satisfied: pyyaml in c:\\users\\gross.desktop-airqm2m\\.conda\\envs\\gmdsitut\\lib\\site-packages (from sfrmaker) (6.0.2)\n",
      "Collecting rasterio (from sfrmaker)\n",
      "  Downloading rasterio-1.4.3-cp311-cp311-win_amd64.whl.metadata (9.4 kB)\n",
      "Collecting rasterstats (from sfrmaker)\n",
      "  Downloading rasterstats-0.20.0-py3-none-any.whl.metadata (4.2 kB)\n",
      "Requirement already satisfied: rtree in c:\\users\\gross.desktop-airqm2m\\.conda\\envs\\gmdsitut\\lib\\site-packages (from sfrmaker) (1.3.0)\n",
      "Requirement already satisfied: scipy in c:\\users\\gross.desktop-airqm2m\\.conda\\envs\\gmdsitut\\lib\\site-packages (from sfrmaker) (1.14.1)\n",
      "Requirement already satisfied: shapely in c:\\users\\gross.desktop-airqm2m\\.conda\\envs\\gmdsitut\\lib\\site-packages (from sfrmaker) (2.0.6)\n",
      "Collecting xarray (from sfrmaker)\n",
      "  Downloading xarray-2024.11.0-py3-none-any.whl.metadata (11 kB)\n",
      "Requirement already satisfied: attrs>=19.2.0 in c:\\users\\gross.desktop-airqm2m\\.conda\\envs\\gmdsitut\\lib\\site-packages (from fiona->sfrmaker) (24.2.0)\n",
      "Requirement already satisfied: certifi in c:\\users\\gross.desktop-airqm2m\\.conda\\envs\\gmdsitut\\lib\\site-packages (from fiona->sfrmaker) (2024.8.30)\n",
      "Collecting click~=8.0 (from fiona->sfrmaker)\n",
      "  Downloading click-8.1.7-py3-none-any.whl.metadata (3.0 kB)\n",
      "Collecting click-plugins>=1.0 (from fiona->sfrmaker)\n",
      "  Downloading click_plugins-1.1.1-py2.py3-none-any.whl.metadata (6.4 kB)\n",
      "Collecting cligj>=0.5 (from fiona->sfrmaker)\n",
      "  Downloading cligj-0.7.2-py3-none-any.whl.metadata (5.0 kB)\n",
      "Requirement already satisfied: matplotlib>=1.4.0 in c:\\users\\gross.desktop-airqm2m\\.conda\\envs\\gmdsitut\\lib\\site-packages (from flopy->sfrmaker) (3.9.3)\n",
      "Requirement already satisfied: python-dateutil>=2.8.2 in c:\\users\\gross.desktop-airqm2m\\.conda\\envs\\gmdsitut\\lib\\site-packages (from pandas->sfrmaker) (2.9.0.post0)\n",
      "Requirement already satisfied: pytz>=2020.1 in c:\\users\\gross.desktop-airqm2m\\.conda\\envs\\gmdsitut\\lib\\site-packages (from pandas->sfrmaker) (2024.1)\n",
      "Requirement already satisfied: tzdata>=2022.7 in c:\\users\\gross.desktop-airqm2m\\.conda\\envs\\gmdsitut\\lib\\site-packages (from pandas->sfrmaker) (2024.2)\n",
      "Collecting pyogrio>=0.7.2 (from geopandas->sfrmaker)\n",
      "  Downloading pyogrio-0.10.0-cp311-cp311-win_amd64.whl.metadata (5.6 kB)\n",
      "Requirement already satisfied: packaging in c:\\users\\gross.desktop-airqm2m\\.conda\\envs\\gmdsitut\\lib\\site-packages (from geopandas->sfrmaker) (24.2)\n",
      "Collecting cftime (from netcdf4->sfrmaker)\n",
      "  Downloading cftime-1.6.4.post1-cp311-cp311-win_amd64.whl.metadata (8.9 kB)\n",
      "Collecting affine (from rasterio->sfrmaker)\n",
      "  Downloading affine-2.4.0-py3-none-any.whl.metadata (4.0 kB)\n",
      "Requirement already satisfied: pyparsing in c:\\users\\gross.desktop-airqm2m\\.conda\\envs\\gmdsitut\\lib\\site-packages (from rasterio->sfrmaker) (3.2.0)\n",
      "Collecting simplejson (from rasterstats->sfrmaker)\n",
      "  Downloading simplejson-3.19.3-cp311-cp311-win_amd64.whl.metadata (3.2 kB)\n",
      "Requirement already satisfied: colorama in c:\\users\\gross.desktop-airqm2m\\.conda\\envs\\gmdsitut\\lib\\site-packages (from click~=8.0->fiona->sfrmaker) (0.4.6)\n",
      "Requirement already satisfied: contourpy>=1.0.1 in c:\\users\\gross.desktop-airqm2m\\.conda\\envs\\gmdsitut\\lib\\site-packages (from matplotlib>=1.4.0->flopy->sfrmaker) (1.3.1)\n",
      "Requirement already satisfied: cycler>=0.10 in c:\\users\\gross.desktop-airqm2m\\.conda\\envs\\gmdsitut\\lib\\site-packages (from matplotlib>=1.4.0->flopy->sfrmaker) (0.12.1)\n",
      "Requirement already satisfied: fonttools>=4.22.0 in c:\\users\\gross.desktop-airqm2m\\.conda\\envs\\gmdsitut\\lib\\site-packages (from matplotlib>=1.4.0->flopy->sfrmaker) (4.55.3)\n",
      "Requirement already satisfied: kiwisolver>=1.3.1 in c:\\users\\gross.desktop-airqm2m\\.conda\\envs\\gmdsitut\\lib\\site-packages (from matplotlib>=1.4.0->flopy->sfrmaker) (1.4.7)\n",
      "Requirement already satisfied: pillow>=8 in c:\\users\\gross.desktop-airqm2m\\.conda\\envs\\gmdsitut\\lib\\site-packages (from matplotlib>=1.4.0->flopy->sfrmaker) (11.0.0)\n",
      "Requirement already satisfied: six>=1.5 in c:\\users\\gross.desktop-airqm2m\\.conda\\envs\\gmdsitut\\lib\\site-packages (from python-dateutil>=2.8.2->pandas->sfrmaker) (1.17.0)\n",
      "Using cached sfrmaker-0.11.3-py3-none-any.whl (160 kB)\n",
      "Downloading fiona-1.10.1-cp311-cp311-win_amd64.whl (24.5 MB)\n",
      "   ---------------------------------------- 0.0/24.5 MB ? eta -:--:--\n",
      "   - -------------------------------------- 1.0/24.5 MB 24.6 MB/s eta 0:00:01\n",
      "   - -------------------------------------- 1.0/24.5 MB 24.6 MB/s eta 0:00:01\n",
      "   --- ------------------------------------ 2.1/24.5 MB 3.6 MB/s eta 0:00:07\n",
      "   ----- ---------------------------------- 3.1/24.5 MB 4.6 MB/s eta 0:00:05\n",
      "   ------ --------------------------------- 4.2/24.5 MB 3.9 MB/s eta 0:00:06\n",
      "   -------- ------------------------------- 5.2/24.5 MB 4.0 MB/s eta 0:00:05\n",
      "   -------- ------------------------------- 5.2/24.5 MB 4.0 MB/s eta 0:00:05\n",
      "   -------- ------------------------------- 5.2/24.5 MB 4.0 MB/s eta 0:00:05\n",
      "   ---------- ----------------------------- 6.3/24.5 MB 3.5 MB/s eta 0:00:06\n",
      "   ---------- ----------------------------- 6.3/24.5 MB 3.5 MB/s eta 0:00:06\n",
      "   ----------- ---------------------------- 7.3/24.5 MB 3.3 MB/s eta 0:00:06\n",
      "   ------------- -------------------------- 8.4/24.5 MB 3.6 MB/s eta 0:00:05\n",
      "   ------------- -------------------------- 8.4/24.5 MB 3.6 MB/s eta 0:00:05\n",
      "   --------------- ------------------------ 9.4/24.5 MB 3.3 MB/s eta 0:00:05\n",
      "   ------------------ --------------------- 11.5/24.5 MB 3.7 MB/s eta 0:00:04\n",
      "   ------------------ --------------------- 11.5/24.5 MB 3.7 MB/s eta 0:00:04\n",
      "   ------------------ --------------------- 11.5/24.5 MB 3.7 MB/s eta 0:00:04\n",
      "   ---------------------- ----------------- 13.6/24.5 MB 3.7 MB/s eta 0:00:03\n",
      "   ----------------------- ---------------- 14.7/24.5 MB 3.9 MB/s eta 0:00:03\n",
      "   ------------------------- -------------- 15.7/24.5 MB 3.9 MB/s eta 0:00:03\n",
      "   ----------------------------- ---------- 17.8/24.5 MB 4.1 MB/s eta 0:00:02\n",
      "   ------------------------------ --------- 18.9/24.5 MB 4.1 MB/s eta 0:00:02\n",
      "   -------------------------------- ------- 19.9/24.5 MB 4.3 MB/s eta 0:00:02\n",
      "   -------------------------------- ------- 19.9/24.5 MB 4.3 MB/s eta 0:00:02\n",
      "   ---------------------------------- ----- 21.0/24.5 MB 4.2 MB/s eta 0:00:01\n",
      "   ----------------------------------- ---- 22.0/24.5 MB 4.2 MB/s eta 0:00:01\n",
      "   ---------------------------------------  24.1/24.5 MB 4.3 MB/s eta 0:00:01\n",
      "   ---------------------------------------  24.1/24.5 MB 4.3 MB/s eta 0:00:01\n",
      "   ---------------------------------------  24.4/24.5 MB 4.1 MB/s eta 0:00:01\n",
      "   ---------------------------------------  24.4/24.5 MB 4.1 MB/s eta 0:00:01\n",
      "   ---------------------------------------  24.4/24.5 MB 4.1 MB/s eta 0:00:01\n",
      "   ---------------------------------------- 24.5/24.5 MB 3.8 MB/s eta 0:00:00\n",
      "Downloading geopandas-1.0.1-py3-none-any.whl (323 kB)\n",
      "Using cached gis_utils-0.3.6-py3-none-any.whl (31 kB)\n",
      "Using cached modflow_export-0.3.0-py3-none-any.whl (57 kB)\n",
      "Downloading netCDF4-1.7.2-cp311-cp311-win_amd64.whl (7.0 MB)\n",
      "   ---------------------------------------- 0.0/7.0 MB ? eta -:--:--\n",
      "   ----------- ---------------------------- 2.1/7.0 MB 14.7 MB/s eta 0:00:01\n",
      "   ----------- ---------------------------- 2.1/7.0 MB 14.7 MB/s eta 0:00:01\n",
      "   ----------------- ---------------------- 3.1/7.0 MB 5.0 MB/s eta 0:00:01\n",
      "   ----------------------- ---------------- 4.2/7.0 MB 5.6 MB/s eta 0:00:01\n",
      "   ----------------------- ---------------- 4.2/7.0 MB 5.6 MB/s eta 0:00:01\n",
      "   ----------------------------- ---------- 5.2/7.0 MB 4.1 MB/s eta 0:00:01\n",
      "   ------------------------------------- -- 6.6/7.0 MB 4.4 MB/s eta 0:00:01\n",
      "   ---------------------------------------- 7.0/7.0 MB 4.2 MB/s eta 0:00:00\n",
      "Downloading rasterio-1.4.3-cp311-cp311-win_amd64.whl (25.5 MB)\n",
      "   ---------------------------------------- 0.0/25.5 MB ? eta -:--:--\n",
      "   --- ------------------------------------ 2.1/25.5 MB 14.7 MB/s eta 0:00:02\n",
      "   ---- ----------------------------------- 3.1/25.5 MB 9.7 MB/s eta 0:00:03\n",
      "   ---- ----------------------------------- 3.1/25.5 MB 9.7 MB/s eta 0:00:03\n",
      "   ---- ----------------------------------- 3.1/25.5 MB 9.7 MB/s eta 0:00:03\n",
      "   ------ --------------------------------- 4.2/25.5 MB 3.9 MB/s eta 0:00:06\n",
      "   -------- ------------------------------- 5.2/25.5 MB 4.4 MB/s eta 0:00:05\n",
      "   -------- ------------------------------- 5.2/25.5 MB 4.4 MB/s eta 0:00:05\n",
      "   --------- ------------------------------ 6.3/25.5 MB 3.8 MB/s eta 0:00:06\n",
      "   ------------- -------------------------- 8.4/25.5 MB 4.4 MB/s eta 0:00:04\n",
      "   ------------- -------------------------- 8.4/25.5 MB 4.4 MB/s eta 0:00:04\n",
      "   ------------- -------------------------- 8.4/25.5 MB 4.4 MB/s eta 0:00:04\n",
      "   -------------- ------------------------- 9.4/25.5 MB 3.9 MB/s eta 0:00:05\n",
      "   -------------- ------------------------- 9.4/25.5 MB 3.9 MB/s eta 0:00:05\n",
      "   ---------------- ----------------------- 10.5/25.5 MB 3.6 MB/s eta 0:00:05\n",
      "   ------------------ --------------------- 11.5/25.5 MB 3.8 MB/s eta 0:00:04\n",
      "   -------------------- ------------------- 13.1/25.5 MB 3.9 MB/s eta 0:00:04\n",
      "   --------------------- ------------------ 13.6/25.5 MB 4.1 MB/s eta 0:00:03\n",
      "   --------------------- ------------------ 13.6/25.5 MB 4.1 MB/s eta 0:00:03\n",
      "   ----------------------- ---------------- 14.7/25.5 MB 3.8 MB/s eta 0:00:03\n",
      "   ----------------------- ---------------- 14.7/25.5 MB 3.8 MB/s eta 0:00:03\n",
      "   ------------------------ --------------- 15.7/25.5 MB 3.6 MB/s eta 0:00:03\n",
      "   ------------------------- -------------- 16.0/25.5 MB 3.5 MB/s eta 0:00:03\n",
      "   -------------------------- ------------- 16.8/25.5 MB 3.7 MB/s eta 0:00:03\n",
      "   -------------------------- ------------- 16.8/25.5 MB 3.7 MB/s eta 0:00:03\n",
      "   ---------------------------- ----------- 17.8/25.5 MB 3.5 MB/s eta 0:00:03\n",
      "   ----------------------------- ---------- 18.9/25.5 MB 3.6 MB/s eta 0:00:02\n",
      "   ------------------------------- -------- 19.9/25.5 MB 3.7 MB/s eta 0:00:02\n",
      "   -------------------------------- ------- 21.0/25.5 MB 3.7 MB/s eta 0:00:02\n",
      "   -------------------------------- ------- 21.0/25.5 MB 3.7 MB/s eta 0:00:02\n",
      "   ---------------------------------- ----- 22.0/25.5 MB 3.6 MB/s eta 0:00:01\n",
      "   ------------------------------------ --- 23.1/25.5 MB 3.6 MB/s eta 0:00:01\n",
      "   ---------------------------------------  25.4/25.5 MB 3.9 MB/s eta 0:00:01\n",
      "   ---------------------------------------  25.4/25.5 MB 3.9 MB/s eta 0:00:01\n",
      "   ---------------------------------------  25.4/25.5 MB 3.9 MB/s eta 0:00:01\n",
      "   ---------------------------------------- 25.5/25.5 MB 3.6 MB/s eta 0:00:00\n",
      "Downloading rasterstats-0.20.0-py3-none-any.whl (17 kB)\n",
      "Downloading xarray-2024.11.0-py3-none-any.whl (1.2 MB)\n",
      "   ---------------------------------------- 0.0/1.2 MB ? eta -:--:--\n",
      "   ---------------------------------------- 1.2/1.2 MB 20.6 MB/s eta 0:00:00\n",
      "Downloading click-8.1.7-py3-none-any.whl (97 kB)\n",
      "Downloading click_plugins-1.1.1-py2.py3-none-any.whl (7.5 kB)\n",
      "Downloading cligj-0.7.2-py3-none-any.whl (7.1 kB)\n",
      "Downloading pyogrio-0.10.0-cp311-cp311-win_amd64.whl (16.2 MB)\n",
      "   ---------------------------------------- 0.0/16.2 MB ? eta -:--:--\n",
      "   ------- -------------------------------- 2.9/16.2 MB 13.9 MB/s eta 0:00:01\n",
      "   --------------- ------------------------ 6.3/16.2 MB 15.4 MB/s eta 0:00:01\n",
      "   ------------------ --------------------- 7.3/16.2 MB 12.9 MB/s eta 0:00:01\n",
      "   -------------------- ------------------- 8.4/16.2 MB 12.4 MB/s eta 0:00:01\n",
      "   -------------------- ------------------- 8.4/16.2 MB 12.4 MB/s eta 0:00:01\n",
      "   ------------------------- -------------- 10.5/16.2 MB 8.7 MB/s eta 0:00:01\n",
      "   ---------------------------- ----------- 11.5/16.2 MB 8.8 MB/s eta 0:00:01\n",
      "   ---------------------------- ----------- 11.5/16.2 MB 8.8 MB/s eta 0:00:01\n",
      "   ------------------------------- -------- 12.6/16.2 MB 6.9 MB/s eta 0:00:01\n",
      "   ------------------------------------ --- 14.7/16.2 MB 7.1 MB/s eta 0:00:01\n",
      "   ---------------------------------------  16.0/16.2 MB 7.2 MB/s eta 0:00:01\n",
      "   ---------------------------------------  16.0/16.2 MB 7.2 MB/s eta 0:00:01\n",
      "   ---------------------------------------- 16.2/16.2 MB 6.2 MB/s eta 0:00:00\n",
      "Downloading affine-2.4.0-py3-none-any.whl (15 kB)\n",
      "Downloading cftime-1.6.4.post1-cp311-cp311-win_amd64.whl (190 kB)\n",
      "Downloading simplejson-3.19.3-cp311-cp311-win_amd64.whl (75 kB)\n",
      "Installing collected packages: simplejson, pyogrio, click, cftime, affine, netcdf4, cligj, click-plugins, xarray, rasterio, geopandas, fiona, rasterstats, gis-utils, modflow-export, sfrmaker\n",
      "Successfully installed affine-2.4.0 cftime-1.6.4.post1 click-8.1.7 click-plugins-1.1.1 cligj-0.7.2 fiona-1.10.1 geopandas-1.0.1 gis-utils-0.3.6 modflow-export-0.3.0 netcdf4-1.7.2 pyogrio-0.10.0 rasterio-1.4.3 rasterstats-0.20.0 sfrmaker-0.11.3 simplejson-3.19.3 xarray-2024.11.0\n"
     ]
    }
   ],
   "source": [
    "!pip install sfrmaker #_____Beta"
   ]
  },
  {
   "cell_type": "markdown",
   "id": "e0e850ed",
   "metadata": {},
   "source": [
    "# Pleasant Lake worked Flopy example\n",
    "We start by importing the required packages and objects:"
   ]
  },
  {
   "cell_type": "code",
   "execution_count": 3,
   "id": "5acd45ac",
   "metadata": {},
   "outputs": [],
   "source": [
    "import numpy as np\n",
    "import matplotlib.pyplot as plt\n",
    "import flopy\n",
    "import flopy.mf6 as mf6\n",
    "from flopy.discretization import StructuredGrid\n",
    "from flopy.utils import Raster\n",
    "import sfrmaker"
   ]
  },
  {
   "cell_type": "markdown",
   "id": "08567e2b",
   "metadata": {},
   "source": [
    "### Basic model information\n",
    "Next we define a name and folder location for the model. We then define the discretization and orientation of the model grid in a coordinate reference system (in this case, Wisconsin Transverse Mercator, denoted by EPSG code 3070). "
   ]
  },
  {
   "cell_type": "code",
   "execution_count": 15,
   "id": "be85402f",
   "metadata": {},
   "outputs": [],
   "source": [
    "model_name = 'pleasant'\n",
    "workspace = '.'\n",
    "\n",
    "nper, nlay, nrow, ncol = 1, 3, 60, 70\n",
    "delr, delc = 40, 40\n",
    "xoffset, yoffset = 554400., 389200.0\n",
    "epsg = 3070\n"
   ]
  },
  {
   "cell_type": "code",
   "execution_count": 18,
   "id": "c7cb1dc9-084b-43b2-866f-ead04ce9b889",
   "metadata": {},
   "outputs": [],
   "source": [
    "modelgrid = StructuredGrid(\n",
    "    delr=np.ones(ncol) * delr,\n",
    "    delc=np.ones(nrow) * delc,\n",
    "    xoff=xoffset, yoff=yoffset, angrot=0)"
   ]
  },
  {
   "cell_type": "code",
   "execution_count": 19,
   "id": "e33c9319-75dd-4548-840c-c6384e9e84a6",
   "metadata": {},
   "outputs": [],
   "source": [
    "br_surf = Raster.load('./data/br_surface.tif')"
   ]
  },
  {
   "cell_type": "markdown",
   "id": "933cbc52",
   "metadata": {},
   "source": [
    "### Show intersecting a single raster with model grid using flopy's Raster class\n",
    "The ``Raster`` class in Flopy can be used to interpolate raster surfaces onto the geolocated model grid. In this case, elevations from the impermeable bedrock surface at the base of the model are interpolated linearly to the model grid cell centers. The ``Raster`` class returns a Numpy array of the same shape as the model, which can be written to a text file that can be read directly by MODFLOW."
   ]
  },
  {
   "cell_type": "code",
   "execution_count": 20,
   "id": "0d6e9f19",
   "metadata": {},
   "outputs": [],
   "source": [
    "br_surf = Raster.load('./data/br_surface.tif')\n",
    "rs = br_surf.resample_to_grid(\n",
    "    modelgrid, band=1, method='linear')\n",
    "np.savetxt('data/botm_002.dat', rs)"
   ]
  },
  {
   "cell_type": "markdown",
   "id": "73a9be70",
   "metadata": {},
   "source": [
    "### External array files\n",
    "Similar operations can be performed to produce text file arrays for other model properties. For example, Flopy can export a shapefile of the model grid, which can then be used in a GIS environment to compute zonal statistics of land surface elevations or to map other properties to the grid. Or text file arrays might be produced by parameter estimation software such as PEST. We list text file inputs together in the block below for easy reference. Broadly, these external files fall into two categories-- array files of spatially continuous values for each cell (with one file per layer or stress period), and tabular files of sparse input values (one per stress period) with location and attribute information (e.g. row/column/layer or node number, flux, elevation, stage, conductance, etc.). In the example below, hydraulic conductivity, recharge and cell top and bottom elevations are contained in arrays; specified heads along the model perimeter are contained in a table externally (e.g. through GIS) mapped to layer, row, column locations in the grid."
   ]
  },
  {
   "cell_type": "code",
   "execution_count": 21,
   "id": "290b4ee4",
   "metadata": {},
   "outputs": [],
   "source": [
    "top = [{'filename': 'data/top.dat'}]\n",
    "botm = [{'filename': 'data/botm_000.dat'},\n",
    "        {'filename': 'data/botm_001.dat'},\n",
    "        {'filename': 'data/botm_002.dat'}]\n",
    "# hydraulic conductivity\n",
    "k = [{'filename': 'data/k_000.dat'},\n",
    "     {'filename': 'data/k_001.dat'},\n",
    "     {'filename': 'data/k_002.dat'}]\n",
    "# vertical hydraulic conductivity\n",
    "k33 = [{'filename': 'data/k33_000.dat'},\n",
    "       {'filename': 'data/k33_001.dat'},\n",
    "       {'filename': 'data/k33_002.dat'}]\n",
    "# use the model top for starting heads\n",
    "strt = [top[0]] * nlay\n",
    "recharge = {\n",
    "    0: {'filename': 'data/rch_000.dat'}}\n",
    "irch = [{'filename': 'data/irch.dat'}]\n",
    "spec_head_perimeter = {\n",
    "    0: {'filename': 'data/chd_000.dat'}}"
   ]
  },
  {
   "cell_type": "markdown",
   "id": "2353432b",
   "metadata": {},
   "source": [
    "### Set up the model in Flopy\n",
    "Now that we've defined the model grid and listed the key external file inputs, we're ready to construct the model in Flopy. In general, Flopy represents each input file to MODFLOW with its own python object class. The MODFLOW 6 and Flopy documentation provide more details on the input structures to MODFLOW 6 and Flopy. Here we start by creating a simulation class instance, which represents the Simulation Name File in MODFLOW 6."
   ]
  },
  {
   "cell_type": "code",
   "execution_count": 22,
   "id": "8b16df86",
   "metadata": {},
   "outputs": [],
   "source": [
    "sim = mf6.MFSimulation(\n",
    "    sim_name=model_name, version=\"mf6\", \n",
    "    exe_name=\"mf6\", sim_ws=workspace)"
   ]
  },
  {
   "cell_type": "markdown",
   "id": "8dbeecb9",
   "metadata": {},
   "source": [
    "Next we create object instances for the simulation level packages that would be shared by all models contained within a MODFLOW 6 simulation. These include the Temporal Discretization (TDIS) and Iterative Matrix Solution (IMS) Packages."
   ]
  },
  {
   "cell_type": "code",
   "execution_count": 23,
   "id": "112f68b5",
   "metadata": {},
   "outputs": [],
   "source": [
    "tdis = mf6.ModflowTdis(\n",
    "    sim, time_units=\"days\", nper=1, \n",
    "    perioddata=[(1.0, 1, 1.0)])\n",
    "\n",
    "ims = mf6.ModflowIms(\n",
    "    sim, complexity=\"moderate\", \n",
    "    outer_dvclose=0.001)"
   ]
  },
  {
   "cell_type": "markdown",
   "id": "73fb3d12",
   "metadata": {},
   "source": [
    "Now that the simulation is established, we can make the groundwater model. The ``ModflowGwf`` class represents the groundwater model and the Name file. Next, we create class instances for the Output Control and Discretization Packages. We opt to save the head and flow solutions to MODFLOW binary output, so that we can view them later. We also use information from the stand-alone model grid that we made earlier to locate the model grid object attached to the Flopy model, so that Flopy will write the correct spatial reference information to the Name file."
   ]
  },
  {
   "cell_type": "code",
   "execution_count": 24,
   "id": "0af601f4",
   "metadata": {},
   "outputs": [
    {
     "data": {
      "text/plain": [
       "xll:554400.0; yll:389200.0; rotation:0.0; crs:EPSG:3070; units:undefined; lenuni:0"
      ]
     },
     "execution_count": 24,
     "metadata": {},
     "output_type": "execute_result"
    }
   ],
   "source": [
    "# create the model instance\n",
    "gwf = mf6.ModflowGwf(\n",
    "    sim, modelname=model_name, \n",
    "    save_flows=True)\n",
    "\n",
    "# output control\n",
    "oc = mf6.ModflowGwfoc(\n",
    "    gwf, head_filerecord=f'{gwf.name}.hds', \n",
    "    budget_filerecord=f'{gwf.name}.cbc',\n",
    "    saverecord=[('head', 'all'), (\"budget\", \"all\")])\n",
    "                \n",
    "# set up the discretization package\n",
    "dis = mf6.ModflowGwfdis(\n",
    "    gwf, nlay=nlay, nrow=nrow, ncol=ncol,\n",
    "    delr=delr, delc=delc, \n",
    "    top=top, botm=botm, idomain=1)\n",
    "\n",
    "# locate the model grid\n",
    "gwf.modelgrid.set_coord_info(\n",
    "    xoff=xoffset, yoff=yoffset, epsg=epsg)\n",
    "gwf.modelgrid"
   ]
  },
  {
   "cell_type": "markdown",
   "id": "e5e8a241",
   "metadata": {},
   "source": [
    "### Assign aquifer properties\n",
    "Next, we assign aquifer properties. Since this is a steady-state model, we need only include the Node Property Flow (NPF) package, which specifies hydraulic conductivity."
   ]
  },
  {
   "cell_type": "code",
   "execution_count": 25,
   "id": "b6995e4b",
   "metadata": {},
   "outputs": [],
   "source": [
    "npf = mf6.ModflowGwfnpf(\n",
    "    gwf, icelltype=1, k=k, k33=k33)"
   ]
  },
  {
   "cell_type": "markdown",
   "id": "d64899d3",
   "metadata": {},
   "source": [
    "### Assign initial conditions\n",
    "Starting heads for the model are assigned via the Initial Conditions (IC) Package. Earlier in the workflow, we assigned a text file array of the model top elevation to the ``strt`` variable (starting heads for the model solution)."
   ]
  },
  {
   "cell_type": "code",
   "execution_count": 26,
   "id": "1a6ae50a",
   "metadata": {},
   "outputs": [],
   "source": [
    "ic = mf6.ModflowGwfic(gwf, strt=strt)"
   ]
  },
  {
   "cell_type": "markdown",
   "id": "6faf787c",
   "metadata": {},
   "source": [
    "### Assign boundary conditions\n",
    "Finally, we assign boundary conditions. Similar to other packages, we specify perimeter heads to the Constant Head Package via an external table, and steady state recharge via a text array file. An external connection data table for the Lake Package lists each model cell connected to the lake, as well as the leakance and orientation of each connection. The ``packagedata`` argument contains the initial stage, number of connections, and \"boundname\" for each lake (Langevin et al., 2017). Lake water balance components are specified under ``perioddata``, a python dictionary with keys being stress periods and values being lists. This type of data structure is used frequently for transient data in Flopy. An external table specifies the relationship between stage, area and volume for the lake."
   ]
  },
  {
   "cell_type": "code",
   "execution_count": 27,
   "id": "14e94e72",
   "metadata": {},
   "outputs": [],
   "source": [
    "chd = mf6.ModflowGwfchd(\n",
    "    gwf, stress_period_data=spec_head_perimeter)\n",
    "rch = mf6.ModflowGwfrcha(\n",
    "    gwf, recharge=recharge, irch=irch)\n",
    "\n",
    "lak = mf6.ModflowGwflak(\n",
    "    gwf,\n",
    "    boundnames=True, nlakes=1,\n",
    "    connectiondata={\n",
    "        'filename': 'data/lake_cn.dat'},\n",
    "    packagedata=[[0, 290.85, 345, 'lake1']],\n",
    "    perioddata={0: [\n",
    "        [0, 'evaporation', 0.000715], \n",
    "        [0, 'rainfall', 0.00209]]},\n",
    "    surfdep=0.1)"
   ]
  },
  {
   "cell_type": "markdown",
   "id": "68ddec9c",
   "metadata": {},
   "source": [
    "### Streamflow Routing Package input\n",
    "The creation of Streamflow Routing (SFR) Package input is handled by SFRmaker (Leaf et al., 2021), which takes a shapefile of hydrography and a digital elevation model raster as input, and adds the package to the Flopy model object."
   ]
  },
  {
   "cell_type": "code",
   "execution_count": 28,
   "id": "1f053a1a",
   "metadata": {},
   "outputs": [
    {
     "name": "stdout",
     "output_type": "stream",
     "text": [
      "\n",
      "SFRmaker version 0.11.3\n",
      "\n",
      "Creating sfr dataset...\n",
      "Model grid information\n",
      "structured grid\n",
      "nnodes: 4,200\n",
      "nlay: 1\n",
      "nrow: 60\n",
      "ncol: 70\n",
      "model length units: undefined\n",
      "crs: EPSG:3070\n",
      "bounds: 554400.00, 389200.00, 557200.00, 391600.00\n",
      "active area defined by: all cells\n",
      "\n",
      "name = pleasant\n",
      "model_type = gwf6\n",
      "version = mf6\n",
      "model_relative_path = .\n",
      "\n",
      "###################\n",
      "Package oc\n",
      "###################\n",
      "\n",
      "package_name = oc\n",
      "filename = pleasant.oc\n",
      "package_type = oc\n",
      "model_or_simulation_package = model\n",
      "model_name = pleasant\n",
      "\n",
      "\n",
      "###################\n",
      "Package dis\n",
      "###################\n",
      "\n",
      "package_name = dis\n",
      "filename = pleasant.dis\n",
      "package_type = dis\n",
      "model_or_simulation_package = model\n",
      "model_name = pleasant\n",
      "\n",
      "\n",
      "###################\n",
      "Package npf\n",
      "###################\n",
      "\n",
      "package_name = npf\n",
      "filename = pleasant.npf\n",
      "package_type = npf\n",
      "model_or_simulation_package = model\n",
      "model_name = pleasant\n",
      "\n",
      "\n",
      "###################\n",
      "Package ic\n",
      "###################\n",
      "\n",
      "package_name = ic\n",
      "filename = pleasant.ic\n",
      "package_type = ic\n",
      "model_or_simulation_package = model\n",
      "model_name = pleasant\n",
      "\n",
      "\n",
      "###################\n",
      "Package chd_0\n",
      "###################\n",
      "\n",
      "package_name = chd_0\n",
      "filename = pleasant.chd\n",
      "package_type = chd\n",
      "model_or_simulation_package = model\n",
      "model_name = pleasant\n",
      "\n",
      "\n",
      "###################\n",
      "Package rcha_0\n",
      "###################\n",
      "\n",
      "package_name = rcha_0\n",
      "filename = pleasant.rcha\n",
      "package_type = rcha\n",
      "model_or_simulation_package = model\n",
      "model_name = pleasant\n",
      "\n",
      "\n",
      "###################\n",
      "Package lak_0\n",
      "###################\n",
      "\n",
      "package_name = lak_0\n",
      "filename = pleasant.lak\n",
      "package_type = lak\n",
      "model_or_simulation_package = model\n",
      "model_name = pleasant\n",
      "\n",
      "\n",
      "\n",
      "\n",
      "reprojecting hydrography from\n",
      "EPSG:4269\n",
      "to\n",
      "EPSG:3070\n",
      "\n",
      "\n",
      "Culling hydrography to active area...\n",
      "starting lines: 49\n"
     ]
    },
    {
     "ename": "AttributeError",
     "evalue": "'NoneType' object has no attribute 'intersects'",
     "output_type": "error",
     "traceback": [
      "\u001b[1;31m---------------------------------------------------------------------------\u001b[0m",
      "\u001b[1;31mAttributeError\u001b[0m                            Traceback (most recent call last)",
      "Cell \u001b[1;32mIn[28], line 10\u001b[0m\n\u001b[0;32m      1\u001b[0m lines \u001b[38;5;241m=\u001b[39m sfrmaker\u001b[38;5;241m.\u001b[39mLines\u001b[38;5;241m.\u001b[39mfrom_shapefile(\n\u001b[0;32m      2\u001b[0m     shapefile\u001b[38;5;241m=\u001b[39m\u001b[38;5;124m'\u001b[39m\u001b[38;5;124mdata/edited_flowlines.shp\u001b[39m\u001b[38;5;124m'\u001b[39m,\n\u001b[0;32m      3\u001b[0m     id_column\u001b[38;5;241m=\u001b[39m\u001b[38;5;124m'\u001b[39m\u001b[38;5;124mid\u001b[39m\u001b[38;5;124m'\u001b[39m,\n\u001b[1;32m   (...)\u001b[0m\n\u001b[0;32m      8\u001b[0m     attr_length_units\u001b[38;5;241m=\u001b[39m\u001b[38;5;124m'\u001b[39m\u001b[38;5;124mmeters\u001b[39m\u001b[38;5;124m'\u001b[39m\n\u001b[0;32m      9\u001b[0m     )\n\u001b[1;32m---> 10\u001b[0m sfrdata \u001b[38;5;241m=\u001b[39m \u001b[43mlines\u001b[49m\u001b[38;5;241;43m.\u001b[39;49m\u001b[43mto_sfr\u001b[49m\u001b[43m(\u001b[49m\n\u001b[0;32m     11\u001b[0m \u001b[43m    \u001b[49m\u001b[43mmodel\u001b[49m\u001b[38;5;241;43m=\u001b[39;49m\u001b[43mgwf\u001b[49m\u001b[43m,\u001b[49m\u001b[43m \u001b[49m\n\u001b[0;32m     12\u001b[0m \u001b[43m    \u001b[49m\u001b[43mmodel_length_units\u001b[49m\u001b[38;5;241;43m=\u001b[39;49m\u001b[38;5;124;43m'\u001b[39;49m\u001b[38;5;124;43mmeters\u001b[39;49m\u001b[38;5;124;43m'\u001b[39;49m\u001b[43m)\u001b[49m\n\u001b[0;32m     13\u001b[0m sfrdata\u001b[38;5;241m.\u001b[39mset_streambed_top_elevations_from_dem(\n\u001b[0;32m     14\u001b[0m     \u001b[38;5;124m'\u001b[39m\u001b[38;5;124mdata/dem40m.tif\u001b[39m\u001b[38;5;124m'\u001b[39m, \n\u001b[0;32m     15\u001b[0m     elevation_units\u001b[38;5;241m=\u001b[39m\u001b[38;5;124m'\u001b[39m\u001b[38;5;124mmeters\u001b[39m\u001b[38;5;124m'\u001b[39m)\n\u001b[0;32m     16\u001b[0m sfrdata\u001b[38;5;241m.\u001b[39massign_layers()\n",
      "File \u001b[1;32m~\\.conda\\envs\\gmdsitut\\Lib\\site-packages\\sfrmaker\\lines.py:1029\u001b[0m, in \u001b[0;36mLines.to_sfr\u001b[1;34m(self, grid, active_area, isfr, model, model_length_units, model_time_units, minimum_reach_length, width_from_asum_a_param, width_from_asum_b_param, minimum_reach_width, consolidate_conductance, one_reach_per_cell, add_outlets, package_name, **kwargs)\u001b[0m\n\u001b[0;32m   1027\u001b[0m     \u001b[38;5;28mself\u001b[39m\u001b[38;5;241m.\u001b[39mcull(grid\u001b[38;5;241m.\u001b[39mactive_area, inplace\u001b[38;5;241m=\u001b[39m\u001b[38;5;28;01mTrue\u001b[39;00m, simplify\u001b[38;5;241m=\u001b[39m\u001b[38;5;28;01mTrue\u001b[39;00m, tol\u001b[38;5;241m=\u001b[39m\u001b[38;5;241m2000\u001b[39m)\n\u001b[0;32m   1028\u001b[0m \u001b[38;5;28;01melif\u001b[39;00m grid\u001b[38;5;241m.\u001b[39m_bounds \u001b[38;5;129;01mis\u001b[39;00m \u001b[38;5;129;01mnot\u001b[39;00m \u001b[38;5;28;01mNone\u001b[39;00m:  \u001b[38;5;66;03m# cull to grid bounding box if already computed\u001b[39;00m\n\u001b[1;32m-> 1029\u001b[0m     \u001b[38;5;28;43mself\u001b[39;49m\u001b[38;5;241;43m.\u001b[39;49m\u001b[43mcull\u001b[49m\u001b[43m(\u001b[49m\u001b[43mbox\u001b[49m\u001b[43m(\u001b[49m\u001b[38;5;241;43m*\u001b[39;49m\u001b[43mgrid\u001b[49m\u001b[38;5;241;43m.\u001b[39;49m\u001b[43m_bounds\u001b[49m\u001b[43m)\u001b[49m\u001b[43m,\u001b[49m\u001b[43m \u001b[49m\u001b[43minplace\u001b[49m\u001b[38;5;241;43m=\u001b[39;49m\u001b[38;5;28;43;01mTrue\u001b[39;49;00m\u001b[43m)\u001b[49m\n\u001b[0;32m   1030\u001b[0m \u001b[38;5;28;01mif\u001b[39;00m package_name \u001b[38;5;129;01mis\u001b[39;00m \u001b[38;5;28;01mNone\u001b[39;00m:\n\u001b[0;32m   1031\u001b[0m     \u001b[38;5;28;01mif\u001b[39;00m model \u001b[38;5;129;01mis\u001b[39;00m \u001b[38;5;129;01mnot\u001b[39;00m \u001b[38;5;28;01mNone\u001b[39;00m:\n",
      "File \u001b[1;32m~\\.conda\\envs\\gmdsitut\\Lib\\site-packages\\sfrmaker\\lines.py:294\u001b[0m, in \u001b[0;36mLines.cull\u001b[1;34m(self, feature, simplify, tol, feature_crs, inplace)\u001b[0m\n\u001b[0;32m    289\u001b[0m \u001b[38;5;28mprint\u001b[39m(\u001b[38;5;124m'\u001b[39m\u001b[38;5;124mstarting lines: \u001b[39m\u001b[38;5;132;01m{:,d}\u001b[39;00m\u001b[38;5;124m'\u001b[39m\u001b[38;5;241m.\u001b[39mformat(\u001b[38;5;28mlen\u001b[39m(lines)))\n\u001b[0;32m    290\u001b[0m \u001b[38;5;66;03m# isn = np.array([g.intersection(feature_s) for g in lines])\u001b[39;00m\n\u001b[0;32m    291\u001b[0m \u001b[38;5;66;03m# df['geometry'] = isn\u001b[39;00m\n\u001b[0;32m    292\u001b[0m \u001b[38;5;66;03m# drop = np.array([g.is_empty for g in isn])\u001b[39;00m\n\u001b[0;32m    293\u001b[0m \u001b[38;5;66;03m# df = df.loc[~drop]\u001b[39;00m\n\u001b[1;32m--> 294\u001b[0m intersects \u001b[38;5;241m=\u001b[39m \u001b[43m[\u001b[49m\u001b[43mg\u001b[49m\u001b[38;5;241;43m.\u001b[39;49m\u001b[43mintersects\u001b[49m\u001b[43m(\u001b[49m\u001b[43mfeature_s\u001b[49m\u001b[43m)\u001b[49m\u001b[43m \u001b[49m\u001b[38;5;28;43;01mfor\u001b[39;49;00m\u001b[43m \u001b[49m\u001b[43mg\u001b[49m\u001b[43m \u001b[49m\u001b[38;5;129;43;01min\u001b[39;49;00m\u001b[43m \u001b[49m\u001b[43mlines\u001b[49m\u001b[43m]\u001b[49m\n\u001b[0;32m    295\u001b[0m \u001b[38;5;28;01mif\u001b[39;00m \u001b[38;5;129;01mnot\u001b[39;00m np\u001b[38;5;241m.\u001b[39many(intersects):\n\u001b[0;32m    296\u001b[0m     \u001b[38;5;28;01mraise\u001b[39;00m \u001b[38;5;167;01mValueError\u001b[39;00m(\u001b[38;5;124m'\u001b[39m\u001b[38;5;124mNo lines in active area. Check CRS for lines, grid and active area polygon.\u001b[39m\u001b[38;5;124m'\u001b[39m)\n",
      "File \u001b[1;32m~\\.conda\\envs\\gmdsitut\\Lib\\site-packages\\sfrmaker\\lines.py:294\u001b[0m, in \u001b[0;36m<listcomp>\u001b[1;34m(.0)\u001b[0m\n\u001b[0;32m    289\u001b[0m \u001b[38;5;28mprint\u001b[39m(\u001b[38;5;124m'\u001b[39m\u001b[38;5;124mstarting lines: \u001b[39m\u001b[38;5;132;01m{:,d}\u001b[39;00m\u001b[38;5;124m'\u001b[39m\u001b[38;5;241m.\u001b[39mformat(\u001b[38;5;28mlen\u001b[39m(lines)))\n\u001b[0;32m    290\u001b[0m \u001b[38;5;66;03m# isn = np.array([g.intersection(feature_s) for g in lines])\u001b[39;00m\n\u001b[0;32m    291\u001b[0m \u001b[38;5;66;03m# df['geometry'] = isn\u001b[39;00m\n\u001b[0;32m    292\u001b[0m \u001b[38;5;66;03m# drop = np.array([g.is_empty for g in isn])\u001b[39;00m\n\u001b[0;32m    293\u001b[0m \u001b[38;5;66;03m# df = df.loc[~drop]\u001b[39;00m\n\u001b[1;32m--> 294\u001b[0m intersects \u001b[38;5;241m=\u001b[39m [\u001b[43mg\u001b[49m\u001b[38;5;241;43m.\u001b[39;49m\u001b[43mintersects\u001b[49m(feature_s) \u001b[38;5;28;01mfor\u001b[39;00m g \u001b[38;5;129;01min\u001b[39;00m lines]\n\u001b[0;32m    295\u001b[0m \u001b[38;5;28;01mif\u001b[39;00m \u001b[38;5;129;01mnot\u001b[39;00m np\u001b[38;5;241m.\u001b[39many(intersects):\n\u001b[0;32m    296\u001b[0m     \u001b[38;5;28;01mraise\u001b[39;00m \u001b[38;5;167;01mValueError\u001b[39;00m(\u001b[38;5;124m'\u001b[39m\u001b[38;5;124mNo lines in active area. Check CRS for lines, grid and active area polygon.\u001b[39m\u001b[38;5;124m'\u001b[39m)\n",
      "\u001b[1;31mAttributeError\u001b[0m: 'NoneType' object has no attribute 'intersects'"
     ]
    }
   ],
   "source": [
    "lines = sfrmaker.Lines.from_shapefile(\n",
    "    shapefile='data/edited_flowlines.shp',\n",
    "    id_column='id',\n",
    "    routing_column='toid',\n",
    "    width1_column='width1',\n",
    "    width2_column='width2',\n",
    "    name_column='name',\n",
    "    attr_length_units='meters'\n",
    "    )\n",
    "sfrdata = lines.to_sfr(\n",
    "    model=gwf, \n",
    "    model_length_units='meters')\n",
    "sfrdata.set_streambed_top_elevations_from_dem(\n",
    "    'data/dem40m.tif', \n",
    "    elevation_units='meters')\n",
    "sfrdata.assign_layers()\n",
    "sfr = sfrdata.create_mf6sfr(gwf)"
   ]
  },
  {
   "cell_type": "markdown",
   "id": "b4235d53",
   "metadata": {},
   "source": [
    "### Writing the input files\n",
    "Now that all the packages are made, we can write the MODFLOW input files."
   ]
  },
  {
   "cell_type": "code",
   "execution_count": 29,
   "id": "03fb00f8",
   "metadata": {},
   "outputs": [
    {
     "name": "stdout",
     "output_type": "stream",
     "text": [
      "writing simulation...\n",
      "  writing simulation name file...\n",
      "  writing simulation tdis package...\n",
      "  writing solution package ims_-1...\n",
      "  writing model pleasant...\n",
      "    writing model name file...\n",
      "    writing package oc...\n",
      "    writing package dis...\n",
      "    writing package npf...\n",
      "    writing package ic...\n",
      "    writing package chd_0...\n",
      "INFORMATION: maxbound in ('gwf6', 'chd', 'dimensions') changed to 572 based on size of stress_period_data\n",
      "    writing package rcha_0...\n",
      "    writing package lak_0...\n"
     ]
    }
   ],
   "source": [
    "sim.write_simulation()"
   ]
  },
  {
   "cell_type": "markdown",
   "id": "2c13a52e",
   "metadata": {},
   "source": [
    "### Running the model with Flopy\n",
    "MODFLOW can be run at the command line, or through Flopy, as shown here."
   ]
  },
  {
   "cell_type": "code",
   "execution_count": 30,
   "id": "fa7b54e4",
   "metadata": {},
   "outputs": [
    {
     "ename": "FileNotFoundError",
     "evalue": "The program mf6 does not exist or is not executable.",
     "output_type": "error",
     "traceback": [
      "\u001b[1;31m---------------------------------------------------------------------------\u001b[0m",
      "\u001b[1;31mFileNotFoundError\u001b[0m                         Traceback (most recent call last)",
      "Cell \u001b[1;32mIn[30], line 1\u001b[0m\n\u001b[1;32m----> 1\u001b[0m \u001b[43msim\u001b[49m\u001b[38;5;241;43m.\u001b[39;49m\u001b[43mrun_simulation\u001b[49m\u001b[43m(\u001b[49m\u001b[43m)\u001b[49m\n",
      "File \u001b[1;32m~\\.conda\\envs\\gmdsitut\\Lib\\site-packages\\flopy\\mf6\\mfsimbase.py:1715\u001b[0m, in \u001b[0;36mMFSimulationBase.run_simulation\u001b[1;34m(self, silent, pause, report, processors, normal_msg, use_async, cargs, custom_print)\u001b[0m\n\u001b[0;32m   1713\u001b[0m     \u001b[38;5;28;01melse\u001b[39;00m:\n\u001b[0;32m   1714\u001b[0m         silent \u001b[38;5;241m=\u001b[39m \u001b[38;5;28;01mTrue\u001b[39;00m\n\u001b[1;32m-> 1715\u001b[0m \u001b[38;5;28;01mreturn\u001b[39;00m \u001b[43mrun_model\u001b[49m\u001b[43m(\u001b[49m\n\u001b[0;32m   1716\u001b[0m \u001b[43m    \u001b[49m\u001b[38;5;28;43mself\u001b[39;49m\u001b[38;5;241;43m.\u001b[39;49m\u001b[43mexe_name\u001b[49m\u001b[43m,\u001b[49m\n\u001b[0;32m   1717\u001b[0m \u001b[43m    \u001b[49m\u001b[38;5;28;43;01mNone\u001b[39;49;00m\u001b[43m,\u001b[49m\n\u001b[0;32m   1718\u001b[0m \u001b[43m    \u001b[49m\u001b[38;5;28;43mself\u001b[39;49m\u001b[38;5;241;43m.\u001b[39;49m\u001b[43msimulation_data\u001b[49m\u001b[38;5;241;43m.\u001b[39;49m\u001b[43mmfpath\u001b[49m\u001b[38;5;241;43m.\u001b[39;49m\u001b[43mget_sim_path\u001b[49m\u001b[43m(\u001b[49m\u001b[43m)\u001b[49m\u001b[43m,\u001b[49m\n\u001b[0;32m   1719\u001b[0m \u001b[43m    \u001b[49m\u001b[43msilent\u001b[49m\u001b[38;5;241;43m=\u001b[39;49m\u001b[43msilent\u001b[49m\u001b[43m,\u001b[49m\n\u001b[0;32m   1720\u001b[0m \u001b[43m    \u001b[49m\u001b[43mpause\u001b[49m\u001b[38;5;241;43m=\u001b[39;49m\u001b[43mpause\u001b[49m\u001b[43m,\u001b[49m\n\u001b[0;32m   1721\u001b[0m \u001b[43m    \u001b[49m\u001b[43mreport\u001b[49m\u001b[38;5;241;43m=\u001b[39;49m\u001b[43mreport\u001b[49m\u001b[43m,\u001b[49m\n\u001b[0;32m   1722\u001b[0m \u001b[43m    \u001b[49m\u001b[43mprocessors\u001b[49m\u001b[38;5;241;43m=\u001b[39;49m\u001b[43mprocessors\u001b[49m\u001b[43m,\u001b[49m\n\u001b[0;32m   1723\u001b[0m \u001b[43m    \u001b[49m\u001b[43mnormal_msg\u001b[49m\u001b[38;5;241;43m=\u001b[39;49m\u001b[43mnormal_msg\u001b[49m\u001b[43m,\u001b[49m\n\u001b[0;32m   1724\u001b[0m \u001b[43m    \u001b[49m\u001b[43muse_async\u001b[49m\u001b[38;5;241;43m=\u001b[39;49m\u001b[43muse_async\u001b[49m\u001b[43m,\u001b[49m\n\u001b[0;32m   1725\u001b[0m \u001b[43m    \u001b[49m\u001b[43mcargs\u001b[49m\u001b[38;5;241;43m=\u001b[39;49m\u001b[43mcargs\u001b[49m\u001b[43m,\u001b[49m\n\u001b[0;32m   1726\u001b[0m \u001b[43m    \u001b[49m\u001b[43mcustom_print\u001b[49m\u001b[38;5;241;43m=\u001b[39;49m\u001b[43mcustom_print\u001b[49m\u001b[43m,\u001b[49m\n\u001b[0;32m   1727\u001b[0m \u001b[43m\u001b[49m\u001b[43m)\u001b[49m\n",
      "File \u001b[1;32m~\\.conda\\envs\\gmdsitut\\Lib\\site-packages\\flopy\\mbase.py:1736\u001b[0m, in \u001b[0;36mrun_model\u001b[1;34m(exe_name, namefile, model_ws, silent, pause, report, processors, normal_msg, use_async, cargs, custom_print)\u001b[0m\n\u001b[0;32m   1734\u001b[0m \u001b[38;5;28;01mif\u001b[39;00m exe_name \u001b[38;5;129;01mis\u001b[39;00m \u001b[38;5;28;01mNone\u001b[39;00m:\n\u001b[0;32m   1735\u001b[0m     \u001b[38;5;28;01mraise\u001b[39;00m \u001b[38;5;167;01mValueError\u001b[39;00m(\u001b[38;5;124m\"\u001b[39m\u001b[38;5;124mAn executable name or path must be provided\u001b[39m\u001b[38;5;124m\"\u001b[39m)\n\u001b[1;32m-> 1736\u001b[0m exe_path \u001b[38;5;241m=\u001b[39m \u001b[43mresolve_exe\u001b[49m\u001b[43m(\u001b[49m\u001b[43mexe_name\u001b[49m\u001b[43m)\u001b[49m\n\u001b[0;32m   1737\u001b[0m \u001b[38;5;28;01mif\u001b[39;00m \u001b[38;5;129;01mnot\u001b[39;00m silent:\n\u001b[0;32m   1738\u001b[0m     \u001b[38;5;28mprint\u001b[39m(\n\u001b[0;32m   1739\u001b[0m         \u001b[38;5;124mf\u001b[39m\u001b[38;5;124m\"\u001b[39m\u001b[38;5;124mFloPy is using the following executable to run the model: \u001b[39m\u001b[38;5;132;01m{\u001b[39;00mflopy_io\u001b[38;5;241m.\u001b[39mrelpath_safe(exe_path,\u001b[38;5;250m \u001b[39mmodel_ws)\u001b[38;5;132;01m}\u001b[39;00m\u001b[38;5;124m\"\u001b[39m\n\u001b[0;32m   1740\u001b[0m     )\n",
      "File \u001b[1;32m~\\.conda\\envs\\gmdsitut\\Lib\\site-packages\\flopy\\mbase.py:103\u001b[0m, in \u001b[0;36mresolve_exe\u001b[1;34m(exe_name, forgive)\u001b[0m\n\u001b[0;32m     97\u001b[0m         warn(\n\u001b[0;32m     98\u001b[0m             \u001b[38;5;124mf\u001b[39m\u001b[38;5;124m\"\u001b[39m\u001b[38;5;124mThe program \u001b[39m\u001b[38;5;132;01m{\u001b[39;00mexe_name\u001b[38;5;132;01m}\u001b[39;00m\u001b[38;5;124m does not exist or is not executable.\u001b[39m\u001b[38;5;124m\"\u001b[39m,\n\u001b[0;32m     99\u001b[0m             category\u001b[38;5;241m=\u001b[39m\u001b[38;5;167;01mUserWarning\u001b[39;00m,\n\u001b[0;32m    100\u001b[0m         )\n\u001b[0;32m    101\u001b[0m         \u001b[38;5;28;01mreturn\u001b[39;00m \u001b[38;5;28;01mNone\u001b[39;00m\n\u001b[1;32m--> 103\u001b[0m     \u001b[38;5;28;01mraise\u001b[39;00m \u001b[38;5;167;01mFileNotFoundError\u001b[39;00m(\n\u001b[0;32m    104\u001b[0m         \u001b[38;5;124mf\u001b[39m\u001b[38;5;124m\"\u001b[39m\u001b[38;5;124mThe program \u001b[39m\u001b[38;5;132;01m{\u001b[39;00mexe_name\u001b[38;5;132;01m}\u001b[39;00m\u001b[38;5;124m does not exist or is not executable.\u001b[39m\u001b[38;5;124m\"\u001b[39m\n\u001b[0;32m    105\u001b[0m     )\n\u001b[0;32m    107\u001b[0m \u001b[38;5;28;01mreturn\u001b[39;00m exe_path\n",
      "\u001b[1;31mFileNotFoundError\u001b[0m: The program mf6 does not exist or is not executable."
     ]
    }
   ],
   "source": [
    "sim.run_simulation()"
   ]
  },
  {
   "cell_type": "markdown",
   "id": "079cd5a6",
   "metadata": {},
   "source": [
    "### Postprocessing and viewing the results\n",
    "Following execution of the model, we can view the results using the Flopy ``PlotMapView`` object, which can overlay model information together in the coordinate reference system of the model grid. First, use the Flopy ``get_water_table`` utilty to compute a 2D array of the water table elevations from the 3D head solution:"
   ]
  },
  {
   "cell_type": "code",
   "execution_count": null,
   "id": "55ca4fcf",
   "metadata": {},
   "outputs": [],
   "source": [
    "from flopy.utils.postprocessing import get_water_table\n",
    "\n",
    "hds = gwf.output.head().get_data()\n",
    "wt = get_water_table(hds, nodata=-1e30)"
   ]
  },
  {
   "cell_type": "markdown",
   "id": "fc75505e",
   "metadata": {},
   "source": [
    "Then, we read the Lake and SFR budget results into 3D Numpy arrays of the same shape as the model, for easy plotting. Cells that don't have these boundary conditions are masked."
   ]
  },
  {
   "cell_type": "code",
   "execution_count": null,
   "id": "12d6d77d",
   "metadata": {},
   "outputs": [],
   "source": [
    "cbc = gwf.output.budget()\n",
    "lak = cbc.get_data(text='lak', full3D=True)[0]\n",
    "sfr = cbc.get_data(text='sfr', full3D=True)[0]"
   ]
  },
  {
   "cell_type": "markdown",
   "id": "f96ae6bd",
   "metadata": {},
   "source": [
    "Now make the figure using the ``PlotMapView`` object. The budget results show simulated groundwater/surface water interactions at each model cell, in units of cubic meters per day, with negative values indicating groundwater discharge to surface water."
   ]
  },
  {
   "cell_type": "code",
   "execution_count": null,
   "id": "efd1ad1b",
   "metadata": {},
   "outputs": [],
   "source": [
    "fig, ax = plt.subplots(figsize=(6, 6))\n",
    "pmv = flopy.plot.PlotMapView(gwf, ax=ax)\n",
    "ctr = pmv.contour_array(\n",
    "    wt, levels=np.arange(290, 315, 1), \n",
    "    linewidths=1, colors='b')\n",
    "labels = pmv.ax.clabel(\n",
    "    ctr, inline=True, \n",
    "    fontsize=8, inline_spacing=1)\n",
    "vmin, vmax = -100, 100\n",
    "im = pmv.plot_array(\n",
    "    lak[0], cmap='coolwarm', \n",
    "    vmin=vmin, vmax=vmax)\n",
    "im = pmv.plot_array(\n",
    "    sfr.sum(axis=0), cmap='coolwarm', \n",
    "    vmin=vmin, vmax=vmax)\n",
    "cb = fig.colorbar(\n",
    "    im, shrink=0.5, label='Leakage, in m$^3$/day')\n",
    "ax.set_ylabel(\"Northing, WTM meters\")\n",
    "ax.set_xlabel(\"Easting, WTM meters\")\n",
    "ax.set_aspect(1)\n",
    "plt.tight_layout()\n",
    "plt.savefig('results.pdf')"
   ]
  },
  {
   "cell_type": "markdown",
   "id": "4587085b",
   "metadata": {},
   "source": [
    "### References\n",
    "\n",
    "Fienen, M.N., Haserodt, M.J., Leaf, A.T., Westenbroek, S.M., 2022, Simulation of Regional Groundwater Flow and Groundwater/Lake Interactions in the Central Sands, Wisconsin: U.S. Geological Survey Scientific Investigations Report 2022-5046, http://doi.org/10.3133/sir20225046\n",
    "\n",
    "Fienen, M.N., Haserodt, M.J., and Leaf, A.T, 2021, MODFLOW models used to simulate groundwater flow in the Wisconsin Central Sands Study Area, 2012-2018, U.S. Geological Survey Data Release, https://doi.org/10.5066/P9BVFSGJ\n",
    "\n",
    "Leaf, A.T., Fienen, M.N. and Reeves, H.W. (2021), SFRmaker and Linesink-Maker: Rapid Construction of Streamflow Routing Networks from Hydrography Data. Groundwater, 59: 761-771. https://doi.org/10.1111/gwat.13095"
   ]
  },
  {
   "cell_type": "code",
   "execution_count": null,
   "id": "2454ac4c",
   "metadata": {},
   "outputs": [],
   "source": []
  }
 ],
 "metadata": {
  "kernelspec": {
   "display_name": "Python 3 (ipykernel)",
   "language": "python",
   "name": "python3"
  },
  "language_info": {
   "codemirror_mode": {
    "name": "ipython",
    "version": 3
   },
   "file_extension": ".py",
   "mimetype": "text/x-python",
   "name": "python",
   "nbconvert_exporter": "python",
   "pygments_lexer": "ipython3",
   "version": "3.11.11"
  }
 },
 "nbformat": 4,
 "nbformat_minor": 5
}
