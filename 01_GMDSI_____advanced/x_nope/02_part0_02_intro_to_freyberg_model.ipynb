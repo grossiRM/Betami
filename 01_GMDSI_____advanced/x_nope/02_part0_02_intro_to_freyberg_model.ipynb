{
 "cells": [
  {
   "cell_type": "code",
   "execution_count": null,
   "id": "d80b2770-19a9-4c5f-8d6c-2b73bc865c85",
   "metadata": {},
   "outputs": [],
   "source": [
    "# Aula_01 35:50"
   ]
  },
  {
   "cell_type": "code",
   "execution_count": null,
   "id": "2f34aacf-3ea1-470d-abac-d1837d4bbd5d",
   "metadata": {},
   "outputs": [],
   "source": [
    "# 00_Groundwater - 2019 - Hunt - Revisiting An Exercise in Groundwater Model Calibration and Prediction After 30 Years .pdf\n",
    "# C:\\pest\\A\\A1\\GMDSI_notebooks\\tutorials\\freyberg_mp.ne_layer1.xlsx\n",
    "# herebedragons.py"
   ]
  },
  {
   "cell_type": "code",
   "execution_count": null,
   "id": "3011ae8b-d73e-47fd-ae60-56ec642cada6",
   "metadata": {},
   "outputs": [],
   "source": []
  },
  {
   "cell_type": "code",
   "execution_count": null,
   "id": "8ab6bffb-d833-4667-abac-ea3b14f70207",
   "metadata": {},
   "outputs": [],
   "source": []
  }
 ],
 "metadata": {
  "kernelspec": {
   "display_name": "Python 3 (ipykernel)",
   "language": "python",
   "name": "python3"
  },
  "language_info": {
   "codemirror_mode": {
    "name": "ipython",
    "version": 3
   },
   "file_extension": ".py",
   "mimetype": "text/x-python",
   "name": "python",
   "nbconvert_exporter": "python",
   "pygments_lexer": "ipython3",
   "version": "3.12.7"
  }
 },
 "nbformat": 4,
 "nbformat_minor": 5
}
