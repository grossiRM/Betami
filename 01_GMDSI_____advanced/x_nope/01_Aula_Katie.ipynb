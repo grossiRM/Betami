{
 "cells": [
  {
   "cell_type": "code",
   "execution_count": null,
   "id": "f6b9a1a7-26a1-4bf5-86eb-5d144c0c9baf",
   "metadata": {},
   "outputs": [],
   "source": [
    "# Aula_01 58:02\n",
    "# C:\\pest\\A\\A1\\reimagined-adventure\\00_RMG_Aula_01_Katie_Markovich.ipynb"
   ]
  },
  {
   "cell_type": "code",
   "execution_count": null,
   "id": "a83bb615-baf6-41d4-aab6-7c242c39b088",
   "metadata": {},
   "outputs": [],
   "source": [
    "import os\n",
    "import pyemu"
   ]
  },
  {
   "cell_type": "code",
   "execution_count": null,
   "id": "412c9433-1961-4cd9-ba03-c97cd8dbb855",
   "metadata": {},
   "outputs": [],
   "source": [
    "model_ws = os.path.join(\"monthly_model_files_1lyr_newstress\")\n",
    "C:\\pest\\A\\A1\\reimagined-adventure\\monthly_model_files_1lyr_newstress"
   ]
  },
  {
   "cell_type": "code",
   "execution_count": null,
   "id": "64d5fb48-cd10-4ae2-81ff-12566c57fc07",
   "metadata": {},
   "outputs": [],
   "source": [
    "pyemu.os_utils.run('mf6',cwd=model_ws) # Current Working Directory\n",
    "'mf6.exe'\n",
    "'pestpp-ies.exe'"
   ]
  },
  {
   "cell_type": "code",
   "execution_count": null,
   "id": "9863d33a-6d43-4621-9d7c-c019c137a9f5",
   "metadata": {},
   "outputs": [],
   "source": []
  },
  {
   "cell_type": "code",
   "execution_count": null,
   "id": "42ba5ab9-b34f-4289-b06d-594c68855823",
   "metadata": {},
   "outputs": [],
   "source": [
    "os.listdir(tmp_d) # to SEE ------------------------------- ***"
   ]
  },
  {
   "cell_type": "code",
   "execution_count": null,
   "id": "6f1c4950-796c-4c4a-aa15-e9e9644cb802",
   "metadata": {},
   "outputs": [],
   "source": []
  },
  {
   "cell_type": "code",
   "execution_count": null,
   "id": "5ec8b037-5e9a-46c1-bb03-46bdc012b1fe",
   "metadata": {},
   "outputs": [],
   "source": [
    "# ___________________________ PEST container  ( pf = )\n",
    "pyemu.utils.PstFrom? "
   ]
  },
  {
   "cell_type": "code",
   "execution_count": null,
   "id": "09de2c9a-3122-48b8-9cbc-8968ab7a97af",
   "metadata": {},
   "outputs": [],
   "source": [
    "     pyemu.utils.PstFrom(model_ws,'template')\n",
    "pf = pyemu.utils.PstFrom(model_ws,'template',remove_existing=True)"
   ]
  },
  {
   "cell_type": "code",
   "execution_count": null,
   "id": "b9fc6860-518b-4285-af58-6ec16ea1f02f",
   "metadata": {},
   "outputs": [],
   "source": [
    "pf.add_parameters?  \n",
    "pf.add_parameters('freyberg6.npf_k_layer1.txt',par_type='grid)"
   ]
  },
  {
   "cell_type": "code",
   "execution_count": null,
   "id": "aa4dfbc7-f1dd-4e23-a8a8-627d9a4092d0",
   "metadata": {},
   "outputs": [],
   "source": [
    "pf.add_observations?\n",
    "pf.add_observations('heads.csv',index_cols='time',use_cols='TRGW-0-15-16’) "
   ]
  },
  {
   "cell_type": "code",
   "execution_count": null,
   "id": "58b4b945-1af0-4f73-9b6d-2802e7be4bbc",
   "metadata": {},
   "outputs": [],
   "source": [
    "pf.mod_sys_cmds.append('mf6')\n",
    "C:\\pest\\A\\A1\\reimagined-adventure\\template\\forward_run.py\n",
    "    '''pyemu.helpers.apply_list_and_array_pars(arr_par_file='mult2model_info.csv',chunk_len=50)\n",
    "    '''pyemu.os_utils.run(r'mf6')"
   ]
  },
  {
   "cell_type": "code",
   "execution_count": null,
   "id": "dc0548ce-9a3a-4aa7-a563-9dadfbf24a3e",
   "metadata": {},
   "outputs": [],
   "source": [
    "pf.build_pst?\n",
    "pf.build_pst(filename=os.path.join(pf.new_d,'freyberg.pst'),version=2)"
   ]
  },
  {
   "cell_type": "code",
   "execution_count": null,
   "id": "8ad7a0e9-9a86-40fc-a29c-e8ecf90cdbce",
   "metadata": {},
   "outputs": [],
   "source": [
    "# ______________________\n",
    "C:\\pest\\A\\A1\\reimagined-adventure\\template\\freyberg.pst\n",
    "\n",
    "pestmode                                 estimation\n",
    "noptmax                                 0\n",
    "svdmode                                 1\n",
    "maxsing                          10000000\n",
    "eigthresh                           1e-06\n",
    "eigwrite                                1\n",
    "\n",
    "* parameter groups external\n",
    "freyberg.pargp_data.csv\n",
    "\n",
    "* parameter data external\n",
    "freyberg.par_data.csv\n",
    "\n",
    "* observation data external\n",
    "freyberg.obs_data.csv\n",
    "\n",
    "* model command line\n",
    "python forward_run.py\n",
    "\n",
    "* model input external\n",
    "freyberg.tplfile_data.csv\n",
    "\n",
    "* model output external\n",
    "freyberg.insfile_data.csv"
   ]
  },
  {
   "cell_type": "code",
   "execution_count": null,
   "id": "02263e41-8c6e-4f9b-a486-6bc85b34ac87",
   "metadata": {},
   "outputs": [],
   "source": [
    "pyemu.os_utils.run('pestpp-ies.exe freyberg.pst',cwd='template')\n",
    "# freyberg.pst = control file name"
   ]
  },
  {
   "cell_type": "code",
   "execution_count": null,
   "id": "e957db8c-beab-4f79-8d02-66cf8b71551e",
   "metadata": {},
   "outputs": [],
   "source": []
  }
 ],
 "metadata": {
  "kernelspec": {
   "display_name": "Python 3 (ipykernel)",
   "language": "python",
   "name": "python3"
  },
  "language_info": {
   "codemirror_mode": {
    "name": "ipython",
    "version": 3
   },
   "file_extension": ".py",
   "mimetype": "text/x-python",
   "name": "python",
   "nbconvert_exporter": "python",
   "pygments_lexer": "ipython3",
   "version": "3.12.7"
  }
 },
 "nbformat": 4,
 "nbformat_minor": 5
}
