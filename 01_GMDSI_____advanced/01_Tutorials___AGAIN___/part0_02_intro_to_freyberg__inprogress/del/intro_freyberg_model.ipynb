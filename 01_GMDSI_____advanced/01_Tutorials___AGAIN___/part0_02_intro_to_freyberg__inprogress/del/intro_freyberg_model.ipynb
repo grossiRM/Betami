{
 "cells": [
  {
   "cell_type": "markdown",
   "metadata": {},
   "source": [
    "# Intro to the model"
   ]
  },
  {
   "cell_type": "code",
   "execution_count": 1,
   "metadata": {},
   "outputs": [
    {
     "name": "stdout",
     "output_type": "stream",
     "text": [
      "Requirement already satisfied: flopy in c:\\users\\gross.desktop-airqm2m\\anaconda3\\envs\\gmdsitut\\lib\\site-packages (3.8.2)\n",
      "Requirement already satisfied: numpy>=1.20.3 in c:\\users\\gross.desktop-airqm2m\\anaconda3\\envs\\gmdsitut\\lib\\site-packages (from flopy) (1.26.4)\n",
      "Requirement already satisfied: matplotlib>=1.4.0 in c:\\users\\gross.desktop-airqm2m\\anaconda3\\envs\\gmdsitut\\lib\\site-packages (from flopy) (3.9.4)\n",
      "Requirement already satisfied: pandas>=2.0.0 in c:\\users\\gross.desktop-airqm2m\\anaconda3\\envs\\gmdsitut\\lib\\site-packages (from flopy) (2.2.3)\n",
      "Requirement already satisfied: contourpy>=1.0.1 in c:\\users\\gross.desktop-airqm2m\\anaconda3\\envs\\gmdsitut\\lib\\site-packages (from matplotlib>=1.4.0->flopy) (1.3.1)\n",
      "Requirement already satisfied: cycler>=0.10 in c:\\users\\gross.desktop-airqm2m\\anaconda3\\envs\\gmdsitut\\lib\\site-packages (from matplotlib>=1.4.0->flopy) (0.12.1)\n",
      "Requirement already satisfied: fonttools>=4.22.0 in c:\\users\\gross.desktop-airqm2m\\anaconda3\\envs\\gmdsitut\\lib\\site-packages (from matplotlib>=1.4.0->flopy) (4.55.3)\n",
      "Requirement already satisfied: kiwisolver>=1.3.1 in c:\\users\\gross.desktop-airqm2m\\anaconda3\\envs\\gmdsitut\\lib\\site-packages (from matplotlib>=1.4.0->flopy) (1.4.7)\n",
      "Requirement already satisfied: packaging>=20.0 in c:\\users\\gross.desktop-airqm2m\\anaconda3\\envs\\gmdsitut\\lib\\site-packages (from matplotlib>=1.4.0->flopy) (24.2)\n",
      "Requirement already satisfied: pillow>=8 in c:\\users\\gross.desktop-airqm2m\\anaconda3\\envs\\gmdsitut\\lib\\site-packages (from matplotlib>=1.4.0->flopy) (11.0.0)\n",
      "Requirement already satisfied: pyparsing>=2.3.1 in c:\\users\\gross.desktop-airqm2m\\anaconda3\\envs\\gmdsitut\\lib\\site-packages (from matplotlib>=1.4.0->flopy) (3.2.0)\n",
      "Requirement already satisfied: python-dateutil>=2.7 in c:\\users\\gross.desktop-airqm2m\\anaconda3\\envs\\gmdsitut\\lib\\site-packages (from matplotlib>=1.4.0->flopy) (2.9.0.post0)\n",
      "Requirement already satisfied: pytz>=2020.1 in c:\\users\\gross.desktop-airqm2m\\anaconda3\\envs\\gmdsitut\\lib\\site-packages (from pandas>=2.0.0->flopy) (2024.1)\n",
      "Requirement already satisfied: tzdata>=2022.7 in c:\\users\\gross.desktop-airqm2m\\anaconda3\\envs\\gmdsitut\\lib\\site-packages (from pandas>=2.0.0->flopy) (2024.2)\n",
      "Requirement already satisfied: six>=1.5 in c:\\users\\gross.desktop-airqm2m\\anaconda3\\envs\\gmdsitut\\lib\\site-packages (from python-dateutil>=2.7->matplotlib>=1.4.0->flopy) (1.17.0)\n",
      "Requirement already satisfied: pyemu in c:\\users\\gross.desktop-airqm2m\\anaconda3\\envs\\gmdsitut\\lib\\site-packages (1.3.8)\n",
      "Requirement already satisfied: numpy in c:\\users\\gross.desktop-airqm2m\\anaconda3\\envs\\gmdsitut\\lib\\site-packages (from pyemu) (1.26.4)\n",
      "Requirement already satisfied: pandas in c:\\users\\gross.desktop-airqm2m\\anaconda3\\envs\\gmdsitut\\lib\\site-packages (from pyemu) (2.2.3)\n",
      "Requirement already satisfied: python-dateutil>=2.8.2 in c:\\users\\gross.desktop-airqm2m\\anaconda3\\envs\\gmdsitut\\lib\\site-packages (from pandas->pyemu) (2.9.0.post0)\n",
      "Requirement already satisfied: pytz>=2020.1 in c:\\users\\gross.desktop-airqm2m\\anaconda3\\envs\\gmdsitut\\lib\\site-packages (from pandas->pyemu) (2024.1)\n",
      "Requirement already satisfied: tzdata>=2022.7 in c:\\users\\gross.desktop-airqm2m\\anaconda3\\envs\\gmdsitut\\lib\\site-packages (from pandas->pyemu) (2024.2)\n",
      "Requirement already satisfied: six>=1.5 in c:\\users\\gross.desktop-airqm2m\\anaconda3\\envs\\gmdsitut\\lib\\site-packages (from python-dateutil>=2.8.2->pandas->pyemu) (1.17.0)\n"
     ]
    }
   ],
   "source": [
    "!pip install flopy\n",
    "!pip install pyemu"
   ]
  },
  {
   "cell_type": "code",
   "execution_count": 1,
   "metadata": {},
   "outputs": [],
   "source": [
    "import os\n",
    "import shutil\n",
    "import platform\n",
    "import pandas as pd\n",
    "import matplotlib.pyplot as plt\n",
    "import sys\n",
    "# sys.path.append(os.path.join(\"..\", \"..\", \"dependencies\"))\n",
    "import flopy\n",
    "import pyemu\n",
    "\n",
    "sys.path.insert(0,\"..\")\n",
    "import herebedragons as hbd"
   ]
  },
  {
   "cell_type": "code",
   "execution_count": 2,
   "metadata": {},
   "outputs": [],
   "source": [
    "org_ws = os.path.join('..', '..', 'models', 'monthly_model_files_1lyr_newstress')\n",
    "sim_ws = os.path.join('freyberg_mf6')\n",
    "# remove existing folder\n",
    "if os.path.exists(sim_ws):\n",
    "    shutil.rmtree(sim_ws)\n",
    "shutil.copytree(org_ws, sim_ws)\n",
    "hbd.prep_bins(sim_ws)"
   ]
  },
  {
   "cell_type": "code",
   "execution_count": 12,
   "metadata": {},
   "outputs": [
    {
     "name": "stdout",
     "output_type": "stream",
     "text": [
      "mf6.exe\n"
     ]
    }
   ],
   "source": [
    "# load simulation\n",
    "sim = flopy.mf6.MFSimulation.load(sim_ws=sim_ws, verbosity_level=0)\n",
    "\n",
    "# load flow model\n",
    "gwf = sim.get_model()\n",
    "\n",
    "# run the model\n",
    "#sim.run_simulation()\n",
    "pyemu.os_utils.run(\"mf6\",cwd=sim_ws)"
   ]
  },
  {
   "cell_type": "code",
   "execution_count": null,
   "metadata": {},
   "outputs": [],
   "source": [
    "sim"
   ]
  },
  {
   "cell_type": "code",
   "execution_count": 9,
   "metadata": {},
   "outputs": [
    {
     "name": "stdout",
     "output_type": "stream",
     "text": [
      "layers:1 nrows:40 columns:20\n"
     ]
    }
   ],
   "source": [
    "dis = gwf.dis\n",
    "print(f'layers:{dis.nlay.get_data()} nrows:{dis.nrow.get_data()} columns:{dis.ncol.get_data()}')"
   ]
  },
  {
   "cell_type": "code",
   "execution_count": 12,
   "metadata": {},
   "outputs": [
    {
     "data": {
      "image/png": "[encoded data removed]",
      "text/plain": [
       "<Figure size 300x300 with 1 Axes>"
      ]
     },
     "metadata": {},
     "output_type": "display_data"
    }
   ],
   "source": [
    "# plot\n",
    "fig = plt.figure(figsize=(3, 3))\n",
    "ax = fig.add_subplot(1, 1, 1, aspect='equal')\n",
    "mm = flopy.plot.PlotMapView(model=gwf, ax=ax, layer=0)\n",
    "mm.plot_grid()\n",
    "mm.plot_inactive()\n",
    "# Plot grid \n",
    "# you can plot BC cells using the plot_bc() \n",
    "mm.plot_bc('ghb')\n",
    "mm.plot_bc('sfr')\n",
    "mm.plot_bc('wel');"
   ]
  },
  {
   "cell_type": "markdown",
   "metadata": {},
   "source": [
    "Take a quick look at everyone's favourite parameter, hydraulic conductivity (K):"
   ]
  },
  {
   "cell_type": "code",
   "execution_count": null,
   "metadata": {},
   "outputs": [],
   "source": [
    "for lay in range(gwf.dis.nlay.array):\n",
    "    print(f'K in layer {lay+1}:', \"{:10.1f}\".format(gwf.npf.k.get_data(lay).mean()))"
   ]
  },
  {
   "cell_type": "code",
   "execution_count": null,
   "metadata": {},
   "outputs": [],
   "source": [
    "gwf.npf.k.plot(colorbar=True, mflay=0);"
   ]
  },
  {
   "cell_type": "markdown",
   "metadata": {},
   "source": [
    "Surface topography and the bottom elevation are not uniform (see plots below), with a top and bottom elevation of 32.5m and 30m, respectively."
   ]
  },
  {
   "cell_type": "code",
   "execution_count": null,
   "metadata": {},
   "outputs": [],
   "source": [
    "# plot model top\n",
    "gwf.dis.top.plot(colorbar=True, masked_values=[-1049.99])\n",
    "\n",
    "# plot bottom of bottom layer\n",
    "gwf.dis.botm.plot(colorbar=True);"
   ]
  },
  {
   "cell_type": "markdown",
   "metadata": {},
   "source": [
    "### Time Discretisation\n",
    "\n",
    "The model simulates 25 stress-periods: 1 steady-state, followed by 24 transient stress periods. \n",
    "\n",
    "Conceptualy, the first 12 transient stress periods represent the \"historical\" conditions. Simulated outputs from this period (using the \"true\" parameter field) are used as \"observations\" for history matching. These represent field measurments in from our fictional site.\n",
    "\n",
    "The last 12 transient stress periods conceptualy represent the unmeasured, future condition. The period for which predictions are required. Selected model outputs simulated during this period form a set of \"forecasts\" or \"predicitons\" of management interest. "
   ]
  },
  {
   "cell_type": "markdown",
   "metadata": {},
   "source": [
    "## Observation Data\n",
    "\n",
    "The following field data are available as \"observations\" for the purposes of history matching:\n",
    " - surface-water flow at the terminal reach (stress period 2 to 13);\n",
    " - groundwater levels at two sites (stress period 2 to 13); \n",
    "\n",
    "\"Measured\" data was generated using the same model, but with higher spatial and temporal resolution (i.e. a finer grid and daily stress periods) and randomly generated parameters."
   ]
  },
  {
   "cell_type": "code",
   "execution_count": null,
   "metadata": {},
   "outputs": [],
   "source": [
    "obs_data = pd.read_csv(os.path.join('..','..','models','daily_freyberg_mf6_truth','obs_data.csv'))\n",
    "obs_data = obs_data.pivot(index='time', columns='site', values='value')\n",
    "obs_data.head()"
   ]
  },
  {
   "cell_type": "markdown",
   "metadata": {},
   "source": [
    "Model simulated counterparts to these observations are recorded in external CSV files. Let's take a look:"
   ]
  },
  {
   "cell_type": "code",
   "execution_count": null,
   "metadata": {},
   "outputs": [],
   "source": [
    "# check the output csv file names\n",
    "for i in gwf.obs:\n",
    "    print(i.output.obs_names)"
   ]
  },
  {
   "cell_type": "markdown",
   "metadata": {},
   "source": [
    "We can read the `sfr.csv` output file, and inspect the values:"
   ]
  },
  {
   "cell_type": "code",
   "execution_count": null,
   "metadata": {},
   "outputs": [],
   "source": [
    "sfr_obs = pd.read_csv(os.path.join(sim_ws, 'sfr.csv'))\n",
    "sfr_obs.head()"
   ]
  },
  {
   "cell_type": "markdown",
   "metadata": {},
   "source": [
    "Simulated values for surface-water flow at the terminal reach are recorded in the \"GAGE1\" column:"
   ]
  },
  {
   "cell_type": "code",
   "execution_count": null,
   "metadata": {},
   "outputs": [],
   "source": [
    "site = 'GAGE-1'\n",
    "fig,ax=plt.subplots(1,1)\n",
    "obs_data.plot(y=site, ax=ax, label='measured')\n",
    "sfr_obs.plot(x='time', y=site, ax=ax, label='modelled')\n",
    "ax.set_title(site);"
   ]
  },
  {
   "cell_type": "markdown",
   "metadata": {},
   "source": [
    "Simulated groundwater levels are recorded in the \"heads.csv\" file. Several monitoring sites are simulated, however there is measured data for a only a few of these. \n",
    "\n",
    "The sites for which \"measured data\" are available are named:\n",
    " - TRGW-0-26-6\n",
    " - TRGW-0-3-8\n",
    "\n",
    "The site naming convention is: \"TRGW-layer-row-column\"."
   ]
  },
  {
   "cell_type": "code",
   "execution_count": null,
   "metadata": {},
   "outputs": [],
   "source": [
    "hds_obs = pd.read_csv(os.path.join(sim_ws, 'heads.csv'))\n",
    "hds_obs.head()"
   ]
  },
  {
   "cell_type": "markdown",
   "metadata": {},
   "source": [
    "Let's make a quick plot of time series of simulated groundwater levels at both measured sites:"
   ]
  },
  {
   "cell_type": "code",
   "execution_count": null,
   "metadata": {},
   "outputs": [],
   "source": [
    "for site in ['TRGW-0-26-6','TRGW-0-3-8']:\n",
    "    fig,ax=plt.subplots(1,1)\n",
    "    obs_data.plot(y=site, ax=ax, label='measured')\n",
    "    hds_obs.plot(x='time', y=site, ax=ax, label='modelled')\n",
    "    ax.set_title(site);"
   ]
  },
  {
   "cell_type": "markdown",
   "metadata": {},
   "source": [
    "Whilst we are at it, lets just make a plot of the spatial distribution of simulated heads:"
   ]
  },
  {
   "cell_type": "code",
   "execution_count": null,
   "metadata": {},
   "outputs": [],
   "source": [
    "hdobj = gwf.output.head()\n",
    "times = hdobj.get_times()\n",
    "hdobj.plot(mflay=0, colorbar=True, totim=times[-1], masked_values=[1e30]);"
   ]
  },
  {
   "cell_type": "markdown",
   "metadata": {},
   "source": [
    "## Forecasts\n",
    "\n",
    "Three model simulated outputs are included as forecast \"observations\". These represent predictions of management interest for our imaginary case. Simulated forecasts are:\n",
    " - aggregated surface-water/grounwdater exchange for reaches 1-20 (recorded under \"headwater\" in the sfr.csv file) during stress period 22;\n",
    " - aggregated surface-water/grounwdater exchange for reaches 21-40 (recorded under \"tailwater\" in the sfr.csv file) during stress period 22;\n",
    " - groundwater level at TRGW_0_9_1 at the end of stress period 22;\n",
    " - travel time for a particle released in the north-west of the domain to exit the model domain.\n",
    "\n",
    "These forecasts were selected to represent model outputs that are informed in varying degrees by the history matching data. Throughout the tutorials we will compare our simulated forecast and uncertainty against \"true\" values obtained by running the same model with which we generated \"measured\" observation data. "
   ]
  }
 ],
 "metadata": {
  "kernelspec": {
   "display_name": "Python 3 (ipykernel)",
   "language": "python",
   "name": "python3"
  },
  "language_info": {
   "codemirror_mode": {
    "name": "ipython",
    "version": 3
   },
   "file_extension": ".py",
   "mimetype": "text/x-python",
   "name": "python",
   "nbconvert_exporter": "python",
   "pygments_lexer": "ipython3",
   "version": "3.13.1"
  }
 },
 "nbformat": 4,
 "nbformat_minor": 4
}
