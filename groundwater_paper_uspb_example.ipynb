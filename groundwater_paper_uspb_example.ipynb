{
 "cells": [
  {
   "cell_type": "markdown",
   "id": "5a9ff60f",
   "metadata": {},
   "source": [
    "### Capture fraction example"
   ]
  },
  {
   "cell_type": "markdown",
   "id": "ad639807",
   "metadata": {},
   "source": [
    "!pip install git\n",
    "import git"
   ]
  },
  {
   "cell_type": "code",
   "execution_count": 1,
   "id": "a79a508e",
   "metadata": {},
   "outputs": [],
   "source": [
    "import os\n",
    "from pathlib import Path\n",
    "from pprint import pformat\n",
    "import pooch\n",
    "import numpy as np\n",
    "import scipy.ndimage\n",
    "import matplotlib.pyplot as plt\n",
    "import flopy"
   ]
  },
  {
   "cell_type": "code",
   "execution_count": 2,
   "id": "6e0b9c76",
   "metadata": {},
   "outputs": [],
   "source": [
    "ws = os.path.join(\"tempNEW\")\n",
    "if not os.path.exists(ws):\n",
    "    os.makedirs(ws)"
   ]
  },
  {
   "cell_type": "markdown",
   "id": "6546cce0",
   "metadata": {},
   "source": [
    "Check if we are in the repository and define the data path."
   ]
  },
  {
   "cell_type": "code",
   "execution_count": 3,
   "id": "3ace5f8a",
   "metadata": {},
   "outputs": [],
   "source": [
    "try:\n",
    "    root = Path(git.Repo(\".\", search_parent_directories=True).working_dir)\n",
    "except:\n",
    "    root = None"
   ]
  },
  {
   "cell_type": "code",
   "execution_count": 4,
   "id": "560fbdb4",
   "metadata": {},
   "outputs": [],
   "source": [
    "data_path = root / \".docs\" / \"groundwater_paper\" if root else Path.cwd()"
   ]
  },
  {
   "cell_type": "code",
   "execution_count": 5,
   "id": "1a90b5c0",
   "metadata": {},
   "outputs": [],
   "source": [
    "data_path = root / \"tempNEW\" if root else Path.cwd()"
   ]
  },
  {
   "cell_type": "markdown",
   "id": "cbb806bb",
   "metadata": {},
   "source": [
    "fname = \"USPB_capture_fraction_04_01.dat\"\n",
    "pooch.retrieve(\n",
    "    url=f\"https://github.com/modflowpy/flopy/raw/develop/.docs/groundwater_paper/uspb/results/{fname}\",\n",
    "    fname=fname,\n",
    "    path=data_path / \"uspb\" / \"results\",\n",
    "    known_hash=None,\n",
    ")\n",
    "fn = data_path / \"uspb\" / \"results\" / fname\n",
    "cf = np.loadtxt(fn)"
   ]
  },
  {
   "cell_type": "code",
   "execution_count": null,
   "id": "4c4e4c5a",
   "metadata": {},
   "outputs": [],
   "source": [
    "print(cf.shape)\n",
    "cf2 = scipy.ndimage.zoom(cf, 4, order=0)\n",
    "print(cf2.shape)\n",
    "c = plt.imshow(cf2, cmap=\"jet\")\n",
    "plt.colorbar(c)"
   ]
  },
  {
   "cell_type": "code",
   "execution_count": null,
   "id": "b655c050",
   "metadata": {},
   "outputs": [],
   "source": []
  },
  {
   "cell_type": "code",
   "execution_count": null,
   "id": "8897eea6",
   "metadata": {},
   "outputs": [],
   "source": [
    "wsl = data_path / \"uspb\" / \"flopy\"\n",
    "ml = flopy.modflow.Modflow.load(\"DG.nam\", model_ws=wsl, verbose=False)"
   ]
  },
  {
   "cell_type": "code",
   "execution_count": null,
   "id": "05cf5203",
   "metadata": {},
   "outputs": [],
   "source": []
  },
  {
   "cell_type": "code",
   "execution_count": null,
   "id": "d269238f",
   "metadata": {},
   "outputs": [],
   "source": []
  },
  {
   "cell_type": "code",
   "execution_count": null,
   "id": "59e8883e",
   "metadata": {},
   "outputs": [],
   "source": [
    "model.write_input()"
   ]
  },
  {
   "cell_type": "code",
   "execution_count": null,
   "id": "c75191ed",
   "metadata": {},
   "outputs": [],
   "source": []
  },
  {
   "cell_type": "code",
   "execution_count": null,
   "id": "9718c75c",
   "metadata": {},
   "outputs": [],
   "source": []
  },
  {
   "cell_type": "markdown",
   "id": "3fcbd058",
   "metadata": {},
   "source": [
    "## New .... MF2K5_FMP2_dbg64 ... *.exe at the same folder as *.ipynb\n",
    "## *.nam contains de *exe order !"
   ]
  },
  {
   "cell_type": "code",
   "execution_count": null,
   "id": "ec260fa0",
   "metadata": {},
   "outputs": [],
   "source": [
    "wsl = data_path / \"uspb\" / \"flopy\"\n",
    "ml = flopy.modflow.Modflow.load(\"DG.nam\", model_ws=wsl, verbose=False)"
   ]
  },
  {
   "cell_type": "code",
   "execution_count": null,
   "id": "c4212cc5",
   "metadata": {},
   "outputs": [],
   "source": [
    "nlay, nrow, ncol = ml.nlay, ml.dis.nrow, ml.dis.ncol\n",
    "xmax, ymax = ncol * 250.0, nrow * 250.0"
   ]
  },
  {
   "cell_type": "markdown",
   "id": "c279759e",
   "metadata": {},
   "source": [
    "Rerun the model after changing workspace and writing input files"
   ]
  }
 ],
 "metadata": {
  "jupytext": {
   "notebook_metadata_filter": "metadata"
  },
  "kernelspec": {
   "display_name": "Python 3 (ipykernel)",
   "language": "python",
   "name": "python3"
  },
  "language_info": {
   "codemirror_mode": {
    "name": "ipython",
    "version": 3
   },
   "file_extension": ".py",
   "mimetype": "text/x-python",
   "name": "python",
   "nbconvert_exporter": "python",
   "pygments_lexer": "ipython3",
   "version": "3.11.11"
  },
  "metadata": {
   "section": "2016gw-paper"
  }
 },
 "nbformat": 4,
 "nbformat_minor": 5
}
