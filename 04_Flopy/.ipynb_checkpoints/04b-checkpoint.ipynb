{
 "cells": [
  {
   "cell_type": "code",
   "execution_count": 2,
   "id": "25f30bb5",
   "metadata": {},
   "outputs": [],
   "source": [
    "import tempfile"
   ]
  },
  {
   "cell_type": "code",
   "execution_count": 12,
   "id": "6d0447f1",
   "metadata": {},
   "outputs": [],
   "source": [
    "# create a temporary file and write some data to it\n",
    "\n",
    "fp = tempfile.TemporaryFile()\n",
    "\n",
    "fp.write(b'Hello world!')\n",
    "# read data from file\n",
    "\n",
    "fp.seek(0)\n",
    "\n",
    "fp.read()\n",
    "b'Hello world!'\n",
    "# close the file, it will be removed\n",
    "\n",
    "fp.close()\n"
   ]
  },
  {
   "cell_type": "code",
   "execution_count": 13,
   "id": "e0905712",
   "metadata": {},
   "outputs": [],
   "source": [
    "# create a temporary file using a context manager\n",
    "\n",
    "with tempfile.TemporaryFile() as fp:\n",
    "\n",
    "    fp.write(b'Hello world!')\n",
    "\n"
   ]
  },
  {
   "cell_type": "code",
   "execution_count": null,
   "id": "a2f36f51",
   "metadata": {},
   "outputs": [],
   "source": []
  }
 ],
 "metadata": {
  "kernelspec": {
   "display_name": "Python 3 (ipykernel)",
   "language": "python",
   "name": "python3"
  },
  "language_info": {
   "codemirror_mode": {
    "name": "ipython",
    "version": 3
   },
   "file_extension": ".py",
   "mimetype": "text/x-python",
   "name": "python",
   "nbconvert_exporter": "python",
   "pygments_lexer": "ipython3",
   "version": "3.13.1"
  }
 },
 "nbformat": 4,
 "nbformat_minor": 5
}
