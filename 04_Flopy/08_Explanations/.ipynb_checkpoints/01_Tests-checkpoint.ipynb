{
 "cells": [
  {
   "cell_type": "code",
   "execution_count": 1,
   "id": "b5805c76-a39c-42f4-b21d-2d29c84e326c",
   "metadata": {},
   "outputs": [
    {
     "name": "stdout",
     "output_type": "stream",
     "text": [
      "Requirement already satisfied: flopy in c:\\users\\gross.desktop-airqm2m\\anaconda3\\envs\\flopy\\lib\\site-packages (3.8.2)\n",
      "Requirement already satisfied: numpy>=1.20.3 in c:\\users\\gross.desktop-airqm2m\\anaconda3\\envs\\flopy\\lib\\site-packages (from flopy) (2.2.0)\n",
      "Requirement already satisfied: matplotlib>=1.4.0 in c:\\users\\gross.desktop-airqm2m\\anaconda3\\envs\\flopy\\lib\\site-packages (from flopy) (3.9.4)\n",
      "Requirement already satisfied: pandas>=2.0.0 in c:\\users\\gross.desktop-airqm2m\\anaconda3\\envs\\flopy\\lib\\site-packages (from flopy) (2.2.3)\n",
      "Requirement already satisfied: contourpy>=1.0.1 in c:\\users\\gross.desktop-airqm2m\\anaconda3\\envs\\flopy\\lib\\site-packages (from matplotlib>=1.4.0->flopy) (1.3.1)\n",
      "Requirement already satisfied: cycler>=0.10 in c:\\users\\gross.desktop-airqm2m\\anaconda3\\envs\\flopy\\lib\\site-packages (from matplotlib>=1.4.0->flopy) (0.12.1)\n",
      "Requirement already satisfied: fonttools>=4.22.0 in c:\\users\\gross.desktop-airqm2m\\anaconda3\\envs\\flopy\\lib\\site-packages (from matplotlib>=1.4.0->flopy) (4.55.3)\n",
      "Requirement already satisfied: kiwisolver>=1.3.1 in c:\\users\\gross.desktop-airqm2m\\anaconda3\\envs\\flopy\\lib\\site-packages (from matplotlib>=1.4.0->flopy) (1.4.7)\n",
      "Requirement already satisfied: packaging>=20.0 in c:\\users\\gross.desktop-airqm2m\\anaconda3\\envs\\flopy\\lib\\site-packages (from matplotlib>=1.4.0->flopy) (24.2)\n",
      "Requirement already satisfied: pillow>=8 in c:\\users\\gross.desktop-airqm2m\\anaconda3\\envs\\flopy\\lib\\site-packages (from matplotlib>=1.4.0->flopy) (11.0.0)\n",
      "Requirement already satisfied: pyparsing>=2.3.1 in c:\\users\\gross.desktop-airqm2m\\anaconda3\\envs\\flopy\\lib\\site-packages (from matplotlib>=1.4.0->flopy) (3.2.0)\n",
      "Requirement already satisfied: python-dateutil>=2.7 in c:\\users\\gross.desktop-airqm2m\\anaconda3\\envs\\flopy\\lib\\site-packages (from matplotlib>=1.4.0->flopy) (2.9.0.post0)\n",
      "Requirement already satisfied: pytz>=2020.1 in c:\\users\\gross.desktop-airqm2m\\anaconda3\\envs\\flopy\\lib\\site-packages (from pandas>=2.0.0->flopy) (2024.1)\n",
      "Requirement already satisfied: tzdata>=2022.7 in c:\\users\\gross.desktop-airqm2m\\anaconda3\\envs\\flopy\\lib\\site-packages (from pandas>=2.0.0->flopy) (2024.2)\n",
      "Requirement already satisfied: six>=1.5 in c:\\users\\gross.desktop-airqm2m\\anaconda3\\envs\\flopy\\lib\\site-packages (from python-dateutil>=2.7->matplotlib>=1.4.0->flopy) (1.17.0)\n"
     ]
    }
   ],
   "source": [
    "!pip install flopy"
   ]
  },
  {
   "cell_type": "code",
   "execution_count": 2,
   "id": "b9e3ceb3",
   "metadata": {},
   "outputs": [],
   "source": [
    "import numpy as np\n",
    "import flopy.modflow as fpm\n",
    "import flopy.utils as fpu\n",
    "import os"
   ]
  },
  {
   "cell_type": "code",
   "execution_count": 5,
   "id": "7c315268",
   "metadata": {},
   "outputs": [],
   "source": [
    "exe = \"MF2K5_FMP2_dbg64\"\n",
    "ws = os.path.join(\"temp\")\n",
    "model = fpm.Modflow(modelname=\"Beta\", exe_name=exe, model_ws=ws)"
   ]
  },
  {
   "cell_type": "markdown",
   "id": "5e5ca550",
   "metadata": {},
   "source": [
    "#### E:\\15_REPOS\\00_Betami\\04_Flopy\\08_Explanations\\temp\\Beta.dis"
   ]
  },
  {
   "cell_type": "code",
   "execution_count": 23,
   "id": "871bcb2d",
   "metadata": {},
   "outputs": [
    {
     "data": {
      "text/plain": [
       "\n",
       "MODFLOW Discretization Package Class.\n",
       "\n",
       "Parameters\n",
       "----------\n",
       "model : model object\n",
       "    The model object (of type :class:`flopy.modflow.Modflow`) to which\n",
       "    this package will be added.\n",
       "nlay : int\n",
       "    Number of model layers (the default is 1).\n",
       "nrow : int\n",
       "    Number of model rows (the default is 2).\n",
       "ncol : int\n",
       "    Number of model columns (the default is 2).\n",
       "nper : int\n",
       "    Number of model stress periods (the default is 1).\n",
       "delr : float or array of floats (ncol), optional\n",
       "    An array of spacings along a row (the default is 1.0).\n",
       "delc : float or array of floats (nrow), optional\n",
       "    An array of spacings along a column (the default is 0.0).\n",
       "laycbd : int or array of ints (nlay), optional\n",
       "    An array of flags indicating whether or not a layer has a Quasi-3D\n",
       "    confining bed below it. 0 indicates no confining bed, and not zero\n",
       "    indicates a confining bed. LAYCBD for the bottom layer must be 0. (the\n",
       "    default is 0)\n",
       "top : float or array of floats (nrow, ncol), optional\n",
       "    An array of the top elevation of layer 1. For the common situation in\n",
       "    which the top layer represents a water-table aquifer, it may be\n",
       "    reasonable to set Top equal to land-surface elevation (the default is\n",
       "    1.0)\n",
       "botm : float or array of floats (nlay, nrow, ncol), optional\n",
       "    An array of the bottom elevation for each model cell (the default is\n",
       "    0.)\n",
       "perlen : float or array of floats (nper)\n",
       "    An array of the stress period lengths.\n",
       "nstp : int or array of ints (nper)\n",
       "    Number of time steps in each stress period (default is 1).\n",
       "tsmult : float or array of floats (nper)\n",
       "    Time step multiplier (default is 1.0).\n",
       "steady : bool or array of bool (nper)\n",
       "    true or False indicating whether or not stress period is steady state\n",
       "    (default is True).\n",
       "itmuni : int\n",
       "    Time units, default is days (4)\n",
       "lenuni : int\n",
       "    Length units, default is meters (2)\n",
       "extension : string\n",
       "    Filename extension (default is 'dis')\n",
       "unitnumber : int\n",
       "    File unit number (default is None).\n",
       "filenames : str or list of str\n",
       "    Filenames to use for the package. If filenames=None the package name\n",
       "    will be created using the model name and package extension. If a\n",
       "    single string is passed the package will be set to the string.\n",
       "    Default is None.\n",
       "xul : float\n",
       "    x coordinate of upper left corner of the grid, default is None, which\n",
       "    means xul will be set to zero.\n",
       "yul : float\n",
       "    y coordinate of upper-left corner of the grid, default is None, which\n",
       "    means yul will be calculated as the sum of the delc array.  This\n",
       "    default, combined with the xul and rotation defaults will place the\n",
       "    lower-left corner of the grid at (0, 0).\n",
       "rotation : float\n",
       "    counter-clockwise rotation (in degrees) of the grid about the lower-\n",
       "    left corner. default is 0.0\n",
       "crs : pyproj.CRS, int, str, optional if `prjfile` is specified\n",
       "    Coordinate reference system (CRS) for the model grid\n",
       "    (must be projected; geographic CRS are not supported).\n",
       "    The value can be anything accepted by\n",
       "    :meth:`pyproj.CRS.from_user_input() <pyproj.crs.CRS.from_user_input>`,\n",
       "    such as an authority string (eg \"EPSG:26916\") or a WKT string.\n",
       "prjfile : str or pathlike, optional if `crs` is specified\n",
       "    ESRI-style projection file with well-known text defining the CRS\n",
       "    for the model grid (must be projected; geographic CRS are not supported).\n",
       "start_datetime : str\n",
       "    starting datetime of the simulation. default is '1/1/1970'\n",
       "**kwargs : dict, optional\n",
       "    Support deprecated keyword options.\n",
       "\n",
       "    .. deprecated:: 3.5\n",
       "       ``proj4_str`` will be removed for FloPy 3.6, use ``crs`` instead.\n",
       "\n",
       "Attributes\n",
       "----------\n",
       "heading : str\n",
       "    Text string written to top of package input file.\n",
       "\n",
       "Methods\n",
       "-------\n",
       "\n",
       "See Also\n",
       "--------\n",
       "\n",
       "Notes\n",
       "-----\n",
       "\n",
       "Examples\n",
       "--------\n",
       "\n",
       ">>> import flopy\n",
       ">>> m = flopy.modflow.Modflow()\n",
       ">>> dis = flopy.modflow.ModflowDis(m)\n",
       "\n",
       " _name = DIS\n",
       " _parent = MODFLOW 50 layer(s) 10 row(s) 10 column(s) 1 stress period(s) ('flopy.modflow.mf.Modflow)\n",
       " _totim = None ('NoneType)\n",
       " acceptable_dtypes (list, items = 3)\n",
       " allowDuplicates = False ('bool)\n",
       " botm = <flopy.utils.util_array.Util3d object at 0x0000026BE33E9250> ('flopy.utils.util_array.Util3d)\n",
       " delc = <flopy.utils.util_array.Util2d object at 0x0000026BE33C68D0> ('flopy.utils.util_array.Util2d)\n",
       " delr = <flopy.utils.util_array.Util2d object at 0x0000026BE2D43DD0> ('flopy.utils.util_array.Util2d)\n",
       " file_name = Beta.dis\n",
       " fn_path = E:\\15_REPOS\\00_Betami\\04_Flopy\\08_Explanations\\temp\\Beta.dis ('str)\n",
       " itmuni = 4 ('int)\n",
       " itmuni_dict = {0: 'undefined', 1: 'seconds', 2: 'minutes', 3: 'hours', 4: 'days', 5: 'years'} ('dict)\n",
       " laycbd = <flopy.utils.util_array.Util2d object at 0x0000026BE3332B10> ('flopy.utils.util_array.Util2d)\n",
       " lenuni = 2 ('int)\n",
       " ncol = 10 ('int)\n",
       " nlay = 50 ('int)\n",
       " nper = 1 ('int)\n",
       " nrow = 10 ('int)\n",
       " nstp = <flopy.utils.util_array.Util2d object at 0x0000026BE3445490> ('flopy.utils.util_array.Util2d)\n",
       " perlen = <flopy.utils.util_array.Util2d object at 0x0000026BE34453D0> ('flopy.utils.util_array.Util2d)\n",
       " start_datetime = 12/17/2024 ('str)\n",
       " steady = <flopy.utils.util_array.Util2d object at 0x0000026BE3445610> ('flopy.utils.util_array.Util2d)\n",
       " top = <flopy.utils.util_array.Util2d object at 0x0000026BE33C6D50> ('flopy.utils.util_array.Util2d)\n",
       " tr = <flopy.utils.reference.TemporalReference object at 0x0000026BE33E9050> ('flopy.utils.reference.TemporalReference)\n",
       " tsmult = <flopy.utils.util_array.Util2d object at 0x0000026BE3445550> ('flopy.utils.util_array.Util2d)\n",
       " unit_number = 11"
      ]
     },
     "execution_count": 23,
     "metadata": {},
     "output_type": "execute_result"
    }
   ],
   "source": [
    "fpm.ModflowDis(model, nlay=50, nrow=10, ncol=10, delr=10, delc=10, top=100, botm=0, rotation=270, start_datetime='12/17/2024')"
   ]
  },
  {
   "cell_type": "code",
   "execution_count": 20,
   "id": "087476db",
   "metadata": {},
   "outputs": [],
   "source": [
    "model.write_input()"
   ]
  },
  {
   "cell_type": "code",
   "execution_count": 24,
   "id": "cf18f070",
   "metadata": {},
   "outputs": [],
   "source": [
    "# strees periods\n",
    "nper = 3\n",
    "perlen = [1, 100, 100]\n",
    "nstp = [1, 100, 100]\n",
    "steady = [True, False, False]"
   ]
  },
  {
   "cell_type": "code",
   "execution_count": 25,
   "id": "ac39c898",
   "metadata": {},
   "outputs": [],
   "source": [
    "model.write_input()"
   ]
  },
  {
   "cell_type": "code",
   "execution_count": null,
   "id": "3e08e001",
   "metadata": {},
   "outputs": [],
   "source": [
    "fpm.ModflowRch(model, rech=0.001)\n",
    "lrcQ = { 0: [[0, 0, 50, -1], [0, 0, 150, -1]]}\n",
    "fpm.ModflowWel(model, stress_period_data=lrcQ)  "
   ]
  },
  {
   "cell_type": "code",
   "execution_count": null,
   "id": "6eee3753",
   "metadata": {},
   "outputs": [],
   "source": [
    "'flopy.modflow.mf.Modflow\n",
    "'flopy.utils.util_array.Util2d"
   ]
  }
 ],
 "metadata": {
  "kernelspec": {
   "display_name": "Python 3 (ipykernel)",
   "language": "python",
   "name": "python3"
  },
  "language_info": {
   "codemirror_mode": {
    "name": "ipython",
    "version": 3
   },
   "file_extension": ".py",
   "mimetype": "text/x-python",
   "name": "python",
   "nbconvert_exporter": "python",
   "pygments_lexer": "ipython3",
   "version": "3.13.1"
  }
 },
 "nbformat": 4,
 "nbformat_minor": 5
}
