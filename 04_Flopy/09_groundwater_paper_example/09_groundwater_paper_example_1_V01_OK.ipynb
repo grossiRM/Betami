{
 "cells": [
  {
   "cell_type": "markdown",
   "id": "fb7f59fa",
   "metadata": {},
   "source": [
    "#### MODFLOW Discretization Package Class. / #### MODFLOW Basic Package Class. / #### MODFLOW Layer Property Flow Package Class. / #### MODFLOW Well Package Class. / #### MODFLOW Pcg Package Class. / #### MODFLOW output control (OC) package.\n",
    "Steady, one  dimensional, unconfined flow between two long canals with fixed water levels equal to 20 m; the centers of the\n",
    "canals are 2000m apart.\n",
    "# <img src=\"./Pictures/Picture1.png\" style=\"float: center; width: 35%;  margin-bottom: 0.5em;\">"
   ]
  },
  {
   "cell_type": "markdown",
   "id": "6a8e805b",
   "metadata": {},
   "source": [
    "model = fpm.Modflow(modelname = 'gwexample')\n",
    "        fpm.ModflowBas(model, ibound=ibound, strt=20)\n",
    "        fpm.ModflowLpf(model, hk=10, laytyp=1)\n",
    "        fpm.ModflowWel(model, stress_period_data=lrcQ)\n",
    "        fpm.ModflowPcg(model)\n",
    "        fpm.ModflowOc(model)"
   ]
  },
  {
   "cell_type": "code",
   "execution_count": null,
   "id": "9907f1c3-1aaa-444e-8a59-85d3d11ecc03",
   "metadata": {},
   "outputs": [],
   "source": [
    "!pip install flopy"
   ]
  },
  {
   "cell_type": "code",
   "execution_count": null,
   "id": "47dfe407",
   "metadata": {},
   "outputs": [],
   "source": [
    "import numpy as np\n",
    "import flopy.modflow as fpm\n",
    "import flopy.utils as fpu\n",
    "import os"
   ]
  },
  {
   "cell_type": "code",
   "execution_count": null,
   "id": "72a253a5",
   "metadata": {},
   "outputs": [],
   "source": [
    "exe = \"MF2K5_FMP2_dbg64\"\n",
    "ws = os.path.join(\"temp\")\n",
    "model = fpm.Modflow(modelname=\"gwexample\", exe_name=exe, model_ws=ws)"
   ]
  },
  {
   "cell_type": "code",
   "execution_count": null,
   "id": "20961618",
   "metadata": {},
   "outputs": [],
   "source": [
    "fpm.ModflowDis(model, nlay=1,  #----------------------------------------------01\n",
    "nrow=1, ncol=201, delr=10,\n",
    "delc=1, top=50, botm=0)"
   ]
  },
  {
   "cell_type": "code",
   "execution_count": null,
   "id": "12b63ced",
   "metadata": {},
   "outputs": [],
   "source": [
    "ibound = np.ones((1, 201))\n",
    "ibound[0, 0] = ibound[0, -1] = -1\n",
    "fpm.ModflowBas(model, ibound=ibound, strt=20)  #------------------------------02"
   ]
  },
  {
   "cell_type": "code",
   "execution_count": null,
   "id": "35dd9cb2",
   "metadata": {},
   "outputs": [],
   "source": [
    "fpm.ModflowLpf(model, hk=10, laytyp=1)  #-------------------------------------03"
   ]
  },
  {
   "cell_type": "code",
   "execution_count": null,
   "id": "c90f40e4",
   "metadata": {},
   "outputs": [],
   "source": [
    "fpm.ModflowRch(model, rech=0.001)\n",
    "lrcQ = { 0: [[0, 0, 50, -1], [0, 0, 150, -1]]}\n",
    "fpm.ModflowWel(model, stress_period_data=lrcQ)  #-----------------------------04"
   ]
  },
  {
   "cell_type": "code",
   "execution_count": null,
   "id": "c5aeca88",
   "metadata": {},
   "outputs": [],
   "source": [
    "fpm.ModflowPcg(model)  #---------------------------solver---------------------05"
   ]
  },
  {
   "cell_type": "code",
   "execution_count": null,
   "id": "07eeae98",
   "metadata": {},
   "outputs": [],
   "source": [
    "fpm.ModflowOc(model)  #---------------------------result----------------------06"
   ]
  },
  {
   "cell_type": "code",
   "execution_count": null,
   "id": "6920aa74-1997-4712-b90d-ba7b4cef8fa1",
   "metadata": {},
   "outputs": [],
   "source": []
  },
  {
   "cell_type": "code",
   "execution_count": null,
   "id": "c2ac3c96",
   "metadata": {},
   "outputs": [],
   "source": [
    "model.write_input()\n",
    "model.run_model()"
   ]
  },
  {
   "cell_type": "code",
   "execution_count": null,
   "id": "7f52d962",
   "metadata": {},
   "outputs": [],
   "source": [
    "hfile = fpu.HeadFile('gwexample.hds')\n",
    "h = hfile.get_data(totim=1.0)"
   ]
  },
  {
   "cell_type": "code",
   "execution_count": null,
   "id": "82b68fda",
   "metadata": {},
   "outputs": [],
   "source": [
    "h"
   ]
  },
  {
   "cell_type": "code",
   "execution_count": null,
   "id": "4756612a-876e-4512-bf66-c3725f739bbc",
   "metadata": {},
   "outputs": [],
   "source": []
  }
 ],
 "metadata": {
  "kernelspec": {
   "display_name": "Python 3 (ipykernel)",
   "language": "python",
   "name": "python3"
  },
  "language_info": {
   "codemirror_mode": {
    "name": "ipython",
    "version": 3
   },
   "file_extension": ".py",
   "mimetype": "text/x-python",
   "name": "python",
   "nbconvert_exporter": "python",
   "pygments_lexer": "ipython3",
   "version": "3.13.1"
  }
 },
 "nbformat": 4,
 "nbformat_minor": 5
}
