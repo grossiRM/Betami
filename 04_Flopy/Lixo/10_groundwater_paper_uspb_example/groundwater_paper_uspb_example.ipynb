{
 "cells": [
  {
   "cell_type": "markdown",
   "id": "5a9ff60f",
   "metadata": {},
   "source": [
    "### Capture fraction example"
   ]
  },
  {
   "cell_type": "code",
   "execution_count": null,
   "id": "951851a3",
   "metadata": {},
   "outputs": [],
   "source": [
    "!pip install git\n",
    "import git"
   ]
  },
  {
   "cell_type": "code",
   "execution_count": 1,
   "id": "a79a508e",
   "metadata": {},
   "outputs": [
    {
     "name": "stdout",
     "output_type": "stream",
     "text": [
      "3.13.1 | packaged by conda-forge | (main, Dec  5 2024, 21:02:16) [MSC v.1942 64 bit (AMD64)]\n",
      "numpy version: 2.2.0\n",
      "matplotlib version: 3.9.4\n",
      "flopy version: 3.8.2\n"
     ]
    }
   ],
   "source": [
    "import os\n",
    "import sys\n",
    "from pathlib import Path\n",
    "from pprint import pformat\n",
    "import matplotlib as mpl\n",
    "import matplotlib.pyplot as plt\n",
    "import numpy as np\n",
    "import pooch\n",
    "import scipy.ndimage\n",
    "import flopy\n",
    "print(sys.version)\n",
    "print(f\"numpy version: {np.__version__}\")\n",
    "print(f\"matplotlib version: {mpl.__version__}\")\n",
    "print(f\"flopy version: {flopy.__version__}\")"
   ]
  },
  {
   "cell_type": "code",
   "execution_count": 5,
   "id": "6e0b9c76",
   "metadata": {},
   "outputs": [],
   "source": [
    "ws = os.path.join(\"temp\")\n",
    "if not os.path.exists(ws):\n",
    "    os.makedirs(ws)"
   ]
  },
  {
   "cell_type": "markdown",
   "id": "6546cce0",
   "metadata": {},
   "source": [
    "Check if we are in the repository and define the data path."
   ]
  },
  {
   "cell_type": "code",
   "execution_count": 2,
   "id": "3ace5f8a",
   "metadata": {},
   "outputs": [],
   "source": [
    "try:\n",
    "    root = Path(git.Repo(\".\", search_parent_directories=True).working_dir)\n",
    "except:\n",
    "    root = None"
   ]
  },
  {
   "cell_type": "code",
   "execution_count": 3,
   "id": "560fbdb4",
   "metadata": {},
   "outputs": [],
   "source": [
    "data_path = root / \".docs\" / \"groundwater_paper\" if root else Path.cwd()"
   ]
  },
  {
   "cell_type": "code",
   "execution_count": 9,
   "id": "c37baaf5",
   "metadata": {},
   "outputs": [
    {
     "name": "stderr",
     "output_type": "stream",
     "text": [
      "Downloading data from 'https://github.com/modflowpy/flopy/raw/develop/.docs/groundwater_paper/uspb/results/USPB_capture_fraction_04_01.dat' to file 'E:\\16_REPOS\\00_Betami\\04_Flopy\\10_groundwater_paper_uspb_example\\uspb\\results\\USPB_capture_fraction_04_01.dat'.\n",
      "SHA256 hash of downloaded file: 5b13603eff535ce171efe68d8ec95c699929f2a7e7243f402febd8ae7c125864\n",
      "Use this value as the 'known_hash' argument of 'pooch.retrieve' to ensure that the file hasn't changed if it is downloaded again in the future.\n"
     ]
    },
    {
     "name": "stdout",
     "output_type": "stream",
     "text": [
      "(110, 80)\n"
     ]
    }
   ],
   "source": [
    "fname = \"USPB_capture_fraction_04_01.dat\"\n",
    "pooch.retrieve(\n",
    "    url=f\"https://github.com/modflowpy/flopy/raw/develop/.docs/groundwater_paper/uspb/results/{fname}\",\n",
    "    fname=fname,\n",
    "    path=data_path / \"uspb\" / \"results\",\n",
    "    known_hash=None,\n",
    ")\n",
    "fn = data_path / \"uspb\" / \"results\" / fname\n",
    "cf = np.loadtxt(fn)\n",
    "print(cf.shape)"
   ]
  },
  {
   "cell_type": "code",
   "execution_count": null,
   "id": "a256801a",
   "metadata": {},
   "outputs": [],
   "source": [
    "cf2 = scipy.ndimage.zoom(cf, 4, order=0)\n",
    "print(cf2.shape)"
   ]
  },
  {
   "cell_type": "code",
   "execution_count": null,
   "id": "5db90a61",
   "metadata": {},
   "outputs": [],
   "source": [
    "c = plt.imshow(cf2, cmap=\"jet\")\n",
    "plt.colorbar(c)"
   ]
  },
  {
   "cell_type": "code",
   "execution_count": null,
   "id": "ec260fa0",
   "metadata": {},
   "outputs": [],
   "source": [
    "wsl = data_path / \"uspb\" / \"flopy\"\n",
    "ml = flopy.modflow.Modflow.load(\"DG.nam\", model_ws=wsl, verbose=False)"
   ]
  },
  {
   "cell_type": "code",
   "execution_count": null,
   "id": "c4212cc5",
   "metadata": {},
   "outputs": [],
   "source": [
    "nlay, nrow, ncol = ml.nlay, ml.dis.nrow, ml.dis.ncol\n",
    "xmax, ymax = ncol * 250.0, nrow * 250.0"
   ]
  },
  {
   "cell_type": "code",
   "execution_count": null,
   "id": "eef69cc6",
   "metadata": {},
   "outputs": [],
   "source": [
    "plt.rcParams.update({\"font.size\": 6})\n",
    "fig = plt.figure(figsize=(3.25, 4.47))\n",
    "ax1 = plt.gca()\n",
    "ax1.set_aspect(\"equal\")\n",
    "mm1 = flopy.plot.PlotMapView(model=ml, layer=4)\n",
    "plt.xlim(0, xmax)\n",
    "plt.ylim(0, ymax)\n",
    "mm1.plot_inactive(color_noflow=\"0.75\")\n",
    "c = plt.imshow(cf2, cmap=\"jet\", extent=[0, ncol * 250.0, 0, nrow * 250.0])\n",
    "cb = plt.colorbar(c, shrink=0.5)\n",
    "cb.ax.set_ylabel(\"Layer 4 capture fraction\")\n",
    "mm1.plot_bc(ftype=\"STR\", plotAll=True)\n",
    "plt.plot(\n",
    "    [-10000],\n",
    "    [-10000],\n",
    "    marker=\"s\",\n",
    "    ms=10,\n",
    "    lw=0.0,\n",
    "    mec=\"0.2\",\n",
    "    mfc=\"white\",\n",
    "    label=\"Maximum active model extent\",\n",
    ")\n",
    "plt.plot(\n",
    "    [-10000, 0], [-10000, 0], color=\"purple\", lw=0.75, label=\"STR reaches (all layers)\"\n",
    ")\n",
    "leg = plt.legend(loc=\"upper left\", numpoints=1, prop={\"size\": 6})\n",
    "leg.draw_frame(False)\n",
    "plt.xticks([0, 20000, 40000, 60000, 80000])\n",
    "plt.tight_layout()\n",
    "plt.savefig(os.path.join(ws, \"capture_fraction_010y.png\"), dpi=300)"
   ]
  },
  {
   "cell_type": "markdown",
   "id": "c279759e",
   "metadata": {},
   "source": [
    "Rerun the model after changing workspace and writing input files"
   ]
  },
  {
   "cell_type": "code",
   "execution_count": null,
   "id": "689bd907",
   "metadata": {},
   "outputs": [],
   "source": [
    "ml.change_model_ws(ws)\n",
    "ml.exe_name = \"mf2005dbl\"\n",
    "ml.write_input()\n",
    "success, buff = ml.run_model(silent=True)\n",
    "assert success, pformat(buff)"
   ]
  },
  {
   "cell_type": "code",
   "execution_count": null,
   "id": "9496249f",
   "metadata": {},
   "outputs": [],
   "source": [
    "hedObj = flopy.utils.HeadFile(os.path.join(ws, \"DG.hds\"), precision=\"double\")\n",
    "h = hedObj.get_data(kstpkper=(0, 0))\n",
    "cbcObj = flopy.utils.CellBudgetFile(os.path.join(ws, \"DG.cbc\"), precision=\"double\")\n",
    "\n",
    "frf = cbcObj.get_data(kstpkper=(0, 0), text=\"FLOW RIGHT FACE\")[0]\n",
    "fff = cbcObj.get_data(kstpkper=(0, 0), text=\"FLOW FRONT FACE\")[0]\n",
    "qx, qy, qz = flopy.utils.postprocessing.get_specific_discharge((frf, fff, None), ml)"
   ]
  },
  {
   "cell_type": "code",
   "execution_count": null,
   "id": "8d0f9ea7",
   "metadata": {},
   "outputs": [],
   "source": [
    "cnt = np.arange(1200, 1700, 100)\n",
    "f, (ax1, ax2) = plt.subplots(1, 2, figsize=(6.75, 4.47), constrained_layout=True)\n",
    "ax1.set_xlim(0, xmax)\n",
    "ax1.set_ylim(0, ymax)\n",
    "ax2.set_xlim(0, xmax)\n",
    "ax2.set_ylim(0, ymax)\n",
    "ax1.set_aspect(\"equal\")\n",
    "ax2.set_aspect(\"equal\")\n",
    "\n",
    "mm1 = flopy.plot.PlotMapView(model=ml, ax=ax1, layer=3)\n",
    "h1 = mm1.plot_array(h, masked_values=[-888, -999], vmin=1100, vmax=1700)\n",
    "mm1.plot_inactive(color_noflow=\"0.75\")\n",
    "mm1.plot_bc(ftype=\"STR\")\n",
    "q1 = mm1.plot_vector(\n",
    "    qx,\n",
    "    qy,\n",
    "    istep=5,\n",
    "    jstep=5,\n",
    "    normalize=True,\n",
    "    color=\"0.4\",\n",
    "    scale=70,\n",
    "    headwidth=3,\n",
    "    headlength=3,\n",
    "    headaxislength=3,\n",
    ")\n",
    "c1 = mm1.contour_array(\n",
    "    h, masked_values=[-888, -999], colors=\"black\", levels=cnt, linewidths=0.5\n",
    ")\n",
    "ax1.clabel(c1, fmt=\"%.0f\", inline_spacing=0.5)\n",
    "\n",
    "mm2 = flopy.plot.PlotMapView(model=ml, ax=ax2, layer=4)\n",
    "h2 = mm2.plot_array(h, masked_values=[-888, -999], vmin=1100, vmax=1700)\n",
    "mm2.plot_inactive(color_noflow=\"0.75\")\n",
    "mm2.plot_bc(ftype=\"STR\")\n",
    "q2 = mm2.plot_vector(\n",
    "    qx,\n",
    "    qy,\n",
    "    istep=5,\n",
    "    jstep=5,\n",
    "    normalize=True,\n",
    "    color=\"0.4\",\n",
    "    scale=70,\n",
    "    headwidth=3,\n",
    "    headlength=3,\n",
    "    headaxislength=3,\n",
    ")\n",
    "c2 = mm2.contour_array(\n",
    "    h, masked_values=[-888, -999], colors=\"black\", levels=cnt, linewidths=0.5\n",
    ")\n",
    "ax2.clabel(c2, fmt=\"%.0f\", inline_spacing=0.5)\n",
    "\n",
    "ax3 = f.add_axes([0.08, 0.125, 0.01, 0.15])\n",
    "cb = plt.colorbar(h2, cax=ax3)\n",
    "cb.ax.set_ylabel(\"Simulated head, m\")\n",
    "\n",
    "ax1.plot([-10000, 0], [-10000, 0], color=\"purple\", lw=0.75, label=\"STR reaches\")\n",
    "ax1.plot(\n",
    "    [-10000],\n",
    "    [-10000],\n",
    "    marker=\"s\",\n",
    "    ms=10,\n",
    "    lw=0.0,\n",
    "    mec=\"black\",\n",
    "    mfc=\"None\",\n",
    "    label=\"inactive areas\",\n",
    ")\n",
    "leg = ax1.legend(loc=\"upper left\", numpoints=1, prop={\"size\": 6})\n",
    "leg.draw_frame(False)\n",
    "\n",
    "ax1.text(0.0, 1.01, \"Model layer 4\", ha=\"left\", va=\"bottom\", transform=ax1.transAxes)\n",
    "ax2.text(\n",
    "    0.98,\n",
    "    0.02,\n",
    "    \"100 m contour interval\",\n",
    "    ha=\"right\",\n",
    "    va=\"bottom\",\n",
    "    transform=ax2.transAxes,\n",
    ")\n",
    "ax2.text(0.0, 1.01, \"Model layer 5\", ha=\"left\", va=\"bottom\", transform=ax2.transAxes)\n",
    "\n",
    "plt.savefig(os.path.join(ws, \"uspb_heads.png\"), dpi=300)"
   ]
  },
  {
   "cell_type": "code",
   "execution_count": null,
   "id": "ea7a1585",
   "metadata": {},
   "outputs": [],
   "source": [
    "fname = \"USPB_capture_fraction_04_10.dat\"\n",
    "pooch.retrieve(\n",
    "    url=f\"https://github.com/modflowpy/flopy/raw/develop/.docs/groundwater_paper/uspb/results/{fname}\",\n",
    "    fname=fname,\n",
    "    path=data_path / \"uspb\" / \"results\",\n",
    "    known_hash=None,\n",
    ")\n",
    "fn = data_path / \"uspb\" / \"results\" / fname\n",
    "cf = np.loadtxt(fn)\n",
    "cf2 = scipy.ndimage.zoom(cf, 4, order=0)"
   ]
  },
  {
   "cell_type": "code",
   "execution_count": null,
   "id": "7493ef07",
   "metadata": {},
   "outputs": [],
   "source": [
    "fig = plt.figure(figsize=(3.25, 4.47), constrained_layout=True)\n",
    "ax1 = plt.gca()\n",
    "ax1.set_aspect(\"equal\")\n",
    "mm1 = flopy.plot.PlotMapView(model=ml, layer=4)\n",
    "plt.xlim(0, xmax)\n",
    "plt.ylim(0, ymax)\n",
    "mm1.plot_inactive(color_noflow=\"0.75\")\n",
    "c = plt.imshow(cf2, cmap=\"jet\", extent=[0, ncol * 250.0, 0, nrow * 250.0])\n",
    "cb = plt.colorbar(c, shrink=0.5)\n",
    "cb.ax.set_ylabel(\"Layer 4 capture fraction\")\n",
    "mm1.plot_bc(ftype=\"STR\", plotAll=True)\n",
    "plt.plot(\n",
    "    [-10000, 0],\n",
    "    [-10000, 0],\n",
    "    color=\"purple\",\n",
    "    lw=0.75,\n",
    "    label=\"STR reaches (all layers)\",\n",
    ")\n",
    "plt.plot(\n",
    "    [-10000],\n",
    "    [-10000],\n",
    "    marker=\"s\",\n",
    "    ms=10,\n",
    "    lw=0.0,\n",
    "    mec=\"black\",\n",
    "    mfc=\"None\",\n",
    "    label=\"Layer 5 inactive area\",\n",
    ")\n",
    "leg = plt.legend(loc=\"upper left\", numpoints=1, prop={\"size\": 6})\n",
    "leg.draw_frame(False)\n",
    "plt.xticks([0, 20000, 40000, 60000, 80000])\n",
    "plt.savefig(os.path.join(ws, \"capture_fraction_100y.png\"), dpi=300)"
   ]
  }
 ],
 "metadata": {
  "jupytext": {
   "notebook_metadata_filter": "metadata"
  },
  "kernelspec": {
   "display_name": "Python 3 (ipykernel)",
   "language": "python",
   "name": "python3"
  },
  "language_info": {
   "codemirror_mode": {
    "name": "ipython",
    "version": 3
   },
   "file_extension": ".py",
   "mimetype": "text/x-python",
   "name": "python",
   "nbconvert_exporter": "python",
   "pygments_lexer": "ipython3",
   "version": "3.13.1"
  },
  "metadata": {
   "section": "2016gw-paper"
  }
 },
 "nbformat": 4,
 "nbformat_minor": 5
}
