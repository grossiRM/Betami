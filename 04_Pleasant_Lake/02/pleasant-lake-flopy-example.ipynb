{
 "cells": [
  {
   "cell_type": "markdown",
   "id": "e18193a2",
   "metadata": {},
   "source": [
    "    to be continued .... CTRL F          lines = sfrmaker.Lines.from_shapefile(shapefile='\n",
    "AttributeError: 'NoneType' object has no attribute 'intersects'"
   ]
  },
  {
   "cell_type": "code",
   "execution_count": 2,
   "id": "5acd45ac",
   "metadata": {},
   "outputs": [],
   "source": [
    "import numpy as np\n",
    "import matplotlib.pyplot as plt\n",
    "import flopy\n",
    "import flopy.mf6 as mf6\n",
    "from flopy.discretization import StructuredGrid\n",
    "from flopy.utils import Raster"
   ]
  },
  {
   "cell_type": "code",
   "execution_count": 25,
   "id": "df691637",
   "metadata": {},
   "outputs": [
    {
     "name": "stdout",
     "output_type": "stream",
     "text": [
      "Collecting sfrmaker\n",
      "  Using cached sfrmaker-0.11.3-py3-none-any.whl.metadata (7.0 kB)\n",
      "Collecting geopandas (from sfrmaker)\n",
      "  Using cached geopandas-1.0.1-py3-none-any.whl.metadata (2.2 kB)\n",
      "Collecting gis-utils (from sfrmaker)\n",
      "  Using cached gis_utils-0.3.6-py3-none-any.whl.metadata (4.6 kB)\n",
      "Requirement already satisfied: fiona in c:\\users\\gross.desktop-airqm2m\\anaconda3\\envs\\flopy\\lib\\site-packages (from sfrmaker) (1.10.1)\n",
      "Requirement already satisfied: flopy in c:\\users\\gross.desktop-airqm2m\\anaconda3\\envs\\flopy\\lib\\site-packages (from sfrmaker) (3.8.2)\n",
      "Collecting modflow-export (from sfrmaker)\n",
      "  Using cached modflow_export-0.3.0-py3-none-any.whl.metadata (5.5 kB)\n",
      "Requirement already satisfied: netcdf4 in c:\\users\\gross.desktop-airqm2m\\anaconda3\\envs\\flopy\\lib\\site-packages (from sfrmaker) (1.7.2)\n",
      "Requirement already satisfied: numpy in c:\\users\\gross.desktop-airqm2m\\anaconda3\\envs\\flopy\\lib\\site-packages (from sfrmaker) (2.2.0)\n",
      "Requirement already satisfied: pandas in c:\\users\\gross.desktop-airqm2m\\anaconda3\\envs\\flopy\\lib\\site-packages (from sfrmaker) (2.2.3)\n",
      "Requirement already satisfied: pyproj in c:\\users\\gross.desktop-airqm2m\\anaconda3\\envs\\flopy\\lib\\site-packages (from sfrmaker) (3.7.0)\n",
      "Requirement already satisfied: pyyaml in c:\\users\\gross.desktop-airqm2m\\anaconda3\\envs\\flopy\\lib\\site-packages (from sfrmaker) (6.0.2)\n",
      "Requirement already satisfied: rasterio in c:\\users\\gross.desktop-airqm2m\\anaconda3\\envs\\flopy\\lib\\site-packages (from sfrmaker) (1.4.3)\n",
      "Requirement already satisfied: rasterstats in c:\\users\\gross.desktop-airqm2m\\anaconda3\\envs\\flopy\\lib\\site-packages (from sfrmaker) (0.20.0)\n",
      "Collecting rtree (from sfrmaker)\n",
      "  Downloading Rtree-1.3.0-py3-none-win_amd64.whl.metadata (2.1 kB)\n",
      "Requirement already satisfied: scipy in c:\\users\\gross.desktop-airqm2m\\anaconda3\\envs\\flopy\\lib\\site-packages (from sfrmaker) (1.14.1)\n",
      "Requirement already satisfied: shapely in c:\\users\\gross.desktop-airqm2m\\anaconda3\\envs\\flopy\\lib\\site-packages (from sfrmaker) (2.0.6)\n",
      "Requirement already satisfied: xarray in c:\\users\\gross.desktop-airqm2m\\anaconda3\\envs\\flopy\\lib\\site-packages (from sfrmaker) (2024.11.0)\n",
      "Requirement already satisfied: attrs>=19.2.0 in c:\\users\\gross.desktop-airqm2m\\anaconda3\\envs\\flopy\\lib\\site-packages (from fiona->sfrmaker) (24.2.0)\n",
      "Requirement already satisfied: click~=8.0 in c:\\users\\gross.desktop-airqm2m\\anaconda3\\envs\\flopy\\lib\\site-packages (from fiona->sfrmaker) (8.1.7)\n",
      "Requirement already satisfied: click-plugins>=1.0 in c:\\users\\gross.desktop-airqm2m\\anaconda3\\envs\\flopy\\lib\\site-packages (from fiona->sfrmaker) (1.1.1)\n",
      "Requirement already satisfied: cligj>=0.5 in c:\\users\\gross.desktop-airqm2m\\anaconda3\\envs\\flopy\\lib\\site-packages (from fiona->sfrmaker) (0.7.2)\n",
      "Requirement already satisfied: matplotlib>=1.4.0 in c:\\users\\gross.desktop-airqm2m\\anaconda3\\envs\\flopy\\lib\\site-packages (from flopy->sfrmaker) (3.9.4)\n",
      "Requirement already satisfied: python-dateutil>=2.8.2 in c:\\users\\gross.desktop-airqm2m\\anaconda3\\envs\\flopy\\lib\\site-packages (from pandas->sfrmaker) (2.9.0.post0)\n",
      "Requirement already satisfied: pytz>=2020.1 in c:\\users\\gross.desktop-airqm2m\\anaconda3\\envs\\flopy\\lib\\site-packages (from pandas->sfrmaker) (2024.1)\n",
      "Requirement already satisfied: tzdata>=2022.7 in c:\\users\\gross.desktop-airqm2m\\anaconda3\\envs\\flopy\\lib\\site-packages (from pandas->sfrmaker) (2024.2)\n",
      "Collecting pyogrio>=0.7.2 (from geopandas->sfrmaker)\n",
      "  Downloading pyogrio-0.10.0-cp313-cp313-win_amd64.whl.metadata (5.6 kB)\n",
      "Requirement already satisfied: packaging in c:\\users\\gross.desktop-airqm2m\\anaconda3\\envs\\flopy\\lib\\site-packages (from geopandas->sfrmaker) (24.2)\n",
      "Requirement already satisfied: certifi in c:\\users\\gross.desktop-airqm2m\\anaconda3\\envs\\flopy\\lib\\site-packages (from pyproj->sfrmaker) (2024.8.30)\n",
      "Requirement already satisfied: cftime in c:\\users\\gross.desktop-airqm2m\\anaconda3\\envs\\flopy\\lib\\site-packages (from netcdf4->sfrmaker) (1.6.4)\n",
      "Requirement already satisfied: affine in c:\\users\\gross.desktop-airqm2m\\anaconda3\\envs\\flopy\\lib\\site-packages (from rasterio->sfrmaker) (2.4.0)\n",
      "Requirement already satisfied: pyparsing in c:\\users\\gross.desktop-airqm2m\\anaconda3\\envs\\flopy\\lib\\site-packages (from rasterio->sfrmaker) (3.2.0)\n",
      "Requirement already satisfied: simplejson in c:\\users\\gross.desktop-airqm2m\\anaconda3\\envs\\flopy\\lib\\site-packages (from rasterstats->sfrmaker) (3.19.3)\n",
      "Requirement already satisfied: colorama in c:\\users\\gross.desktop-airqm2m\\anaconda3\\envs\\flopy\\lib\\site-packages (from click~=8.0->fiona->sfrmaker) (0.4.6)\n",
      "Requirement already satisfied: contourpy>=1.0.1 in c:\\users\\gross.desktop-airqm2m\\anaconda3\\envs\\flopy\\lib\\site-packages (from matplotlib>=1.4.0->flopy->sfrmaker) (1.3.1)\n",
      "Requirement already satisfied: cycler>=0.10 in c:\\users\\gross.desktop-airqm2m\\anaconda3\\envs\\flopy\\lib\\site-packages (from matplotlib>=1.4.0->flopy->sfrmaker) (0.12.1)\n",
      "Requirement already satisfied: fonttools>=4.22.0 in c:\\users\\gross.desktop-airqm2m\\anaconda3\\envs\\flopy\\lib\\site-packages (from matplotlib>=1.4.0->flopy->sfrmaker) (4.55.3)\n",
      "Requirement already satisfied: kiwisolver>=1.3.1 in c:\\users\\gross.desktop-airqm2m\\anaconda3\\envs\\flopy\\lib\\site-packages (from matplotlib>=1.4.0->flopy->sfrmaker) (1.4.7)\n",
      "Requirement already satisfied: pillow>=8 in c:\\users\\gross.desktop-airqm2m\\anaconda3\\envs\\flopy\\lib\\site-packages (from matplotlib>=1.4.0->flopy->sfrmaker) (11.0.0)\n",
      "Requirement already satisfied: six>=1.5 in c:\\users\\gross.desktop-airqm2m\\anaconda3\\envs\\flopy\\lib\\site-packages (from python-dateutil>=2.8.2->pandas->sfrmaker) (1.17.0)\n",
      "Using cached sfrmaker-0.11.3-py3-none-any.whl (160 kB)\n",
      "Using cached geopandas-1.0.1-py3-none-any.whl (323 kB)\n",
      "Using cached gis_utils-0.3.6-py3-none-any.whl (31 kB)\n",
      "Using cached modflow_export-0.3.0-py3-none-any.whl (57 kB)\n",
      "Downloading Rtree-1.3.0-py3-none-win_amd64.whl (377 kB)\n",
      "Downloading pyogrio-0.10.0-cp313-cp313-win_amd64.whl (16.2 MB)\n",
      "   ---------------------------------------- 0.0/16.2 MB ? eta -:--:--\n",
      "   --------------------------- ------------ 11.0/16.2 MB 62.4 MB/s eta 0:00:01\n",
      "   ---------------------------------------  16.0/16.2 MB 50.1 MB/s eta 0:00:01\n",
      "   ---------------------------------------  16.0/16.2 MB 50.1 MB/s eta 0:00:01\n",
      "   ---------------------------------------- 16.2/16.2 MB 23.6 MB/s eta 0:00:00\n",
      "Installing collected packages: rtree, pyogrio, geopandas, gis-utils, modflow-export, sfrmaker\n",
      "Successfully installed geopandas-1.0.1 gis-utils-0.3.6 modflow-export-0.3.0 pyogrio-0.10.0 rtree-1.3.0 sfrmaker-0.11.3\n"
     ]
    }
   ],
   "source": [
    "!pip install sfrmaker"
   ]
  },
  {
   "cell_type": "code",
   "execution_count": 26,
   "id": "98db11b1",
   "metadata": {},
   "outputs": [],
   "source": [
    "import sfrmaker"
   ]
  },
  {
   "cell_type": "markdown",
   "id": "08567e2b",
   "metadata": {},
   "source": [
    "Wisconsin Transverse Mercator, denoted by EPSG code 3070"
   ]
  },
  {
   "cell_type": "code",
   "execution_count": 3,
   "id": "be85402f",
   "metadata": {},
   "outputs": [],
   "source": [
    "model_name = 'pleasant'\n",
    "workspace = '.'\n",
    "\n",
    "nper, nlay, nrow, ncol = 1, 3, 60, 70\n",
    "\n",
    "delr, delc = 40, 40\n",
    "\n",
    "xoffset, yoffset = 554400., 389200.0\n",
    "\n",
    "epsg = 3070\n",
    "\n",
    "modelgrid = StructuredGrid(delr=np.ones(ncol) * delr, \n",
    "                           delc=np.ones(nrow) * delc, \n",
    "                           xoff=xoffset, \n",
    "                           yoff=yoffset, \n",
    "                           angrot=0)"
   ]
  },
  {
   "cell_type": "markdown",
   "id": "933cbc52",
   "metadata": {},
   "source": [
    "Bedrock surface interpolated linearly to the model grid. Numpy array of the same shape.. \n",
    "\n",
    "https://flopy.readthedocs.io/en/latest/source/flopy.utils.rasters.html"
   ]
  },
  {
   "cell_type": "code",
   "execution_count": 10,
   "id": "0d6e9f19",
   "metadata": {},
   "outputs": [],
   "source": [
    "br_surf = Raster.load('../data/br_surface.tif')\n",
    "rs = br_surf.resample_to_grid(modelgrid, band=1, method='linear') # resample_to_grid #\n",
    "np.savetxt('../data/botm_002.dat', rs)"
   ]
  },
  {
   "cell_type": "code",
   "execution_count": null,
   "id": "bd4ba4ca",
   "metadata": {},
   "outputs": [],
   "source": [
    "# !head -n 3 '../data/botm_002.dat'"
   ]
  },
  {
   "cell_type": "code",
   "execution_count": 11,
   "id": "290b4ee4",
   "metadata": {},
   "outputs": [],
   "source": [
    "top = [{'filename': '../data/top.dat'}]\n",
    "botm = [{'filename': '../data/botm_000.dat'},\n",
    "        {'filename': '../data/botm_001.dat'},\n",
    "        {'filename': '../data/botm_002.dat'}]\n",
    "# hydraulic conductivity\n",
    "k = [{'filename': '../data/k_000.dat'},\n",
    "     {'filename': '../data/k_001.dat'},\n",
    "     {'filename': '../data/k_002.dat'}]\n",
    "# vertical hydraulic conductivity\n",
    "k33 = [{'filename': '../data/k33_000.dat'},\n",
    "       {'filename': '../data/k33_001.dat'},\n",
    "       {'filename': '../data/k33_002.dat'}]\n",
    "# use the model top for starting heads\n",
    "strt = [top[0]] * nlay\n",
    "recharge = {\n",
    "    0: {'filename': '../data/rch_000.dat'}}\n",
    "irch = [{'filename': '../data/irch.dat'}]\n",
    "spec_head_perimeter = {\n",
    "    0: {'filename': '../data/chd_000.dat'}}"
   ]
  },
  {
   "cell_type": "code",
   "execution_count": 12,
   "id": "8b16df86",
   "metadata": {},
   "outputs": [],
   "source": [
    "sim = mf6.MFSimulation(sim_name=model_name, version=\"mf6\", exe_name=\"mf6\", sim_ws=workspace)\n",
    "\n",
    "# ... Temporal Discretization (TDIS) ... Iterative Matrix Solution (IMS) ... Packages\n",
    "tdis = mf6.ModflowTdis(sim, time_units=\"days\", nper=1, perioddata=[(1.0, 1, 1.0)])\n",
    "ims = mf6.ModflowIms(sim, complexity=\"moderate\", outer_dvclose=0.001)"
   ]
  },
  {
   "cell_type": "code",
   "execution_count": 13,
   "id": "5517e5b7",
   "metadata": {},
   "outputs": [
    {
     "name": "stdout",
     "output_type": "stream",
     "text": [
      "writing simulation...\n",
      "  writing simulation name file...\n",
      "  writing simulation tdis package...\n",
      "  writing solution package ims_-1...\n"
     ]
    }
   ],
   "source": [
    "sim.write_simulation() # for now, just to see where it'll be placed\n",
    "#!head -n 10 'mfsim.nam'\n",
    "#!tail -n 10 'pleasant.tdis'"
   ]
  },
  {
   "cell_type": "markdown",
   "id": "73fb3d12",
   "metadata": {},
   "source": [
    "``ModflowGwf`` class ... Output Control and ... Discretization Packages...+ earlier(GRID)"
   ]
  },
  {
   "cell_type": "code",
   "execution_count": 14,
   "id": "0af601f4",
   "metadata": {},
   "outputs": [],
   "source": [
    "gwf = mf6.ModflowGwf(sim, modelname=model_name, save_flows=True) # Model instance\n",
    "\n",
    "oc = mf6.ModflowGwfoc(gwf, head_filerecord=f'{gwf.name}.hds', # output control\n",
    "    budget_filerecord=f'{gwf.name}.cbc',\n",
    "    saverecord=[('head', 'all'), (\"budget\", \"all\")])\n",
    "                \n",
    "dis = mf6.ModflowGwfdis(gwf, nlay=nlay, nrow=nrow, ncol=ncol, delr=delr, delc=delc, top=top, botm=botm, idomain=1) \n",
    "# this last one....connects to the *.dat files...I think..."
   ]
  },
  {
   "cell_type": "code",
   "execution_count": 15,
   "id": "469f5cbb",
   "metadata": {},
   "outputs": [
    {
     "data": {
      "text/plain": [
       "xll:554400.0; yll:389200.0; rotation:0.0; crs:EPSG:3070; units:undefined; lenuni:0"
      ]
     },
     "execution_count": 15,
     "metadata": {},
     "output_type": "execute_result"
    }
   ],
   "source": [
    "gwf.modelgrid.set_coord_info(xoff=xoffset, yoff=yoffset, crs=epsg) # locate the model grid\n",
    "gwf.modelgrid"
   ]
  },
  {
   "cell_type": "markdown",
   "id": "e5e8a241",
   "metadata": {},
   "source": [
    "## Node Property Flow (NPF) package - K ___ & ___ ``New: pleasent.nam `` "
   ]
  },
  {
   "cell_type": "code",
   "execution_count": 16,
   "id": "b6995e4b",
   "metadata": {},
   "outputs": [],
   "source": [
    "npf = mf6.ModflowGwfnpf(gwf, icelltype=1, k=k, k33=k33) # Node Property Flow (NPF) package ... K"
   ]
  },
  {
   "cell_type": "code",
   "execution_count": 17,
   "id": "402a989d",
   "metadata": {},
   "outputs": [
    {
     "name": "stdout",
     "output_type": "stream",
     "text": [
      "writing simulation...\n",
      "  writing simulation name file...\n",
      "  writing simulation tdis package...\n",
      "  writing solution package ims_-1...\n",
      "  writing model pleasant...\n",
      "    writing model name file...\n",
      "    writing package oc...\n",
      "    writing package dis...\n",
      "    writing package npf...\n"
     ]
    }
   ],
   "source": [
    "sim.write_simulation()"
   ]
  },
  {
   "cell_type": "code",
   "execution_count": null,
   "id": "73e9e8b2",
   "metadata": {},
   "outputs": [],
   "source": [
    "!tail -n 10 'pleasant.npf'"
   ]
  },
  {
   "cell_type": "markdown",
   "id": "d64899d3",
   "metadata": {},
   "source": [
    "Initial Conditions (IC) Package\n",
    "...early on ...  top elevation to the ``strt`` (starting heads for the model solution)."
   ]
  },
  {
   "cell_type": "code",
   "execution_count": 18,
   "id": "1a6ae50a",
   "metadata": {},
   "outputs": [],
   "source": [
    "ic = mf6.ModflowGwfic(gwf, strt=strt)  # Initial Conditions (IC) Package"
   ]
  },
  {
   "cell_type": "code",
   "execution_count": 19,
   "id": "e92de2a9",
   "metadata": {},
   "outputs": [
    {
     "name": "stdout",
     "output_type": "stream",
     "text": [
      "writing simulation...\n",
      "  writing simulation name file...\n",
      "  writing simulation tdis package...\n",
      "  writing solution package ims_-1...\n",
      "  writing model pleasant...\n",
      "    writing model name file...\n",
      "    writing package oc...\n",
      "    writing package dis...\n",
      "    writing package npf...\n",
      "    writing package ic...\n"
     ]
    }
   ],
   "source": [
    "sim.write_simulation()"
   ]
  },
  {
   "cell_type": "code",
   "execution_count": null,
   "id": "cb6b7073",
   "metadata": {},
   "outputs": [],
   "source": [
    "#sim.write_simulation()\n",
    "#!tail -n 10 'pleasant.ic'"
   ]
  },
  {
   "cell_type": "markdown",
   "id": "6faf787c",
   "metadata": {},
   "source": [
    "Assign boundary conditions ... LoL\n",
    "\n",
    "``packagedata`` Initial stage, number of connections, and \"boundname\" \n",
    " ``perioddata`` Lake water balance "
   ]
  },
  {
   "cell_type": "code",
   "execution_count": 21,
   "id": "14e94e72",
   "metadata": {},
   "outputs": [],
   "source": [
    "chd = mf6.ModflowGwfchd(gwf, stress_period_data=spec_head_perimeter)\n",
    "rch = mf6.ModflowGwfrcha(gwf, recharge=recharge, irch=irch)"
   ]
  },
  {
   "cell_type": "code",
   "execution_count": 35,
   "id": "1f07d270",
   "metadata": {},
   "outputs": [],
   "source": [
    "lak = mf6.ModflowGwflak(gwf, boundnames=True, nlakes=1, connectiondata={'filename': '../data/lake_cn.dat'},\n",
    "    packagedata=[[0, 290.85, 345, 'lake1']],\n",
    "    perioddata={0: [[0, 'evaporation', 0.000715], [0, 'rainfall', 0.00209]]},\n",
    "    surfdep=0.1)"
   ]
  },
  {
   "cell_type": "markdown",
   "id": "45f1b5b1",
   "metadata": {},
   "source": [
    "####  ``Streamflow Routing Package input`` hydrography + DEM = nodes"
   ]
  },
  {
   "cell_type": "code",
   "execution_count": 37,
   "id": "1f053a1a",
   "metadata": {},
   "outputs": [
    {
     "name": "stdout",
     "output_type": "stream",
     "text": [
      "\n",
      "SFRmaker version 0.11.3\n",
      "\n",
      "Creating sfr dataset...\n",
      "Model grid information\n",
      "structured grid\n",
      "nnodes: 4,200\n",
      "nlay: 1\n",
      "nrow: 60\n",
      "ncol: 70\n",
      "model length units: undefined\n",
      "crs: EPSG:3070\n",
      "bounds: 554400.00, 389200.00, 557200.00, 391600.00\n",
      "active area defined by: all cells\n",
      "\n",
      "name = pleasant\n",
      "model_type = gwf6\n",
      "version = mf6\n",
      "model_relative_path = .\n",
      "\n",
      "###################\n",
      "Package oc\n",
      "###################\n",
      "\n",
      "package_name = oc\n",
      "filename = pleasant.oc\n",
      "package_type = oc\n",
      "model_or_simulation_package = model\n",
      "model_name = pleasant\n",
      "\n",
      "\n",
      "###################\n",
      "Package dis\n",
      "###################\n",
      "\n",
      "package_name = dis\n",
      "filename = pleasant.dis\n",
      "package_type = dis\n",
      "model_or_simulation_package = model\n",
      "model_name = pleasant\n",
      "\n",
      "\n",
      "###################\n",
      "Package npf\n",
      "###################\n",
      "\n",
      "package_name = npf\n",
      "filename = pleasant.npf\n",
      "package_type = npf\n",
      "model_or_simulation_package = model\n",
      "model_name = pleasant\n",
      "\n",
      "\n",
      "###################\n",
      "Package ic\n",
      "###################\n",
      "\n",
      "package_name = ic\n",
      "filename = pleasant.ic\n",
      "package_type = ic\n",
      "model_or_simulation_package = model\n",
      "model_name = pleasant\n",
      "\n",
      "\n",
      "###################\n",
      "Package chd_0\n",
      "###################\n",
      "\n",
      "package_name = chd_0\n",
      "filename = pleasant.chd\n",
      "package_type = chd\n",
      "model_or_simulation_package = model\n",
      "model_name = pleasant\n",
      "\n",
      "\n",
      "###################\n",
      "Package rcha_0\n",
      "###################\n",
      "\n",
      "package_name = rcha_0\n",
      "filename = pleasant.rcha\n",
      "package_type = rcha\n",
      "model_or_simulation_package = model\n",
      "model_name = pleasant\n",
      "\n",
      "\n",
      "###################\n",
      "Package lak_0\n",
      "###################\n",
      "\n",
      "package_name = lak_0\n",
      "filename = pleasant.lak\n",
      "package_type = lak\n",
      "model_or_simulation_package = model\n",
      "model_name = pleasant\n",
      "\n",
      "\n",
      "###################\n",
      "Package chd_1\n",
      "###################\n",
      "\n",
      "package_name = chd_1\n",
      "filename = pleasant_0.chd\n",
      "package_type = chd\n",
      "model_or_simulation_package = model\n",
      "model_name = pleasant\n",
      "\n",
      "\n",
      "###################\n",
      "Package rcha_1\n",
      "###################\n",
      "\n",
      "package_name = rcha_1\n",
      "filename = pleasant_0.rcha\n",
      "package_type = rcha\n",
      "model_or_simulation_package = model\n",
      "model_name = pleasant\n",
      "\n",
      "\n",
      "###################\n",
      "Package lak_1\n",
      "###################\n",
      "\n",
      "package_name = lak_1\n",
      "filename = pleasant_0.lak\n",
      "package_type = lak\n",
      "model_or_simulation_package = model\n",
      "model_name = pleasant\n",
      "\n",
      "\n",
      "###################\n",
      "Package lak_2\n",
      "###################\n",
      "\n",
      "package_name = lak_2\n",
      "filename = pleasant_1.lak\n",
      "package_type = lak\n",
      "model_or_simulation_package = model\n",
      "model_name = pleasant\n",
      "\n",
      "\n",
      "\n",
      "\n",
      "reprojecting hydrography from\n",
      "EPSG:4269\n",
      "to\n",
      "EPSG:3070\n",
      "\n",
      "\n",
      "Culling hydrography to active area...\n",
      "starting lines: 49\n"
     ]
    },
    {
     "ename": "AttributeError",
     "evalue": "'NoneType' object has no attribute 'intersects'",
     "output_type": "error",
     "traceback": [
      "\u001b[1;31m---------------------------------------------------------------------------\u001b[0m",
      "\u001b[1;31mAttributeError\u001b[0m                            Traceback (most recent call last)",
      "Cell \u001b[1;32mIn[37], line 3\u001b[0m\n\u001b[0;32m      1\u001b[0m lines \u001b[38;5;241m=\u001b[39m sfrmaker\u001b[38;5;241m.\u001b[39mLines\u001b[38;5;241m.\u001b[39mfrom_shapefile(shapefile\u001b[38;5;241m=\u001b[39m\u001b[38;5;124m'\u001b[39m\u001b[38;5;124m../data/edited_flowlines.shp\u001b[39m\u001b[38;5;124m'\u001b[39m, id_column\u001b[38;5;241m=\u001b[39m\u001b[38;5;124m'\u001b[39m\u001b[38;5;124mid\u001b[39m\u001b[38;5;124m'\u001b[39m, routing_column\u001b[38;5;241m=\u001b[39m\u001b[38;5;124m'\u001b[39m\u001b[38;5;124mtoid\u001b[39m\u001b[38;5;124m'\u001b[39m,\n\u001b[0;32m      2\u001b[0m     width1_column\u001b[38;5;241m=\u001b[39m\u001b[38;5;124m'\u001b[39m\u001b[38;5;124mwidth1\u001b[39m\u001b[38;5;124m'\u001b[39m, width2_column\u001b[38;5;241m=\u001b[39m\u001b[38;5;124m'\u001b[39m\u001b[38;5;124mwidth2\u001b[39m\u001b[38;5;124m'\u001b[39m, name_column\u001b[38;5;241m=\u001b[39m\u001b[38;5;124m'\u001b[39m\u001b[38;5;124mname\u001b[39m\u001b[38;5;124m'\u001b[39m, attr_length_units\u001b[38;5;241m=\u001b[39m\u001b[38;5;124m'\u001b[39m\u001b[38;5;124mmeters\u001b[39m\u001b[38;5;124m'\u001b[39m)\n\u001b[1;32m----> 3\u001b[0m sfrdata \u001b[38;5;241m=\u001b[39m \u001b[43mlines\u001b[49m\u001b[38;5;241;43m.\u001b[39;49m\u001b[43mto_sfr\u001b[49m\u001b[43m(\u001b[49m\u001b[43mmodel\u001b[49m\u001b[38;5;241;43m=\u001b[39;49m\u001b[43mgwf\u001b[49m\u001b[43m,\u001b[49m\u001b[43m \u001b[49m\u001b[43mmodel_length_units\u001b[49m\u001b[38;5;241;43m=\u001b[39;49m\u001b[38;5;124;43m'\u001b[39;49m\u001b[38;5;124;43mmeters\u001b[39;49m\u001b[38;5;124;43m'\u001b[39;49m\u001b[43m)\u001b[49m\n\u001b[0;32m      4\u001b[0m sfrdata\u001b[38;5;241m.\u001b[39mset_streambed_top_elevations_from_dem(\u001b[38;5;124m'\u001b[39m\u001b[38;5;124m../data/dem40m.tif\u001b[39m\u001b[38;5;124m'\u001b[39m, elevation_units\u001b[38;5;241m=\u001b[39m\u001b[38;5;124m'\u001b[39m\u001b[38;5;124mmeters\u001b[39m\u001b[38;5;124m'\u001b[39m)\n\u001b[0;32m      5\u001b[0m sfrdata\u001b[38;5;241m.\u001b[39massign_layers()\n",
      "File \u001b[1;32m~\\anaconda3\\envs\\flopy\\Lib\\site-packages\\sfrmaker\\lines.py:1029\u001b[0m, in \u001b[0;36mLines.to_sfr\u001b[1;34m(self, grid, active_area, isfr, model, model_length_units, model_time_units, minimum_reach_length, width_from_asum_a_param, width_from_asum_b_param, minimum_reach_width, consolidate_conductance, one_reach_per_cell, add_outlets, package_name, **kwargs)\u001b[0m\n\u001b[0;32m   1027\u001b[0m     \u001b[38;5;28mself\u001b[39m\u001b[38;5;241m.\u001b[39mcull(grid\u001b[38;5;241m.\u001b[39mactive_area, inplace\u001b[38;5;241m=\u001b[39m\u001b[38;5;28;01mTrue\u001b[39;00m, simplify\u001b[38;5;241m=\u001b[39m\u001b[38;5;28;01mTrue\u001b[39;00m, tol\u001b[38;5;241m=\u001b[39m\u001b[38;5;241m2000\u001b[39m)\n\u001b[0;32m   1028\u001b[0m \u001b[38;5;28;01melif\u001b[39;00m grid\u001b[38;5;241m.\u001b[39m_bounds \u001b[38;5;129;01mis\u001b[39;00m \u001b[38;5;129;01mnot\u001b[39;00m \u001b[38;5;28;01mNone\u001b[39;00m:  \u001b[38;5;66;03m# cull to grid bounding box if already computed\u001b[39;00m\n\u001b[1;32m-> 1029\u001b[0m     \u001b[38;5;28;43mself\u001b[39;49m\u001b[38;5;241;43m.\u001b[39;49m\u001b[43mcull\u001b[49m\u001b[43m(\u001b[49m\u001b[43mbox\u001b[49m\u001b[43m(\u001b[49m\u001b[38;5;241;43m*\u001b[39;49m\u001b[43mgrid\u001b[49m\u001b[38;5;241;43m.\u001b[39;49m\u001b[43m_bounds\u001b[49m\u001b[43m)\u001b[49m\u001b[43m,\u001b[49m\u001b[43m \u001b[49m\u001b[43minplace\u001b[49m\u001b[38;5;241;43m=\u001b[39;49m\u001b[38;5;28;43;01mTrue\u001b[39;49;00m\u001b[43m)\u001b[49m\n\u001b[0;32m   1030\u001b[0m \u001b[38;5;28;01mif\u001b[39;00m package_name \u001b[38;5;129;01mis\u001b[39;00m \u001b[38;5;28;01mNone\u001b[39;00m:\n\u001b[0;32m   1031\u001b[0m     \u001b[38;5;28;01mif\u001b[39;00m model \u001b[38;5;129;01mis\u001b[39;00m \u001b[38;5;129;01mnot\u001b[39;00m \u001b[38;5;28;01mNone\u001b[39;00m:\n",
      "File \u001b[1;32m~\\anaconda3\\envs\\flopy\\Lib\\site-packages\\sfrmaker\\lines.py:294\u001b[0m, in \u001b[0;36mLines.cull\u001b[1;34m(self, feature, simplify, tol, feature_crs, inplace)\u001b[0m\n\u001b[0;32m    289\u001b[0m \u001b[38;5;28mprint\u001b[39m(\u001b[38;5;124m'\u001b[39m\u001b[38;5;124mstarting lines: \u001b[39m\u001b[38;5;132;01m{:,d}\u001b[39;00m\u001b[38;5;124m'\u001b[39m\u001b[38;5;241m.\u001b[39mformat(\u001b[38;5;28mlen\u001b[39m(lines)))\n\u001b[0;32m    290\u001b[0m \u001b[38;5;66;03m# isn = np.array([g.intersection(feature_s) for g in lines])\u001b[39;00m\n\u001b[0;32m    291\u001b[0m \u001b[38;5;66;03m# df['geometry'] = isn\u001b[39;00m\n\u001b[0;32m    292\u001b[0m \u001b[38;5;66;03m# drop = np.array([g.is_empty for g in isn])\u001b[39;00m\n\u001b[0;32m    293\u001b[0m \u001b[38;5;66;03m# df = df.loc[~drop]\u001b[39;00m\n\u001b[1;32m--> 294\u001b[0m intersects \u001b[38;5;241m=\u001b[39m [\u001b[43mg\u001b[49m\u001b[38;5;241;43m.\u001b[39;49m\u001b[43mintersects\u001b[49m(feature_s) \u001b[38;5;28;01mfor\u001b[39;00m g \u001b[38;5;129;01min\u001b[39;00m lines]\n\u001b[0;32m    295\u001b[0m \u001b[38;5;28;01mif\u001b[39;00m \u001b[38;5;129;01mnot\u001b[39;00m np\u001b[38;5;241m.\u001b[39many(intersects):\n\u001b[0;32m    296\u001b[0m     \u001b[38;5;28;01mraise\u001b[39;00m \u001b[38;5;167;01mValueError\u001b[39;00m(\u001b[38;5;124m'\u001b[39m\u001b[38;5;124mNo lines in active area. Check CRS for lines, grid and active area polygon.\u001b[39m\u001b[38;5;124m'\u001b[39m)\n",
      "\u001b[1;31mAttributeError\u001b[0m: 'NoneType' object has no attribute 'intersects'"
     ]
    }
   ],
   "source": [
    "lines = sfrmaker.Lines.from_shapefile(shapefile='../data/edited_flowlines.shp', id_column='id', routing_column='toid',\n",
    "    width1_column='width1', width2_column='width2', name_column='name', attr_length_units='meters')\n",
    "sfrdata = lines.to_sfr(model=gwf, model_length_units='meters')\n",
    "sfrdata.set_streambed_top_elevations_from_dem('../data/dem40m.tif', elevation_units='meters')\n",
    "sfrdata.assign_layers()\n",
    "sfr = sfrdata.create_mf6sfr(gwf)"
   ]
  },
  {
   "cell_type": "markdown",
   "id": "b4235d53",
   "metadata": {},
   "source": [
    "### Writing the input files\n",
    "Now that all the packages are made, we can write the MODFLOW input files."
   ]
  },
  {
   "cell_type": "code",
   "execution_count": 28,
   "id": "03fb00f8",
   "metadata": {},
   "outputs": [
    {
     "name": "stdout",
     "output_type": "stream",
     "text": [
      "writing simulation...\n",
      "  writing simulation name file...\n",
      "  writing simulation tdis package...\n",
      "  writing solution package ims_-1...\n",
      "  writing model pleasant...\n",
      "    writing model name file...\n",
      "    writing package oc...\n",
      "    writing package dis...\n",
      "    writing package npf...\n",
      "    writing package ic...\n",
      "    writing package chd_0...\n",
      "INFORMATION: maxbound in ('gwf6', 'chd', 'dimensions') changed to 572 based on size of stress_period_data\n",
      "    writing package rcha_0...\n",
      "    writing package lak_0...\n",
      "    writing package chd_1...\n",
      "INFORMATION: maxbound in ('gwf6', 'chd', 'dimensions') changed to 572 based on size of stress_period_data\n",
      "    writing package rcha_1...\n",
      "    writing package lak_1...\n"
     ]
    }
   ],
   "source": [
    "sim.write_simulation()"
   ]
  },
  {
   "cell_type": "code",
   "execution_count": 34,
   "id": "fa7b54e4",
   "metadata": {},
   "outputs": [
    {
     "name": "stdout",
     "output_type": "stream",
     "text": [
      "FloPy is using the following executable to run the model: mf6.exe\n",
      "                                   MODFLOW 6\n",
      "                U.S. GEOLOGICAL SURVEY MODULAR HYDROLOGIC MODEL\n",
      "                            VERSION 6.5.0 05/23/2024\n",
      "\n",
      "   MODFLOW 6 compiled May 23 2024 18:06:57 with Intel(R) Fortran Intel(R) 64\n",
      "   Compiler Classic for applications running on Intel(R) 64, Version 2021.7.0\n",
      "                             Build 20220726_000000\n",
      "\n",
      "This software has been approved for release by the U.S. Geological \n",
      "Survey (USGS). Although the software has been subjected to rigorous \n",
      "review, the USGS reserves the right to update the software as needed \n",
      "pursuant to further analysis and review. No warranty, expressed or \n",
      "implied, is made by the USGS or the U.S. Government as to the \n",
      "functionality of the software and related material nor shall the \n",
      "fact of release constitute any such warranty. Furthermore, the \n",
      "software is released on condition that neither the USGS nor the U.S. \n",
      "Government shall be held liable for any damages resulting from its \n",
      "authorized or unauthorized use. Also refer to the USGS Water \n",
      "Resources Software User Rights Notice for complete use, copyright, \n",
      "and distribution information.\n",
      "\n",
      " \n",
      " MODFLOW runs in SEQUENTIAL mode\n",
      " \n",
      " Run start date and time (yyyy/mm/dd hh:mm:ss): 2024/12/19 10:25:12\n",
      " \n",
      " Writing simulation list file: mfsim.lst\n",
      " Using Simulation name file: mfsim.nam\n",
      " \n",
      "\n",
      "ERROR REPORT:\n",
      "\n",
      "  1. Required block \"CONNECTIONDATA\" not found.  Found end of file instead.\n",
      "\n",
      "UNIT ERROR REPORT:\n",
      "\n",
      "  1. Error occurred while reading file\n",
      "     'E:\\15_REPOS\\00_Betami\\04_Pleasant_Lake\\02\\pleasant.lak'\n"
     ]
    },
    {
     "data": {
      "text/plain": [
       "(False, [])"
      ]
     },
     "execution_count": 34,
     "metadata": {},
     "output_type": "execute_result"
    }
   ],
   "source": [
    "sim.run_simulation() # mf6.exe add to the folder"
   ]
  },
  {
   "cell_type": "markdown",
   "id": "079cd5a6",
   "metadata": {},
   "source": [
    "### Postprocessing and viewing the results\n",
    "Following execution of the model, we can view the results using the Flopy ``PlotMapView`` object, which can overlay model information together in the coordinate reference system of the model grid. First, use the Flopy ``get_water_table`` utilty to compute a 2D array of the water table elevations from the 3D head solution:"
   ]
  },
  {
   "cell_type": "code",
   "execution_count": null,
   "id": "55ca4fcf",
   "metadata": {},
   "outputs": [],
   "source": [
    "from flopy.utils.postprocessing import get_water_table\n",
    "\n",
    "hds = gwf.output.head().get_data()\n",
    "wt = get_water_table(hds, nodata=-1e30)"
   ]
  },
  {
   "cell_type": "markdown",
   "id": "fc75505e",
   "metadata": {},
   "source": [
    "Then, we read the Lake and SFR budget results into 3D Numpy arrays of the same shape as the model, for easy plotting. Cells that don't have these boundary conditions are masked."
   ]
  },
  {
   "cell_type": "code",
   "execution_count": null,
   "id": "12d6d77d",
   "metadata": {},
   "outputs": [],
   "source": [
    "cbc = gwf.output.budget()\n",
    "lak = cbc.get_data(text='lak', full3D=True)[0]\n",
    "sfr = cbc.get_data(text='sfr', full3D=True)[0]"
   ]
  },
  {
   "cell_type": "markdown",
   "id": "f96ae6bd",
   "metadata": {},
   "source": [
    "Now make the figure using the ``PlotMapView`` object. The budget results show simulated groundwater/surface water interactions at each model cell, in units of cubic meters per day, with negative values indicating groundwater discharge to surface water."
   ]
  },
  {
   "cell_type": "code",
   "execution_count": null,
   "id": "efd1ad1b",
   "metadata": {},
   "outputs": [],
   "source": [
    "fig, ax = plt.subplots(figsize=(6, 6))\n",
    "pmv = flopy.plot.PlotMapView(gwf, ax=ax)\n",
    "ctr = pmv.contour_array(\n",
    "    wt, levels=np.arange(290, 315, 1), \n",
    "    linewidths=1, colors='b')\n",
    "labels = pmv.ax.clabel(\n",
    "    ctr, inline=True, \n",
    "    fontsize=8, inline_spacing=1)\n",
    "vmin, vmax = -100, 100\n",
    "im = pmv.plot_array(\n",
    "    lak[0], cmap='coolwarm', \n",
    "    vmin=vmin, vmax=vmax)\n",
    "im = pmv.plot_array(\n",
    "    sfr.sum(axis=0), cmap='coolwarm', \n",
    "    vmin=vmin, vmax=vmax)\n",
    "cb = fig.colorbar(\n",
    "    im, shrink=0.5, label='Leakage, in m$^3$/day')\n",
    "ax.set_ylabel(\"Northing, WTM meters\")\n",
    "ax.set_xlabel(\"Easting, WTM meters\")\n",
    "ax.set_aspect(1)\n",
    "plt.tight_layout()\n",
    "plt.savefig('results.pdf')"
   ]
  },
  {
   "cell_type": "markdown",
   "id": "4587085b",
   "metadata": {},
   "source": [
    "### References\n",
    "\n",
    "Fienen, M.N., Haserodt, M.J., Leaf, A.T., Westenbroek, S.M., 2022, Simulation of Regional Groundwater Flow and Groundwater/Lake Interactions in the Central Sands, Wisconsin: U.S. Geological Survey Scientific Investigations Report 2022-5046, http://doi.org/10.3133/sir20225046\n",
    "\n",
    "Fienen, M.N., Haserodt, M.J., and Leaf, A.T, 2021, MODFLOW models used to simulate groundwater flow in the Wisconsin Central Sands Study Area, 2012-2018, U.S. Geological Survey Data Release, https://doi.org/10.5066/P9BVFSGJ\n",
    "\n",
    "Leaf, A.T., Fienen, M.N. and Reeves, H.W. (2021), SFRmaker and Linesink-Maker: Rapid Construction of Streamflow Routing Networks from Hydrography Data. Groundwater, 59: 761-771. https://doi.org/10.1111/gwat.13095"
   ]
  },
  {
   "cell_type": "code",
   "execution_count": null,
   "id": "2454ac4c",
   "metadata": {},
   "outputs": [],
   "source": []
  }
 ],
 "metadata": {
  "kernelspec": {
   "display_name": "Python 3 (ipykernel)",
   "language": "python",
   "name": "python3"
  },
  "language_info": {
   "codemirror_mode": {
    "name": "ipython",
    "version": 3
   },
   "file_extension": ".py",
   "mimetype": "text/x-python",
   "name": "python",
   "nbconvert_exporter": "python",
   "pygments_lexer": "ipython3",
   "version": "3.13.1"
  }
 },
 "nbformat": 4,
 "nbformat_minor": 5
}
