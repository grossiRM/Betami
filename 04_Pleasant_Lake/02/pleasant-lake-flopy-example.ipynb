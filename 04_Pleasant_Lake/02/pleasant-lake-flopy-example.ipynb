{
 "cells": [
  {
   "cell_type": "code",
   "execution_count": 22,
   "id": "5acd45ac",
   "metadata": {},
   "outputs": [],
   "source": [
    "import numpy as np\n",
    "import matplotlib.pyplot as plt\n",
    "import flopy\n",
    "import flopy.mf6 as mf6\n",
    "from flopy.discretization import StructuredGrid\n",
    "from flopy.utils import Raster"
   ]
  },
  {
   "cell_type": "code",
   "execution_count": null,
   "id": "98db11b1",
   "metadata": {},
   "outputs": [],
   "source": [
    "# import sfrmaker"
   ]
  },
  {
   "cell_type": "markdown",
   "id": "08567e2b",
   "metadata": {},
   "source": [
    "Wisconsin Transverse Mercator, denoted by EPSG code 3070"
   ]
  },
  {
   "cell_type": "code",
   "execution_count": 23,
   "id": "be85402f",
   "metadata": {},
   "outputs": [],
   "source": [
    "model_name = 'pleasant'\n",
    "workspace = '.'\n",
    "\n",
    "nper, nlay, nrow, ncol = 1, 3, 60, 70\n",
    "delr, delc = 40, 40\n",
    "xoffset, yoffset = 554400., 389200.0\n",
    "epsg = 3070\n",
    "\n",
    "modelgrid = StructuredGrid(\n",
    "    delr=np.ones(ncol) * delr,\n",
    "    delc=np.ones(nrow) * delc,\n",
    "    xoff=xoffset, yoff=yoffset, angrot=0)"
   ]
  },
  {
   "cell_type": "markdown",
   "id": "933cbc52",
   "metadata": {},
   "source": [
    "Bedrock surface interpolated linearly to the model grid. \n",
    "Numpy array of the same shape.. "
   ]
  },
  {
   "cell_type": "code",
   "execution_count": 24,
   "id": "0d6e9f19",
   "metadata": {},
   "outputs": [],
   "source": [
    "br_surf = Raster.load('../data/br_surface.tif')\n",
    "rs = br_surf.resample_to_grid(modelgrid, band=1, method='linear')\n",
    "np.savetxt('../data/botm_002.dat', rs)"
   ]
  },
  {
   "cell_type": "code",
   "execution_count": null,
   "id": "bd4ba4ca",
   "metadata": {},
   "outputs": [],
   "source": [
    "# !head -n 3 '../data/botm_002.dat'"
   ]
  },
  {
   "cell_type": "code",
   "execution_count": 25,
   "id": "290b4ee4",
   "metadata": {},
   "outputs": [],
   "source": [
    "top = [{'filename': '../data/top.dat'}]\n",
    "botm = [{'filename': '../data/botm_000.dat'},\n",
    "        {'filename': '../data/botm_001.dat'},\n",
    "        {'filename': '../data/botm_002.dat'}]\n",
    "# hydraulic conductivity\n",
    "k = [{'filename': '../data/k_000.dat'},\n",
    "     {'filename': '../data/k_001.dat'},\n",
    "     {'filename': '../data/k_002.dat'}]\n",
    "# vertical hydraulic conductivity\n",
    "k33 = [{'filename': '../data/k33_000.dat'},\n",
    "       {'filename': '../data/k33_001.dat'},\n",
    "       {'filename': '../data/k33_002.dat'}]\n",
    "# use the model top for starting heads\n",
    "strt = [top[0]] * nlay\n",
    "recharge = {\n",
    "    0: {'filename': '../data/rch_000.dat'}}\n",
    "irch = [{'filename': '../data/irch.dat'}]\n",
    "spec_head_perimeter = {\n",
    "    0: {'filename': '../data/chd_000.dat'}}"
   ]
  },
  {
   "cell_type": "code",
   "execution_count": 26,
   "id": "8b16df86",
   "metadata": {},
   "outputs": [],
   "source": [
    "sim = mf6.MFSimulation(sim_name=model_name, version=\"mf6\", exe_name=\"mf6\", sim_ws=workspace)\n",
    "# ... Temporal Discretization (TDIS) ... Iterative Matrix Solution (IMS) ... Packages\n",
    "tdis = mf6.ModflowTdis(sim, time_units=\"days\", nper=1, perioddata=[(1.0, 1, 1.0)])\n",
    "ims = mf6.ModflowIms(sim, complexity=\"moderate\", outer_dvclose=0.001)"
   ]
  },
  {
   "cell_type": "code",
   "execution_count": 37,
   "id": "5517e5b7",
   "metadata": {},
   "outputs": [
    {
     "name": "stdout",
     "output_type": "stream",
     "text": [
      "writing simulation...\n",
      "  writing simulation name file...\n",
      "  writing simulation tdis package...\n"
     ]
    }
   ],
   "source": [
    "sim.write_simulation() # for now, just to see where it'll be placed\n",
    "#!head -n 10 'mfsim.nam'\n",
    "#!tail -n 10 'pleasant.tdis'"
   ]
  },
  {
   "cell_type": "markdown",
   "id": "73fb3d12",
   "metadata": {},
   "source": [
    "``ModflowGwf`` class ... Output Control and ... Discretization Packages...+ earlier(GRID)"
   ]
  },
  {
   "cell_type": "code",
   "execution_count": 38,
   "id": "0af601f4",
   "metadata": {},
   "outputs": [],
   "source": [
    "gwf = mf6.ModflowGwf(sim, modelname=model_name, save_flows=True) # Model instance\n",
    "\n",
    "oc = mf6.ModflowGwfoc(gwf, head_filerecord=f'{gwf.name}.hds', # output control\n",
    "    budget_filerecord=f'{gwf.name}.cbc',\n",
    "    saverecord=[('head', 'all'), (\"budget\", \"all\")])\n",
    "                \n",
    "dis = mf6.ModflowGwfdis(gwf, nlay=nlay, nrow=nrow, ncol=ncol, delr=delr, delc=delc, top=top, botm=botm, idomain=1) \n",
    "# this last one....connects to the *.dat files...I think..."
   ]
  },
  {
   "cell_type": "code",
   "execution_count": 41,
   "id": "469f5cbb",
   "metadata": {},
   "outputs": [
    {
     "data": {
      "text/plain": [
       "xll:554400.0; yll:389200.0; rotation:0.0; crs:EPSG:3070; units:undefined; lenuni:0"
      ]
     },
     "execution_count": 41,
     "metadata": {},
     "output_type": "execute_result"
    }
   ],
   "source": [
    "gwf.modelgrid.set_coord_info(xoff=xoffset, yoff=yoffset, crs=epsg) # locate the model grid\n",
    "gwf.modelgrid"
   ]
  },
  {
   "cell_type": "code",
   "execution_count": null,
   "id": "91b21fa9",
   "metadata": {},
   "outputs": [],
   "source": []
  },
  {
   "cell_type": "code",
   "execution_count": null,
   "id": "08e0b28f",
   "metadata": {},
   "outputs": [],
   "source": []
  },
  {
   "cell_type": "code",
   "execution_count": null,
   "id": "931fc568",
   "metadata": {},
   "outputs": [],
   "source": []
  },
  {
   "cell_type": "markdown",
   "id": "e5e8a241",
   "metadata": {},
   "source": [
    "### Assign aquifer properties\n",
    "Next, we assign aquifer properties. Since this is a steady-state model, we need only include the Node Property Flow (NPF) package, which specifies hydraulic conductivity."
   ]
  },
  {
   "cell_type": "code",
   "execution_count": 42,
   "id": "b6995e4b",
   "metadata": {},
   "outputs": [],
   "source": [
    "npf = mf6.ModflowGwfnpf(gwf, icelltype=1, k=k, k33=k33) # Node Property Flow (NPF) package ... K"
   ]
  },
  {
   "cell_type": "code",
   "execution_count": 43,
   "id": "402a989d",
   "metadata": {},
   "outputs": [
    {
     "name": "stdout",
     "output_type": "stream",
     "text": [
      "writing simulation...\n",
      "  writing simulation name file...\n",
      "  writing simulation tdis package...\n",
      "  writing model pleasant...\n",
      "    writing model name file...\n",
      "    writing package oc...\n",
      "    writing package dis...\n",
      "    writing package npf...\n"
     ]
    }
   ],
   "source": [
    "sim.write_simulation()"
   ]
  },
  {
   "cell_type": "code",
   "execution_count": 44,
   "id": "73e9e8b2",
   "metadata": {},
   "outputs": [
    {
     "name": "stdout",
     "output_type": "stream",
     "text": [
      "  k  LAYERED\n",
      "    OPEN/CLOSE  '../data/k_000.dat'  FACTOR  1.0\n",
      "    OPEN/CLOSE  '../data/k_001.dat'  FACTOR  1.0\n",
      "    OPEN/CLOSE  '../data/k_002.dat'  FACTOR  1.0\n",
      "  k33  LAYERED\n",
      "    OPEN/CLOSE  '../data/k33_000.dat'  FACTOR  1.0\n",
      "    OPEN/CLOSE  '../data/k33_001.dat'  FACTOR  1.0\n",
      "    OPEN/CLOSE  '../data/k33_002.dat'  FACTOR  1.0\n",
      "END griddata\n",
      "\n"
     ]
    }
   ],
   "source": [
    "!tail -n 10 'pleasant.npf'"
   ]
  },
  {
   "cell_type": "markdown",
   "id": "d64899d3",
   "metadata": {},
   "source": [
    "Initial Conditions (IC) Package\n",
    "...early on ...  top elevation to the ``strt`` (starting heads for the model solution)."
   ]
  },
  {
   "cell_type": "code",
   "execution_count": 45,
   "id": "1a6ae50a",
   "metadata": {},
   "outputs": [],
   "source": [
    "ic = mf6.ModflowGwfic(gwf, strt=strt)"
   ]
  },
  {
   "cell_type": "code",
   "execution_count": null,
   "id": "cb6b7073",
   "metadata": {},
   "outputs": [],
   "source": [
    "#sim.write_simulation()\n",
    "#!tail -n 10 'pleasant.ic'"
   ]
  },
  {
   "cell_type": "markdown",
   "id": "6faf787c",
   "metadata": {},
   "source": [
    "Assign boundary conditions ... LoL\n",
    "\n",
    "``packagedata`` Initial stage, number of connections, and \"boundname\" \n",
    " ``perioddata`` Lake water balance "
   ]
  },
  {
   "cell_type": "code",
   "execution_count": null,
   "id": "14e94e72",
   "metadata": {},
   "outputs": [],
   "source": [
    "chd = mf6.ModflowGwfchd(gwf, stress_period_data=spec_head_perimeter)\n",
    "rch = mf6.ModflowGwfrcha(gwf, recharge=recharge, irch=irch)\n",
    "\n",
    "lak = mf6.ModflowGwflak(gwf, boundnames=True, nlakes=1, connectiondata={'filename': 'data/lake_cn.dat'},\n",
    "    packagedata=[[0, 290.85, 345, 'lake1']],\n",
    "    perioddata={0: [[0, 'evaporation', 0.000715], [0, 'rainfall', 0.00209]]},\n",
    "    surfdep=0.1)"
   ]
  },
  {
   "cell_type": "markdown",
   "id": "68ddec9c",
   "metadata": {},
   "source": [
    "### Streamflow Routing Package input\n",
    "The creation of Streamflow Routing (SFR) Package input is handled by SFRmaker (Leaf et al., 2021), which takes a shapefile of hydrography and a digital elevation model raster as input, and adds the package to the Flopy model object."
   ]
  },
  {
   "cell_type": "code",
   "execution_count": null,
   "id": "1f053a1a",
   "metadata": {},
   "outputs": [],
   "source": [
    "lines = sfrmaker.Lines.from_shapefile(\n",
    "    shapefile='data/edited_flowlines.shp',\n",
    "    id_column='id',\n",
    "    routing_column='toid',\n",
    "    width1_column='width1',\n",
    "    width2_column='width2',\n",
    "    name_column='name',\n",
    "    attr_length_units='meters'\n",
    "    )\n",
    "sfrdata = lines.to_sfr(\n",
    "    model=gwf, \n",
    "    model_length_units='meters')\n",
    "sfrdata.set_streambed_top_elevations_from_dem(\n",
    "    'data/dem40m.tif', \n",
    "    elevation_units='meters')\n",
    "sfrdata.assign_layers()\n",
    "sfr = sfrdata.create_mf6sfr(gwf)"
   ]
  },
  {
   "cell_type": "markdown",
   "id": "b4235d53",
   "metadata": {},
   "source": [
    "### Writing the input files\n",
    "Now that all the packages are made, we can write the MODFLOW input files."
   ]
  },
  {
   "cell_type": "code",
   "execution_count": null,
   "id": "03fb00f8",
   "metadata": {},
   "outputs": [],
   "source": [
    "sim.write_simulation()"
   ]
  },
  {
   "cell_type": "markdown",
   "id": "2c13a52e",
   "metadata": {},
   "source": [
    "### Running the model with Flopy\n",
    "MODFLOW can be run at the command line, or through Flopy, as shown here."
   ]
  },
  {
   "cell_type": "code",
   "execution_count": null,
   "id": "fa7b54e4",
   "metadata": {},
   "outputs": [],
   "source": [
    "sim.run_simulation()"
   ]
  },
  {
   "cell_type": "markdown",
   "id": "079cd5a6",
   "metadata": {},
   "source": [
    "### Postprocessing and viewing the results\n",
    "Following execution of the model, we can view the results using the Flopy ``PlotMapView`` object, which can overlay model information together in the coordinate reference system of the model grid. First, use the Flopy ``get_water_table`` utilty to compute a 2D array of the water table elevations from the 3D head solution:"
   ]
  },
  {
   "cell_type": "code",
   "execution_count": null,
   "id": "55ca4fcf",
   "metadata": {},
   "outputs": [],
   "source": [
    "from flopy.utils.postprocessing import get_water_table\n",
    "\n",
    "hds = gwf.output.head().get_data()\n",
    "wt = get_water_table(hds, nodata=-1e30)"
   ]
  },
  {
   "cell_type": "markdown",
   "id": "fc75505e",
   "metadata": {},
   "source": [
    "Then, we read the Lake and SFR budget results into 3D Numpy arrays of the same shape as the model, for easy plotting. Cells that don't have these boundary conditions are masked."
   ]
  },
  {
   "cell_type": "code",
   "execution_count": null,
   "id": "12d6d77d",
   "metadata": {},
   "outputs": [],
   "source": [
    "cbc = gwf.output.budget()\n",
    "lak = cbc.get_data(text='lak', full3D=True)[0]\n",
    "sfr = cbc.get_data(text='sfr', full3D=True)[0]"
   ]
  },
  {
   "cell_type": "markdown",
   "id": "f96ae6bd",
   "metadata": {},
   "source": [
    "Now make the figure using the ``PlotMapView`` object. The budget results show simulated groundwater/surface water interactions at each model cell, in units of cubic meters per day, with negative values indicating groundwater discharge to surface water."
   ]
  },
  {
   "cell_type": "code",
   "execution_count": null,
   "id": "efd1ad1b",
   "metadata": {},
   "outputs": [],
   "source": [
    "fig, ax = plt.subplots(figsize=(6, 6))\n",
    "pmv = flopy.plot.PlotMapView(gwf, ax=ax)\n",
    "ctr = pmv.contour_array(\n",
    "    wt, levels=np.arange(290, 315, 1), \n",
    "    linewidths=1, colors='b')\n",
    "labels = pmv.ax.clabel(\n",
    "    ctr, inline=True, \n",
    "    fontsize=8, inline_spacing=1)\n",
    "vmin, vmax = -100, 100\n",
    "im = pmv.plot_array(\n",
    "    lak[0], cmap='coolwarm', \n",
    "    vmin=vmin, vmax=vmax)\n",
    "im = pmv.plot_array(\n",
    "    sfr.sum(axis=0), cmap='coolwarm', \n",
    "    vmin=vmin, vmax=vmax)\n",
    "cb = fig.colorbar(\n",
    "    im, shrink=0.5, label='Leakage, in m$^3$/day')\n",
    "ax.set_ylabel(\"Northing, WTM meters\")\n",
    "ax.set_xlabel(\"Easting, WTM meters\")\n",
    "ax.set_aspect(1)\n",
    "plt.tight_layout()\n",
    "plt.savefig('results.pdf')"
   ]
  },
  {
   "cell_type": "markdown",
   "id": "4587085b",
   "metadata": {},
   "source": [
    "### References\n",
    "\n",
    "Fienen, M.N., Haserodt, M.J., Leaf, A.T., Westenbroek, S.M., 2022, Simulation of Regional Groundwater Flow and Groundwater/Lake Interactions in the Central Sands, Wisconsin: U.S. Geological Survey Scientific Investigations Report 2022-5046, http://doi.org/10.3133/sir20225046\n",
    "\n",
    "Fienen, M.N., Haserodt, M.J., and Leaf, A.T, 2021, MODFLOW models used to simulate groundwater flow in the Wisconsin Central Sands Study Area, 2012-2018, U.S. Geological Survey Data Release, https://doi.org/10.5066/P9BVFSGJ\n",
    "\n",
    "Leaf, A.T., Fienen, M.N. and Reeves, H.W. (2021), SFRmaker and Linesink-Maker: Rapid Construction of Streamflow Routing Networks from Hydrography Data. Groundwater, 59: 761-771. https://doi.org/10.1111/gwat.13095"
   ]
  },
  {
   "cell_type": "code",
   "execution_count": null,
   "id": "2454ac4c",
   "metadata": {},
   "outputs": [],
   "source": []
  }
 ],
 "metadata": {
  "kernelspec": {
   "display_name": "Python 3 (ipykernel)",
   "language": "python",
   "name": "python3"
  },
  "language_info": {
   "codemirror_mode": {
    "name": "ipython",
    "version": 3
   },
   "file_extension": ".py",
   "mimetype": "text/x-python",
   "name": "python",
   "nbconvert_exporter": "python",
   "pygments_lexer": "ipython3",
   "version": "3.13.1"
  }
 },
 "nbformat": 4,
 "nbformat_minor": 5
}
