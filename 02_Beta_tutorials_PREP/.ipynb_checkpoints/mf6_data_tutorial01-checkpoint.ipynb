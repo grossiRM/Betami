{
 "cells": [
  {
   "cell_type": "markdown",
   "id": "71c09888",
   "metadata": {},
   "source": [
    "# MODFLOW 6: Accessing Simulation Settings, Models, and Packages\n",
    "\n",
    "This tutorial shows how to view, access, and change the underlying package\n",
    "variables for MODFLOW 6 objects in FloPy.  Interaction with a FloPy\n",
    "MODFLOW 6 model is different from other models, such as MODFLOW-2005,\n",
    "MT3D, and SEAWAT, for example.\n",
    "\n",
    "The MODFLOW 6 simulation structure is arranged in the following\n",
    "generalized way:\n",
    "\n",
    ">       SIMULATION --> PACKAGE --> Data\n",
    ">\n",
    ">       SIMULATION --> MODEL --> PACKAGE (--> PACKAGE) --> Data\n",
    "\n",
    "This tutorial focuses on accessing simulation-wide FloPy settings and\n",
    "how to create and access models and packages.  Tutorial 3, 4, and 5 offer a\n",
    "more in depth look at observation, time series, and time array series\n",
    "packages, and tutorial 6, 7, 8, and 9 offer a more in depth look at the data."
   ]
  },
  {
   "cell_type": "markdown",
   "id": "da97f1ae",
   "metadata": {},
   "source": [
    "## Create Simple Demonstration Model\n",
    "\n",
    "This tutorial uses a simple demonstration simulation with one GWF Model.\n",
    "The model has 3 layers, 4 rows, and 5 columns.  The model is set up to\n",
    "use multiple model layers in order to demonstrate some of the layered\n",
    "functionality in FloPy."
   ]
  },
  {
   "cell_type": "code",
   "execution_count": 1,
   "id": "10acff70",
   "metadata": {
    "execution": {
     "iopub.execute_input": "2024-12-12T14:50:32.572103Z",
     "iopub.status.busy": "2024-12-12T14:50:32.571887Z",
     "iopub.status.idle": "2024-12-12T14:50:32.574962Z",
     "shell.execute_reply": "2024-12-12T14:50:32.574542Z"
    }
   },
   "outputs": [],
   "source": [
    "# package import\n",
    "from tempfile import TemporaryDirectory"
   ]
  },
  {
   "cell_type": "code",
   "execution_count": 2,
   "id": "9a1086f7",
   "metadata": {
    "execution": {
     "iopub.execute_input": "2024-12-12T14:50:32.576734Z",
     "iopub.status.busy": "2024-12-12T14:50:32.576223Z",
     "iopub.status.idle": "2024-12-12T14:50:33.317264Z",
     "shell.execute_reply": "2024-12-12T14:50:33.316663Z"
    }
   },
   "outputs": [],
   "source": [
    "import flopy"
   ]
  },
  {
   "cell_type": "code",
   "execution_count": 3,
   "id": "2b010439",
   "metadata": {
    "execution": {
     "iopub.execute_input": "2024-12-12T14:50:33.319575Z",
     "iopub.status.busy": "2024-12-12T14:50:33.319174Z",
     "iopub.status.idle": "2024-12-12T14:50:33.322141Z",
     "shell.execute_reply": "2024-12-12T14:50:33.321649Z"
    }
   },
   "outputs": [],
   "source": [
    "temp_dir = TemporaryDirectory()\n",
    "workspace = temp_dir.name\n",
    "name = \"tutorial01\""
   ]
  },
  {
   "cell_type": "code",
   "execution_count": 4,
   "id": "bec4c27e",
   "metadata": {
    "execution": {
     "iopub.execute_input": "2024-12-12T14:50:33.323570Z",
     "iopub.status.busy": "2024-12-12T14:50:33.323411Z",
     "iopub.status.idle": "2024-12-12T14:50:33.449934Z",
     "shell.execute_reply": "2024-12-12T14:50:33.449345Z"
    }
   },
   "outputs": [
    {
     "name": "stdout",
     "output_type": "stream",
     "text": [
      "Done creating simulation.\n"
     ]
    }
   ],
   "source": [
    "# set up simulation and basic packages\n",
    "sim = flopy.mf6.MFSimulation(sim_name=name, sim_ws=workspace)\n",
    "flopy.mf6.ModflowTdis(sim, nper=10, perioddata=[[365.0, 1, 1.0] for _ in range(10)])\n",
    "flopy.mf6.ModflowIms(sim)\n",
    "gwf = flopy.mf6.ModflowGwf(sim, modelname=name, save_flows=True)\n",
    "botm = [30.0, 20.0, 10.0]\n",
    "flopy.mf6.ModflowGwfdis(gwf, nlay=3, nrow=4, ncol=5, top=50.0, botm=botm)\n",
    "flopy.mf6.ModflowGwfic(gwf)\n",
    "flopy.mf6.ModflowGwfnpf(gwf, save_specific_discharge=True)\n",
    "flopy.mf6.ModflowGwfchd(gwf, stress_period_data=[[(0, 0, 0), 1.0], [(2, 3, 4), 0.0]])\n",
    "budget_file = f\"{name}.bud\"\n",
    "head_file = f\"{name}.hds\"\n",
    "flopy.mf6.ModflowGwfoc(\n",
    "    gwf,\n",
    "    budget_filerecord=budget_file,\n",
    "    head_filerecord=head_file,\n",
    "    saverecord=[(\"HEAD\", \"ALL\"), (\"BUDGET\", \"ALL\")],\n",
    ")\n",
    "print(\"Done creating simulation.\")"
   ]
  },
  {
   "cell_type": "markdown",
   "id": "2acf97e1",
   "metadata": {},
   "source": [
    "## Accessing Simulation-Level Settings\n",
    "\n",
    "FloPy has a number of settings that can be set for the entire simulation.\n",
    "These include how much information FloPy writes to the console, how to\n",
    "format the MODFLOW package files, and whether to verify MODFLOW data."
   ]
  },
  {
   "cell_type": "markdown",
   "id": "67853313",
   "metadata": {},
   "source": [
    "The verbosity level, which determines how much FloPy writes to command line\n",
    "output.  The options are 1 for quiet, 2 for normal, and 3 for verbose.\n",
    "Below we set the verbosity level to verbose."
   ]
  },
  {
   "cell_type": "code",
   "execution_count": 5,
   "id": "94d4f33d",
   "metadata": {
    "execution": {
     "iopub.execute_input": "2024-12-12T14:50:33.451952Z",
     "iopub.status.busy": "2024-12-12T14:50:33.451560Z",
     "iopub.status.idle": "2024-12-12T14:50:33.454347Z",
     "shell.execute_reply": "2024-12-12T14:50:33.453861Z"
    }
   },
   "outputs": [],
   "source": [
    "sim.simulation_data.verbosity_level = 3"
   ]
  },
  {
   "cell_type": "markdown",
   "id": "d29149b1",
   "metadata": {},
   "source": [
    "We can also set the number of spaces to indent data when writing package\n",
    "files by setting the indent string."
   ]
  },
  {
   "cell_type": "code",
   "execution_count": 6,
   "id": "6116bf56",
   "metadata": {
    "execution": {
     "iopub.execute_input": "2024-12-12T14:50:33.456089Z",
     "iopub.status.busy": "2024-12-12T14:50:33.455731Z",
     "iopub.status.idle": "2024-12-12T14:50:33.458309Z",
     "shell.execute_reply": "2024-12-12T14:50:33.457900Z"
    }
   },
   "outputs": [],
   "source": [
    "sim.simulation_data.indent_string = \"    \""
   ]
  },
  {
   "cell_type": "markdown",
   "id": "6284cc75",
   "metadata": {},
   "source": [
    "Next we set the precision and number of characters written for floating\n",
    "point variables."
   ]
  },
  {
   "cell_type": "code",
   "execution_count": 7,
   "id": "bae70a13",
   "metadata": {
    "execution": {
     "iopub.execute_input": "2024-12-12T14:50:33.459943Z",
     "iopub.status.busy": "2024-12-12T14:50:33.459603Z",
     "iopub.status.idle": "2024-12-12T14:50:33.462153Z",
     "shell.execute_reply": "2024-12-12T14:50:33.461725Z"
    }
   },
   "outputs": [],
   "source": [
    "sim.float_precision = 8\n",
    "sim.float_characters = 15"
   ]
  },
  {
   "cell_type": "markdown",
   "id": "0c30c5c0",
   "metadata": {},
   "source": [
    "Lastly, we disable verify_data and auto_set_sizes for faster performance.\n",
    "With these options disabled FloPy will not do any checking or autocorrecting\n",
    "of your data."
   ]
  },
  {
   "cell_type": "code",
   "execution_count": 8,
   "id": "32b57d02",
   "metadata": {
    "execution": {
     "iopub.execute_input": "2024-12-12T14:50:33.463710Z",
     "iopub.status.busy": "2024-12-12T14:50:33.463377Z",
     "iopub.status.idle": "2024-12-12T14:50:33.465884Z",
     "shell.execute_reply": "2024-12-12T14:50:33.465431Z"
    }
   },
   "outputs": [],
   "source": [
    "sim.verify_data = False\n",
    "sim.auto_set_sizes = False"
   ]
  },
  {
   "cell_type": "markdown",
   "id": "3084a1b5",
   "metadata": {},
   "source": [
    "## Accessing Models and Packages\n",
    "\n",
    "At this point a simulation is available in memory.  In this particular case\n",
    "the simulation was created directly using Python code; however, the\n",
    "simulation might also have been loaded from existing model files using\n",
    "the `FloPy.mf6.MFSimulation.load()` function."
   ]
  },
  {
   "cell_type": "markdown",
   "id": "f83d52a1",
   "metadata": {},
   "source": [
    "Once a MODFLOW 6 simulation is available in memory, the contents of the\n",
    "simulation object can be listed using a simple print command."
   ]
  },
  {
   "cell_type": "code",
   "execution_count": 9,
   "id": "832406ef",
   "metadata": {
    "execution": {
     "iopub.execute_input": "2024-12-12T14:50:33.467505Z",
     "iopub.status.busy": "2024-12-12T14:50:33.467162Z",
     "iopub.status.idle": "2024-12-12T14:50:33.470290Z",
     "shell.execute_reply": "2024-12-12T14:50:33.469851Z"
    }
   },
   "outputs": [
    {
     "name": "stdout",
     "output_type": "stream",
     "text": [
      "sim_name = tutorial01\n",
      "sim_path = /tmp/tmpdjay2mmu\n",
      "exe_name = mf6\n",
      "\n",
      "###################\n",
      "Package mfsim.nam\n",
      "###################\n",
      "\n",
      "package_name = mfsim.nam\n",
      "filename = mfsim.nam\n",
      "package_type = nam\n",
      "model_or_simulation_package = simulation\n",
      "simulation_name = tutorial01\n",
      "\n",
      "\n",
      "###################\n",
      "Package tutorial01.tdis\n",
      "###################\n",
      "\n",
      "package_name = tutorial01.tdis\n",
      "filename = tutorial01.tdis\n",
      "package_type = tdis\n",
      "model_or_simulation_package = simulation\n",
      "simulation_name = tutorial01\n",
      "\n",
      "\n",
      "###################\n",
      "Package ims_-1\n",
      "###################\n",
      "\n",
      "package_name = ims_-1\n",
      "filename = tutorial01.ims\n",
      "package_type = ims\n",
      "model_or_simulation_package = simulation\n",
      "simulation_name = tutorial01\n",
      "\n",
      "\n",
      "@@@@@@@@@@@@@@@@@@@@\n",
      "Model tutorial01\n",
      "@@@@@@@@@@@@@@@@@@@@\n",
      "\n",
      "name = tutorial01\n",
      "model_type = gwf6\n",
      "version = mf6\n",
      "model_relative_path = .\n",
      "\n",
      "###################\n",
      "Package dis\n",
      "###################\n",
      "\n",
      "package_name = dis\n",
      "filename = tutorial01.dis\n",
      "package_type = dis\n",
      "model_or_simulation_package = model\n",
      "model_name = tutorial01\n",
      "\n",
      "\n",
      "###################\n",
      "Package ic\n",
      "###################\n",
      "\n",
      "package_name = ic\n",
      "filename = tutorial01.ic\n",
      "package_type = ic\n",
      "model_or_simulation_package = model\n",
      "model_name = tutorial01\n",
      "\n",
      "\n",
      "###################\n",
      "Package npf\n",
      "###################\n",
      "\n",
      "package_name = npf\n",
      "filename = tutorial01.npf\n",
      "package_type = npf\n",
      "model_or_simulation_package = model\n",
      "model_name = tutorial01\n",
      "\n",
      "\n",
      "###################\n",
      "Package chd_0\n",
      "###################\n",
      "\n",
      "package_name = chd_0\n",
      "filename = tutorial01.chd\n",
      "package_type = chd\n",
      "model_or_simulation_package = model\n",
      "model_name = tutorial01\n",
      "\n",
      "\n",
      "###################\n",
      "Package oc\n",
      "###################\n",
      "\n",
      "package_name = oc\n",
      "filename = tutorial01.oc\n",
      "package_type = oc\n",
      "model_or_simulation_package = model\n",
      "model_name = tutorial01\n",
      "\n",
      "\n",
      "\n",
      "\n"
     ]
    }
   ],
   "source": [
    "print(sim)"
   ]
  },
  {
   "cell_type": "markdown",
   "id": "01c14ed4",
   "metadata": {},
   "source": [
    "Simulation-level packages, models, and model packages can be shown by\n",
    "printing the simulation object.  In this case, you should see the\n",
    "all of the contents of simulation and some information about each FloPy\n",
    "object that is part of simulation."
   ]
  },
  {
   "cell_type": "markdown",
   "id": "85aaf1ef",
   "metadata": {},
   "source": [
    "To get the `TDIS` package and print the contents, we can do the following"
   ]
  },
  {
   "cell_type": "code",
   "execution_count": 10,
   "id": "99460d3d",
   "metadata": {
    "execution": {
     "iopub.execute_input": "2024-12-12T14:50:33.471902Z",
     "iopub.status.busy": "2024-12-12T14:50:33.471569Z",
     "iopub.status.idle": "2024-12-12T14:50:33.476189Z",
     "shell.execute_reply": "2024-12-12T14:50:33.475750Z"
    }
   },
   "outputs": [
    {
     "name": "stdout",
     "output_type": "stream",
     "text": [
      "package_name = tutorial01.tdis\n",
      "filename = tutorial01.tdis\n",
      "package_type = tdis\n",
      "model_or_simulation_package = simulation\n",
      "simulation_name = tutorial01\n",
      "\n",
      "Block dimensions\n",
      "--------------------\n",
      "nper\n",
      "{internal}\n",
      "(10)\n",
      "\n",
      "\n",
      "Block perioddata\n",
      "--------------------\n",
      "perioddata\n",
      "{internal}\n",
      "([(365., 1, 1.) (365., 1, 1.) (365., 1, 1.) (365., 1, 1.) (365., 1, 1.)\n",
      " (365., 1, 1.) (365., 1, 1.) (365., 1, 1.) (365., 1, 1.) (365., 1, 1.)])\n",
      "\n",
      "\n",
      "\n"
     ]
    }
   ],
   "source": [
    "tdis = sim.tdis\n",
    "print(tdis)"
   ]
  },
  {
   "cell_type": "markdown",
   "id": "a0e0e8b2",
   "metadata": {},
   "source": [
    "To get the Iterative Model Solution (`IMS`) object, we use the following\n",
    "syntax"
   ]
  },
  {
   "cell_type": "code",
   "execution_count": 11,
   "id": "325a055a",
   "metadata": {
    "execution": {
     "iopub.execute_input": "2024-12-12T14:50:33.477634Z",
     "iopub.status.busy": "2024-12-12T14:50:33.477449Z",
     "iopub.status.idle": "2024-12-12T14:50:33.480340Z",
     "shell.execute_reply": "2024-12-12T14:50:33.479875Z"
    }
   },
   "outputs": [
    {
     "name": "stdout",
     "output_type": "stream",
     "text": [
      "package_name = ims_-1\n",
      "filename = tutorial01.ims\n",
      "package_type = ims\n",
      "model_or_simulation_package = simulation\n",
      "simulation_name = tutorial01\n",
      "\n",
      "\n"
     ]
    }
   ],
   "source": [
    "ims = sim.get_package(\"ims_-1\")\n",
    "print(ims)"
   ]
  },
  {
   "cell_type": "markdown",
   "id": "975b9926",
   "metadata": {},
   "source": [
    "Or because there is only one `IMS` object for this simulation, we can\n",
    "access it as"
   ]
  },
  {
   "cell_type": "code",
   "execution_count": 12,
   "id": "f3a1edc1",
   "metadata": {
    "execution": {
     "iopub.execute_input": "2024-12-12T14:50:33.482192Z",
     "iopub.status.busy": "2024-12-12T14:50:33.481698Z",
     "iopub.status.idle": "2024-12-12T14:50:33.484775Z",
     "shell.execute_reply": "2024-12-12T14:50:33.484319Z"
    }
   },
   "outputs": [
    {
     "name": "stdout",
     "output_type": "stream",
     "text": [
      "package_name = ims_-1\n",
      "filename = tutorial01.ims\n",
      "package_type = ims\n",
      "model_or_simulation_package = simulation\n",
      "simulation_name = tutorial01\n",
      "\n",
      "\n"
     ]
    }
   ],
   "source": [
    "ims = sim.get_package(\"ims\")\n",
    "print(ims)"
   ]
  },
  {
   "cell_type": "markdown",
   "id": "0c82ed8f",
   "metadata": {},
   "source": [
    "When printing the sim object, there is also a simulation package called\n",
    "nam.  This package contains the information that is written to the\n",
    "`mfsim.nam` file, which is the primary file that MODFLOW 6 reads when it\n",
    "first starts.  The nam package is automatically updated for you by FloPy and\n",
    "does not require modification."
   ]
  },
  {
   "cell_type": "code",
   "execution_count": 13,
   "id": "66e8a005",
   "metadata": {
    "execution": {
     "iopub.execute_input": "2024-12-12T14:50:33.486296Z",
     "iopub.status.busy": "2024-12-12T14:50:33.486139Z",
     "iopub.status.idle": "2024-12-12T14:50:33.489589Z",
     "shell.execute_reply": "2024-12-12T14:50:33.489124Z"
    }
   },
   "outputs": [
    {
     "name": "stdout",
     "output_type": "stream",
     "text": [
      "package_name = mfsim.nam\n",
      "filename = mfsim.nam\n",
      "package_type = nam\n",
      "model_or_simulation_package = simulation\n",
      "simulation_name = tutorial01\n",
      "\n",
      "Block timing\n",
      "--------------------\n",
      "tdis6\n",
      "{internal}\n",
      "(tutorial01.tdis)\n",
      "\n",
      "\n",
      "Block models\n",
      "--------------------\n",
      "models\n",
      "{internal}\n",
      "([('gwf6', 'tutorial01.nam', 'tutorial01')])\n",
      "\n",
      "\n",
      "Block solutiongroup\n",
      "--------------------\n",
      "solutiongroup\n",
      "{internal}\n",
      "([('ims6', 'tutorial01.ims', 'tutorial01')])\n",
      "\n",
      "\n",
      "\n"
     ]
    }
   ],
   "source": [
    "nam = sim.get_package(\"nam\")\n",
    "print(nam)"
   ]
  },
  {
   "cell_type": "markdown",
   "id": "ae5f131f",
   "metadata": {},
   "source": [
    "To see the models that are contained within the simulation, we can get a\n",
    "list of their names as follows"
   ]
  },
  {
   "cell_type": "code",
   "execution_count": 14,
   "id": "4fa0bcc1",
   "metadata": {
    "execution": {
     "iopub.execute_input": "2024-12-12T14:50:33.491176Z",
     "iopub.status.busy": "2024-12-12T14:50:33.490831Z",
     "iopub.status.idle": "2024-12-12T14:50:33.493843Z",
     "shell.execute_reply": "2024-12-12T14:50:33.493386Z"
    }
   },
   "outputs": [
    {
     "name": "stdout",
     "output_type": "stream",
     "text": [
      "['tutorial01']\n"
     ]
    }
   ],
   "source": [
    "print(sim.model_names)"
   ]
  },
  {
   "cell_type": "markdown",
   "id": "1085ccd2",
   "metadata": {},
   "source": [
    "`sim.model_names` returns the keys of an ordered dictionary, which isn't very\n",
    "useful to us, but we can convert that to a list and then go through that\n",
    "list and print information about each model in the simulation.  In this\n",
    "case there is only one model, but had there been more models, we would\n",
    "see them listed here"
   ]
  },
  {
   "cell_type": "code",
   "execution_count": 15,
   "id": "f662712c",
   "metadata": {
    "execution": {
     "iopub.execute_input": "2024-12-12T14:50:33.495288Z",
     "iopub.status.busy": "2024-12-12T14:50:33.495128Z",
     "iopub.status.idle": "2024-12-12T14:50:33.497731Z",
     "shell.execute_reply": "2024-12-12T14:50:33.497266Z"
    }
   },
   "outputs": [
    {
     "name": "stdout",
     "output_type": "stream",
     "text": [
      "tutorial01\n"
     ]
    }
   ],
   "source": [
    "model_names = list(sim.model_names)\n",
    "for mname in model_names:\n",
    "    print(mname)"
   ]
  },
  {
   "cell_type": "markdown",
   "id": "59090608",
   "metadata": {},
   "source": [
    "If we want to get a model from a simulation, then we use the `get_model()`\n",
    "method of the sim object.  Here we go through all the models in the\n",
    "simulation and print the model name and the model type."
   ]
  },
  {
   "cell_type": "code",
   "execution_count": 16,
   "id": "f7a55252",
   "metadata": {
    "execution": {
     "iopub.execute_input": "2024-12-12T14:50:33.499110Z",
     "iopub.status.busy": "2024-12-12T14:50:33.498957Z",
     "iopub.status.idle": "2024-12-12T14:50:33.501928Z",
     "shell.execute_reply": "2024-12-12T14:50:33.501450Z"
    }
   },
   "outputs": [
    {
     "name": "stdout",
     "output_type": "stream",
     "text": [
      "tutorial01 gwf6\n"
     ]
    }
   ],
   "source": [
    "model_names = list(sim.model_names)\n",
    "for mname in model_names:\n",
    "    m = sim.get_model(mname)\n",
    "    print(m.name, m.model_type)"
   ]
  },
  {
   "cell_type": "markdown",
   "id": "6c283064",
   "metadata": {},
   "source": [
    "For this simple case here with only one `GWF` model, we can very easily get\n",
    "the FloPy representation of the `GWF` model as"
   ]
  },
  {
   "cell_type": "code",
   "execution_count": 17,
   "id": "e5fc92af",
   "metadata": {
    "execution": {
     "iopub.execute_input": "2024-12-12T14:50:33.503372Z",
     "iopub.status.busy": "2024-12-12T14:50:33.503217Z",
     "iopub.status.idle": "2024-12-12T14:50:33.505544Z",
     "shell.execute_reply": "2024-12-12T14:50:33.505132Z"
    }
   },
   "outputs": [],
   "source": [
    "gwf = sim.get_model(name)"
   ]
  },
  {
   "cell_type": "markdown",
   "id": "739b62b2",
   "metadata": {},
   "source": [
    "Now that we have the `GWF` object, we can print it, and see what's it\n",
    "contains."
   ]
  },
  {
   "cell_type": "code",
   "execution_count": 18,
   "id": "74e38df1",
   "metadata": {
    "execution": {
     "iopub.execute_input": "2024-12-12T14:50:33.507198Z",
     "iopub.status.busy": "2024-12-12T14:50:33.506857Z",
     "iopub.status.idle": "2024-12-12T14:50:33.509831Z",
     "shell.execute_reply": "2024-12-12T14:50:33.509375Z"
    }
   },
   "outputs": [
    {
     "name": "stdout",
     "output_type": "stream",
     "text": [
      "name = tutorial01\n",
      "model_type = gwf6\n",
      "version = mf6\n",
      "model_relative_path = .\n",
      "\n",
      "###################\n",
      "Package dis\n",
      "###################\n",
      "\n",
      "package_name = dis\n",
      "filename = tutorial01.dis\n",
      "package_type = dis\n",
      "model_or_simulation_package = model\n",
      "model_name = tutorial01\n",
      "\n",
      "\n",
      "###################\n",
      "Package ic\n",
      "###################\n",
      "\n",
      "package_name = ic\n",
      "filename = tutorial01.ic\n",
      "package_type = ic\n",
      "model_or_simulation_package = model\n",
      "model_name = tutorial01\n",
      "\n",
      "\n",
      "###################\n",
      "Package npf\n",
      "###################\n",
      "\n",
      "package_name = npf\n",
      "filename = tutorial01.npf\n",
      "package_type = npf\n",
      "model_or_simulation_package = model\n",
      "model_name = tutorial01\n",
      "\n",
      "\n",
      "###################\n",
      "Package chd_0\n",
      "###################\n",
      "\n",
      "package_name = chd_0\n",
      "filename = tutorial01.chd\n",
      "package_type = chd\n",
      "model_or_simulation_package = model\n",
      "model_name = tutorial01\n",
      "\n",
      "\n",
      "###################\n",
      "Package oc\n",
      "###################\n",
      "\n",
      "package_name = oc\n",
      "filename = tutorial01.oc\n",
      "package_type = oc\n",
      "model_or_simulation_package = model\n",
      "model_name = tutorial01\n",
      "\n",
      "\n",
      "\n"
     ]
    }
   ],
   "source": [
    "print(gwf)"
   ]
  },
  {
   "cell_type": "markdown",
   "id": "e5093d86",
   "metadata": {},
   "source": [
    "What we see here is the information that we saw when we printed the sim\n",
    "object."
   ]
  },
  {
   "cell_type": "markdown",
   "id": "c4a280b6",
   "metadata": {},
   "source": [
    "One of the most common operations on a model is to see what packages are in\n",
    "it and then get packages of interest.  A list of packages in a model can\n",
    "obtained as"
   ]
  },
  {
   "cell_type": "code",
   "execution_count": 19,
   "id": "28095b6c",
   "metadata": {
    "execution": {
     "iopub.execute_input": "2024-12-12T14:50:33.511458Z",
     "iopub.status.busy": "2024-12-12T14:50:33.511120Z",
     "iopub.status.idle": "2024-12-12T14:50:33.513988Z",
     "shell.execute_reply": "2024-12-12T14:50:33.513580Z"
    }
   },
   "outputs": [
    {
     "name": "stdout",
     "output_type": "stream",
     "text": [
      "['DIS', 'IC', 'NPF', 'CHD_0', 'OC']\n"
     ]
    }
   ],
   "source": [
    "package_list = gwf.get_package_list()\n",
    "print(package_list)"
   ]
  },
  {
   "cell_type": "markdown",
   "id": "095bb6ca",
   "metadata": {},
   "source": [
    "As you might expect we can access each package in this list with\n",
    "gwf.get_package().  Thus, the following syntax can be used to obtain and\n",
    "print the contents of the `DIS` Package"
   ]
  },
  {
   "cell_type": "code",
   "execution_count": 20,
   "id": "e935cd4a",
   "metadata": {
    "execution": {
     "iopub.execute_input": "2024-12-12T14:50:33.515446Z",
     "iopub.status.busy": "2024-12-12T14:50:33.515290Z",
     "iopub.status.idle": "2024-12-12T14:50:33.518311Z",
     "shell.execute_reply": "2024-12-12T14:50:33.517862Z"
    }
   },
   "outputs": [
    {
     "name": "stdout",
     "output_type": "stream",
     "text": [
      "package_name = dis\n",
      "filename = tutorial01.dis\n",
      "package_type = dis\n",
      "model_or_simulation_package = model\n",
      "model_name = tutorial01\n",
      "\n",
      "Block dimensions\n",
      "--------------------\n",
      "nlay\n",
      "{internal}\n",
      "(3)\n",
      "\n",
      "nrow\n",
      "{internal}\n",
      "(4)\n",
      "\n",
      "ncol\n",
      "{internal}\n",
      "(5)\n",
      "\n",
      "\n",
      "Block griddata\n",
      "--------------------\n",
      "delr\n",
      "{constant 1.0}\n",
      "\n",
      "delc\n",
      "{constant 1.0}\n",
      "\n",
      "top\n",
      "{constant 50.0}\n",
      "\n",
      "botm\n",
      "Layer_1{constant 30.0}\n",
      "Layer_2{constant 20.0}\n",
      "Layer_3{constant 10.0}\n",
      "\n",
      "\n",
      "\n"
     ]
    }
   ],
   "source": [
    "dis = gwf.get_package(\"dis\")\n",
    "print(dis)"
   ]
  },
  {
   "cell_type": "markdown",
   "id": "13801029",
   "metadata": {},
   "source": [
    "The Python type for this dis package is simply"
   ]
  },
  {
   "cell_type": "code",
   "execution_count": 21,
   "id": "b8a3ef68",
   "metadata": {
    "execution": {
     "iopub.execute_input": "2024-12-12T14:50:33.519794Z",
     "iopub.status.busy": "2024-12-12T14:50:33.519644Z",
     "iopub.status.idle": "2024-12-12T14:50:33.522422Z",
     "shell.execute_reply": "2024-12-12T14:50:33.521943Z"
    }
   },
   "outputs": [
    {
     "name": "stdout",
     "output_type": "stream",
     "text": [
      "<class 'flopy.mf6.modflow.mfgwfdis.ModflowGwfdis'>\n"
     ]
    }
   ],
   "source": [
    "print(type(dis))"
   ]
  },
  {
   "cell_type": "code",
   "execution_count": 22,
   "id": "d94e20a6",
   "metadata": {
    "execution": {
     "iopub.execute_input": "2024-12-12T14:50:33.523829Z",
     "iopub.status.busy": "2024-12-12T14:50:33.523678Z",
     "iopub.status.idle": "2024-12-12T14:50:33.526360Z",
     "shell.execute_reply": "2024-12-12T14:50:33.525938Z"
    }
   },
   "outputs": [],
   "source": [
    "try:\n",
    "    temp_dir.cleanup()\n",
    "except PermissionError:\n",
    "    # can occur on windows: https://docs.python.org/3/library/tempfile.html#tempfile.TemporaryDirectory\n",
    "    pass"
   ]
  }
 ],
 "metadata": {
  "jupytext": {
   "notebook_metadata_filter": "metadata"
  },
  "kernelspec": {
   "display_name": "Python 3",
   "language": "python",
   "name": "python3"
  },
  "language_info": {
   "codemirror_mode": {
    "name": "ipython",
    "version": 3
   },
   "file_extension": ".py",
   "mimetype": "text/x-python",
   "name": "python",
   "nbconvert_exporter": "python",
   "pygments_lexer": "ipython3",
   "version": "3.12.7"
  },
  "metadata": {
   "section": "mf6"
  }
 },
 "nbformat": 4,
 "nbformat_minor": 5
}
