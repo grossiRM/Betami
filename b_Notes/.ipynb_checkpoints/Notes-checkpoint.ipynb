{
 "cells": [
  {
   "cell_type": "markdown",
   "id": "48648e34-0fc5-4a76-a64a-01dc94b62528",
   "metadata": {},
   "source": [
    "## Viewing data in pandas\n",
    "\n",
    "Pandas has built in methods to inspect `DataFrame` objects. We'll look at a few handy methods:\n",
    "\n",
    "   - `.head()`: inspect the first few rows of data\n",
    "   - `.tail()`: inspect the last few rows of data\n",
    "   - `.index()`: show the row indexes\n",
    "   - `.columns()`: show the column names\n",
    "   - `.describe()`: statistically describe the dat"
   ]
  },
  {
   "cell_type": "code",
   "execution_count": 1,
   "id": "7f7bf12e-bc54-4db5-8d4a-0f06d103d7bd",
   "metadata": {},
   "outputs": [],
   "source": [
    "from tempfile import TemporaryDirectory"
   ]
  },
  {
   "cell_type": "code",
   "execution_count": 2,
   "id": "c76ef8ac-8246-45fc-84b6-562fde92e893",
   "metadata": {},
   "outputs": [],
   "source": [
    "import matplotlib.pyplot as plt"
   ]
  },
  {
   "cell_type": "code",
   "execution_count": null,
   "id": "a31ccd92-f80c-4fb2-8664-896706015a8d",
   "metadata": {},
   "outputs": [],
   "source": [
    "sim = flopy.mf6.MFSimulation.load(sim_ws=sim_ws, verbosity_level=0)\n",
    "gwf = sim.get_model()\n",
    "pyemu.os_utils.run(\"mf6\",cwd=sim_ws)"
   ]
  },
  {
   "cell_type": "code",
   "execution_count": null,
   "id": "b4189d38-fbba-499b-8985-ab7bd60a4884",
   "metadata": {},
   "outputs": [],
   "source": [
    "# LOAD ... from Folders\n",
    "org_ws = os.path.join('..', '..', 'models', 'monthly_model_files_1lyr_newstress')\n",
    "sim_ws = os.path.join('freyberg_mf6')"
   ]
  },
  {
   "cell_type": "code",
   "execution_count": null,
   "id": "475ac374-7eac-4d59-8eb9-c2eae021a31e",
   "metadata": {},
   "outputs": [],
   "source": []
  }
 ],
 "metadata": {
  "kernelspec": {
   "display_name": "Python 3 (ipykernel)",
   "language": "python",
   "name": "python3"
  },
  "language_info": {
   "codemirror_mode": {
    "name": "ipython",
    "version": 3
   },
   "file_extension": ".py",
   "mimetype": "text/x-python",
   "name": "python",
   "nbconvert_exporter": "python",
   "pygments_lexer": "ipython3",
   "version": "3.13.1"
  }
 },
 "nbformat": 4,
 "nbformat_minor": 5
}
