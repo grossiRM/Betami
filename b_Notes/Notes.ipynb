{
 "cells": [
  {
   "cell_type": "markdown",
   "id": "48648e34-0fc5-4a76-a64a-01dc94b62528",
   "metadata": {},
   "source": [
    "## Viewing data in pandas\n",
    "\n",
    "Pandas has built in methods to inspect `DataFrame` objects. We'll look at a few handy methods:\n",
    "\n",
    "   - `.head()`: inspect the first few rows of data\n",
    "   - `.tail()`: inspect the last few rows of data\n",
    "   - `.index()`: show the row indexes\n",
    "   - `.columns()`: show the column names\n",
    "   - `.describe()`: statistically describe the dat"
   ]
  },
  {
   "cell_type": "code",
   "execution_count": 1,
   "id": "7f7bf12e-bc54-4db5-8d4a-0f06d103d7bd",
   "metadata": {},
   "outputs": [],
   "source": [
    "from tempfile import TemporaryDirectory"
   ]
  },
  {
   "cell_type": "code",
   "execution_count": 2,
   "id": "c76ef8ac-8246-45fc-84b6-562fde92e893",
   "metadata": {},
   "outputs": [],
   "source": [
    "import matplotlib.pyplot as plt"
   ]
  },
  {
   "cell_type": "code",
   "execution_count": null,
   "id": "a31ccd92-f80c-4fb2-8664-896706015a8d",
   "metadata": {},
   "outputs": [],
   "source": [
    "sim = flopy.mf6.MFSimulation.load(sim_ws=sim_ws, verbosity_level=0)\n",
    "gwf = sim.get_model()\n",
    "pyemu.os_utils.run(\"mf6\",cwd=sim_ws)"
   ]
  },
  {
   "cell_type": "code",
   "execution_count": null,
   "id": "b4189d38-fbba-499b-8985-ab7bd60a4884",
   "metadata": {},
   "outputs": [],
   "source": [
    "# LOAD ... from Folders\n",
    "org_ws = os.path.join('..', '..', 'models', 'monthly_model_files_1lyr_newstress')\n",
    "sim_ws = os.path.join('freyberg_mf6')"
   ]
  },
  {
   "cell_type": "code",
   "execution_count": 1,
   "id": "475ac374-7eac-4d59-8eb9-c2eae021a31e",
   "metadata": {},
   "outputs": [],
   "source": [
    "import sys"
   ]
  },
  {
   "cell_type": "code",
   "execution_count": 2,
   "id": "e61bcb38",
   "metadata": {},
   "outputs": [
    {
     "name": "stdout",
     "output_type": "stream",
     "text": [
      "C:\\Users\\gross.DESKTOP-AIRQM2M\\anaconda3\\envs\\flopy\n"
     ]
    }
   ],
   "source": [
    "print(sys.prefix)"
   ]
  },
  {
   "cell_type": "code",
   "execution_count": 4,
   "id": "700516f9",
   "metadata": {},
   "outputs": [
    {
     "data": {
      "text/plain": [
       "'win32'"
      ]
     },
     "execution_count": 4,
     "metadata": {},
     "output_type": "execute_result"
    }
   ],
   "source": [
    "sys.platform"
   ]
  },
  {
   "cell_type": "code",
   "execution_count": 5,
   "id": "8671a6a7",
   "metadata": {},
   "outputs": [
    {
     "name": "stdout",
     "output_type": "stream",
     "text": [
      "-f\n",
      "C:\\Users\\gross.DESKTOP-AIRQM2M\\AppData\\Roaming\\jupyter\\runtime\\kernel-53ce5526-5288-48cf-a193-75e8c65d3ca0.json\n"
     ]
    }
   ],
   "source": [
    "import sys\n",
    "\n",
    "if len(sys.argv) > 1:\n",
    "    for argument in sys.argv[1:]:\n",
    "        print(argument)\n",
    "else:\n",
    "    print(\"usage is: python <script name>.py argument\")\n",
    "    quit()"
   ]
  },
  {
   "cell_type": "code",
   "execution_count": 6,
   "id": "7037d05a",
   "metadata": {},
   "outputs": [
    {
     "name": "stdout",
     "output_type": "stream",
     "text": [
      "C:\\Users\\gross.DESKTOP-AIRQM2M\\anaconda3\\envs\\flopy\\python313.zip\n",
      "C:\\Users\\gross.DESKTOP-AIRQM2M\\anaconda3\\envs\\flopy\\DLLs\n",
      "C:\\Users\\gross.DESKTOP-AIRQM2M\\anaconda3\\envs\\flopy\\Lib\n",
      "C:\\Users\\gross.DESKTOP-AIRQM2M\\anaconda3\\envs\\flopy\n",
      "\n",
      "C:\\Users\\gross.DESKTOP-AIRQM2M\\anaconda3\\envs\\flopy\\Lib\\site-packages\n",
      "C:\\Users\\gross.DESKTOP-AIRQM2M\\anaconda3\\envs\\flopy\\Lib\\site-packages\\win32\n",
      "C:\\Users\\gross.DESKTOP-AIRQM2M\\anaconda3\\envs\\flopy\\Lib\\site-packages\\win32\\lib\n",
      "C:\\Users\\gross.DESKTOP-AIRQM2M\\anaconda3\\envs\\flopy\\Lib\\site-packages\\Pythonwin\n"
     ]
    }
   ],
   "source": [
    "for pth in sys.path:\n",
    "    print(pth)"
   ]
  },
  {
   "cell_type": "code",
   "execution_count": 20,
   "id": "7be7ba13",
   "metadata": {},
   "outputs": [
    {
     "name": "stdout",
     "output_type": "stream",
     "text": [
      "['C:\\\\Users\\\\gross.DESKTOP-AIRQM2M\\\\anaconda3\\\\envs\\\\flopy\\\\python313.zip', 'C:\\\\Users\\\\gross.DESKTOP-AIRQM2M\\\\anaconda3\\\\envs\\\\flopy\\\\DLLs', 'C:\\\\Users\\\\gross.DESKTOP-AIRQM2M\\\\anaconda3\\\\envs\\\\flopy\\\\Lib', 'C:\\\\Users\\\\gross.DESKTOP-AIRQM2M\\\\anaconda3\\\\envs\\\\flopy', '', 'C:\\\\Users\\\\gross.DESKTOP-AIRQM2M\\\\anaconda3\\\\envs\\\\flopy\\\\Lib\\\\site-packages', 'C:\\\\Users\\\\gross.DESKTOP-AIRQM2M\\\\anaconda3\\\\envs\\\\flopy\\\\Lib\\\\site-packages\\\\win32', 'C:\\\\Users\\\\gross.DESKTOP-AIRQM2M\\\\anaconda3\\\\envs\\\\flopy\\\\Lib\\\\site-packages\\\\win32\\\\lib', 'C:\\\\Users\\\\gross.DESKTOP-AIRQM2M\\\\anaconda3\\\\envs\\\\flopy\\\\Lib\\\\site-packages\\\\Pythonwin']\n"
     ]
    }
   ],
   "source": [
    "print (sys.path)"
   ]
  },
  {
   "cell_type": "code",
   "execution_count": null,
   "id": "56f441fc",
   "metadata": {},
   "outputs": [],
   "source": []
  }
 ],
 "metadata": {
  "kernelspec": {
   "display_name": "Python 3 (ipykernel)",
   "language": "python",
   "name": "python3"
  },
  "language_info": {
   "codemirror_mode": {
    "name": "ipython",
    "version": 3
   },
   "file_extension": ".py",
   "mimetype": "text/x-python",
   "name": "python",
   "nbconvert_exporter": "python",
   "pygments_lexer": "ipython3",
   "version": "3.13.1"
  }
 },
 "nbformat": 4,
 "nbformat_minor": 5
}
