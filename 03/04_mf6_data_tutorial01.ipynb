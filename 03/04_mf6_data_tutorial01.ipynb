{
 "cells": [
  {
   "cell_type": "code",
   "execution_count": 3,
   "id": "9390ded9",
   "metadata": {},
   "outputs": [
    {
     "name": "stdout",
     "output_type": "stream",
     "text": [
      "Collecting flopy\n",
      "  Using cached flopy-3.8.2-py3-none-any.whl.metadata (7.2 kB)\n",
      "Requirement already satisfied: numpy>=1.20.3 in c:\\users\\gross.desktop-airqm2m\\anaconda3\\envs\\flopy\\lib\\site-packages (from flopy) (2.2.0)\n",
      "Requirement already satisfied: matplotlib>=1.4.0 in c:\\users\\gross.desktop-airqm2m\\anaconda3\\envs\\flopy\\lib\\site-packages (from flopy) (3.9.4)\n",
      "Requirement already satisfied: pandas>=2.0.0 in c:\\users\\gross.desktop-airqm2m\\anaconda3\\envs\\flopy\\lib\\site-packages (from flopy) (2.2.3)\n",
      "Requirement already satisfied: contourpy>=1.0.1 in c:\\users\\gross.desktop-airqm2m\\anaconda3\\envs\\flopy\\lib\\site-packages (from matplotlib>=1.4.0->flopy) (1.3.1)\n",
      "Requirement already satisfied: cycler>=0.10 in c:\\users\\gross.desktop-airqm2m\\anaconda3\\envs\\flopy\\lib\\site-packages (from matplotlib>=1.4.0->flopy) (0.12.1)\n",
      "Requirement already satisfied: fonttools>=4.22.0 in c:\\users\\gross.desktop-airqm2m\\anaconda3\\envs\\flopy\\lib\\site-packages (from matplotlib>=1.4.0->flopy) (4.55.3)\n",
      "Requirement already satisfied: kiwisolver>=1.3.1 in c:\\users\\gross.desktop-airqm2m\\anaconda3\\envs\\flopy\\lib\\site-packages (from matplotlib>=1.4.0->flopy) (1.4.7)\n",
      "Requirement already satisfied: packaging>=20.0 in c:\\users\\gross.desktop-airqm2m\\anaconda3\\envs\\flopy\\lib\\site-packages (from matplotlib>=1.4.0->flopy) (24.2)\n",
      "Requirement already satisfied: pillow>=8 in c:\\users\\gross.desktop-airqm2m\\anaconda3\\envs\\flopy\\lib\\site-packages (from matplotlib>=1.4.0->flopy) (11.0.0)\n",
      "Requirement already satisfied: pyparsing>=2.3.1 in c:\\users\\gross.desktop-airqm2m\\anaconda3\\envs\\flopy\\lib\\site-packages (from matplotlib>=1.4.0->flopy) (3.2.0)\n",
      "Requirement already satisfied: python-dateutil>=2.7 in c:\\users\\gross.desktop-airqm2m\\anaconda3\\envs\\flopy\\lib\\site-packages (from matplotlib>=1.4.0->flopy) (2.9.0.post0)\n",
      "Requirement already satisfied: pytz>=2020.1 in c:\\users\\gross.desktop-airqm2m\\anaconda3\\envs\\flopy\\lib\\site-packages (from pandas>=2.0.0->flopy) (2024.1)\n",
      "Requirement already satisfied: tzdata>=2022.7 in c:\\users\\gross.desktop-airqm2m\\anaconda3\\envs\\flopy\\lib\\site-packages (from pandas>=2.0.0->flopy) (2024.2)\n",
      "Requirement already satisfied: six>=1.5 in c:\\users\\gross.desktop-airqm2m\\anaconda3\\envs\\flopy\\lib\\site-packages (from python-dateutil>=2.7->matplotlib>=1.4.0->flopy) (1.17.0)\n",
      "Using cached flopy-3.8.2-py3-none-any.whl (1.5 MB)\n",
      "Installing collected packages: flopy\n",
      "Successfully installed flopy-3.8.2\n"
     ]
    }
   ],
   "source": [
    "!pip install flopy"
   ]
  },
  {
   "cell_type": "code",
   "execution_count": 4,
   "id": "b74f0079",
   "metadata": {},
   "outputs": [],
   "source": [
    "import flopy"
   ]
  },
  {
   "cell_type": "code",
   "execution_count": 6,
   "id": "d3ebb6e3",
   "metadata": {},
   "outputs": [],
   "source": [
    "# package import\n",
    "from tempfile import TemporaryDirectory"
   ]
  },
  {
   "cell_type": "code",
   "execution_count": 7,
   "id": "021cc244",
   "metadata": {},
   "outputs": [],
   "source": [
    "temp_dir = TemporaryDirectory()\n",
    "workspace = temp_dir.name\n",
    "name = \"tutorial01\""
   ]
  },
  {
   "cell_type": "code",
   "execution_count": 8,
   "id": "351cd3dc",
   "metadata": {},
   "outputs": [
    {
     "name": "stdout",
     "output_type": "stream",
     "text": [
      "Done creating simulation.\n"
     ]
    }
   ],
   "source": [
    "# set up simulation and basic packages\n",
    "sim = flopy.mf6.MFSimulation(sim_name=name, sim_ws=workspace)\n",
    "flopy.mf6.ModflowTdis(sim, nper=10, perioddata=[[365.0, 1, 1.0] for _ in range(10)])\n",
    "flopy.mf6.ModflowIms(sim)\n",
    "gwf = flopy.mf6.ModflowGwf(sim, modelname=name, save_flows=True)\n",
    "botm = [30.0, 20.0, 10.0]\n",
    "flopy.mf6.ModflowGwfdis(gwf, nlay=3, nrow=4, ncol=5, top=50.0, botm=botm)\n",
    "flopy.mf6.ModflowGwfic(gwf)\n",
    "flopy.mf6.ModflowGwfnpf(gwf, save_specific_discharge=True)\n",
    "flopy.mf6.ModflowGwfchd(gwf, stress_period_data=[[(0, 0, 0), 1.0], [(2, 3, 4), 0.0]])\n",
    "budget_file = f\"{name}.bud\"\n",
    "head_file = f\"{name}.hds\"\n",
    "flopy.mf6.ModflowGwfoc(\n",
    "    gwf,\n",
    "    budget_filerecord=budget_file,\n",
    "    head_filerecord=head_file,\n",
    "    saverecord=[(\"HEAD\", \"ALL\"), (\"BUDGET\", \"ALL\")],\n",
    ")\n",
    "print(\"Done creating simulation.\")"
   ]
  },
  {
   "cell_type": "code",
   "execution_count": 9,
   "id": "d5f3bdbd",
   "metadata": {},
   "outputs": [],
   "source": [
    "sim.simulation_data.verbosity_level = 3"
   ]
  },
  {
   "cell_type": "code",
   "execution_count": 10,
   "id": "173bfde4",
   "metadata": {},
   "outputs": [],
   "source": [
    "sim.simulation_data.indent_string = \"    \""
   ]
  },
  {
   "cell_type": "code",
   "execution_count": 11,
   "id": "5567a723",
   "metadata": {},
   "outputs": [],
   "source": [
    "sim.float_precision = 8\n",
    "sim.float_characters = 15"
   ]
  },
  {
   "cell_type": "code",
   "execution_count": 12,
   "id": "21735377",
   "metadata": {},
   "outputs": [],
   "source": [
    "sim.verify_data = False\n",
    "sim.auto_set_sizes = False"
   ]
  },
  {
   "cell_type": "code",
   "execution_count": 13,
   "id": "1fdb8b37",
   "metadata": {},
   "outputs": [
    {
     "name": "stdout",
     "output_type": "stream",
     "text": [
      "sim_name = tutorial01\n",
      "sim_path = C:\\Users\\GROSS~1.DES\\AppData\\Local\\Temp\\tmpvgnorcyc\n",
      "exe_name = mf6\n",
      "\n",
      "###################\n",
      "Package mfsim.nam\n",
      "###################\n",
      "\n",
      "package_name = mfsim.nam\n",
      "filename = mfsim.nam\n",
      "package_type = nam\n",
      "model_or_simulation_package = simulation\n",
      "simulation_name = tutorial01\n",
      "\n",
      "\n",
      "###################\n",
      "Package tutorial01.tdis\n",
      "###################\n",
      "\n",
      "package_name = tutorial01.tdis\n",
      "filename = tutorial01.tdis\n",
      "package_type = tdis\n",
      "model_or_simulation_package = simulation\n",
      "simulation_name = tutorial01\n",
      "\n",
      "\n",
      "###################\n",
      "Package ims_-1\n",
      "###################\n",
      "\n",
      "package_name = ims_-1\n",
      "filename = tutorial01.ims\n",
      "package_type = ims\n",
      "model_or_simulation_package = simulation\n",
      "simulation_name = tutorial01\n",
      "\n",
      "\n",
      "@@@@@@@@@@@@@@@@@@@@\n",
      "Model tutorial01\n",
      "@@@@@@@@@@@@@@@@@@@@\n",
      "\n",
      "name = tutorial01\n",
      "model_type = gwf6\n",
      "version = mf6\n",
      "model_relative_path = .\n",
      "\n",
      "###################\n",
      "Package dis\n",
      "###################\n",
      "\n",
      "package_name = dis\n",
      "filename = tutorial01.dis\n",
      "package_type = dis\n",
      "model_or_simulation_package = model\n",
      "model_name = tutorial01\n",
      "\n",
      "\n",
      "###################\n",
      "Package ic\n",
      "###################\n",
      "\n",
      "package_name = ic\n",
      "filename = tutorial01.ic\n",
      "package_type = ic\n",
      "model_or_simulation_package = model\n",
      "model_name = tutorial01\n",
      "\n",
      "\n",
      "###################\n",
      "Package npf\n",
      "###################\n",
      "\n",
      "package_name = npf\n",
      "filename = tutorial01.npf\n",
      "package_type = npf\n",
      "model_or_simulation_package = model\n",
      "model_name = tutorial01\n",
      "\n",
      "\n",
      "###################\n",
      "Package chd_0\n",
      "###################\n",
      "\n",
      "package_name = chd_0\n",
      "filename = tutorial01.chd\n",
      "package_type = chd\n",
      "model_or_simulation_package = model\n",
      "model_name = tutorial01\n",
      "\n",
      "\n",
      "###################\n",
      "Package oc\n",
      "###################\n",
      "\n",
      "package_name = oc\n",
      "filename = tutorial01.oc\n",
      "package_type = oc\n",
      "model_or_simulation_package = model\n",
      "model_name = tutorial01\n",
      "\n",
      "\n",
      "\n",
      "\n"
     ]
    }
   ],
   "source": [
    "print(sim)"
   ]
  },
  {
   "cell_type": "code",
   "execution_count": 14,
   "id": "c2d47520",
   "metadata": {},
   "outputs": [
    {
     "name": "stdout",
     "output_type": "stream",
     "text": [
      "package_name = tutorial01.tdis\n",
      "filename = tutorial01.tdis\n",
      "package_type = tdis\n",
      "model_or_simulation_package = simulation\n",
      "simulation_name = tutorial01\n",
      "\n",
      "Block dimensions\n",
      "--------------------\n",
      "nper\n",
      "{internal}\n",
      "(10)\n",
      "\n",
      "\n",
      "Block perioddata\n",
      "--------------------\n",
      "perioddata\n",
      "{internal}\n",
      "([(365., 1, 1.) (365., 1, 1.) (365., 1, 1.) (365., 1, 1.) (365., 1, 1.)\n",
      " (365., 1, 1.) (365., 1, 1.) (365., 1, 1.) (365., 1, 1.) (365., 1, 1.)])\n",
      "\n",
      "\n",
      "\n"
     ]
    }
   ],
   "source": [
    "tdis = sim.tdis\n",
    "print(tdis)"
   ]
  },
  {
   "cell_type": "code",
   "execution_count": 15,
   "id": "e975c9f7",
   "metadata": {},
   "outputs": [
    {
     "name": "stdout",
     "output_type": "stream",
     "text": [
      "package_name = ims_-1\n",
      "filename = tutorial01.ims\n",
      "package_type = ims\n",
      "model_or_simulation_package = simulation\n",
      "simulation_name = tutorial01\n",
      "\n",
      "\n"
     ]
    }
   ],
   "source": [
    "ims = sim.get_package(\"ims_-1\")\n",
    "print(ims)"
   ]
  },
  {
   "cell_type": "code",
   "execution_count": 16,
   "id": "c8eb6ac8",
   "metadata": {},
   "outputs": [
    {
     "name": "stdout",
     "output_type": "stream",
     "text": [
      "package_name = ims_-1\n",
      "filename = tutorial01.ims\n",
      "package_type = ims\n",
      "model_or_simulation_package = simulation\n",
      "simulation_name = tutorial01\n",
      "\n",
      "\n"
     ]
    }
   ],
   "source": [
    "ims = sim.get_package(\"ims\")\n",
    "print(ims)"
   ]
  },
  {
   "cell_type": "code",
   "execution_count": 17,
   "id": "45db99d9",
   "metadata": {},
   "outputs": [
    {
     "name": "stdout",
     "output_type": "stream",
     "text": [
      "package_name = mfsim.nam\n",
      "filename = mfsim.nam\n",
      "package_type = nam\n",
      "model_or_simulation_package = simulation\n",
      "simulation_name = tutorial01\n",
      "\n",
      "Block timing\n",
      "--------------------\n",
      "tdis6\n",
      "{internal}\n",
      "(tutorial01.tdis)\n",
      "\n",
      "\n",
      "Block models\n",
      "--------------------\n",
      "models\n",
      "{internal}\n",
      "([('gwf6', 'tutorial01.nam', 'tutorial01')])\n",
      "\n",
      "\n",
      "Block solutiongroup\n",
      "--------------------\n",
      "solutiongroup\n",
      "{internal}\n",
      "([('ims6', 'tutorial01.ims', 'tutorial01')])\n",
      "\n",
      "\n",
      "\n"
     ]
    }
   ],
   "source": [
    "nam = sim.get_package(\"nam\")\n",
    "print(nam)"
   ]
  },
  {
   "cell_type": "code",
   "execution_count": 18,
   "id": "caeef9cd",
   "metadata": {},
   "outputs": [
    {
     "name": "stdout",
     "output_type": "stream",
     "text": [
      "['tutorial01']\n"
     ]
    }
   ],
   "source": [
    "print(sim.model_names)"
   ]
  },
  {
   "cell_type": "code",
   "execution_count": 19,
   "id": "a6e0e592",
   "metadata": {},
   "outputs": [
    {
     "name": "stdout",
     "output_type": "stream",
     "text": [
      "tutorial01\n"
     ]
    }
   ],
   "source": [
    "model_names = list(sim.model_names)\n",
    "for mname in model_names:\n",
    "    print(mname)"
   ]
  },
  {
   "cell_type": "code",
   "execution_count": 20,
   "id": "5f7b9028",
   "metadata": {},
   "outputs": [
    {
     "name": "stdout",
     "output_type": "stream",
     "text": [
      "tutorial01 gwf6\n"
     ]
    }
   ],
   "source": [
    "model_names = list(sim.model_names)\n",
    "for mname in model_names:\n",
    "    m = sim.get_model(mname)\n",
    "    print(m.name, m.model_type)"
   ]
  },
  {
   "cell_type": "code",
   "execution_count": 22,
   "id": "c9b3c5ce",
   "metadata": {},
   "outputs": [
    {
     "name": "stdout",
     "output_type": "stream",
     "text": [
      "name = tutorial01\n",
      "model_type = gwf6\n",
      "version = mf6\n",
      "model_relative_path = .\n",
      "\n",
      "###################\n",
      "Package dis\n",
      "###################\n",
      "\n",
      "package_name = dis\n",
      "filename = tutorial01.dis\n",
      "package_type = dis\n",
      "model_or_simulation_package = model\n",
      "model_name = tutorial01\n",
      "\n",
      "\n",
      "###################\n",
      "Package ic\n",
      "###################\n",
      "\n",
      "package_name = ic\n",
      "filename = tutorial01.ic\n",
      "package_type = ic\n",
      "model_or_simulation_package = model\n",
      "model_name = tutorial01\n",
      "\n",
      "\n",
      "###################\n",
      "Package npf\n",
      "###################\n",
      "\n",
      "package_name = npf\n",
      "filename = tutorial01.npf\n",
      "package_type = npf\n",
      "model_or_simulation_package = model\n",
      "model_name = tutorial01\n",
      "\n",
      "\n",
      "###################\n",
      "Package chd_0\n",
      "###################\n",
      "\n",
      "package_name = chd_0\n",
      "filename = tutorial01.chd\n",
      "package_type = chd\n",
      "model_or_simulation_package = model\n",
      "model_name = tutorial01\n",
      "\n",
      "\n",
      "###################\n",
      "Package oc\n",
      "###################\n",
      "\n",
      "package_name = oc\n",
      "filename = tutorial01.oc\n",
      "package_type = oc\n",
      "model_or_simulation_package = model\n",
      "model_name = tutorial01\n",
      "\n",
      "\n",
      "\n"
     ]
    }
   ],
   "source": [
    "gwf = sim.get_model(name)  # gwf Object !\n",
    "print(gwf)"
   ]
  },
  {
   "cell_type": "code",
   "execution_count": 23,
   "id": "a5c9bd3b",
   "metadata": {},
   "outputs": [
    {
     "name": "stdout",
     "output_type": "stream",
     "text": [
      "['DIS', 'IC', 'NPF', 'CHD_0', 'OC']\n"
     ]
    }
   ],
   "source": [
    "package_list = gwf.get_package_list() # List Packages ____________________\n",
    "print(package_list)"
   ]
  },
  {
   "cell_type": "code",
   "execution_count": 25,
   "id": "ef60d5dc",
   "metadata": {},
   "outputs": [
    {
     "name": "stdout",
     "output_type": "stream",
     "text": [
      "package_name = dis\n",
      "filename = tutorial01.dis\n",
      "package_type = dis\n",
      "model_or_simulation_package = model\n",
      "model_name = tutorial01\n",
      "\n",
      "Block dimensions\n",
      "--------------------\n",
      "nlay\n",
      "{internal}\n",
      "(3)\n",
      "\n",
      "nrow\n",
      "{internal}\n",
      "(4)\n",
      "\n",
      "ncol\n",
      "{internal}\n",
      "(5)\n",
      "\n",
      "\n",
      "Block griddata\n",
      "--------------------\n",
      "delr\n",
      "{constant 1.0}\n",
      "\n",
      "delc\n",
      "{constant 1.0}\n",
      "\n",
      "top\n",
      "{constant 50.0}\n",
      "\n",
      "botm\n",
      "Layer_1{constant 30.0}\n",
      "Layer_2{constant 20.0}\n",
      "Layer_3{constant 10.0}\n",
      "\n",
      "\n",
      "\n"
     ]
    }
   ],
   "source": [
    "dis = gwf.get_package(\"dis\")\n",
    "print(dis)"
   ]
  },
  {
   "cell_type": "code",
   "execution_count": 26,
   "id": "eb352498",
   "metadata": {},
   "outputs": [
    {
     "name": "stdout",
     "output_type": "stream",
     "text": [
      "<class 'flopy.mf6.modflow.mfgwfdis.ModflowGwfdis'>\n"
     ]
    }
   ],
   "source": [
    "print(type(dis))"
   ]
  },
  {
   "cell_type": "code",
   "execution_count": 27,
   "id": "9f95ce3c",
   "metadata": {},
   "outputs": [],
   "source": [
    "try:\n",
    "    temp_dir.cleanup()\n",
    "except PermissionError:\n",
    "    # can occur on windows: https://docs.python.org/3/library/tempfile.html#tempfile.TemporaryDirectory\n",
    "    pass"
   ]
  },
  {
   "cell_type": "code",
   "execution_count": null,
   "id": "a0fe3d4a",
   "metadata": {},
   "outputs": [],
   "source": []
  }
 ],
 "metadata": {
  "kernelspec": {
   "display_name": "Python 3 (ipykernel)",
   "language": "python",
   "name": "python3"
  },
  "language_info": {
   "codemirror_mode": {
    "name": "ipython",
    "version": 3
   },
   "file_extension": ".py",
   "mimetype": "text/x-python",
   "name": "python",
   "nbconvert_exporter": "python",
   "pygments_lexer": "ipython3",
   "version": "3.13.1"
  }
 },
 "nbformat": 4,
 "nbformat_minor": 5
}
