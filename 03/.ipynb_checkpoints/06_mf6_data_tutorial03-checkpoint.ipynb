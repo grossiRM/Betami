{
 "cells": [
  {
   "cell_type": "markdown",
   "id": "7315761f",
   "metadata": {},
   "source": [
    "# MODFLOW 6: Time Series Packages\n"
   ]
  },
  {
   "cell_type": "markdown",
   "id": "602ce57d",
   "metadata": {},
   "source": [
    "## Introduction to Time Series\n",
    "\n",
    "Time series can be set for any package through the `package.ts` object, and\n",
    "each `package.ts` object has several attributes that can be set:\n",
    "\n",
    "| Attribute | Type | Description |\n",
    "| :---      | :---- | :----      |\n",
    "| package.ts.filename | str | Name of time series file to create. The default is packagename + \".ts\".|\n",
    "| package.ts.timeseries | recarray | Array containing the time series information |\n",
    "| package.ts.time_series_namerecord | str or list | List of names of the time series data columns. Default is to use names from timeseries.dtype.names[1:]. |\n",
    "| package.ts.interpolation_methodrecord_single | str | Interpolation method. Must be only one time series record. If there are multiple time series records, then the methods attribute must be used. |\n",
    "| package.ts.interpolation_methodrecord | float | Scale factor to multiply the time series data column. Can only be used if there is one time series data column. |\n",
    "| package.ts.sfacrecord_single | float | Scale factor to multiply the time series data column. Can only be used if there is one time series data column. |\n",
    "| package.ts.sfacrecord | list (of floats) | Scale factors to multiply the time series data columns. |\n",
    "\n",
    "The following code sets up a simulation used in the time series examples."
   ]
  },
  {
   "cell_type": "code",
   "execution_count": 1,
   "id": "7702a4dd",
   "metadata": {},
   "outputs": [],
   "source": [
    "# package import\n",
    "from tempfile import TemporaryDirectory"
   ]
  },
  {
   "cell_type": "code",
   "execution_count": 2,
   "id": "ceac4db3",
   "metadata": {},
   "outputs": [],
   "source": [
    "import numpy as np"
   ]
  },
  {
   "cell_type": "code",
   "execution_count": 3,
   "id": "567a380f",
   "metadata": {},
   "outputs": [],
   "source": [
    "import flopy"
   ]
  },
  {
   "cell_type": "code",
   "execution_count": 4,
   "id": "afbe7379",
   "metadata": {},
   "outputs": [],
   "source": [
    "# set up where simulation workspace will be stored\n",
    "temp_dir = TemporaryDirectory()\n",
    "workspace = temp_dir.name\n",
    "name = \"tutorial03_mf6_data\""
   ]
  },
  {
   "cell_type": "code",
   "execution_count": null,
   "id": "51af7d80",
   "metadata": {},
   "outputs": [],
   "source": [
    "# create the flopy simulation and tdis objects\n",
    "sim = flopy.mf6.MFSimulation(\n",
    "    sim_name=name, exe_name=\"mf6\", version=\"mf6\", sim_ws=workspace\n",
    ")\n",
    "tdis_rc = [(1.0, 1, 1.0), (10.0, 5, 1.0), (10.0, 5, 1.0), (10.0, 1, 1.0)]\n",
    "tdis_package = flopy.mf6.modflow.mftdis.ModflowTdis(\n",
    "    sim, time_units=\"DAYS\", nper=4, perioddata=tdis_rc\n",
    ")\n",
    "# create the Flopy groundwater flow (gwf) model object\n",
    "model_nam_file = f\"{name}.nam\"\n",
    "gwf = flopy.mf6.ModflowGwf(sim, modelname=name, model_nam_file=model_nam_file)\n",
    "# create the flopy iterative model solver (ims) package object\n",
    "ims = flopy.mf6.modflow.mfims.ModflowIms(sim, pname=\"ims\", complexity=\"SIMPLE\")\n",
    "# create the discretization package\n",
    "bot = np.linspace(-3.0, -50.0 / 3.0, 3)\n",
    "delrow = delcol = 4.0\n",
    "dis = flopy.mf6.modflow.mfgwfdis.ModflowGwfdis(\n",
    "    gwf,\n",
    "    pname=\"dis\",\n",
    "    nogrb=True,\n",
    "    nlay=3,\n",
    "    nrow=101,\n",
    "    ncol=101,\n",
    "    delr=delrow,\n",
    "    delc=delcol,\n",
    "    top=0.0,\n",
    "    botm=bot,\n",
    ")\n",
    "# create the initial condition (ic) and node property flow (npf) packages\n",
    "ic_package = flopy.mf6.modflow.mfgwfic.ModflowGwfic(gwf, strt=50.0)\n",
    "npf_package = flopy.mf6.modflow.mfgwfnpf.ModflowGwfnpf(\n",
    "    gwf,\n",
    "    save_flows=True,\n",
    "    icelltype=[1, 0, 0],\n",
    "    k=[5.0, 0.1, 4.0],\n",
    "    k33=[0.5, 0.005, 0.1],\n",
    ")"
   ]
  },
  {
   "cell_type": "markdown",
   "id": "f81bf440",
   "metadata": {},
   "source": [
    "## Time Series Example 1\n",
    "\n",
    "One way to construct a time series is to pass the time series data to\n",
    "the parent package constructor.\n",
    "\n",
    "This example uses time series data in a `GHB` package.  First the `GHB`\n",
    "`stress_period_data` is built."
   ]
  },
  {
   "cell_type": "code",
   "execution_count": null,
   "id": "51ddf1e6",
   "metadata": {},
   "outputs": [],
   "source": [
    "# build ghb stress period data\n",
    "ghb_spd_ts = {}\n",
    "ghb_period = []\n",
    "for layer, cond in zip(range(1, 3), [15.0, 1500.0]):\n",
    "    for row in range(0, 15):\n",
    "        ghb_period.append(((layer, row, 9), \"tides\", cond, \"Estuary-L2\"))\n",
    "ghb_spd_ts[0] = ghb_period"
   ]
  },
  {
   "cell_type": "markdown",
   "id": "8f04e5e5",
   "metadata": {},
   "source": [
    "Next the time series data is built.  The time series data is constructed as\n",
    "a list of tuples, with each tuple containing a time and the value (or values)\n",
    "at that time.  The time series data is put in a dictionary along with\n",
    "additional time series information including filename,\n",
    "time_series_namerecord, interpolation_methodrecord, and sfacrecord."
   ]
  },
  {
   "cell_type": "code",
   "execution_count": null,
   "id": "400f3a0f",
   "metadata": {},
   "outputs": [],
   "source": [
    "# build ts data\n",
    "ts_data = []\n",
    "for n in range(0, 365):\n",
    "    time = float(n / 11.73)\n",
    "    val = float(n / 60.0)\n",
    "    ts_data.append((time, val))\n",
    "ts_dict = {\n",
    "    \"filename\": \"tides.ts\",\n",
    "    \"time_series_namerecord\": \"tide\",\n",
    "    \"timeseries\": ts_data,\n",
    "    \"interpolation_methodrecord\": \"linearend\",\n",
    "    \"sfacrecord\": 1.1,\n",
    "}"
   ]
  },
  {
   "cell_type": "markdown",
   "id": "6e6bd810",
   "metadata": {},
   "source": [
    "The `GHB` package is then constructed, passing the time series data into the\n",
    "`timeseries` parameter."
   ]
  },
  {
   "cell_type": "code",
   "execution_count": null,
   "id": "6f142ee9",
   "metadata": {},
   "outputs": [],
   "source": [
    "# build ghb package\n",
    "ghb = flopy.mf6.modflow.mfgwfghb.ModflowGwfghb(\n",
    "    gwf,\n",
    "    print_input=True,\n",
    "    print_flows=True,\n",
    "    save_flows=True,\n",
    "    boundnames=True,\n",
    "    timeseries=ts_dict,\n",
    "    pname=\"ghb\",\n",
    "    maxbound=30,\n",
    "    stress_period_data=ghb_spd_ts,\n",
    ")"
   ]
  },
  {
   "cell_type": "markdown",
   "id": "13603dac",
   "metadata": {},
   "source": [
    "Time series attributes, like `time_series_namerecord`, can be modified\n",
    "using the `ghb.ts` object."
   ]
  },
  {
   "cell_type": "code",
   "execution_count": null,
   "id": "5f998e98",
   "metadata": {},
   "outputs": [],
   "source": [
    "# set required time series attributes\n",
    "ghb.ts.time_series_namerecord = \"tides\""
   ]
  },
  {
   "cell_type": "code",
   "execution_count": null,
   "id": "3ef1fc3e",
   "metadata": {},
   "outputs": [],
   "source": [
    "# clean up for next example\n",
    "gwf.remove_package(\"ghb\")"
   ]
  },
  {
   "cell_type": "markdown",
   "id": "144d6ae9",
   "metadata": {},
   "source": [
    "## Time Series Example 2\n",
    "\n",
    "Another way to construct a time series is to initialize the time series\n",
    "through the `ghb.ts.initialize` method.  Additional time series can then be\n",
    "appended using the `append_package` method.\n",
    "\n",
    "First the `GHB` stress period data is built."
   ]
  },
  {
   "cell_type": "code",
   "execution_count": null,
   "id": "b9317e4e",
   "metadata": {},
   "outputs": [],
   "source": [
    "# build ghb stress period data\n",
    "ghb_spd_ts = {}\n",
    "ghb_period = []\n",
    "for layer, cond in zip(range(1, 3), [15.0, 1500.0]):\n",
    "    for row in range(0, 15):\n",
    "        if row < 10:\n",
    "            ghb_period.append(((layer, row, 9), \"tides\", cond, \"Estuary-L2\"))\n",
    "        else:\n",
    "            ghb_period.append(((layer, row, 9), \"wl\", cond, \"Estuary-L2\"))\n",
    "ghb_spd_ts[0] = ghb_period"
   ]
  },
  {
   "cell_type": "markdown",
   "id": "608e3a9a",
   "metadata": {},
   "source": [
    "Next the time series data is built.  The time series data is constructed as\n",
    "a list of tuples, with each tuple containing a time and the value (or values)\n",
    "at that time."
   ]
  },
  {
   "cell_type": "code",
   "execution_count": null,
   "id": "cea466a7",
   "metadata": {},
   "outputs": [],
   "source": [
    "# build ts data\n",
    "ts_data = []\n",
    "for n in range(0, 365):\n",
    "    time = float(n / 11.73)\n",
    "    val = float(n / 60.0)\n",
    "    ts_data.append((time, val))\n",
    "ts_data2 = []\n",
    "for n in range(0, 365):\n",
    "    time = float(1.0 + (n / 12.01))\n",
    "    val = float(n / 60.0)\n",
    "    ts_data2.append((time, val))\n",
    "ts_data3 = []\n",
    "for n in range(0, 365):\n",
    "    time = float(10.0 + (n / 12.01))\n",
    "    val = float(n / 60.0)\n",
    "    ts_data3.append((time, val))"
   ]
  },
  {
   "cell_type": "markdown",
   "id": "34e1c0e6",
   "metadata": {},
   "source": [
    "A ghb package is constructed without the time series data"
   ]
  },
  {
   "cell_type": "code",
   "execution_count": null,
   "id": "7ca1d727",
   "metadata": {},
   "outputs": [],
   "source": [
    "# build ghb package\n",
    "ghb = flopy.mf6.modflow.mfgwfghb.ModflowGwfghb(\n",
    "    gwf,\n",
    "    print_input=True,\n",
    "    print_flows=True,\n",
    "    save_flows=True,\n",
    "    boundnames=True,\n",
    "    pname=\"ghb\",\n",
    "    maxbound=30,\n",
    "    stress_period_data=ghb_spd_ts,\n",
    ")"
   ]
  },
  {
   "cell_type": "markdown",
   "id": "963d85aa",
   "metadata": {},
   "source": [
    "The first time series data are added by calling the initialize method from\n",
    "the `ghb.ts` object.  The times series package's file name,\n",
    "name record, method record, and sfac record, along with the time series data\n",
    "are set in the initialize method."
   ]
  },
  {
   "cell_type": "code",
   "execution_count": null,
   "id": "2ac30265",
   "metadata": {},
   "outputs": [],
   "source": [
    "# initialize first time series\n",
    "ghb.ts.initialize(\n",
    "    filename=\"tides.ts\",\n",
    "    timeseries=ts_data,\n",
    "    time_series_namerecord=\"tides\",\n",
    "    interpolation_methodrecord=\"linearend\",\n",
    "    sfacrecord=1.1,\n",
    ")"
   ]
  },
  {
   "cell_type": "markdown",
   "id": "ff2041c3",
   "metadata": {},
   "source": [
    "The remaining time series data are added using the `append_package` method.\n",
    "The `append_package` method takes the same parameters as the initialize\n",
    "method."
   ]
  },
  {
   "cell_type": "code",
   "execution_count": null,
   "id": "eb86e4fd",
   "metadata": {},
   "outputs": [],
   "source": [
    "# append additional time series\n",
    "ghb.ts.append_package(\n",
    "    filename=\"wls.ts\",\n",
    "    timeseries=ts_data2,\n",
    "    time_series_namerecord=\"wl\",\n",
    "    interpolation_methodrecord=\"stepwise\",\n",
    "    sfacrecord=1.2,\n",
    ")\n",
    "# append additional time series\n",
    "ghb.ts.append_package(\n",
    "    filename=\"wls2.ts\",\n",
    "    timeseries=ts_data3,\n",
    "    time_series_namerecord=\"wl2\",\n",
    "    interpolation_methodrecord=\"stepwise\",\n",
    "    sfacrecord=1.3,\n",
    ")"
   ]
  },
  {
   "cell_type": "markdown",
   "id": "92ee7c53",
   "metadata": {},
   "source": [
    "Information can be retrieved from time series packages using the `ts`\n",
    "attribute of its parent package.  Below the interpolation method record\n",
    "for each of the three time series are retrieved."
   ]
  },
  {
   "cell_type": "code",
   "execution_count": null,
   "id": "f32b98bf",
   "metadata": {},
   "outputs": [],
   "source": [
    "print(\n",
    "    \"{} is using {} interpolation\".format(\n",
    "        ghb.ts[0].filename, ghb.ts[0].interpolation_methodrecord.get_data()[0][0]\n",
    "    )\n",
    ")\n",
    "print(\n",
    "    \"{} is using {} interpolation\".format(\n",
    "        ghb.ts[1].filename, ghb.ts[1].interpolation_methodrecord.get_data()[0][0]\n",
    "    )\n",
    ")\n",
    "print(\n",
    "    \"{} is using {} interpolation\".format(\n",
    "        ghb.ts[2].filename, ghb.ts[2].interpolation_methodrecord.get_data()[0][0]\n",
    "    )\n",
    ")"
   ]
  },
  {
   "cell_type": "code",
   "execution_count": null,
   "id": "5d1e2ed6",
   "metadata": {},
   "outputs": [],
   "source": [
    "try:\n",
    "    temp_dir.cleanup()\n",
    "except PermissionError:\n",
    "    # can occur on windows: https://docs.python.org/3/library/tempfile.html#tempfile.TemporaryDirectory\n",
    "    pass"
   ]
  }
 ],
 "metadata": {
  "jupytext": {
   "notebook_metadata_filter": "metadata"
  },
  "kernelspec": {
   "display_name": "Python 3 (ipykernel)",
   "language": "python",
   "name": "python3"
  },
  "language_info": {
   "codemirror_mode": {
    "name": "ipython",
    "version": 3
   },
   "file_extension": ".py",
   "mimetype": "text/x-python",
   "name": "python",
   "nbconvert_exporter": "python",
   "pygments_lexer": "ipython3",
   "version": "3.13.1"
  },
  "metadata": {
   "section": "mf6"
  }
 },
 "nbformat": 4,
 "nbformat_minor": 5
}
