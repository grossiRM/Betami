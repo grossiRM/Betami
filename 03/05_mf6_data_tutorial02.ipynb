{
 "cells": [
  {
   "cell_type": "code",
   "execution_count": 1,
   "id": "25f30bb5",
   "metadata": {},
   "outputs": [],
   "source": [
    "from tempfile import TemporaryDirectory\n",
    "import numpy as np\n",
    "import flopy"
   ]
  },
  {
   "cell_type": "code",
   "execution_count": 2,
   "id": "6d0447f1",
   "metadata": {},
   "outputs": [],
   "source": [
    "temp_dir = TemporaryDirectory()\n",
    "workspace = temp_dir.name\n",
    "name = \"tutorial02_mf6_data\""
   ]
  },
  {
   "cell_type": "code",
   "execution_count": 3,
   "id": "e0905712",
   "metadata": {},
   "outputs": [],
   "source": [
    "# create the flopy simulation and tdis objects\n",
    "sim = flopy.mf6.MFSimulation(\n",
    "    sim_name=name, exe_name=\"mf6\", version=\"mf6\", sim_ws=workspace\n",
    ")\n",
    "tdis_rc = [(1.0, 1, 1.0), (10.0, 5, 1.0), (10.0, 5, 1.0), (10.0, 1, 1.0)]\n",
    "tdis_package = flopy.mf6.modflow.mftdis.ModflowTdis(\n",
    "    sim, time_units=\"DAYS\", nper=4, perioddata=tdis_rc\n",
    ")\n",
    "# create the flopy groundwater flow (gwf) model object\n",
    "model_nam_file = f\"{name}.nam\"\n",
    "gwf = flopy.mf6.ModflowGwf(sim, modelname=name, model_nam_file=model_nam_file)\n",
    "# create the flopy iterative model solver (ims) package object\n",
    "ims = flopy.mf6.modflow.mfims.ModflowIms(sim, pname=\"ims\", complexity=\"SIMPLE\")\n",
    "# create the discretization package\n",
    "bot = np.linspace(-3.0, -50.0 / 3.0, 3)\n",
    "delrow = delcol = 4.0\n",
    "dis = flopy.mf6.modflow.mfgwfdis.ModflowGwfdis(\n",
    "    gwf,\n",
    "    pname=\"dis\",\n",
    "    nogrb=True,\n",
    "    nlay=3,\n",
    "    nrow=101,\n",
    "    ncol=101,\n",
    "    delr=delrow,\n",
    "    delc=delcol,\n",
    "    top=0.0,\n",
    "    botm=bot,\n",
    ")\n",
    "# create the initial condition (ic) and node property flow (npf) packages\n",
    "ic_package = flopy.mf6.modflow.mfgwfic.ModflowGwfic(gwf, strt=50.0)\n",
    "npf_package = flopy.mf6.modflow.mfgwfnpf.ModflowGwfnpf(\n",
    "    gwf,\n",
    "    save_flows=True,\n",
    "    icelltype=[1, 0, 0],\n",
    "    k=[5.0, 0.1, 4.0],\n",
    "    k33=[0.5, 0.005, 0.1],\n",
    ")"
   ]
  },
  {
   "cell_type": "code",
   "execution_count": 4,
   "id": "a2f36f51",
   "metadata": {},
   "outputs": [],
   "source": [
    "# build ghb stress period data\n",
    "ghb_spd = {}\n",
    "ghb_period = []\n",
    "for layer, cond in zip(range(1, 3), [15.0, 1500.0]):\n",
    "    for row in range(0, 15):\n",
    "        ghb_period.append(((layer, row, 9), 1.0, cond, \"Estuary-L2\"))\n",
    "ghb_spd[0] = ghb_period"
   ]
  },
  {
   "cell_type": "code",
   "execution_count": 5,
   "id": "c7d8d5d7",
   "metadata": {},
   "outputs": [],
   "source": [
    "# build obs data\n",
    "ghb_obs = {\n",
    "    (\"ghb_obs.csv\", \"binary\"): [\n",
    "        (\"ghb-2-6-10\", \"GHB\", (1, 5, 9)),\n",
    "        (\"ghb-3-6-10\", \"GHB\", (2, 5, 9)),\n",
    "    ],\n",
    "    \"ghb_flows.csv\": [\n",
    "        (\"Estuary2\", \"GHB\", \"Estuary-L2\"),\n",
    "        (\"Estuary3\", \"GHB\", \"Estuary-L3\"),\n",
    "    ],\n",
    "}"
   ]
  },
  {
   "cell_type": "code",
   "execution_count": 6,
   "id": "90b97413",
   "metadata": {},
   "outputs": [],
   "source": [
    "# build ghb package passing obs dictionary to package constructor\n",
    "ghb = flopy.mf6.modflow.mfgwfghb.ModflowGwfghb(\n",
    "    gwf,\n",
    "    print_input=True,\n",
    "    print_flows=True,\n",
    "    save_flows=True,\n",
    "    boundnames=True,\n",
    "    observations=ghb_obs,\n",
    "    pname=\"ghb\",\n",
    "    maxbound=30,\n",
    "    stress_period_data=ghb_spd,\n",
    ")"
   ]
  },
  {
   "cell_type": "code",
   "execution_count": 7,
   "id": "79813690",
   "metadata": {},
   "outputs": [],
   "source": [
    "ghb.obs.print_input = True"
   ]
  },
  {
   "cell_type": "code",
   "execution_count": 8,
   "id": "484b0c74",
   "metadata": {},
   "outputs": [],
   "source": [
    "# clean up for next example\n",
    "gwf.remove_package(\"ghb\")"
   ]
  },
  {
   "cell_type": "code",
   "execution_count": 9,
   "id": "b6d24971",
   "metadata": {},
   "outputs": [],
   "source": [
    "try:\n",
    "    temp_dir.cleanup()\n",
    "except PermissionError:\n",
    "    # can occur on windows: https://docs.python.org/3/library/tempfile.html#tempfile.TemporaryDirectory\n",
    "    pass"
   ]
  },
  {
   "cell_type": "code",
   "execution_count": null,
   "id": "b68b1a00",
   "metadata": {},
   "outputs": [],
   "source": []
  }
 ],
 "metadata": {
  "kernelspec": {
   "display_name": "Python 3 (ipykernel)",
   "language": "python",
   "name": "python3"
  },
  "language_info": {
   "codemirror_mode": {
    "name": "ipython",
    "version": 3
   },
   "file_extension": ".py",
   "mimetype": "text/x-python",
   "name": "python",
   "nbconvert_exporter": "python",
   "pygments_lexer": "ipython3",
   "version": "3.13.1"
  }
 },
 "nbformat": 4,
 "nbformat_minor": 5
}
