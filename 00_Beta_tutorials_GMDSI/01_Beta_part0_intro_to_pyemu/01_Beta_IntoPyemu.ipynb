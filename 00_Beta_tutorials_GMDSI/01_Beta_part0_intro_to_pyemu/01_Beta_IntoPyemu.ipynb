{
 "cells": [
  {
   "cell_type": "markdown",
   "id": "14d8d70e-165d-42f5-afcf-40460f239994",
   "metadata": {},
   "source": [
    "## C:\\pest\\A\\A1\\reimagined-adventure\\01_Beta_IntoPyemu\\handling_files"
   ]
  },
  {
   "cell_type": "markdown",
   "id": "5075d9f8-04c7-4a38-b4a0-aedbf25ffd07",
   "metadata": {},
   "source": [
    "## C:\\pest\\A\\A1\\GMDSI_notebooks\\dependencies\\pyemu\\pyemu"
   ]
  },
  {
   "cell_type": "code",
   "execution_count": 7,
   "id": "f919064b-32c3-49ec-b5a4-3e985d828dd1",
   "metadata": {},
   "outputs": [],
   "source": [
    "import os\n",
    "import warnings\n",
    "warnings.filterwarnings(\"ignore\")\n",
    "warnings.filterwarnings(\"ignore\", category=DeprecationWarning) \n",
    "import matplotlib.pyplot as plt\n",
    "import numpy as np\n",
    "\n",
    "import sys\n",
    "# sys.path.append(os.path.join(\"..\", \"..\", \"dependencies\"))\n",
    "import pyemu"
   ]
  },
  {
   "cell_type": "code",
   "execution_count": 63,
   "id": "0615918b-806d-4733-86f3-1e2267ac95d7",
   "metadata": {},
   "outputs": [
    {
     "data": {
      "text/plain": [
       "\u001b[1;31mType:\u001b[0m        module\n",
       "\u001b[1;31mString form:\u001b[0m <module 'pyemu' from 'C:\\\\pest\\\\A\\\\A1\\\\GMDSI_notebooks\\\\dependencies\\\\pyemu\\\\pyemu\\\\__init__.py'>\n",
       "\u001b[1;31mFile:\u001b[0m        c:\\pest\\a\\a1\\gmdsi_notebooks\\dependencies\\pyemu\\pyemu\\__init__.py\n",
       "\u001b[1;31mDocstring:\u001b[0m  \n",
       "pyEMU: python modules for Environmental Model Uncertainty analyses.  These\n",
       "modules are designed to work directly and seamlessly with PEST and PEST++ model\n",
       "independent interface.  pyEMU can also be used to setup this interface.\n",
       "\n",
       "Several forms of uncertainty analyses are support including FOSM-based\n",
       "analyses (pyemu.Schur and pyemu.ErrVar), data worth analyses and\n",
       "high-dimensional ensemble generation."
      ]
     },
     "metadata": {},
     "output_type": "display_data"
    }
   ],
   "source": [
    "pyemu?"
   ]
  },
  {
   "cell_type": "code",
   "execution_count": 9,
   "id": "f2a48e45-52f5-470b-8e0d-dba7112b6ab6",
   "metadata": {},
   "outputs": [],
   "source": [
    "# the pest folder\n",
    "f_d = os.path.join('handling_files')"
   ]
  },
  {
   "cell_type": "code",
   "execution_count": 13,
   "id": "39db16da-4843-428d-b44b-e5a4d974f6f0",
   "metadata": {},
   "outputs": [],
   "source": [
    "pst = pyemu.Pst(os.path.join(f_d,\"00_freyberg_pp.pst\"))"
   ]
  },
  {
   "cell_type": "markdown",
   "id": "2e969a84-af9e-43c7-9919-f2cd326aa64a",
   "metadata": {},
   "source": [
    "The Pst class\n",
    "The same for *"
   ]
  },
  {
   "cell_type": "code",
   "execution_count": 46,
   "id": "ea25b08f-844c-4e96-800e-38b8bf927ca1",
   "metadata": {},
   "outputs": [
    {
     "data": {
      "text/html": [
       "<div>\n",
       "<style scoped>\n",
       "    .dataframe tbody tr th:only-of-type {\n",
       "        vertical-align: middle;\n",
       "    }\n",
       "\n",
       "    .dataframe tbody tr th {\n",
       "        vertical-align: top;\n",
       "    }\n",
       "\n",
       "    .dataframe thead th {\n",
       "        text-align: right;\n",
       "    }\n",
       "</style>\n",
       "<table border=\"1\" class=\"dataframe\">\n",
       "  <thead>\n",
       "    <tr style=\"text-align: right;\">\n",
       "      <th></th>\n",
       "      <th>obsnme</th>\n",
       "      <th>obsval</th>\n",
       "      <th>weight</th>\n",
       "      <th>obgnme</th>\n",
       "      <th>extra</th>\n",
       "    </tr>\n",
       "    <tr>\n",
       "      <th>obsnme</th>\n",
       "      <th></th>\n",
       "      <th></th>\n",
       "      <th></th>\n",
       "      <th></th>\n",
       "      <th></th>\n",
       "    </tr>\n",
       "  </thead>\n",
       "  <tbody>\n",
       "    <tr>\n",
       "      <th>vol_total_19791231</th>\n",
       "      <td>vol_total_19791231</td>\n",
       "      <td>4774.00</td>\n",
       "      <td>0.0</td>\n",
       "      <td>vol_total</td>\n",
       "      <td>NaN</td>\n",
       "    </tr>\n",
       "    <tr>\n",
       "      <th>vol_total_19800101</th>\n",
       "      <td>vol_total_19800101</td>\n",
       "      <td>4774.00</td>\n",
       "      <td>0.0</td>\n",
       "      <td>vol_total</td>\n",
       "      <td>NaN</td>\n",
       "    </tr>\n",
       "    <tr>\n",
       "      <th>vol_wells_19700102</th>\n",
       "      <td>vol_wells_19700102</td>\n",
       "      <td>-1905.12</td>\n",
       "      <td>0.0</td>\n",
       "      <td>vol_wells</td>\n",
       "      <td>NaN</td>\n",
       "    </tr>\n",
       "    <tr>\n",
       "      <th>vol_wells_19791231</th>\n",
       "      <td>vol_wells_19791231</td>\n",
       "      <td>-8694015.00</td>\n",
       "      <td>0.0</td>\n",
       "      <td>vol_wells</td>\n",
       "      <td>NaN</td>\n",
       "    </tr>\n",
       "    <tr>\n",
       "      <th>vol_wells_19800101</th>\n",
       "      <td>vol_wells_19800101</td>\n",
       "      <td>-8696396.00</td>\n",
       "      <td>0.0</td>\n",
       "      <td>vol_wells</td>\n",
       "      <td>NaN</td>\n",
       "    </tr>\n",
       "  </tbody>\n",
       "</table>\n",
       "</div>"
      ],
      "text/plain": [
       "                                obsnme      obsval  weight     obgnme  extra\n",
       "obsnme                                                                      \n",
       "vol_total_19791231  vol_total_19791231     4774.00     0.0  vol_total    NaN\n",
       "vol_total_19800101  vol_total_19800101     4774.00     0.0  vol_total    NaN\n",
       "vol_wells_19700102  vol_wells_19700102    -1905.12     0.0  vol_wells    NaN\n",
       "vol_wells_19791231  vol_wells_19791231 -8694015.00     0.0  vol_wells    NaN\n",
       "vol_wells_19800101  vol_wells_19800101 -8696396.00     0.0  vol_wells    NaN"
      ]
     },
     "execution_count": 46,
     "metadata": {},
     "output_type": "execute_result"
    }
   ],
   "source": [
    "pst.observation_data.tail()"
   ]
  },
  {
   "cell_type": "code",
   "execution_count": null,
   "id": "2874f43b-fd12-499a-82fd-2a17bb649d3c",
   "metadata": {},
   "outputs": [],
   "source": [
    "pst.observation_data.head()"
   ]
  },
  {
   "cell_type": "code",
   "execution_count": null,
   "id": "26688a00-1b5d-4c74-9cff-fe43451c93f0",
   "metadata": {},
   "outputs": [],
   "source": [
    "pst.control_data.formatted_values"
   ]
  },
  {
   "cell_type": "markdown",
   "id": "1281c58a-8c7d-4bea-8ae2-dd1fa06a1e8e",
   "metadata": {},
   "source": [
    "# PEST++ Options  .... Control data ?"
   ]
  },
  {
   "cell_type": "markdown",
   "id": "001e000b-373b-46a0-ab92-c81d1bd07890",
   "metadata": {},
   "source": [
    "## write"
   ]
  },
  {
   "cell_type": "code",
   "execution_count": 16,
   "id": "02374b14-ee9d-4a54-8a97-d6cca1b3c40d",
   "metadata": {},
   "outputs": [
    {
     "data": {
      "text/plain": [
       "{'n_iter_base': '-1',\n",
       " 'lambda_scale_fac': '1.0',\n",
       " 'n_iter_super': '3',\n",
       " 'lambdas': '0.1,1.0,10.0',\n",
       " 'forecasts': 'travel_time,fa_headwaters_0001,c001fr16c17_19791231,c001fr05c04_19791231',\n",
       " 'upgrade_augment': 'false'}"
      ]
     },
     "execution_count": 16,
     "metadata": {},
     "output_type": "execute_result"
    }
   ],
   "source": [
    "pst.pestpp_options"
   ]
  },
  {
   "cell_type": "markdown",
   "id": "d6415461-0545-47db-bb28-778c87c9be5f",
   "metadata": {},
   "source": [
    " (#) Pst.write() method.  (#) .add_parameters() method"
   ]
  },
  {
   "cell_type": "code",
   "execution_count": 20,
   "id": "7df55b70-9440-4243-aaf2-ffec55b35727",
   "metadata": {},
   "outputs": [],
   "source": [
    "tpl_filename = os.path.join(f_d,\"Beta_special_pars.dat.tpl\")\n",
    "with open(tpl_filename,'w') as f:\n",
    "    f.write(\"ptf ~\\n\")\n",
    "    f.write(\"special_par1  ~  special_par1   ~\\n\")\n",
    "    f.write(\"special_par2  ~  special_par2   ~\\n\")"
   ]
  },
  {
   "cell_type": "code",
   "execution_count": 39,
   "id": "ad3c1949-8ad0-4a8e-ba92-9a1c755c61c2",
   "metadata": {},
   "outputs": [
    {
     "name": "stdout",
     "output_type": "stream",
     "text": [
      "                               ptf ~\n",
      "0  special_par1  ~  special_par1   ~\n",
      "1  special_par2  ~  special_par2   ~\n"
     ]
    }
   ],
   "source": [
    "import pandas as pd\n",
    "data1 = pd.read_csv('Beta_special.csv')\n",
    "print(data1)"
   ]
  },
  {
   "cell_type": "markdown",
   "id": "316ab0f2-5c00-400e-81b9-b1bc1ca05641",
   "metadata": {},
   "source": [
    " "
   ]
  },
  {
   "cell_type": "markdown",
   "id": "6aa2b1c1-6871-4938-ba41-28133ea004a9",
   "metadata": {},
   "source": [
    " "
   ]
  },
  {
   "cell_type": "markdown",
   "id": "7819d14c-1561-45ca-beec-bc50420fd477",
   "metadata": {},
   "source": [
    "Writing the .pst control file"
   ]
  },
  {
   "cell_type": "markdown",
   "id": "8bd08a0e-f536-4789-833e-0eeee3527815",
   "metadata": {},
   "source": [
    "Writing the .pst control file\n",
    "Adding Parameters/Observations from .tpl/.ins files"
   ]
  },
  {
   "cell_type": "markdown",
   "id": "218a11ba-7ded-43f3-831a-a4824128c378",
   "metadata": {},
   "source": [
    "Tying Parameters"
   ]
  },
  {
   "cell_type": "markdown",
   "id": "dd8c1259-d516-4595-b236-622740a6e753",
   "metadata": {},
   "source": [
    "Utilities"
   ]
  },
  {
   "cell_type": "markdown",
   "id": "6bc4d43f-adf5-4709-9c44-4e702154cc3a",
   "metadata": {},
   "source": [
    " "
   ]
  },
  {
   "cell_type": "code",
   "execution_count": 42,
   "id": "a5080ba1-ab25-4ba4-a114-f199132b4d63",
   "metadata": {},
   "outputs": [
    {
     "data": {
      "text/plain": [
       "['calhead', 'calflux']"
      ]
     },
     "execution_count": 42,
     "metadata": {},
     "output_type": "execute_result"
    }
   ],
   "source": [
    "pst.nnz_obs_groups"
   ]
  },
  {
   "cell_type": "code",
   "execution_count": 43,
   "id": "3e03ca89-7d35-4a2a-bc45-55c975f5d360",
   "metadata": {},
   "outputs": [
    {
     "data": {
      "text/plain": [
       "(14, 48)"
      ]
     },
     "execution_count": 43,
     "metadata": {},
     "output_type": "execute_result"
    }
   ],
   "source": [
    "pst.nnz_obs, pst.npar_adj"
   ]
  },
  {
   "cell_type": "code",
   "execution_count": 44,
   "id": "7a7ba876-2de2-43f1-a82e-f0b0bd82b0cd",
   "metadata": {},
   "outputs": [
    {
     "data": {
      "text/plain": [
       "['hk', 'porosity', 'rch', 'sfr', 'w0']"
      ]
     },
     "execution_count": 44,
     "metadata": {},
     "output_type": "execute_result"
    }
   ],
   "source": [
    "pst.adj_par_groups[:5]"
   ]
  },
  {
   "cell_type": "markdown",
   "id": "81383011-2e16-4d29-b4f2-62bd2b86cd6d",
   "metadata": {},
   "source": [
    "Phi and residuals"
   ]
  },
  {
   "cell_type": "markdown",
   "id": "d7cf95af-fff9-47d1-b2aa-d7fdbdc5b760",
   "metadata": {},
   "source": [
    "# RES"
   ]
  },
  {
   "cell_type": "code",
   "execution_count": 57,
   "id": "faeb9b5a-5314-4094-af25-c6a308c56940",
   "metadata": {},
   "outputs": [
    {
     "data": {
      "text/html": [
       "<div>\n",
       "<style scoped>\n",
       "    .dataframe tbody tr th:only-of-type {\n",
       "        vertical-align: middle;\n",
       "    }\n",
       "\n",
       "    .dataframe tbody tr th {\n",
       "        vertical-align: top;\n",
       "    }\n",
       "\n",
       "    .dataframe thead th {\n",
       "        text-align: right;\n",
       "    }\n",
       "</style>\n",
       "<table border=\"1\" class=\"dataframe\">\n",
       "  <thead>\n",
       "    <tr style=\"text-align: right;\">\n",
       "      <th></th>\n",
       "      <th>name</th>\n",
       "      <th>group</th>\n",
       "      <th>measured</th>\n",
       "      <th>modelled</th>\n",
       "      <th>residual</th>\n",
       "      <th>weight</th>\n",
       "    </tr>\n",
       "    <tr>\n",
       "      <th>name</th>\n",
       "      <th></th>\n",
       "      <th></th>\n",
       "      <th></th>\n",
       "      <th></th>\n",
       "      <th></th>\n",
       "      <th></th>\n",
       "    </tr>\n",
       "  </thead>\n",
       "  <tbody>\n",
       "    <tr>\n",
       "      <th>pcc_418</th>\n",
       "      <td>pcc_418</td>\n",
       "      <td>regul_cc</td>\n",
       "      <td>0.0</td>\n",
       "      <td>-0.310307</td>\n",
       "      <td>-0.310307</td>\n",
       "      <td>0.753638</td>\n",
       "    </tr>\n",
       "    <tr>\n",
       "      <th>pcc_419</th>\n",
       "      <td>pcc_419</td>\n",
       "      <td>regul_cc</td>\n",
       "      <td>0.0</td>\n",
       "      <td>-0.284973</td>\n",
       "      <td>-0.284973</td>\n",
       "      <td>0.818731</td>\n",
       "    </tr>\n",
       "    <tr>\n",
       "      <th>pcc_420</th>\n",
       "      <td>pcc_420</td>\n",
       "      <td>regul_cc</td>\n",
       "      <td>0.0</td>\n",
       "      <td>0.015029</td>\n",
       "      <td>0.015029</td>\n",
       "      <td>0.818731</td>\n",
       "    </tr>\n",
       "    <tr>\n",
       "      <th>pcc_421</th>\n",
       "      <td>pcc_421</td>\n",
       "      <td>regul_cc</td>\n",
       "      <td>0.0</td>\n",
       "      <td>0.040363</td>\n",
       "      <td>0.040363</td>\n",
       "      <td>0.670320</td>\n",
       "    </tr>\n",
       "    <tr>\n",
       "      <th>pcc_422</th>\n",
       "      <td>pcc_422</td>\n",
       "      <td>regul_cc</td>\n",
       "      <td>0.0</td>\n",
       "      <td>0.025334</td>\n",
       "      <td>0.025334</td>\n",
       "      <td>0.818731</td>\n",
       "    </tr>\n",
       "  </tbody>\n",
       "</table>\n",
       "</div>"
      ],
      "text/plain": [
       "            name     group  measured  modelled  residual    weight\n",
       "name                                                              \n",
       "pcc_418  pcc_418  regul_cc       0.0 -0.310307 -0.310307  0.753638\n",
       "pcc_419  pcc_419  regul_cc       0.0 -0.284973 -0.284973  0.818731\n",
       "pcc_420  pcc_420  regul_cc       0.0  0.015029  0.015029  0.818731\n",
       "pcc_421  pcc_421  regul_cc       0.0  0.040363  0.040363  0.670320\n",
       "pcc_422  pcc_422  regul_cc       0.0  0.025334  0.025334  0.818731"
      ]
     },
     "execution_count": 57,
     "metadata": {},
     "output_type": "execute_result"
    }
   ],
   "source": [
    "pst.res.tail()"
   ]
  },
  {
   "cell_type": "code",
   "execution_count": 59,
   "id": "5d0154fb-b184-4ec1-aaa9-a21f30a40a2b",
   "metadata": {},
   "outputs": [
    {
     "data": {
      "text/plain": [
       "<Axes: xlabel='measured', ylabel='modelled'>"
      ]
     },
     "execution_count": 59,
     "metadata": {},
     "output_type": "execute_result"
    },
    {
     "data": {
      "image/png": "[encoded data removed]",
      "text/plain": [
       "<Figure size 640x480 with 1 Axes>"
      ]
     },
     "metadata": {},
     "output_type": "display_data"
    }
   ],
   "source": [
    "pst.res.plot.scatter('measured', 'modelled')"
   ]
  },
  {
   "cell_type": "code",
   "execution_count": 60,
   "id": "763a7f3c-868d-4e6d-8c8c-7e65d1cf0637",
   "metadata": {},
   "outputs": [
    {
     "data": {
      "text/plain": [
       "412.55703718999166"
      ]
     },
     "execution_count": 60,
     "metadata": {},
     "output_type": "execute_result"
    }
   ],
   "source": [
    "pst.phi"
   ]
  },
  {
   "cell_type": "code",
   "execution_count": null,
   "id": "f4204574-a886-4c14-ac6f-3dc3fc58b4d8",
   "metadata": {},
   "outputs": [],
   "source": [
    "pst.phi_components # C:\\pest\\A\\A1\\GMDSI_notebooks\\dependencies\\pyemu\\pyemu"
   ]
  },
  {
   "cell_type": "markdown",
   "id": "9d6e953b-5d05-4ea7-bd2b-18a9b81de0cd",
   "metadata": {},
   "source": [
    "Adjusting Weights for \"Visibility\""
   ]
  },
  {
   "cell_type": "markdown",
   "id": "c13caea3-2fae-4471-86ea-a54165af42f6",
   "metadata": {},
   "source": [
    "## Graphics"
   ]
  },
  {
   "cell_type": "markdown",
   "id": "8d341caa-9772-4263-8fe9-066e420f7a05",
   "metadata": {},
   "source": [
    "## Geostatistics in pyEMU"
   ]
  },
  {
   "cell_type": "markdown",
   "id": "e4a114da-fa76-4d8e-8106-47c7b4170bbf",
   "metadata": {},
   "source": [
    "## Prior Information Equations"
   ]
  },
  {
   "cell_type": "markdown",
   "id": "7972185c-8175-40b5-b058-f0f4c7625c32",
   "metadata": {},
   "source": [
    "# Matrices"
   ]
  },
  {
   "cell_type": "code",
   "execution_count": 65,
   "id": "fc248685-2968-40d9-bee6-56c3e1bc2381",
   "metadata": {},
   "outputs": [],
   "source": [
    "parcov = pyemu.Cov.from_parameter_data(pst)"
   ]
  },
  {
   "cell_type": "code",
   "execution_count": 66,
   "id": "45b84e6c-9925-477a-b3e0-e228005fe497",
   "metadata": {},
   "outputs": [
    {
     "data": {
      "text/plain": [
       "(['hk00', 'hk01', 'hk02', 'hk03', 'hk04'],\n",
       " ['hk00', 'hk01', 'hk02', 'hk03', 'hk04'])"
      ]
     },
     "execution_count": 66,
     "metadata": {},
     "output_type": "execute_result"
    }
   ],
   "source": [
    "# the first 5 row and col names \n",
    "parcov.row_names[:5], parcov.col_names[:5], "
   ]
  },
  {
   "cell_type": "code",
   "execution_count": 67,
   "id": "d0c80fcd-2c03-44c0-9bff-272f0a09c795",
   "metadata": {},
   "outputs": [],
   "source": [
    "# generate a covariance matrix from observation data (e.g. weights):\n",
    "obscov = pyemu.Cov.from_observation_data(pst)"
   ]
  },
  {
   "cell_type": "code",
   "execution_count": 68,
   "id": "8aeb98c2-6227-4fb6-b18b-acb3b4b8dd45",
   "metadata": {},
   "outputs": [
    {
     "data": {
      "text/plain": [
       "(['c001cr03c10_19700102',\n",
       "  'c001cr03c16_19700102',\n",
       "  'c001cr04c09_19700102',\n",
       "  'c001cr10c02_19700102',\n",
       "  'c001cr14c11_19700102'],\n",
       " ['hk00', 'hk01', 'hk02', 'hk03', 'hk04'])"
      ]
     },
     "execution_count": 68,
     "metadata": {},
     "output_type": "execute_result"
    }
   ],
   "source": [
    "# the first 5 row and col names \n",
    "obscov.row_names[:5], parcov.col_names[:5], "
   ]
  },
  {
   "cell_type": "markdown",
   "id": "d257a5c3-de53-4ff0-8586-6f04662fc43e",
   "metadata": {},
   "source": [
    "The singular values are the diagonal entries of the matrix, arranged in descending order. These can be accessed with the .s attribute. This still returns a Matrix object (technically a vector). Values in the matrix can be accessed in the same fashion as described above."
   ]
  },
  {
   "cell_type": "code",
   "execution_count": null,
   "id": "97852fe3-5309-4300-a5cd-08424f65247f",
   "metadata": {},
   "outputs": [],
   "source": [
    "# get the singular values vector\n",
    "cov_singular_values = cov.s"
   ]
  },
  {
   "cell_type": "markdown",
   "id": "e5cc5111-4e00-48eb-b545-18c60ca4ab4d",
   "metadata": {},
   "source": [
    "## Linear Analysis or FOSM"
   ]
  },
  {
   "cell_type": "markdown",
   "id": "6e531e53-e999-4c93-98c2-83a34e535d24",
   "metadata": {},
   "source": [
    "## ## Ensembles"
   ]
  },
  {
   "cell_type": "code",
   "execution_count": 70,
   "id": "69364176-2702-4033-bca6-cfce6f6f2e0a",
   "metadata": {},
   "outputs": [],
   "source": [
    "# before continuing, we are going to re-load the pest control file to get rid of any changes we introduced\n",
    "pst = pyemu.Pst(os.path.join(f_d,\"freyberg_pp.pst\"))"
   ]
  },
  {
   "cell_type": "code",
   "execution_count": 76,
   "id": "b879c0a7-0f28-48f4-8ab7-8f3f7fd154b2",
   "metadata": {},
   "outputs": [],
   "source": [
    "# the Pst control file object, parameter data here will be used to characterize the ensembles' parameter statisctical distribution\n",
    "pe = pyemu.ParameterEnsemble.from_gaussian_draw(pst, num_reals=200,) # the number of realisations to generate"
   ]
  },
  {
   "cell_type": "code",
   "execution_count": null,
   "id": "31e56bbe-3446-4240-a809-a2eacf70f973",
   "metadata": {},
   "outputs": [],
   "source": [
    "pe.tail()"
   ]
  },
  {
   "cell_type": "code",
   "execution_count": null,
   "id": "fd528003-26ff-47ac-b5ce-ba9587bc8faf",
   "metadata": {},
   "outputs": [],
   "source": [
    "pe.head()"
   ]
  },
  {
   "cell_type": "code",
   "execution_count": null,
   "id": "711b8e5b-267e-4d56-b6e9-756e3247d215",
   "metadata": {},
   "outputs": [],
   "source": [
    "pe.columns.tolist()"
   ]
  },
  {
   "cell_type": "code",
   "execution_count": null,
   "id": "b5f23618-c34a-4afc-ac8f-e2e6ac4cb775",
   "metadata": {},
   "outputs": [],
   "source": [
    "pe.describe()"
   ]
  },
  {
   "cell_type": "code",
   "execution_count": 96,
   "id": "208b4505-9648-4e7c-b40c-aedd9f3c7211",
   "metadata": {},
   "outputs": [
    {
     "name": "stdout",
     "output_type": "stream",
     "text": [
      "return type uncaught, losing Ensemble type, returning DataFrame\n"
     ]
    },
    {
     "data": {
      "text/html": [
       "<div>\n",
       "<style scoped>\n",
       "    .dataframe tbody tr th:only-of-type {\n",
       "        vertical-align: middle;\n",
       "    }\n",
       "\n",
       "    .dataframe tbody tr th {\n",
       "        vertical-align: top;\n",
       "    }\n",
       "\n",
       "    .dataframe thead th {\n",
       "        text-align: right;\n",
       "    }\n",
       "</style>\n",
       "<table border=\"1\" class=\"dataframe\">\n",
       "  <thead>\n",
       "    <tr style=\"text-align: right;\">\n",
       "      <th></th>\n",
       "      <th>hk00</th>\n",
       "      <th>hk01</th>\n",
       "      <th>hk02</th>\n",
       "      <th>hk03</th>\n",
       "      <th>hk04</th>\n",
       "      <th>hk05</th>\n",
       "      <th>hk06</th>\n",
       "      <th>hk07</th>\n",
       "      <th>hk08</th>\n",
       "      <th>hk09</th>\n",
       "      <th>...</th>\n",
       "      <th>w0_r20_c14</th>\n",
       "      <th>w0_r26_c10</th>\n",
       "      <th>w0_r29_c06</th>\n",
       "      <th>w0_r34_c12</th>\n",
       "      <th>w1_r09_c16</th>\n",
       "      <th>w1_r11_c13</th>\n",
       "      <th>w1_r20_c14</th>\n",
       "      <th>w1_r26_c10</th>\n",
       "      <th>w1_r29_c06</th>\n",
       "      <th>w1_r34_c12</th>\n",
       "    </tr>\n",
       "  </thead>\n",
       "  <tbody>\n",
       "    <tr>\n",
       "      <th>0</th>\n",
       "      <td>1.348620</td>\n",
       "      <td>0.919275</td>\n",
       "      <td>23.037294</td>\n",
       "      <td>3.030889</td>\n",
       "      <td>2.821098</td>\n",
       "      <td>0.624022</td>\n",
       "      <td>0.974901</td>\n",
       "      <td>0.507192</td>\n",
       "      <td>2.974361</td>\n",
       "      <td>2.655364</td>\n",
       "      <td>...</td>\n",
       "      <td>0.815864</td>\n",
       "      <td>1.342224</td>\n",
       "      <td>1.290499</td>\n",
       "      <td>0.325450</td>\n",
       "      <td>2.716990</td>\n",
       "      <td>1.326930</td>\n",
       "      <td>1.431658</td>\n",
       "      <td>0.345585</td>\n",
       "      <td>0.509308</td>\n",
       "      <td>0.647105</td>\n",
       "    </tr>\n",
       "    <tr>\n",
       "      <th>1</th>\n",
       "      <td>9.937135</td>\n",
       "      <td>3.909592</td>\n",
       "      <td>27.737862</td>\n",
       "      <td>8.586358</td>\n",
       "      <td>27.210421</td>\n",
       "      <td>31.129223</td>\n",
       "      <td>4.202694</td>\n",
       "      <td>18.075246</td>\n",
       "      <td>1.323913</td>\n",
       "      <td>0.280035</td>\n",
       "      <td>...</td>\n",
       "      <td>0.732026</td>\n",
       "      <td>0.490838</td>\n",
       "      <td>0.708176</td>\n",
       "      <td>1.046858</td>\n",
       "      <td>0.897256</td>\n",
       "      <td>0.438545</td>\n",
       "      <td>6.220819</td>\n",
       "      <td>5.176120</td>\n",
       "      <td>1.730297</td>\n",
       "      <td>0.139882</td>\n",
       "    </tr>\n",
       "    <tr>\n",
       "      <th>2</th>\n",
       "      <td>2.803853</td>\n",
       "      <td>34.800484</td>\n",
       "      <td>10.028206</td>\n",
       "      <td>2.094257</td>\n",
       "      <td>10.876872</td>\n",
       "      <td>1.735232</td>\n",
       "      <td>13.057278</td>\n",
       "      <td>0.700660</td>\n",
       "      <td>20.699641</td>\n",
       "      <td>15.387380</td>\n",
       "      <td>...</td>\n",
       "      <td>0.851178</td>\n",
       "      <td>1.447970</td>\n",
       "      <td>0.749134</td>\n",
       "      <td>0.870983</td>\n",
       "      <td>1.069173</td>\n",
       "      <td>1.972290</td>\n",
       "      <td>2.065087</td>\n",
       "      <td>1.852922</td>\n",
       "      <td>0.981289</td>\n",
       "      <td>1.698536</td>\n",
       "    </tr>\n",
       "    <tr>\n",
       "      <th>3</th>\n",
       "      <td>13.186403</td>\n",
       "      <td>6.580882</td>\n",
       "      <td>3.206028</td>\n",
       "      <td>1.822315</td>\n",
       "      <td>2.847731</td>\n",
       "      <td>2.261236</td>\n",
       "      <td>9.689679</td>\n",
       "      <td>2.357722</td>\n",
       "      <td>20.228090</td>\n",
       "      <td>6.573304</td>\n",
       "      <td>...</td>\n",
       "      <td>1.119692</td>\n",
       "      <td>1.721671</td>\n",
       "      <td>1.156669</td>\n",
       "      <td>1.073564</td>\n",
       "      <td>2.737674</td>\n",
       "      <td>0.633393</td>\n",
       "      <td>1.490536</td>\n",
       "      <td>0.246516</td>\n",
       "      <td>0.673780</td>\n",
       "      <td>12.209267</td>\n",
       "    </tr>\n",
       "  </tbody>\n",
       "</table>\n",
       "<p>4 rows × 48 columns</p>\n",
       "</div>"
      ],
      "text/plain": [
       "        hk00       hk01       hk02      hk03       hk04       hk05       hk06  \\\n",
       "0   1.348620   0.919275  23.037294  3.030889   2.821098   0.624022   0.974901   \n",
       "1   9.937135   3.909592  27.737862  8.586358  27.210421  31.129223   4.202694   \n",
       "2   2.803853  34.800484  10.028206  2.094257  10.876872   1.735232  13.057278   \n",
       "3  13.186403   6.580882   3.206028  1.822315   2.847731   2.261236   9.689679   \n",
       "\n",
       "        hk07       hk08       hk09  ...  w0_r20_c14  w0_r26_c10  w0_r29_c06  \\\n",
       "0   0.507192   2.974361   2.655364  ...    0.815864    1.342224    1.290499   \n",
       "1  18.075246   1.323913   0.280035  ...    0.732026    0.490838    0.708176   \n",
       "2   0.700660  20.699641  15.387380  ...    0.851178    1.447970    0.749134   \n",
       "3   2.357722  20.228090   6.573304  ...    1.119692    1.721671    1.156669   \n",
       "\n",
       "   w0_r34_c12  w1_r09_c16  w1_r11_c13  w1_r20_c14  w1_r26_c10  w1_r29_c06  \\\n",
       "0    0.325450    2.716990    1.326930    1.431658    0.345585    0.509308   \n",
       "1    1.046858    0.897256    0.438545    6.220819    5.176120    1.730297   \n",
       "2    0.870983    1.069173    1.972290    2.065087    1.852922    0.981289   \n",
       "3    1.073564    2.737674    0.633393    1.490536    0.246516    0.673780   \n",
       "\n",
       "   w1_r34_c12  \n",
       "0    0.647105  \n",
       "1    0.139882  \n",
       "2    1.698536  \n",
       "3   12.209267  \n",
       "\n",
       "[4 rows x 48 columns]"
      ]
     },
     "execution_count": 96,
     "metadata": {},
     "output_type": "execute_result"
    }
   ],
   "source": [
    "pe.loc[:3]"
   ]
  },
  {
   "cell_type": "markdown",
   "id": "197b9435-a691-47c2-8a4e-9da1287b8d92",
   "metadata": {},
   "source": [
    "## Bayes Linear Monte Carlo"
   ]
  },
  {
   "cell_type": "code",
   "execution_count": null,
   "id": "7404e0b3-9fef-4bdd-8989-578fead57d89",
   "metadata": {},
   "outputs": [],
   "source": []
  }
 ],
 "metadata": {
  "kernelspec": {
   "display_name": "Python 3 (ipykernel)",
   "language": "python",
   "name": "python3"
  },
  "language_info": {
   "codemirror_mode": {
    "name": "ipython",
    "version": 3
   },
   "file_extension": ".py",
   "mimetype": "text/x-python",
   "name": "python",
   "nbconvert_exporter": "python",
   "pygments_lexer": "ipython3",
   "version": "3.11.10"
  }
 },
 "nbformat": 4,
 "nbformat_minor": 5
}
