{
 "cells": [
  {
   "cell_type": "markdown",
   "metadata": {},
   "source": [
    "# Intro to the model\n",
    "\n",
    "## Freyberg (1988) - \"An Exercise in Ground-Water Model Calibration and Prediction\" \n",
    "\n",
    "\n",
    "> \"*The goal of parameter identification is rarely the parameter estimates. Rather, the ultimate goal is nearly always a prediction .*\"\n",
    ">-David Freyberg (1988)\n",
    "\n",
    "\n",
    "The following series of tutorials make use of a synthetic model. This model is a variant of the model originally created by David Freyberg at Stanford University in the late 1980s. David Freyberg designed a simple model to give to a graduate class and asked them each to \"calibrate\" the model. Students were provided with an extensive amount of data:\n",
    "\n",
    "1. the water level (perfectly represented) in a number of wells\n",
    "2. the bedrock elevation at those same well locations\n",
    "3. all the lateral aquifer geometry\n",
    "4. boundary conditions including lateral flows \n",
    "5. well pumping rates \n",
    "\n",
    "The forecast of interest was the head if the river channel was lined (e.g. conductance reduced greatly).\n",
    "\n",
    "There are interesting insights in the paper, but perhaps the most interesting is illustrated by the figure below: just because a model is good at fitting measurement data, does not mean it is good at making a prediction!\n",
    "\n",
    "<img src=\"./intro_freyberg_model_files/cal_pred.png\" style=\"float: center; width: 75%;  margin-bottom: 0.5em;\">\n",
    "\n",
    "\n",
    "You can read the original paper here:\n",
    "\n",
    "> *Freyberg, David L. 1988. “AN EXERCISE IN GROUND-WATER MODEL CALIBRATION AND PREDICTION.” Ground Water 26 (3): 350–60. doi:10.1111/j.1745-6584.1988.tb00399.x.*\n",
    "\n",
    "And more recently, the same exercise was revisited in a contemporary context:\n",
    "\n",
    "> *Hunt, Randall J., Michael N. Fienen, and Jeremy T. White. 2019. “Revisiting ‘An Exercise in Groundwater Model Calibration and Prediction’ After 30 Years: Insights and New Directions.” Groundwater, July, gwat.12907. doi:10.1111/gwat.12907.* \n",
    "   "
   ]
  },
  {
   "cell_type": "markdown",
   "metadata": {},
   "source": [
    "## The Modified-Freyberg Model\n",
    "\n",
    "Using a synthetic model allows us to know the \"truth\". It also allows us to design it to be fast-running. Both usefull characteristics for a tutorial model. For the current set of tutorials we will be using a variant of the Freyberg model. It is also similar to the model described in the PEST++ documentation:\n",
    "> White, J.T., Hunt, R.J., Fienen, M.N., and Doherty, J.E., 2020, Approaches to Highly Parameterized > Inversion: PEST++ Version 5, a Software Suite for Parameter Estimation, Uncertainty Analysis, Management > Optimization and Sensitivity Analysis: U.S. Geological Survey Techniques and Methods 7C26, 52 p., https://> doi.org/10.3133/tm7C26.\n",
    "\n",
    "Some of the parameterisation and selected observation data are different. We also include additional particle tracking simulated using MODPATH7. \n",
    "\n",
    "Let's get acquainted with it."
   ]
  },
  {
   "cell_type": "markdown",
   "metadata": {},
   "source": [
    "### Admin\n",
    "First some admin. You will see this in most of the tutorial notebooks. Load the dependencies and organize model folders. Let's copy the original model folder into a new working directory, just to ensure we don't mess up the base files. Simply run the next cells by pressing `shift+enter`."
   ]
  },
  {
   "cell_type": "code",
   "execution_count": 1,
   "metadata": {},
   "outputs": [],
   "source": [
    "import os\n",
    "import shutil\n",
    "import platform\n",
    "import pandas as pd\n",
    "import matplotlib.pyplot as plt\n",
    "import sys\n",
    "# sys.path.append(os.path.join(\"..\", \"..\", \"dependencies\"))\n",
    "import flopy\n",
    "import pyemu\n",
    "assert \"dependencies\" in flopy.__file__\n",
    "assert \"dependencies\" in pyemu.__file__\n",
    "sys.path.insert(0,\"..\")\n",
    "import herebedragons as hbd"
   ]
  },
  {
   "cell_type": "code",
   "execution_count": 4,
   "metadata": {},
   "outputs": [],
   "source": [
    "# folder containing original model files\n",
    "# set a new workspace folder to avoid breaking things by mistake"
   ]
  },
  {
   "cell_type": "code",
   "execution_count": 5,
   "metadata": {},
   "outputs": [],
   "source": [
    "org_ws = os.path.join('..', '..', 'models', 'monthly_model_files_1lyr_newstress')\n",
    "sim_ws = os.path.join('freyberg_mf6')"
   ]
  },
  {
   "cell_type": "code",
   "execution_count": 6,
   "metadata": {},
   "outputs": [],
   "source": [
    "# remove existing folder\n",
    "if os.path.exists(sim_ws):\n",
    "    shutil.rmtree(sim_ws)\n",
    "# copy the original model folder across\n",
    "shutil.copytree(org_ws, sim_ws)\n",
    "# bring over the correct binaries\n",
    "hbd.prep_bins(sim_ws)"
   ]
  },
  {
   "cell_type": "markdown",
   "metadata": {},
   "source": [
    "Load and run the simulation. \n",
    "\n",
    "It should take less than a second. (If only all models were so fast!) As you can see, the model is fast and numerically stable. When undertaking highly-parameterized inversion, a model will be simulated many, many times; and run-times add up quickly! A modeller needs to take this factor into account during model design."
   ]
  },
  {
   "cell_type": "code",
   "execution_count": 7,
   "metadata": {},
   "outputs": [],
   "source": [
    "# load simulation\n",
    "sim = flopy.mf6.MFSimulation.load(sim_ws=sim_ws, verbosity_level=0)\n",
    "\n",
    "# load flow model\n",
    "gwf = sim.get_model()\n",
    "\n",
    "# run the model\n",
    "#sim.run_simulation()\n",
    "pyemu.os_utils.run(\"mf6\",cwd=sim_ws)"
   ]
  },
  {
   "cell_type": "markdown",
   "metadata": {},
   "source": [
    "### Model Domain, BCs and Properties\n",
    "\n",
    "The figure belows shows the model domain and boundary conditions. The model has 1 layer, 40 rows and 20 columns. Cell dimensions are 250m x 250m. There are inactive outcrop areas within the model domain (shown in black in the figure)."
   ]
  },
  {
   "cell_type": "code",
   "execution_count": 4,
   "metadata": {},
   "outputs": [
    {
     "name": "stdout",
     "output_type": "stream",
     "text": [
      "layers:1 nrows:40 columns:20\n"
     ]
    }
   ],
   "source": [
    "dis = gwf.dis\n",
    "print(f'layers:{dis.nlay.get_data()} nrows:{dis.nrow.get_data()} columns:{dis.ncol.get_data()}')"
   ]
  },
  {
   "cell_type": "markdown",
   "metadata": {},
   "source": [
    "There is a GHB along the southern boundary. All other external boundaries are no-flow. \n",
    "\n",
    "The surface-water system consists of a straight stream flowing north to south, which is simulated using the Streamflow Routing (SFR) package. SFR reaches raverse the model domain from row 1 to row 40 in column 16. Surface-water flow observations are monitored in reach 40 (the terminal reach). \n",
    "\n",
    "There are six groundwater extraction wells (red cells) and several monitoring wells (not shown). \n",
    "\n",
    "Water enters the model domain as recharge and stream leakage in layer 1. It leaves through groundwater discharge to the surface-water, groundwater extraction and through the downgradient GHB. "
   ]
  },
  {
   "cell_type": "code",
   "execution_count": 7,
   "metadata": {},
   "outputs": [
    {
     "ename": "NameError",
     "evalue": "name 'plt' is not defined",
     "output_type": "error",
     "traceback": [
      "\u001b[1;31m---------------------------------------------------------------------------\u001b[0m",
      "\u001b[1;31mNameError\u001b[0m                                 Traceback (most recent call last)",
      "Cell \u001b[1;32mIn[7], line 2\u001b[0m\n\u001b[0;32m      1\u001b[0m \u001b[38;5;66;03m# plot\u001b[39;00m\n\u001b[1;32m----> 2\u001b[0m fig \u001b[38;5;241m=\u001b[39m \u001b[43mplt\u001b[49m\u001b[38;5;241m.\u001b[39mfigure(figsize\u001b[38;5;241m=\u001b[39m(\u001b[38;5;241m7\u001b[39m, \u001b[38;5;241m7\u001b[39m))\n\u001b[0;32m      4\u001b[0m ax \u001b[38;5;241m=\u001b[39m fig\u001b[38;5;241m.\u001b[39madd_subplot(\u001b[38;5;241m1\u001b[39m, \u001b[38;5;241m1\u001b[39m, \u001b[38;5;241m1\u001b[39m, aspect\u001b[38;5;241m=\u001b[39m\u001b[38;5;124m'\u001b[39m\u001b[38;5;124mequal\u001b[39m\u001b[38;5;124m'\u001b[39m)\n\u001b[0;32m      5\u001b[0m mm \u001b[38;5;241m=\u001b[39m flopy\u001b[38;5;241m.\u001b[39mplot\u001b[38;5;241m.\u001b[39mPlotMapView(model\u001b[38;5;241m=\u001b[39mgwf, ax\u001b[38;5;241m=\u001b[39max, layer\u001b[38;5;241m=\u001b[39m\u001b[38;5;241m0\u001b[39m)\n",
      "\u001b[1;31mNameError\u001b[0m: name 'plt' is not defined"
     ]
    }
   ],
   "source": [
    "# plot\n",
    "fig = plt.figure(figsize=(7, 7))\n",
    "\n",
    "ax = fig.add_subplot(1, 1, 1, aspect='equal')\n",
    "mm = flopy.plot.PlotMapView(model=gwf, ax=ax, layer=0)\n",
    "\n",
    "mm.plot_grid()\n",
    "mm.plot_inactive()\n",
    "# Plot grid \n",
    "# you can plot BC cells using the plot_bc() \n",
    "mm.plot_bc('ghb')\n",
    "mm.plot_bc('sfr')\n",
    "mm.plot_bc('wel');"
   ]
  },
  {
   "cell_type": "markdown",
   "metadata": {},
   "source": [
    "Take a quick look at everyone's favourite parameter, hydraulic conductivity (K):"
   ]
  },
  {
   "cell_type": "code",
   "execution_count": 5,
   "metadata": {},
   "outputs": [
    {
     "ename": "NameError",
     "evalue": "name 'gwf' is not defined",
     "output_type": "error",
     "traceback": [
      "\u001b[1;31m---------------------------------------------------------------------------\u001b[0m",
      "\u001b[1;31mNameError\u001b[0m                                 Traceback (most recent call last)",
      "Cell \u001b[1;32mIn[5], line 1\u001b[0m\n\u001b[1;32m----> 1\u001b[0m \u001b[38;5;28;01mfor\u001b[39;00m lay \u001b[38;5;129;01min\u001b[39;00m \u001b[38;5;28mrange\u001b[39m(\u001b[43mgwf\u001b[49m\u001b[38;5;241m.\u001b[39mdis\u001b[38;5;241m.\u001b[39mnlay\u001b[38;5;241m.\u001b[39marray):\n\u001b[0;32m      2\u001b[0m     \u001b[38;5;28mprint\u001b[39m(\u001b[38;5;124mf\u001b[39m\u001b[38;5;124m'\u001b[39m\u001b[38;5;124mK in layer \u001b[39m\u001b[38;5;132;01m{\u001b[39;00mlay\u001b[38;5;241m+\u001b[39m\u001b[38;5;241m1\u001b[39m\u001b[38;5;132;01m}\u001b[39;00m\u001b[38;5;124m:\u001b[39m\u001b[38;5;124m'\u001b[39m, \u001b[38;5;124m\"\u001b[39m\u001b[38;5;132;01m{:10.1f}\u001b[39;00m\u001b[38;5;124m\"\u001b[39m\u001b[38;5;241m.\u001b[39mformat(gwf\u001b[38;5;241m.\u001b[39mnpf\u001b[38;5;241m.\u001b[39mk\u001b[38;5;241m.\u001b[39mget_data(lay)\u001b[38;5;241m.\u001b[39mmean()))\n",
      "\u001b[1;31mNameError\u001b[0m: name 'gwf' is not defined"
     ]
    }
   ],
   "source": [
    "for lay in range(gwf.dis.nlay.array):\n",
    "    print(f'K in layer {lay+1}:', \"{:10.1f}\".format(gwf.npf.k.get_data(lay).mean()))"
   ]
  },
  {
   "cell_type": "code",
   "execution_count": 6,
   "metadata": {},
   "outputs": [
    {
     "ename": "NameError",
     "evalue": "name 'gwf' is not defined",
     "output_type": "error",
     "traceback": [
      "\u001b[1;31m---------------------------------------------------------------------------\u001b[0m",
      "\u001b[1;31mNameError\u001b[0m                                 Traceback (most recent call last)",
      "Cell \u001b[1;32mIn[6], line 1\u001b[0m\n\u001b[1;32m----> 1\u001b[0m \u001b[43mgwf\u001b[49m\u001b[38;5;241m.\u001b[39mnpf\u001b[38;5;241m.\u001b[39mk\u001b[38;5;241m.\u001b[39mplot(colorbar\u001b[38;5;241m=\u001b[39m\u001b[38;5;28;01mTrue\u001b[39;00m, mflay\u001b[38;5;241m=\u001b[39m\u001b[38;5;241m0\u001b[39m);\n",
      "\u001b[1;31mNameError\u001b[0m: name 'gwf' is not defined"
     ]
    }
   ],
   "source": [
    "gwf.npf.k.plot(colorbar=True, mflay=0);"
   ]
  },
  {
   "cell_type": "markdown",
   "metadata": {},
   "source": [
    "Surface topography and the bottom elevation are not uniform (see plots below), with a top and bottom elevation of 32.5m and 30m, respectively."
   ]
  },
  {
   "cell_type": "code",
   "execution_count": null,
   "metadata": {},
   "outputs": [],
   "source": [
    "# plot model top\n",
    "gwf.dis.top.plot(colorbar=True, masked_values=[-1049.99])\n",
    "\n",
    "# plot bottom of bottom layer\n",
    "gwf.dis.botm.plot(colorbar=True);"
   ]
  },
  {
   "cell_type": "markdown",
   "metadata": {},
   "source": [
    "### Time Discretisation\n",
    "\n",
    "The model simulates 25 stress-periods: 1 steady-state, followed by 24 transient stress periods. \n",
    "\n",
    "Conceptualy, the first 12 transient stress periods represent the \"historical\" conditions. Simulated outputs from this period (using the \"true\" parameter field) are used as \"observations\" for history matching. These represent field measurments in from our fictional site.\n",
    "\n",
    "The last 12 transient stress periods conceptualy represent the unmeasured, future condition. The period for which predictions are required. Selected model outputs simulated during this period form a set of \"forecasts\" or \"predicitons\" of management interest. "
   ]
  },
  {
   "cell_type": "markdown",
   "metadata": {},
   "source": [
    "## Observation Data\n",
    "\n",
    "The following field data are available as \"observations\" for the purposes of history matching:\n",
    " - surface-water flow at the terminal reach (stress period 2 to 13);\n",
    " - groundwater levels at two sites (stress period 2 to 13); \n",
    "\n",
    "\"Measured\" data was generated using the same model, but with higher spatial and temporal resolution (i.e. a finer grid and daily stress periods) and randomly generated parameters."
   ]
  },
  {
   "cell_type": "code",
   "execution_count": null,
   "metadata": {},
   "outputs": [],
   "source": [
    "obs_data = pd.read_csv(os.path.join('..','..','models','daily_freyberg_mf6_truth','obs_data.csv'))\n",
    "obs_data = obs_data.pivot(index='time', columns='site', values='value')\n",
    "obs_data.head()"
   ]
  },
  {
   "cell_type": "markdown",
   "metadata": {},
   "source": [
    "Model simulated counterparts to these observations are recorded in external CSV files. Let's take a look:"
   ]
  },
  {
   "cell_type": "code",
   "execution_count": null,
   "metadata": {},
   "outputs": [],
   "source": [
    "# check the output csv file names\n",
    "for i in gwf.obs:\n",
    "    print(i.output.obs_names)"
   ]
  },
  {
   "cell_type": "markdown",
   "metadata": {},
   "source": [
    "We can read the `sfr.csv` output file, and inspect the values:"
   ]
  },
  {
   "cell_type": "code",
   "execution_count": 2,
   "metadata": {},
   "outputs": [
    {
     "ename": "NameError",
     "evalue": "name 'pd' is not defined",
     "output_type": "error",
     "traceback": [
      "\u001b[1;31m---------------------------------------------------------------------------\u001b[0m",
      "\u001b[1;31mNameError\u001b[0m                                 Traceback (most recent call last)",
      "Cell \u001b[1;32mIn[2], line 1\u001b[0m\n\u001b[1;32m----> 1\u001b[0m sfr_obs \u001b[38;5;241m=\u001b[39m \u001b[43mpd\u001b[49m\u001b[38;5;241m.\u001b[39mread_csv(os\u001b[38;5;241m.\u001b[39mpath\u001b[38;5;241m.\u001b[39mjoin(sim_ws, \u001b[38;5;124m'\u001b[39m\u001b[38;5;124msfr.csv\u001b[39m\u001b[38;5;124m'\u001b[39m))\n\u001b[0;32m      2\u001b[0m sfr_obs\u001b[38;5;241m.\u001b[39mhead()\n",
      "\u001b[1;31mNameError\u001b[0m: name 'pd' is not defined"
     ]
    }
   ],
   "source": [
    "sfr_obs = pd.read_csv(os.path.join(sim_ws, 'sfr.csv'))\n",
    "sfr_obs.head()"
   ]
  },
  {
   "cell_type": "markdown",
   "metadata": {},
   "source": [
    "Simulated values for surface-water flow at the terminal reach are recorded in the \"GAGE1\" column:"
   ]
  },
  {
   "cell_type": "code",
   "execution_count": 3,
   "metadata": {},
   "outputs": [
    {
     "ename": "NameError",
     "evalue": "name 'plt' is not defined",
     "output_type": "error",
     "traceback": [
      "\u001b[1;31m---------------------------------------------------------------------------\u001b[0m",
      "\u001b[1;31mNameError\u001b[0m                                 Traceback (most recent call last)",
      "Cell \u001b[1;32mIn[3], line 2\u001b[0m\n\u001b[0;32m      1\u001b[0m site \u001b[38;5;241m=\u001b[39m \u001b[38;5;124m'\u001b[39m\u001b[38;5;124mGAGE-1\u001b[39m\u001b[38;5;124m'\u001b[39m\n\u001b[1;32m----> 2\u001b[0m fig,ax\u001b[38;5;241m=\u001b[39m\u001b[43mplt\u001b[49m\u001b[38;5;241m.\u001b[39msubplots(\u001b[38;5;241m1\u001b[39m,\u001b[38;5;241m1\u001b[39m)\n\u001b[0;32m      3\u001b[0m obs_data\u001b[38;5;241m.\u001b[39mplot(y\u001b[38;5;241m=\u001b[39msite, ax\u001b[38;5;241m=\u001b[39max, label\u001b[38;5;241m=\u001b[39m\u001b[38;5;124m'\u001b[39m\u001b[38;5;124mmeasured\u001b[39m\u001b[38;5;124m'\u001b[39m)\n\u001b[0;32m      4\u001b[0m sfr_obs\u001b[38;5;241m.\u001b[39mplot(x\u001b[38;5;241m=\u001b[39m\u001b[38;5;124m'\u001b[39m\u001b[38;5;124mtime\u001b[39m\u001b[38;5;124m'\u001b[39m, y\u001b[38;5;241m=\u001b[39msite, ax\u001b[38;5;241m=\u001b[39max, label\u001b[38;5;241m=\u001b[39m\u001b[38;5;124m'\u001b[39m\u001b[38;5;124mmodelled\u001b[39m\u001b[38;5;124m'\u001b[39m)\n",
      "\u001b[1;31mNameError\u001b[0m: name 'plt' is not defined"
     ]
    }
   ],
   "source": [
    "site = 'GAGE-1'\n",
    "fig,ax=plt.subplots(1,1)\n",
    "obs_data.plot(y=site, ax=ax, label='measured')\n",
    "sfr_obs.plot(x='time', y=site, ax=ax, label='modelled')\n",
    "ax.set_title(site);"
   ]
  },
  {
   "cell_type": "markdown",
   "metadata": {},
   "source": [
    "Simulated groundwater levels are recorded in the \"heads.csv\" file. Several monitoring sites are simulated, however there is measured data for a only a few of these. \n",
    "\n",
    "The sites for which \"measured data\" are available are named:\n",
    " - TRGW-0-26-6\n",
    " - TRGW-0-3-8\n",
    "\n",
    "The site naming convention is: \"TRGW-layer-row-column\"."
   ]
  },
  {
   "cell_type": "code",
   "execution_count": null,
   "metadata": {},
   "outputs": [],
   "source": [
    "hds_obs = pd.read_csv(os.path.join(sim_ws, 'heads.csv'))\n",
    "hds_obs.head()"
   ]
  },
  {
   "cell_type": "markdown",
   "metadata": {},
   "source": [
    "Let's make a quick plot of time series of simulated groundwater levels at both measured sites:"
   ]
  },
  {
   "cell_type": "code",
   "execution_count": null,
   "metadata": {},
   "outputs": [],
   "source": [
    "for site in ['TRGW-0-26-6','TRGW-0-3-8']:\n",
    "    fig,ax=plt.subplots(1,1)\n",
    "    obs_data.plot(y=site, ax=ax, label='measured')\n",
    "    hds_obs.plot(x='time', y=site, ax=ax, label='modelled')\n",
    "    ax.set_title(site);"
   ]
  },
  {
   "cell_type": "markdown",
   "metadata": {},
   "source": [
    "Whilst we are at it, lets just make a plot of the spatial distribution of simulated heads:"
   ]
  },
  {
   "cell_type": "code",
   "execution_count": null,
   "metadata": {},
   "outputs": [],
   "source": [
    "hdobj = gwf.output.head()\n",
    "times = hdobj.get_times()\n",
    "hdobj.plot(mflay=0, colorbar=True, totim=times[-1], masked_values=[1e30]);"
   ]
  },
  {
   "cell_type": "markdown",
   "metadata": {},
   "source": [
    "## Forecasts\n",
    "\n",
    "Three model simulated outputs are included as forecast \"observations\". These represent predictions of management interest for our imaginary case. Simulated forecasts are:\n",
    " - aggregated surface-water/grounwdater exchange for reaches 1-20 (recorded under \"headwater\" in the sfr.csv file) during stress period 22;\n",
    " - aggregated surface-water/grounwdater exchange for reaches 21-40 (recorded under \"tailwater\" in the sfr.csv file) during stress period 22;\n",
    " - groundwater level at TRGW_0_9_1 at the end of stress period 22;\n",
    " - travel time for a particle released in the north-west of the domain to exit the model domain.\n",
    "\n",
    "These forecasts were selected to represent model outputs that are informed in varying degrees by the history matching data. Throughout the tutorials we will compare our simulated forecast and uncertainty against \"true\" values obtained by running the same model with which we generated \"measured\" observation data. "
   ]
  }
 ],
 "metadata": {
  "kernelspec": {
   "display_name": "Python 3 (ipykernel)",
   "language": "python",
   "name": "python3"
  },
  "language_info": {
   "codemirror_mode": {
    "name": "ipython",
    "version": 3
   },
   "file_extension": ".py",
   "mimetype": "text/x-python",
   "name": "python",
   "nbconvert_exporter": "python",
   "pygments_lexer": "ipython3",
   "version": "3.11.10"
  }
 },
 "nbformat": 4,
 "nbformat_minor": 4
}
