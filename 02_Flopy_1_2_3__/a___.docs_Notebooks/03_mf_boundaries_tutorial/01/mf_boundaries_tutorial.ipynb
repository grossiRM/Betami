{
 "cells": [
  {
   "cell_type": "markdown",
   "id": "6bf1d0f4",
   "metadata": {},
   "source": [
    "# MODFLOW-2005 Basic stress packages\n",
    "\n",
    "Flopy has a new way to enter boundary conditions for some MODFLOW packages.  These changes are substantial.  Boundary conditions can now be entered as a list of boundaries, as a numpy recarray, or as a dictionary.  These different styles are described in this notebook.\n",
    "\n",
    "Flopy also now requires zero-based input.  This means that **all boundaries are entered in zero-based layer, row, and column indices**.  This means that older Flopy scripts will need to be modified to account for this change.  If you are familiar with Python, this should be natural, but if not, then it may take some time to get used to zero-based numbering.  Flopy users submit all information in zero-based form, and Flopy converts this to the one-based form required by MODFLOW.\n",
    "\n",
    "The following MODFLOW-2005 packages are affected by this change:\n",
    "\n",
    "  * Well\n",
    "  * Drain\n",
    "  * River\n",
    "  * General-Head Boundary\n",
    "  * Time-Variant Constant Head\n",
    "\n",
    "This notebook explains the different ways to enter these types of boundary conditions.\n"
   ]
  },
  {
   "cell_type": "code",
   "execution_count": null,
   "id": "73416c72",
   "metadata": {},
   "outputs": [],
   "source": [
    "# begin by importing flopy\n",
    "import os\n",
    "import sys\n",
    "from tempfile import TemporaryDirectory\n",
    "\n",
    "import numpy as np\n",
    "\n",
    "import flopy\n",
    "\n",
    "# temporary directory\n",
    "temp_dir = TemporaryDirectory()\n",
    "workspace = os.path.join(temp_dir.name)\n",
    "\n",
    "print(sys.version)\n",
    "print(f\"numpy version: {np.__version__}\")\n",
    "print(f\"flopy version: {flopy.__version__}\")"
   ]
  },
  {
   "cell_type": "markdown",
   "id": "0e1fe469",
   "metadata": {},
   "source": [
    "## List of Boundaries"
   ]
  },
  {
   "cell_type": "markdown",
   "id": "7dd698a8",
   "metadata": {},
   "source": [
    "Boundary condition information is passed to a package constructor as stress_period_data.  In its simplest form, stress_period_data can be a list of individual boundaries, which themselves are lists.  The following shows a simple example for a MODFLOW River Package boundary:"
   ]
  },
  {
   "cell_type": "code",
   "execution_count": null,
   "id": "f1b0b6bf",
   "metadata": {},
   "outputs": [],
   "source": [
    "stress_period_data = [\n",
    "    [\n",
    "        2,\n",
    "        3,\n",
    "        4,\n",
    "        10.7,\n",
    "        5000.0,\n",
    "        -5.7,\n",
    "    ],  # layer, row, column, stage, conductance, river bottom\n",
    "    [\n",
    "        2,\n",
    "        3,\n",
    "        5,\n",
    "        10.7,\n",
    "        5000.0,\n",
    "        -5.7,\n",
    "    ],  # layer, row, column, stage, conductance, river bottom\n",
    "    [\n",
    "        2,\n",
    "        3,\n",
    "        6,\n",
    "        10.7,\n",
    "        5000.0,\n",
    "        -5.7,\n",
    "    ],  # layer, row, column, stage, conductance, river bottom\n",
    "]\n",
    "m = flopy.modflow.Modflow(modelname=\"test\", model_ws=workspace)\n",
    "riv = flopy.modflow.ModflowRiv(m, stress_period_data=stress_period_data)\n",
    "m.write_input()"
   ]
  },
  {
   "cell_type": "markdown",
   "id": "faebdf5f",
   "metadata": {},
   "source": [
    "If we look at the River Package created here, you see that the layer, row, and column numbers have been increased by one."
   ]
  },
  {
   "cell_type": "code",
   "execution_count": null,
   "id": "1b42d28f",
   "metadata": {},
   "outputs": [],
   "source": [
    "!head -n 10 '../../examples/data/test.riv'"
   ]
  },
  {
   "cell_type": "markdown",
   "id": "39e8549f",
   "metadata": {},
   "source": [
    "If this model had more than one stress period, then Flopy will assume that this boundary condition information applies until the end of the simulation"
   ]
  },
  {
   "cell_type": "code",
   "execution_count": null,
   "id": "75d447a2",
   "metadata": {},
   "outputs": [],
   "source": [
    "m = flopy.modflow.Modflow(modelname=\"test\", model_ws=workspace)\n",
    "dis = flopy.modflow.ModflowDis(m, nper=3)\n",
    "riv = flopy.modflow.ModflowRiv(m, stress_period_data=stress_period_data)\n",
    "m.write_input()\n",
    "!head -n 10 '../../examples/data/test.riv'"
   ]
  },
  {
   "cell_type": "markdown",
   "id": "ed62268b",
   "metadata": {},
   "source": [
    "## Recarray of Boundaries\n",
    "\n",
    "Numpy allows the use of recarrays, which are numpy arrays in which each column of the array may be given a different type.  Boundary conditions can be entered as recarrays.  Information on the structure of the recarray for a boundary condition package can be obtained from that particular package.  The structure of the recarray is contained in the dtype."
   ]
  },
  {
   "cell_type": "code",
   "execution_count": null,
   "id": "f63b036d",
   "metadata": {},
   "outputs": [],
   "source": [
    "riv_dtype = flopy.modflow.ModflowRiv.get_default_dtype()\n",
    "print(riv_dtype)"
   ]
  },
  {
   "cell_type": "markdown",
   "id": "c4b5faf7",
   "metadata": {},
   "source": [
    "Now that we know the structure of the recarray that we want to create, we can create a new one as follows."
   ]
  },
  {
   "cell_type": "code",
   "execution_count": null,
   "id": "431210c3",
   "metadata": {},
   "outputs": [],
   "source": [
    "stress_period_data = np.zeros((3), dtype=riv_dtype)\n",
    "stress_period_data = stress_period_data.view(np.recarray)\n",
    "print(\"stress_period_data: \", stress_period_data)\n",
    "print(\"type is: \", type(stress_period_data))"
   ]
  },
  {
   "cell_type": "markdown",
   "id": "e53c6f15",
   "metadata": {},
   "source": [
    "We can then fill the recarray with our boundary conditions."
   ]
  },
  {
   "cell_type": "code",
   "execution_count": null,
   "id": "60576229",
   "metadata": {},
   "outputs": [],
   "source": [
    "stress_period_data[0] = (2, 3, 4, 10.7, 5000.0, -5.7)\n",
    "stress_period_data[1] = (2, 3, 5, 10.7, 5000.0, -5.7)\n",
    "stress_period_data[2] = (2, 3, 6, 10.7, 5000.0, -5.7)\n",
    "print(stress_period_data)"
   ]
  },
  {
   "cell_type": "code",
   "execution_count": null,
   "id": "495e5380",
   "metadata": {},
   "outputs": [],
   "source": [
    "m = flopy.modflow.Modflow(modelname=\"test\", model_ws=workspace)\n",
    "riv = flopy.modflow.ModflowRiv(m, stress_period_data=stress_period_data)\n",
    "m.write_input()\n",
    "!head -n 10 '../../examples/data/test.riv'"
   ]
  },
  {
   "cell_type": "markdown",
   "id": "218df3c6",
   "metadata": {},
   "source": [
    "As before, if we have multiple stress periods, then this recarray will apply to all of them."
   ]
  },
  {
   "cell_type": "code",
   "execution_count": null,
   "id": "c21a74ad",
   "metadata": {},
   "outputs": [],
   "source": [
    "m = flopy.modflow.Modflow(modelname=\"test\", model_ws=workspace)\n",
    "dis = flopy.modflow.ModflowDis(m, nper=3)\n",
    "riv = flopy.modflow.ModflowRiv(m, stress_period_data=stress_period_data)\n",
    "m.write_input()\n",
    "!head -n 10 '../../examples/data/test.riv'"
   ]
  },
  {
   "cell_type": "markdown",
   "id": "7a6ec7e5",
   "metadata": {},
   "source": [
    "## Dictionary of Boundaries\n",
    "\n",
    "The power of the new functionality in Flopy3 is the ability to specify a dictionary for stress_period_data.  If specified as a dictionary, the key is the stress period number (**as a zero-based number**), and the value is either a nested list, an integer value of 0 or -1, or a recarray for that stress period.\n",
    "\n",
    "Let's say that we want to use the following schedule for our rivers:\n",
    "  0. No rivers in stress period zero\n",
    "  1. Rivers specified by a list in stress period 1\n",
    "  2. No rivers\n",
    "  3. No rivers\n",
    "  4. No rivers\n",
    "  5. Rivers specified by a recarray\n",
    "  6. Same recarray rivers\n",
    "  7. Same recarray rivers\n",
    "  8. Same recarray rivers\n"
   ]
  },
  {
   "cell_type": "code",
   "execution_count": null,
   "id": "38fb41cf",
   "metadata": {},
   "outputs": [],
   "source": [
    "sp1 = [\n",
    "    [\n",
    "        2,\n",
    "        3,\n",
    "        4,\n",
    "        10.7,\n",
    "        5000.0,\n",
    "        -5.7,\n",
    "    ],  # layer, row, column, stage, conductance, river bottom\n",
    "    [\n",
    "        2,\n",
    "        3,\n",
    "        5,\n",
    "        10.7,\n",
    "        5000.0,\n",
    "        -5.7,\n",
    "    ],  # layer, row, column, stage, conductance, river bottom\n",
    "    [\n",
    "        2,\n",
    "        3,\n",
    "        6,\n",
    "        10.7,\n",
    "        5000.0,\n",
    "        -5.7,\n",
    "    ],  # layer, row, column, stage, conductance, river bottom\n",
    "]\n",
    "print(sp1)"
   ]
  },
  {
   "cell_type": "code",
   "execution_count": null,
   "id": "58fe41c4",
   "metadata": {},
   "outputs": [],
   "source": [
    "riv_dtype = flopy.modflow.ModflowRiv.get_default_dtype()\n",
    "sp5 = np.zeros((3), dtype=riv_dtype)\n",
    "sp5 = sp5.view(np.recarray)\n",
    "sp5[0] = (2, 3, 4, 20.7, 5000.0, -5.7)\n",
    "sp5[1] = (2, 3, 5, 20.7, 5000.0, -5.7)\n",
    "sp5[2] = (2, 3, 6, 20.7, 5000.0, -5.7)\n",
    "print(sp5)"
   ]
  },
  {
   "cell_type": "code",
   "execution_count": null,
   "id": "fe7e8b16",
   "metadata": {},
   "outputs": [],
   "source": [
    "sp_dict = {0: 0, 1: sp1, 2: 0, 5: sp5}\n",
    "m = flopy.modflow.Modflow(modelname=\"test\", model_ws=workspace)\n",
    "dis = flopy.modflow.ModflowDis(m, nper=8)\n",
    "riv = flopy.modflow.ModflowRiv(m, stress_period_data=sp_dict)\n",
    "m.write_input()\n",
    "!head -n 10 '../../examples/data/test.riv'"
   ]
  },
  {
   "cell_type": "markdown",
   "id": "dcae0279",
   "metadata": {},
   "source": [
    "## MODFLOW Auxiliary Variables\n",
    "\n",
    "Flopy works with MODFLOW auxiliary variables by allowing the recarray to contain additional columns of information.  The auxiliary variables must be specified as package options as shown in the example below.\n",
    "\n",
    "In this example, we also add a string in the last column of the list in order to name each boundary condition.  In this case, however, we do not include boundname as an auxiliary variable as MODFLOW would try to read it as a floating point number."
   ]
  },
  {
   "cell_type": "code",
   "execution_count": null,
   "id": "8a3c58ea",
   "metadata": {},
   "outputs": [],
   "source": [
    "# create an empty array with an iface auxiliary variable at the end\n",
    "riva_dtype = [\n",
    "    (\"k\", \"<i8\"),\n",
    "    (\"i\", \"<i8\"),\n",
    "    (\"j\", \"<i8\"),\n",
    "    (\"stage\", \"<f4\"),\n",
    "    (\"cond\", \"<f4\"),\n",
    "    (\"rbot\", \"<f4\"),\n",
    "    (\"iface\", \"<i4\"),\n",
    "    (\"boundname\", object),\n",
    "]\n",
    "riva_dtype = np.dtype(riva_dtype)\n",
    "stress_period_data = np.zeros((3), dtype=riva_dtype)\n",
    "stress_period_data = stress_period_data.view(np.recarray)\n",
    "print(\"stress_period_data: \", stress_period_data)\n",
    "print(\"type is: \", type(stress_period_data))"
   ]
  },
  {
   "cell_type": "code",
   "execution_count": null,
   "id": "039267c3",
   "metadata": {},
   "outputs": [],
   "source": [
    "stress_period_data[0] = (2, 3, 4, 10.7, 5000.0, -5.7, 1, \"riv1\")\n",
    "stress_period_data[1] = (2, 3, 5, 10.7, 5000.0, -5.7, 2, \"riv2\")\n",
    "stress_period_data[2] = (2, 3, 6, 10.7, 5000.0, -5.7, 3, \"riv3\")\n",
    "print(stress_period_data)"
   ]
  },
  {
   "cell_type": "code",
   "execution_count": null,
   "id": "bbbb7114",
   "metadata": {},
   "outputs": [],
   "source": [
    "m = flopy.modflow.Modflow(modelname=\"test\", model_ws=workspace)\n",
    "riv = flopy.modflow.ModflowRiv(\n",
    "    m,\n",
    "    stress_period_data=stress_period_data,\n",
    "    dtype=riva_dtype,\n",
    "    options=[\"aux iface\"],\n",
    ")\n",
    "m.write_input()\n",
    "!head -n 10 '../../examples/data/test.riv'"
   ]
  },
  {
   "cell_type": "markdown",
   "id": "f23f94ae",
   "metadata": {},
   "source": [
    "## Working with Unstructured Grids\n",
    "\n",
    "Flopy can create an unstructured grid boundary condition package for MODFLOW-USG.  This can be done by specifying a custom dtype for the recarray.  The following shows an example of how that can be done."
   ]
  },
  {
   "cell_type": "code",
   "execution_count": null,
   "id": "13a9a0ef",
   "metadata": {},
   "outputs": [],
   "source": [
    "# create an empty array based on nodenumber instead of layer, row, and column\n",
    "rivu_dtype = [\n",
    "    (\"nodenumber\", \"<i8\"),\n",
    "    (\"stage\", \"<f4\"),\n",
    "    (\"cond\", \"<f4\"),\n",
    "    (\"rbot\", \"<f4\"),\n",
    "]\n",
    "rivu_dtype = np.dtype(rivu_dtype)\n",
    "stress_period_data = np.zeros((3), dtype=rivu_dtype)\n",
    "stress_period_data = stress_period_data.view(np.recarray)\n",
    "print(\"stress_period_data: \", stress_period_data)\n",
    "print(\"type is: \", type(stress_period_data))"
   ]
  },
  {
   "cell_type": "code",
   "execution_count": null,
   "id": "cef3b1ac",
   "metadata": {},
   "outputs": [],
   "source": [
    "stress_period_data[0] = (77, 10.7, 5000.0, -5.7)\n",
    "stress_period_data[1] = (245, 10.7, 5000.0, -5.7)\n",
    "stress_period_data[2] = (450034, 10.7, 5000.0, -5.7)\n",
    "print(stress_period_data)"
   ]
  },
  {
   "cell_type": "code",
   "execution_count": null,
   "id": "13f85f01",
   "metadata": {},
   "outputs": [],
   "source": [
    "m = flopy.modflow.Modflow(modelname=\"test\", model_ws=workspace)\n",
    "riv = flopy.modflow.ModflowRiv(\n",
    "    m, stress_period_data=stress_period_data, dtype=rivu_dtype\n",
    ")\n",
    "m.write_input()\n",
    "!head -n 10 '../../examples/data/test.riv'"
   ]
  },
  {
   "cell_type": "markdown",
   "id": "2e75a0f6",
   "metadata": {},
   "source": [
    "## Combining two boundary condition packages"
   ]
  },
  {
   "cell_type": "code",
   "execution_count": null,
   "id": "dbc240e7",
   "metadata": {},
   "outputs": [],
   "source": [
    "ml = flopy.modflow.Modflow(modelname=\"test\", model_ws=workspace)\n",
    "dis = flopy.modflow.ModflowDis(ml, 10, 10, 10, 10)\n",
    "sp_data1 = {3: [1, 1, 1, 1.0], 5: [1, 2, 4, 4.0]}\n",
    "wel1 = flopy.modflow.ModflowWel(ml, stress_period_data=sp_data1)\n",
    "ml.write_input()\n",
    "!head -n 10 '../../examples/data/test.wel'"
   ]
  },
  {
   "cell_type": "code",
   "execution_count": null,
   "id": "66f00430",
   "metadata": {},
   "outputs": [],
   "source": [
    "sp_data2 = {0: [1, 1, 3, 3.0], 8: [9, 2, 4, 4.0]}\n",
    "wel2 = flopy.modflow.ModflowWel(ml, stress_period_data=sp_data2)\n",
    "ml.write_input()\n",
    "!head -n 10 '../../examples/data/test.wel'"
   ]
  },
  {
   "cell_type": "markdown",
   "id": "a90d52d0",
   "metadata": {},
   "source": [
    "Now we create a third wel package, using the ```MfList.append()``` method:"
   ]
  },
  {
   "cell_type": "code",
   "execution_count": null,
   "id": "9df54953",
   "metadata": {
    "pycharm": {
     "name": "#%%\n"
    }
   },
   "outputs": [],
   "source": [
    "wel3 = flopy.modflow.ModflowWel(\n",
    "    ml,\n",
    "    stress_period_data=wel2.stress_period_data.append(wel1.stress_period_data),\n",
    ")\n",
    "ml.write_input()\n",
    "!head -n 10 '../../examples/data/test.wel'"
   ]
  }
 ],
 "metadata": {
  "jupytext": {
   "notebook_metadata_filter": "metadata"
  },
  "kernelspec": {
   "display_name": "Python 3 (ipykernel)",
   "language": "python",
   "name": "python3"
  },
  "language_info": {
   "codemirror_mode": {
    "name": "ipython",
    "version": 3
   },
   "file_extension": ".py",
   "mimetype": "text/x-python",
   "name": "python",
   "nbconvert_exporter": "python",
   "pygments_lexer": "ipython3",
   "version": "3.13.1"
  },
  "metadata": {
   "section": "mf2005"
  }
 },
 "nbformat": 4,
 "nbformat_minor": 5
}
