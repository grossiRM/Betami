{
 "cells": [
  {
   "cell_type": "markdown",
   "id": "e70ced92",
   "metadata": {},
   "source": [
    "# MODFLOW Tutorial 1: Confined Steady-State Flow Model\n",
    "\n",
    "This tutorial demonstrates use of FloPy to develop a simple MODFLOW-2005\n",
    "model."
   ]
  },
  {
   "cell_type": "code",
   "execution_count": null,
   "id": "7a9f3e71",
   "metadata": {},
   "outputs": [],
   "source": [
    "# ## Getting Started\n",
    "#\n",
    "# If FloPy has been properly installed, then it can be imported as follows:\n",
    "from pathlib import Path\n",
    "from tempfile import TemporaryDirectory"
   ]
  },
  {
   "cell_type": "code",
   "execution_count": null,
   "id": "d8bdd499",
   "metadata": {},
   "outputs": [],
   "source": [
    "import numpy as np"
   ]
  },
  {
   "cell_type": "code",
   "execution_count": null,
   "id": "f2d2ebcc",
   "metadata": {},
   "outputs": [],
   "source": [
    "import flopy"
   ]
  },
  {
   "cell_type": "markdown",
   "id": "5744d0af",
   "metadata": {},
   "source": [
    "Now that we can import flopy, we begin creating our simple MODFLOW model.\n",
    "numpy is imported to create arrays of model data."
   ]
  },
  {
   "cell_type": "markdown",
   "id": "8b1d3d76",
   "metadata": {},
   "source": [
    "## Creating the MODFLOW Model\n",
    "\n",
    "One of the nice things about creating models in python is that it is very\n",
    "easy to change one or two things and completely change the grid resolution\n",
    "for your model.  So in this example, we will design our python script so\n",
    "that the number of layers, columns, and rows can be easily changed.\n",
    "\n",
    "We can create a very simple MODFLOW model that has a basic package (BAS),\n",
    "discretization input file (DIS), layer-property flow (LPF) package, output\n",
    "control (OC), and preconditioned conjugate gradient (PCG) solver.  Each one\n",
    "of these has its own input file, which will be created automatically by\n",
    "flopy, provided that we pass flopy the correct information."
   ]
  },
  {
   "cell_type": "markdown",
   "id": "19dfe3e2",
   "metadata": {},
   "source": [
    "### Discretization\n",
    "\n",
    "We start by creating a temporary workspace, then a flopy model object."
   ]
  },
  {
   "cell_type": "code",
   "execution_count": null,
   "id": "874fdf64",
   "metadata": {},
   "outputs": [],
   "source": [
    "temp_dir = TemporaryDirectory()\n",
    "workspace = Path(temp_dir.name)\n",
    "name = \"tutorial01_mf\"\n",
    "mf = flopy.modflow.Modflow(name, exe_name=\"mf2005\", model_ws=workspace)"
   ]
  },
  {
   "cell_type": "markdown",
   "id": "f876d1db",
   "metadata": {},
   "source": [
    "Next, let's proceed by defining our model domain and creating a MODFLOW grid\n",
    "to span the domain."
   ]
  },
  {
   "cell_type": "code",
   "execution_count": null,
   "id": "54e3c165",
   "metadata": {},
   "outputs": [],
   "source": [
    "Lx = 1000.0\n",
    "Ly = 1000.0\n",
    "ztop = 0.0\n",
    "zbot = -50.0\n",
    "nlay = 1\n",
    "nrow = 10\n",
    "ncol = 10\n",
    "delr = Lx / ncol\n",
    "delc = Ly / nrow\n",
    "delv = (ztop - zbot) / nlay\n",
    "botm = np.linspace(ztop, zbot, nlay + 1)"
   ]
  },
  {
   "cell_type": "markdown",
   "id": "3726a661",
   "metadata": {},
   "source": [
    "With this information, we can now create the flopy discretization object by\n",
    "entering the following:"
   ]
  },
  {
   "cell_type": "code",
   "execution_count": null,
   "id": "3625393f",
   "metadata": {},
   "outputs": [],
   "source": [
    "dis = flopy.modflow.ModflowDis(\n",
    "    mf, nlay, nrow, ncol, delr=delr, delc=delc, top=ztop, botm=botm[1:]\n",
    ")"
   ]
  },
  {
   "cell_type": "markdown",
   "id": "42b58f73",
   "metadata": {},
   "source": [
    "### Basic Package\n",
    "\n",
    "Next we can create a flopy object that represents the MODFLOW Basic Package.\n",
    "For this simple model, we will assign constant head values of 10. and 0. to\n",
    "the first and last model columns (in all layers), respectively. The python\n",
    "code for doing this is:"
   ]
  },
  {
   "cell_type": "code",
   "execution_count": null,
   "id": "52fd0801",
   "metadata": {},
   "outputs": [],
   "source": [
    "ibound = np.ones((nlay, nrow, ncol), dtype=np.int32)\n",
    "ibound[:, :, 0] = -1\n",
    "ibound[:, :, -1] = -1\n",
    "strt = np.ones((nlay, nrow, ncol), dtype=np.float32)\n",
    "strt[:, :, 0] = 10.0\n",
    "strt[:, :, -1] = 0.0\n",
    "bas = flopy.modflow.ModflowBas(mf, ibound=ibound, strt=strt)"
   ]
  },
  {
   "cell_type": "markdown",
   "id": "32870799",
   "metadata": {},
   "source": [
    "### Layer-Property Flow Package"
   ]
  },
  {
   "cell_type": "markdown",
   "id": "9b1c6487",
   "metadata": {},
   "source": [
    "Constant values of 10. are assigned for the horizontal and vertical\n",
    "hydraulic conductivity:"
   ]
  },
  {
   "cell_type": "code",
   "execution_count": null,
   "id": "17a77009",
   "metadata": {},
   "outputs": [],
   "source": [
    "lpf = flopy.modflow.ModflowLpf(mf, hk=10.0, vka=10.0, ipakcb=53)"
   ]
  },
  {
   "cell_type": "markdown",
   "id": "f1bdd9da",
   "metadata": {},
   "source": [
    "Because we did not specify a value for laytyp, Flopy will use the default\n",
    "value of 0, which means that this model will be confined."
   ]
  },
  {
   "cell_type": "markdown",
   "id": "d98f2ff8",
   "metadata": {},
   "source": [
    "### Output Control\n",
    "\n",
    "Here we can use the default OC settings by specifying the following:"
   ]
  },
  {
   "cell_type": "code",
   "execution_count": null,
   "id": "cc5ece20",
   "metadata": {},
   "outputs": [],
   "source": [
    "spd = {(0, 0): [\"print head\", \"print budget\", \"save head\", \"save budget\"]}\n",
    "oc = flopy.modflow.ModflowOc(mf, stress_period_data=spd, compact=True)"
   ]
  },
  {
   "cell_type": "markdown",
   "id": "60bd3467",
   "metadata": {},
   "source": [
    "The stress period dictionary is used to set what output is saved for the\n",
    "corresponding stress period and time step.  In this case, the tuple `(0, 0)`\n",
    "means that stress period 1 and time step 1 for MODFLOW will have output\n",
    "saved. Head and budgets will be printed and head and budget information\n",
    "will be saved."
   ]
  },
  {
   "cell_type": "markdown",
   "id": "6789670e",
   "metadata": {},
   "source": [
    "### Preconditioned Conjugate Gradient Package\n",
    "\n",
    "The default settings used by flopy will be used by specifying the following\n",
    "commands:"
   ]
  },
  {
   "cell_type": "code",
   "execution_count": null,
   "id": "86de68ce",
   "metadata": {},
   "outputs": [],
   "source": [
    "pcg = flopy.modflow.ModflowPcg(mf)"
   ]
  },
  {
   "cell_type": "markdown",
   "id": "26705e0a",
   "metadata": {},
   "source": [
    "### Writing the MODFLOW Data Files\n",
    "\n",
    "The MODFLOW input data files are written by simply issuing the following:"
   ]
  },
  {
   "cell_type": "code",
   "execution_count": null,
   "id": "3fffd798",
   "metadata": {},
   "outputs": [],
   "source": [
    "mf.write_input()"
   ]
  },
  {
   "cell_type": "markdown",
   "id": "d9248f4d",
   "metadata": {},
   "source": [
    "## Running the Model\n",
    "\n",
    "Flopy can also be used to run the model. The model object (`mf` in this\n",
    "example) has an attached method that will run the model. For this to work,\n",
    "the MODFLOW program must be located somewhere within the system path, or\n",
    "within the working directory. In this example, we have specified that the\n",
    "name of the executable program is 'mf2005'. Issue the following to run\n",
    "the model:"
   ]
  },
  {
   "cell_type": "code",
   "execution_count": null,
   "id": "aa0aeb9e",
   "metadata": {},
   "outputs": [],
   "source": [
    "success, buff = mf.run_model()\n",
    "assert success, \"MODFLOW did not terminate normally.\""
   ]
  },
  {
   "cell_type": "markdown",
   "id": "7213a88b",
   "metadata": {},
   "source": [
    "Here we have used run_model, and we could also have specified values for the\n",
    "optional keywords silent, pause, and report."
   ]
  },
  {
   "cell_type": "markdown",
   "id": "0e77c8c7",
   "metadata": {},
   "source": [
    "## Post-Processing the Results\n",
    "\n",
    "Now that we have successfully built and run our MODFLOW model, we can look at\n",
    "the results. MODFLOW writes the simulated heads to a binary data output file.\n",
    "We cannot look at these heads with a text editor, but flopy has a binary\n",
    "utility that can be used to read the heads. The following statements will\n",
    "read the binary head file and create a plot of simulated heads for layer 1:"
   ]
  },
  {
   "cell_type": "code",
   "execution_count": null,
   "id": "423a1ae8",
   "metadata": {},
   "outputs": [],
   "source": [
    "import matplotlib.pyplot as plt"
   ]
  },
  {
   "cell_type": "code",
   "execution_count": null,
   "id": "6ef139d9",
   "metadata": {},
   "outputs": [],
   "source": [
    "import flopy.utils.binaryfile as bf"
   ]
  },
  {
   "cell_type": "markdown",
   "id": "5cf066b2",
   "metadata": {},
   "source": [
    "Extract the heads"
   ]
  },
  {
   "cell_type": "code",
   "execution_count": null,
   "id": "e8fbd50e",
   "metadata": {},
   "outputs": [],
   "source": [
    "hds = bf.HeadFile(Path(workspace) / f\"{name}.hds\")\n",
    "head = hds.get_data(totim=1.0)"
   ]
  },
  {
   "cell_type": "markdown",
   "id": "3bc0d5b0",
   "metadata": {},
   "source": [
    "Contour the heads"
   ]
  },
  {
   "cell_type": "code",
   "execution_count": null,
   "id": "bcaa93b2",
   "metadata": {},
   "outputs": [],
   "source": [
    "extent = (delr / 2.0, Lx - delr / 2.0, Ly - delc / 2.0, delc / 2.0)\n",
    "fig = plt.figure(figsize=(6, 6))\n",
    "ax = fig.add_subplot(1, 1, 1, aspect=\"equal\")\n",
    "ax.contour(head[0, :, :], levels=np.arange(1, 10, 1), extent=extent)"
   ]
  },
  {
   "cell_type": "markdown",
   "id": "8282ad68",
   "metadata": {},
   "source": [
    "Flopy also has some pre-canned plotting capabilities can can be accessed\n",
    "using the `PlotMapView()` class. The following code shows how to use the\n",
    "plotmapview class to plot boundary conditions (`IBOUND`), plot the grid,\n",
    "plot head contours, and plot vectors:"
   ]
  },
  {
   "cell_type": "code",
   "execution_count": null,
   "id": "1832ed5a",
   "metadata": {},
   "outputs": [],
   "source": [
    "# Extract the heads\n",
    "hds = bf.HeadFile(Path(workspace) / f\"{name}.hds\")\n",
    "times = hds.get_times()\n",
    "head = hds.get_data(totim=times[-1])"
   ]
  },
  {
   "cell_type": "markdown",
   "id": "6fda9f4a",
   "metadata": {},
   "source": [
    "Extract the cell-by-cell flows"
   ]
  },
  {
   "cell_type": "code",
   "execution_count": null,
   "id": "c5b56780",
   "metadata": {},
   "outputs": [],
   "source": [
    "cbb = bf.CellBudgetFile(Path(workspace) / f\"{name}.cbc\")\n",
    "kstpkper_list = cbb.get_kstpkper()\n",
    "frf = cbb.get_data(text=\"FLOW RIGHT FACE\", totim=times[-1])[0]\n",
    "fff = cbb.get_data(text=\"FLOW FRONT FACE\", totim=times[-1])[0]\n",
    "qx, qy, qz = flopy.utils.postprocessing.get_specific_discharge(\n",
    "    (frf, fff, None), mf, head\n",
    ")"
   ]
  },
  {
   "cell_type": "markdown",
   "id": "0120228c",
   "metadata": {},
   "source": [
    "Create the figure"
   ]
  },
  {
   "cell_type": "code",
   "execution_count": null,
   "id": "dc4fd39c",
   "metadata": {},
   "outputs": [],
   "source": [
    "fig = plt.figure(figsize=(6, 6))\n",
    "ax = fig.add_subplot(1, 1, 1, aspect=\"equal\")\n",
    "modelmap = flopy.plot.PlotMapView(model=mf, layer=0, ax=ax)\n",
    "qm = modelmap.plot_ibound()\n",
    "lc = modelmap.plot_grid()\n",
    "cs = modelmap.contour_array(head, levels=np.linspace(0, 10, 11))\n",
    "quiver = modelmap.plot_vector(qx, qy)"
   ]
  },
  {
   "cell_type": "markdown",
   "id": "d95255e2",
   "metadata": {},
   "source": [
    "Clean up the temporary workspace"
   ]
  },
  {
   "cell_type": "code",
   "execution_count": null,
   "id": "9d0d38ae",
   "metadata": {},
   "outputs": [],
   "source": [
    "try:\n",
    "    temp_dir.cleanup()\n",
    "except:\n",
    "    # prevent windows permission error\n",
    "    pass"
   ]
  }
 ],
 "metadata": {
  "jupytext": {
   "notebook_metadata_filter": "metadata",
   "text_representation": {
    "extension": ".py",
    "format_name": "light",
    "format_version": "1.5",
    "jupytext_version": "1.16.4"
   }
  },
  "kernelspec": {
   "display_name": "Python 3 (ipykernel)",
   "language": "python",
   "name": "python3"
  },
  "metadata": {
   "section": "mf2005"
  }
 },
 "nbformat": 4,
 "nbformat_minor": 5
}
