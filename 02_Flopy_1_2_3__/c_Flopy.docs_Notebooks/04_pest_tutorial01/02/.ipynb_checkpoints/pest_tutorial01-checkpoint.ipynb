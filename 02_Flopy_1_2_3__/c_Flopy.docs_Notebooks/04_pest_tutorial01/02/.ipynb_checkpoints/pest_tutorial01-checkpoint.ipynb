{
 "cells": [
  {
   "cell_type": "markdown",
   "id": "62ec1f59",
   "metadata": {},
   "source": [
    "    to be continued .... CTRL F          Multiple Parameter Zoned Approach"
   ]
  },
  {
   "cell_type": "code",
   "execution_count": null,
   "id": "579cad82",
   "metadata": {},
   "outputs": [],
   "source": [
    "import os\n",
    "import sys\n",
    "\n",
    "import numpy as np\n",
    "import flopy"
   ]
  },
  {
   "cell_type": "code",
   "execution_count": 19,
   "id": "0576cafc",
   "metadata": {},
   "outputs": [],
   "source": [
    "nlay = 3\n",
    "nrow = 20\n",
    "ncol = 20\n",
    "\n",
    "ws = \"./tempIN2/FOLDER-A\" \n",
    "name = \"m\"   # Simulation Name\n",
    "\n",
    "m = flopy.modflow.Modflow(modelname=\"b\", model_ws=ws)\n",
    "dis = flopy.modflow.ModflowDis(m, nlay, nrow, ncol)\n",
    "lpf = flopy.modflow.ModflowLpf(m, hk=10.0)\n",
    "\n",
    "m.write_input()"
   ]
  },
  {
   "cell_type": "code",
   "execution_count": 20,
   "id": "a0a370c4",
   "metadata": {},
   "outputs": [],
   "source": [
    "mfpackage = \"lpf\"\n",
    "partype = \"hk\"\n",
    "parname = \"HK_LAYER_1\"\n",
    "\n",
    "idx = np.empty((nlay, nrow, ncol), dtype=bool)\n",
    "idx[0] = True\n",
    "idx[1:] = False\n",
    "\n",
    "# The span variable defines how the parameter spans the package\n",
    "span = {\"idx\": idx}\n",
    "\n",
    "# These parameters have not affect yet, but may in the future\n",
    "startvalue = 10.0\n",
    "lbound = 0.001\n",
    "ubound = 1000.0\n",
    "transform = \"log\"\n",
    "\n",
    "p = flopy.pest.Params(mfpackage, partype, parname, startvalue, lbound, ubound, span)"
   ]
  },
  {
   "cell_type": "code",
   "execution_count": 21,
   "id": "28b008ef",
   "metadata": {},
   "outputs": [
    {
     "name": "stdout",
     "output_type": "stream",
     "text": [
      "The following packages will be parameterized: ['LPF']\n",
      "\n"
     ]
    }
   ],
   "source": [
    "tw = flopy.pest.TemplateWriter(m, [p]) # PEST template to LPF(!)\n",
    "tw.write_template()"
   ]
  },
  {
   "cell_type": "code",
   "execution_count": null,
   "id": "60366272",
   "metadata": {},
   "outputs": [],
   "source": [
    "#lines = open(os.path.join(ws, \"b.lpf.tpl\")).readlines()\n",
    "#for l in lines:\n",
    "#    print(l.strip())"
   ]
  },
  {
   "cell_type": "code",
   "execution_count": 22,
   "id": "6d7a20fe",
   "metadata": {},
   "outputs": [
    {
     "name": "stdout",
     "output_type": "stream",
     "text": [
      "The following packages will be parameterized: ['LPF']\n",
      "\n"
     ]
    }
   ],
   "source": [
    "# original hk value of 10. remains in the array, and the multiplier is specified on the array control line.\n",
    "mfpackage = \"lpf\" \n",
    "partype = \"hk\"\n",
    "parname = \"HK_LAYER_1-3\"\n",
    "\n",
    "# Span indicates that the hk parameter applies as a multiplier to layers 0 and 2 (MODFLOW layers 1 and 3)\n",
    "span = {\"layers\": [0, 2]}\n",
    "\n",
    "# These parameters have not affect yet, but may in the future\n",
    "startvalue = 10.0\n",
    "lbound = 0.001\n",
    "ubound = 1000.0\n",
    "transform = \"log\"\n",
    "\n",
    "p = flopy.pest.Params(mfpackage, partype, parname, startvalue, lbound, ubound, span)\n",
    "tw = flopy.pest.templatewriter.TemplateWriter(m, [p])\n",
    "tw.write_template() # Again.. on top of the earlier one "
   ]
  },
  {
   "cell_type": "code",
   "execution_count": 23,
   "id": "51c69fa1",
   "metadata": {},
   "outputs": [
    {
     "data": {
      "text/plain": [
       "<flopy.pest.templatewriter.TemplateWriter at 0x22ed50bdf20>"
      ]
     },
     "execution_count": 23,
     "metadata": {},
     "output_type": "execute_result"
    }
   ],
   "source": [
    "tw"
   ]
  },
  {
   "cell_type": "code",
   "execution_count": null,
   "id": "c7842b02",
   "metadata": {},
   "outputs": [],
   "source": [
    "#lines = open(os.path.join(ws, \"b.lpf.tpl\")).readlines()\n",
    "#for l in lines:\n",
    "#    print(l.strip())"
   ]
  },
  {
   "cell_type": "markdown",
   "id": "b4f1681a",
   "metadata": {},
   "source": [
    "### Multiple Parameter Zoned Approach"
   ]
  },
  {
   "cell_type": "code",
   "execution_count": null,
   "id": "f9c781f6",
   "metadata": {},
   "outputs": [],
   "source": [
    "# Create a zone array\n",
    "zonearray = np.ones((nlay, nrow, ncol), dtype=int)\n",
    "zonearray[0, 10:, 7:] = 2\n",
    "zonearray[0, 15:, 9:] = 3\n",
    "zonearray[1] = 4"
   ]
  },
  {
   "cell_type": "code",
   "execution_count": null,
   "id": "ad92f769",
   "metadata": {},
   "outputs": [],
   "source": [
    "# Create a list of parameters for HK\n",
    "mfpackage = \"lpf\"\n",
    "parzones = [2, 3, 4]\n",
    "parvals = [56.777, 78.999, 99.0]\n",
    "lbound = 5\n",
    "ubound = 500\n",
    "transform = \"log\"\n",
    "plisthk = flopy.pest.zonearray2params(\n",
    "    mfpackage, \"hk\", parzones, lbound, ubound, parvals, transform, zonearray\n",
    ")"
   ]
  },
  {
   "cell_type": "markdown",
   "id": "7ca0f169",
   "metadata": {},
   "source": [
    "In this case, Flopy will create three parameters: hk_2, hk_3, and hk_4, which will apply to the horizontal hydraulic conductivity for cells in zones 2, 3, and 4, respectively.  Only those zone numbers listed in parzones will be parameterized.  For example, many cells in zonearray have a value of 1.  Those cells will not be parameterized.  Instead, their hydraulic conductivity values will remain fixed at the value that was specified when the Flopy LPF package was created."
   ]
  },
  {
   "cell_type": "code",
   "execution_count": null,
   "id": "53471491",
   "metadata": {},
   "outputs": [],
   "source": [
    "# Create a list of parameters for VKA\n",
    "parzones = [1, 2]\n",
    "parvals = [0.001, 0.0005]\n",
    "zonearray = np.ones((nlay, nrow, ncol), dtype=int)\n",
    "zonearray[1] = 2\n",
    "plistvk = flopy.pest.zonearray2params(\n",
    "    mfpackage, \"vka\", parzones, lbound, ubound, parvals, transform, zonearray\n",
    ")"
   ]
  },
  {
   "cell_type": "code",
   "execution_count": null,
   "id": "28b00eca",
   "metadata": {},
   "outputs": [],
   "source": [
    "# Combine the HK and VKA parameters together\n",
    "plist = plisthk + plistvk\n",
    "for p in plist:\n",
    "    print(p.name, p.mfpackage, p.startvalue)"
   ]
  },
  {
   "cell_type": "code",
   "execution_count": null,
   "id": "7d6e139f",
   "metadata": {},
   "outputs": [],
   "source": [
    "# Write the template file\n",
    "tw = flopy.pest.templatewriter.TemplateWriter(m, plist)\n",
    "tw.write_template()"
   ]
  },
  {
   "cell_type": "code",
   "execution_count": null,
   "id": "c8eb94f3",
   "metadata": {},
   "outputs": [],
   "source": [
    "# Print contents of template file\n",
    "lines = open(os.path.join(workspace, \"mymodel.lpf.tpl\")).readlines()\n",
    "for l in lines:\n",
    "    print(l.strip())"
   ]
  },
  {
   "cell_type": "markdown",
   "id": "a84184b6",
   "metadata": {},
   "source": [
    "## Two-Dimensional Transient Arrays\n",
    "\n",
    "Flopy supports parameterization of transient two dimensional arrays, like recharge.  This is similar to the approach for three dimensional static arrays, but there are some important differences in how span is specified.  The parameter span here is also a dictionary, and it must contain a 'kper' key, which corresponds to a list of stress periods (zero based, of course) for which the parameter applies.  The span dictionary must also contain an 'idx' key.  If span['idx'] is None, then the parameter is a multiplier for those stress periods.  If span['idx'] is a tuple (iarray, jarray), where iarray and jarray are a list of array indices, or a boolean array of shape (nrow, ncol), then the parameter applies only to the cells specified in idx."
   ]
  },
  {
   "cell_type": "code",
   "execution_count": null,
   "id": "a9589538",
   "metadata": {},
   "outputs": [],
   "source": [
    "# Define the model dimensions (made smaller for easier viewing)\n",
    "nlay = 3\n",
    "nrow = 5\n",
    "ncol = 5\n",
    "nper = 3\n",
    "\n",
    "# Create the flopy model object and add the dis and lpf packages\n",
    "m = flopy.modflow.Modflow(modelname=\"mymodel\", model_ws=workspace)\n",
    "dis = flopy.modflow.ModflowDis(m, nlay, nrow, ncol, nper=nper)\n",
    "lpf = flopy.modflow.ModflowLpf(m, hk=10.0)\n",
    "rch = flopy.modflow.ModflowRch(m, rech={0: 0.001, 2: 0.003})"
   ]
  },
  {
   "cell_type": "markdown",
   "id": "c11caa78",
   "metadata": {},
   "source": [
    "Next, we create the parameters"
   ]
  },
  {
   "cell_type": "code",
   "execution_count": null,
   "id": "df5ddf34",
   "metadata": {},
   "outputs": [],
   "source": [
    "plist = []"
   ]
  },
  {
   "cell_type": "code",
   "execution_count": null,
   "id": "b9f56bcf",
   "metadata": {},
   "outputs": [],
   "source": [
    "# Create a multiplier parameter for recharge\n",
    "mfpackage = \"rch\"\n",
    "partype = \"rech\"\n",
    "parname = \"RECH_MULT\"\n",
    "startvalue = None\n",
    "lbound = None\n",
    "ubound = None\n",
    "transform = None\n",
    "\n",
    "# For a recharge multiplier, span['idx'] must be None\n",
    "idx = None\n",
    "span = {\"kpers\": [0, 1, 2], \"idx\": idx}\n",
    "p = flopy.pest.Params(mfpackage, partype, parname, startvalue, lbound, ubound, span)\n",
    "plist.append(p)"
   ]
  },
  {
   "cell_type": "code",
   "execution_count": null,
   "id": "62fbbd1c",
   "metadata": {},
   "outputs": [],
   "source": [
    "# Write the template file\n",
    "tw = flopy.pest.TemplateWriter(m, plist)\n",
    "tw.write_template()"
   ]
  },
  {
   "cell_type": "code",
   "execution_count": null,
   "id": "4483349c",
   "metadata": {},
   "outputs": [],
   "source": [
    "# Print the results\n",
    "lines = open(os.path.join(workspace, \"mymodel.rch.tpl\")).readlines()\n",
    "for l in lines:\n",
    "    print(l.strip())"
   ]
  },
  {
   "cell_type": "markdown",
   "id": "7aefcec1",
   "metadata": {},
   "source": [
    "Multiplier parameters can also be combined with index parameters as follows."
   ]
  },
  {
   "cell_type": "code",
   "execution_count": null,
   "id": "238e4bfa",
   "metadata": {},
   "outputs": [],
   "source": [
    "plist = []\n",
    "\n",
    "# Create a multiplier parameter for recharge\n",
    "mfpackage = \"rch\"\n",
    "partype = \"rech\"\n",
    "parname = \"RECH_MULT\"\n",
    "startvalue = None\n",
    "lbound = None\n",
    "ubound = None\n",
    "transform = None\n",
    "\n",
    "# For a recharge multiplier, span['idx'] must be None\n",
    "span = {\"kpers\": [1, 2], \"idx\": None}\n",
    "p = flopy.pest.Params(mfpackage, partype, parname, startvalue, lbound, ubound, span)\n",
    "plist.append(p)"
   ]
  },
  {
   "cell_type": "code",
   "execution_count": null,
   "id": "8ca6bc31",
   "metadata": {},
   "outputs": [],
   "source": [
    "# Now create an index parameter\n",
    "mfpackage = \"rch\"\n",
    "partype = \"rech\"\n",
    "parname = \"RECH_ZONE\"\n",
    "startvalue = None\n",
    "lbound = None\n",
    "ubound = None\n",
    "transform = None\n",
    "\n",
    "# For a recharge index parameter, span['idx'] must be a boolean array or tuple of array indices\n",
    "idx = np.empty((nrow, ncol), dtype=bool)\n",
    "idx[0:3, 0:3] = True\n",
    "span = {\"kpers\": [1], \"idx\": idx}\n",
    "p = flopy.pest.Params(mfpackage, partype, parname, startvalue, lbound, ubound, span)\n",
    "plist.append(p)"
   ]
  },
  {
   "cell_type": "code",
   "execution_count": null,
   "id": "f86e6e00",
   "metadata": {},
   "outputs": [],
   "source": [
    "# Write the template file\n",
    "tw = flopy.pest.templatewriter.TemplateWriter(m, plist)\n",
    "tw.write_template()\n",
    "\n",
    "# Print the results\n",
    "lines = open(os.path.join(workspace, \"mymodel.rch.tpl\")).readlines()\n",
    "for l in lines:\n",
    "    print(l.strip())"
   ]
  },
  {
   "cell_type": "code",
   "execution_count": null,
   "id": "2e4c786b",
   "metadata": {},
   "outputs": [],
   "source": [
    "try:\n",
    "    # ignore PermissionError on Windows\n",
    "    temp_dir.cleanup()\n",
    "except:\n",
    "    pass"
   ]
  }
 ],
 "metadata": {
  "jupytext": {
   "notebook_metadata_filter": "metadata"
  },
  "kernelspec": {
   "display_name": "Python 3 (ipykernel)",
   "language": "python",
   "name": "python3"
  },
  "language_info": {
   "codemirror_mode": {
    "name": "ipython",
    "version": 3
   },
   "file_extension": ".py",
   "mimetype": "text/x-python",
   "name": "python",
   "nbconvert_exporter": "python",
   "pygments_lexer": "ipython3",
   "version": "3.13.1"
  },
  "metadata": {
   "section": "pest"
  }
 },
 "nbformat": 4,
 "nbformat_minor": 5
}
