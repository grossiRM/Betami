{
 "cells": [
  {
   "cell_type": "code",
   "execution_count": 2,
   "id": "84c01eb9",
   "metadata": {},
   "outputs": [
    {
     "name": "stdout",
     "output_type": "stream",
     "text": [
      "Collecting rioxarray\n",
      "  Downloading rioxarray-0.18.1-py3-none-any.whl.metadata (5.4 kB)\n",
      "Requirement already satisfied: packaging in c:\\users\\gross.desktop-airqm2m\\anaconda3\\envs\\flopy\\lib\\site-packages (from rioxarray) (24.2)\n",
      "Requirement already satisfied: rasterio>=1.3.7 in c:\\users\\gross.desktop-airqm2m\\anaconda3\\envs\\flopy\\lib\\site-packages (from rioxarray) (1.4.3)\n",
      "Collecting xarray>=2024.7.0 (from rioxarray)\n",
      "  Using cached xarray-2024.11.0-py3-none-any.whl.metadata (11 kB)\n",
      "Requirement already satisfied: pyproj>=3.3 in c:\\users\\gross.desktop-airqm2m\\anaconda3\\envs\\flopy\\lib\\site-packages (from rioxarray) (3.7.0)\n",
      "Requirement already satisfied: numpy>=1.23 in c:\\users\\gross.desktop-airqm2m\\anaconda3\\envs\\flopy\\lib\\site-packages (from rioxarray) (2.2.0)\n",
      "Requirement already satisfied: certifi in c:\\users\\gross.desktop-airqm2m\\anaconda3\\envs\\flopy\\lib\\site-packages (from pyproj>=3.3->rioxarray) (2024.8.30)\n",
      "Requirement already satisfied: affine in c:\\users\\gross.desktop-airqm2m\\anaconda3\\envs\\flopy\\lib\\site-packages (from rasterio>=1.3.7->rioxarray) (2.4.0)\n",
      "Requirement already satisfied: attrs in c:\\users\\gross.desktop-airqm2m\\anaconda3\\envs\\flopy\\lib\\site-packages (from rasterio>=1.3.7->rioxarray) (24.2.0)\n",
      "Requirement already satisfied: click>=4.0 in c:\\users\\gross.desktop-airqm2m\\anaconda3\\envs\\flopy\\lib\\site-packages (from rasterio>=1.3.7->rioxarray) (8.1.7)\n",
      "Requirement already satisfied: cligj>=0.5 in c:\\users\\gross.desktop-airqm2m\\anaconda3\\envs\\flopy\\lib\\site-packages (from rasterio>=1.3.7->rioxarray) (0.7.2)\n",
      "Requirement already satisfied: click-plugins in c:\\users\\gross.desktop-airqm2m\\anaconda3\\envs\\flopy\\lib\\site-packages (from rasterio>=1.3.7->rioxarray) (1.1.1)\n",
      "Requirement already satisfied: pyparsing in c:\\users\\gross.desktop-airqm2m\\anaconda3\\envs\\flopy\\lib\\site-packages (from rasterio>=1.3.7->rioxarray) (3.2.0)\n",
      "Requirement already satisfied: pandas>=2.1 in c:\\users\\gross.desktop-airqm2m\\anaconda3\\envs\\flopy\\lib\\site-packages (from xarray>=2024.7.0->rioxarray) (2.2.3)\n",
      "Requirement already satisfied: colorama in c:\\users\\gross.desktop-airqm2m\\anaconda3\\envs\\flopy\\lib\\site-packages (from click>=4.0->rasterio>=1.3.7->rioxarray) (0.4.6)\n",
      "Requirement already satisfied: python-dateutil>=2.8.2 in c:\\users\\gross.desktop-airqm2m\\anaconda3\\envs\\flopy\\lib\\site-packages (from pandas>=2.1->xarray>=2024.7.0->rioxarray) (2.9.0.post0)\n",
      "Requirement already satisfied: pytz>=2020.1 in c:\\users\\gross.desktop-airqm2m\\anaconda3\\envs\\flopy\\lib\\site-packages (from pandas>=2.1->xarray>=2024.7.0->rioxarray) (2024.1)\n",
      "Requirement already satisfied: tzdata>=2022.7 in c:\\users\\gross.desktop-airqm2m\\anaconda3\\envs\\flopy\\lib\\site-packages (from pandas>=2.1->xarray>=2024.7.0->rioxarray) (2024.2)\n",
      "Requirement already satisfied: six>=1.5 in c:\\users\\gross.desktop-airqm2m\\anaconda3\\envs\\flopy\\lib\\site-packages (from python-dateutil>=2.8.2->pandas>=2.1->xarray>=2024.7.0->rioxarray) (1.17.0)\n",
      "Downloading rioxarray-0.18.1-py3-none-any.whl (61 kB)\n",
      "Using cached xarray-2024.11.0-py3-none-any.whl (1.2 MB)\n",
      "Installing collected packages: xarray, rioxarray\n",
      "Successfully installed rioxarray-0.18.1 xarray-2024.11.0\n"
     ]
    }
   ],
   "source": [
    "! pip install rioxarray"
   ]
  },
  {
   "cell_type": "code",
   "execution_count": 3,
   "id": "ecdb5252",
   "metadata": {},
   "outputs": [],
   "source": [
    "import rioxarray"
   ]
  },
  {
   "cell_type": "code",
   "execution_count": null,
   "id": "4355327e",
   "metadata": {},
   "outputs": [],
   "source": [
    "rds = rioxarray.open_rasterio(\n",
    "    \"../../test/test_data/input/PLANET_SCOPE_3D.nc\",\n",
    ")\n",
    "rds"
   ]
  }
 ],
 "metadata": {
  "kernelspec": {
   "display_name": "Python 3 (ipykernel)",
   "language": "python",
   "name": "python3"
  },
  "language_info": {
   "codemirror_mode": {
    "name": "ipython",
    "version": 3
   },
   "file_extension": ".py",
   "mimetype": "text/x-python",
   "name": "python",
   "nbconvert_exporter": "python",
   "pygments_lexer": "ipython3",
   "version": "3.13.1"
  }
 },
 "nbformat": 4,
 "nbformat_minor": 5
}
