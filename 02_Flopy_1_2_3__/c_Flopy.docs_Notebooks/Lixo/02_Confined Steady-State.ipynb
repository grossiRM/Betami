{
 "cells": [
  {
   "cell_type": "markdown",
   "id": "1b4cfa0f-0dee-447e-bee2-05445c0bdd50",
   "metadata": {},
   "source": [
    "## https://flopy.readthedocs.io/en/3.4.1/Notebooks/mf_tutorial01.html"
   ]
  },
  {
   "cell_type": "code",
   "execution_count": 22,
   "id": "7f9d2fdc-96e3-461d-af28-bb5efe1c3888",
   "metadata": {},
   "outputs": [],
   "source": [
    "# ## Getting Started\n",
    "#\n",
    "# If FloPy has been properly installed, then it can be imported as follows:\n",
    "from pathlib import Path\n",
    "from tempfile import TemporaryDirectory"
   ]
  },
  {
   "cell_type": "code",
   "execution_count": 4,
   "id": "da166ba9-353b-48a0-9646-bac2c0d1d339",
   "metadata": {},
   "outputs": [],
   "source": [
    "import numpy as np\n",
    "import flopy"
   ]
  },
  {
   "cell_type": "code",
   "execution_count": 4,
   "id": "6605ff14-c26a-4a1f-be71-c8e2d1d2e3f3",
   "metadata": {},
   "outputs": [],
   "source": [
    "temp_dir = TemporaryDirectory()\n",
    "workspace = Path(temp_dir.name)\n",
    "name = \"tutorial01_mf\"\n",
    "mf = flopy.modflow.Modflow(name, exe_name=\"mf2005\", model_ws=workspace)"
   ]
  },
  {
   "cell_type": "code",
   "execution_count": 5,
   "id": "893086dd-9f2d-4836-9afa-a2498e3fbc6c",
   "metadata": {},
   "outputs": [],
   "source": [
    "Lx = 1000.0\n",
    "Ly = 1000.0\n",
    "ztop = 0.0\n",
    "zbot = -50.0\n",
    "nlay = 1\n",
    "nrow = 10\n",
    "ncol = 10\n",
    "delr = Lx / ncol\n",
    "delc = Ly / nrow\n",
    "delv = (ztop - zbot) / nlay\n",
    "botm = np.linspace(ztop, zbot, nlay + 1)"
   ]
  },
  {
   "cell_type": "code",
   "execution_count": 6,
   "id": "2b644928-671d-423b-b397-762e9ba7cb8d",
   "metadata": {},
   "outputs": [],
   "source": [
    "dis = flopy.modflow.ModflowDis(\n",
    "    mf, nlay, nrow, ncol, delr=delr, delc=delc, top=ztop, botm=botm[1:]\n",
    ")"
   ]
  },
  {
   "cell_type": "code",
   "execution_count": 7,
   "id": "c2ecd419-7eec-478b-a4db-e040de2a24df",
   "metadata": {},
   "outputs": [],
   "source": [
    "ibound = np.ones((nlay, nrow, ncol), dtype=np.int32)\n",
    "ibound[:, :, 0] = -1\n",
    "ibound[:, :, -1] = -1\n",
    "strt = np.ones((nlay, nrow, ncol), dtype=np.float32)\n",
    "strt[:, :, 0] = 10.0\n",
    "strt[:, :, -1] = 0.0\n",
    "bas = flopy.modflow.ModflowBas(mf, ibound=ibound, strt=strt)"
   ]
  },
  {
   "cell_type": "code",
   "execution_count": 8,
   "id": "34dea8b1-ff71-4fd6-a64c-55cfbb398721",
   "metadata": {},
   "outputs": [],
   "source": [
    "lpf = flopy.modflow.ModflowLpf(mf, hk=10.0, vka=10.0, ipakcb=53)"
   ]
  },
  {
   "cell_type": "code",
   "execution_count": 9,
   "id": "d90d210d-1417-4b57-8dd8-44f4d6438d6a",
   "metadata": {},
   "outputs": [],
   "source": [
    "spd = {(0, 0): [\"print head\", \"print budget\", \"save head\", \"save budget\"]}\n",
    "oc = flopy.modflow.ModflowOc(mf, stress_period_data=spd, compact=True)"
   ]
  },
  {
   "cell_type": "code",
   "execution_count": 10,
   "id": "dfc087fc-c836-4d86-9228-06f3bec9aea8",
   "metadata": {},
   "outputs": [],
   "source": [
    "pcg = flopy.modflow.ModflowPcg(mf)"
   ]
  },
  {
   "cell_type": "code",
   "execution_count": 11,
   "id": "b1ccae84-13ff-4d79-abe5-888245d3f02a",
   "metadata": {},
   "outputs": [],
   "source": [
    "mf.write_input()"
   ]
  },
  {
   "cell_type": "code",
   "execution_count": 12,
   "id": "1c99bc9c-5a89-44e4-a65b-5433517adad7",
   "metadata": {},
   "outputs": [
    {
     "name": "stdout",
     "output_type": "stream",
     "text": [
      "FloPy is using the following executable to run the model: ..\\..\\..\\..\\..\\gross.DESKTOP-AIRQM2M\\anaconda3\\envs\\pyclass\\Scripts\\mf2005.exe\n",
      "\n",
      "                                  MODFLOW-2005     \n",
      "    U.S. GEOLOGICAL SURVEY MODULAR FINITE-DIFFERENCE GROUND-WATER FLOW MODEL\n",
      "                             Version 1.12.00 2/3/2017                        \n",
      "\n",
      " Using NAME file: tutorial01_mf.nam \n",
      " Run start date and time (yyyy/mm/dd hh:mm:ss): 2024/12/15 13:47:40\n",
      "\n",
      " Solving:  Stress period:     1    Time step:     1    Ground-Water Flow Eqn.\n",
      " Run end date and time (yyyy/mm/dd hh:mm:ss): 2024/12/15 13:47:40\n",
      " Elapsed run time:  0.038 Seconds\n",
      "\n",
      "  Normal termination of simulation\n"
     ]
    }
   ],
   "source": [
    "success, buff = mf.run_model()\n",
    "assert success, \"MODFLOW did not terminate normally.\""
   ]
  },
  {
   "cell_type": "code",
   "execution_count": 13,
   "id": "240292bf-4eff-435a-821b-d524f3289694",
   "metadata": {},
   "outputs": [],
   "source": [
    "import matplotlib.pyplot as plt\n",
    "import flopy.utils.binaryfile as bf"
   ]
  },
  {
   "cell_type": "code",
   "execution_count": 14,
   "id": "f9d325bc-1bbb-4306-9724-4253480e0940",
   "metadata": {},
   "outputs": [],
   "source": [
    "hds = bf.HeadFile(Path(workspace) / f\"{name}.hds\")\n",
    "head = hds.get_data(totim=1.0)"
   ]
  },
  {
   "cell_type": "code",
   "execution_count": 20,
   "id": "31502e65-b585-4b8a-8280-99f2599badf9",
   "metadata": {},
   "outputs": [
    {
     "data": {
      "text/plain": [
       "<matplotlib.contour.QuadContourSet at 0x2b3eff04990>"
      ]
     },
     "execution_count": 20,
     "metadata": {},
     "output_type": "execute_result"
    },
    {
     "data": {
      "image/png": "[encoded data removed]",
      "text/plain": [
       "<Figure size 300x300 with 1 Axes>"
      ]
     },
     "metadata": {},
     "output_type": "display_data"
    }
   ],
   "source": [
    "extent = (delr / 2.0, Lx - delr / 2.0, Ly - delc / 2.0, delc / 2.0)\n",
    "fig = plt.figure(figsize=(3, 3))\n",
    "ax = fig.add_subplot(1, 1, 1, aspect=\"equal\")\n",
    "ax.contour(head[0, :, :], levels=np.arange(1, 10, 1), extent=extent)"
   ]
  },
  {
   "cell_type": "code",
   "execution_count": 16,
   "id": "1c97fb5e-fb08-4c84-886f-c8cf5f865d92",
   "metadata": {},
   "outputs": [],
   "source": [
    "# Extract the heads\n",
    "hds = bf.HeadFile(Path(workspace) / f\"{name}.hds\")\n",
    "times = hds.get_times()\n",
    "head = hds.get_data(totim=times[-1])"
   ]
  },
  {
   "cell_type": "code",
   "execution_count": 17,
   "id": "bc1bb596-7543-44e0-8abb-1ea35b55d6ef",
   "metadata": {},
   "outputs": [],
   "source": [
    "cbb = bf.CellBudgetFile(Path(workspace) / f\"{name}.cbc\")\n",
    "kstpkper_list = cbb.get_kstpkper()\n",
    "frf = cbb.get_data(text=\"FLOW RIGHT FACE\", totim=times[-1])[0]\n",
    "fff = cbb.get_data(text=\"FLOW FRONT FACE\", totim=times[-1])[0]\n",
    "qx, qy, qz = flopy.utils.postprocessing.get_specific_discharge(\n",
    "    (frf, fff, None), mf, head\n",
    ")"
   ]
  },
  {
   "cell_type": "code",
   "execution_count": 19,
   "id": "8a6ea3dd-264d-4005-9679-a42d0f23ff76",
   "metadata": {},
   "outputs": [
    {
     "data": {
      "image/png": "[encoded data removed]",
      "text/plain": [
       "<Figure size 300x300 with 1 Axes>"
      ]
     },
     "metadata": {},
     "output_type": "display_data"
    }
   ],
   "source": [
    "fig = plt.figure(figsize=(3, 3))\n",
    "ax = fig.add_subplot(1, 1, 1, aspect=\"equal\")\n",
    "modelmap = flopy.plot.PlotMapView(model=mf, layer=0, ax=ax)\n",
    "qm = modelmap.plot_ibound()\n",
    "lc = modelmap.plot_grid()\n",
    "cs = modelmap.contour_array(head, levels=np.linspace(0, 10, 11))\n",
    "quiver = modelmap.plot_vector(qx, qy)"
   ]
  },
  {
   "cell_type": "code",
   "execution_count": 21,
   "id": "80dd83ae-e45f-4931-8a65-1d6c52e3f379",
   "metadata": {},
   "outputs": [],
   "source": [
    "try:\n",
    "    temp_dir.cleanup()\n",
    "except:\n",
    "    # prevent windows permission error\n",
    "    pass"
   ]
  },
  {
   "cell_type": "code",
   "execution_count": null,
   "id": "0dbc4d11-87aa-439a-b3c3-0bd0c4a49349",
   "metadata": {},
   "outputs": [],
   "source": []
  }
 ],
 "metadata": {
  "kernelspec": {
   "display_name": "Python 3 (ipykernel)",
   "language": "python",
   "name": "python3"
  },
  "language_info": {
   "codemirror_mode": {
    "name": "ipython",
    "version": 3
   },
   "file_extension": ".py",
   "mimetype": "text/x-python",
   "name": "python",
   "nbconvert_exporter": "python",
   "pygments_lexer": "ipython3",
   "version": "3.13.1"
  }
 },
 "nbformat": 4,
 "nbformat_minor": 5
}
