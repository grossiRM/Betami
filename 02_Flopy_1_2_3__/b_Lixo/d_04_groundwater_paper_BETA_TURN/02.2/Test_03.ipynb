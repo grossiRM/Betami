{
 "cells": [
  {
   "cell_type": "markdown",
   "id": "062ddd0d",
   "metadata": {},
   "source": [
    "temp_dir = TemporaryDirectory()\n",
    "workspace = temp_dir.name\n",
    "name = \"Beta01\""
   ]
  },
  {
   "cell_type": "code",
   "execution_count": 2,
   "id": "7053a73f",
   "metadata": {},
   "outputs": [],
   "source": [
    "import flopy\n",
    "import os"
   ]
  },
  {
   "cell_type": "markdown",
   "id": "beb7ac65",
   "metadata": {},
   "source": [
    "model = fpm.Modflow(modelname=\"Beta_A\", exe_name=exe, model_ws=ws)"
   ]
  },
  {
   "cell_type": "code",
   "execution_count": 3,
   "id": "21f00e74",
   "metadata": {},
   "outputs": [
    {
     "ename": "AttributeError",
     "evalue": "module 'flopy.mf6' has no attribute 'Modflow'",
     "output_type": "error",
     "traceback": [
      "\u001b[1;31m---------------------------------------------------------------------------\u001b[0m",
      "\u001b[1;31mAttributeError\u001b[0m                            Traceback (most recent call last)",
      "Cell \u001b[1;32mIn[3], line 3\u001b[0m\n\u001b[0;32m      1\u001b[0m \u001b[38;5;66;03m# set up simulation and basic packages\u001b[39;00m\n\u001b[0;32m      2\u001b[0m ws \u001b[38;5;241m=\u001b[39m os\u001b[38;5;241m.\u001b[39mpath\u001b[38;5;241m.\u001b[39mjoin(\u001b[38;5;124m\"\u001b[39m\u001b[38;5;124mBtemp\u001b[39m\u001b[38;5;124m\"\u001b[39m)\n\u001b[1;32m----> 3\u001b[0m model \u001b[38;5;241m=\u001b[39m \u001b[43mflopy\u001b[49m\u001b[38;5;241;43m.\u001b[39;49m\u001b[43mmf6\u001b[49m\u001b[38;5;241;43m.\u001b[39;49m\u001b[43mModflow\u001b[49m(modelname\u001b[38;5;241m=\u001b[39m\u001b[38;5;124m\"\u001b[39m\u001b[38;5;124mgwexample\u001b[39m\u001b[38;5;124m\"\u001b[39m, exe_name\u001b[38;5;241m=\u001b[39mexe, model_ws\u001b[38;5;241m=\u001b[39mws)\n",
      "\u001b[1;31mAttributeError\u001b[0m: module 'flopy.mf6' has no attribute 'Modflow'"
     ]
    }
   ],
   "source": [
    "# set up simulation and basic packages\n",
    "ws = os.path.join(\"Btemp\")\n",
    "model = flopy.mf6.Modflow(modelname=\"gwexample\", exe_name=exe, model_ws=ws)"
   ]
  },
  {
   "cell_type": "code",
   "execution_count": null,
   "id": "dddf66d0",
   "metadata": {},
   "outputs": [],
   "source": [
    "flopy.mf6.ModflowTdis(sim, nper=10, perioddata=[[365.0, 1, 1.0] for _ in range(10)])\n",
    "flopy.mf6.ModflowIms(sim)\n",
    "flopy.mf6.ModflowGwfdis(gwf, nlay=3, nrow=4, ncol=5, top=50.0, botm=botm)\n",
    "flopy.mf6.ModflowGwfic(gwf)\n",
    "flopy.mf6.ModflowGwfnpf(gwf, save_specific_discharge=True)\n",
    "flopy.mf6.ModflowGwfchd(gwf, stress_period_data=[[(0, 0, 0), 1.0], [(2, 3, 4), 0.0]])"
   ]
  },
  {
   "cell_type": "code",
   "execution_count": null,
   "id": "6e800a3b",
   "metadata": {},
   "outputs": [],
   "source": [
    "gwf = flopy.mf6.ModflowGwf(sim, modelname=name, save_flows=True)\n",
    "botm = [30.0, 20.0, 10.0]"
   ]
  },
  {
   "cell_type": "code",
   "execution_count": null,
   "id": "c8829fd9",
   "metadata": {},
   "outputs": [],
   "source": [
    "budget_file = f\"{name}.bud\"\n",
    "head_file = f\"{name}.hds\"\n",
    "flopy.mf6.ModflowGwfoc(\n",
    "    gwf,\n",
    "    budget_filerecord=budget_file,\n",
    "    head_filerecord=head_file,\n",
    "    saverecord=[(\"HEAD\", \"ALL\"), (\"BUDGET\", \"ALL\")],\n",
    ")\n",
    "print (\"Done creating simulation.\")"
   ]
  },
  {
   "cell_type": "code",
   "execution_count": null,
   "id": "114098a9",
   "metadata": {},
   "outputs": [],
   "source": [
    "print(sim)"
   ]
  },
  {
   "cell_type": "code",
   "execution_count": null,
   "id": "153f2c46",
   "metadata": {},
   "outputs": [],
   "source": []
  }
 ],
 "metadata": {
  "kernelspec": {
   "display_name": "Python 3 (ipykernel)",
   "language": "python",
   "name": "python3"
  },
  "language_info": {
   "codemirror_mode": {
    "name": "ipython",
    "version": 3
   },
   "file_extension": ".py",
   "mimetype": "text/x-python",
   "name": "python",
   "nbconvert_exporter": "python",
   "pygments_lexer": "ipython3",
   "version": "3.13.1"
  }
 },
 "nbformat": 4,
 "nbformat_minor": 5
}
