{
 "cells": [
  {
   "cell_type": "code",
   "execution_count": 1,
   "id": "bace50a4",
   "metadata": {},
   "outputs": [],
   "source": [
    "# package import\n",
    "from tempfile import TemporaryDirectory"
   ]
  },
  {
   "cell_type": "code",
   "execution_count": 2,
   "id": "7053a73f",
   "metadata": {},
   "outputs": [],
   "source": [
    "import flopy"
   ]
  },
  {
   "cell_type": "code",
   "execution_count": 12,
   "id": "eef61f6a",
   "metadata": {},
   "outputs": [],
   "source": [
    "temp_dir = TemporaryDirectory()\n",
    "workspace = temp_dir.name\n",
    "name = \"Beta01\""
   ]
  },
  {
   "cell_type": "code",
   "execution_count": 13,
   "id": "21f00e74",
   "metadata": {},
   "outputs": [],
   "source": [
    "# set up simulation and basic packages\n",
    "sim = flopy.mf6.MFSimulation(sim_name=name, sim_ws=workspace)"
   ]
  },
  {
   "cell_type": "code",
   "execution_count": 20,
   "id": "dddf66d0",
   "metadata": {},
   "outputs": [
    {
     "name": "stdout",
     "output_type": "stream",
     "text": [
      "WARNING: tdis package already exists. Replacing existing tdis package.\n",
      "WARNING: Package with type dis already exists. Replacing existing package.\n",
      "WARNING: Package with type ic already exists. Replacing existing package.\n",
      "WARNING: Package with type npf already exists. Replacing existing package.\n"
     ]
    },
    {
     "data": {
      "text/plain": [
       "package_name = chd_1\n",
       "filename = Beta01.chd\n",
       "package_type = chd\n",
       "model_or_simulation_package = model\n",
       "model_name = Beta01\n",
       "\n",
       "Block period\n",
       "--------------------\n",
       "stress_period_data\n",
       "{internal}\n",
       "(   cellid_layer  cellid_row  cellid_column  head\n",
       "0             0           0              0   1.0\n",
       "1             2           3              4   0.0)\n",
       "\n"
      ]
     },
     "execution_count": 20,
     "metadata": {},
     "output_type": "execute_result"
    }
   ],
   "source": [
    "flopy.mf6.ModflowTdis(sim, nper=10, perioddata=[[365.0, 1, 1.0] for _ in range(10)])\n",
    "flopy.mf6.ModflowIms(sim)\n",
    "flopy.mf6.ModflowGwfdis(gwf, nlay=3, nrow=4, ncol=5, top=50.0, botm=botm)\n",
    "flopy.mf6.ModflowGwfic(gwf)\n",
    "flopy.mf6.ModflowGwfnpf(gwf, save_specific_discharge=True)\n",
    "flopy.mf6.ModflowGwfchd(gwf, stress_period_data=[[(0, 0, 0), 1.0], [(2, 3, 4), 0.0]])"
   ]
  },
  {
   "cell_type": "code",
   "execution_count": 21,
   "id": "6e800a3b",
   "metadata": {},
   "outputs": [
    {
     "name": "stdout",
     "output_type": "stream",
     "text": [
      "WARNING: solution package with name ims_0 already exists. New solution package will replace old package.\n"
     ]
    }
   ],
   "source": [
    "gwf = flopy.mf6.ModflowGwf(sim, modelname=name, save_flows=True)\n",
    "botm = [30.0, 20.0, 10.0]"
   ]
  },
  {
   "cell_type": "code",
   "execution_count": 18,
   "id": "c8829fd9",
   "metadata": {},
   "outputs": [
    {
     "name": "stdout",
     "output_type": "stream",
     "text": [
      "Done creating simulation.\n"
     ]
    }
   ],
   "source": [
    "budget_file = f\"{name}.bud\"\n",
    "head_file = f\"{name}.hds\"\n",
    "flopy.mf6.ModflowGwfoc(\n",
    "    gwf,\n",
    "    budget_filerecord=budget_file,\n",
    "    head_filerecord=head_file,\n",
    "    saverecord=[(\"HEAD\", \"ALL\"), (\"BUDGET\", \"ALL\")],\n",
    ")\n",
    "print (\"Done creating simulation.\")"
   ]
  },
  {
   "cell_type": "code",
   "execution_count": 16,
   "id": "114098a9",
   "metadata": {},
   "outputs": [
    {
     "name": "stdout",
     "output_type": "stream",
     "text": [
      "sim_name = Beta01\n",
      "sim_path = C:\\Users\\GROSS~1.DES\\AppData\\Local\\Temp\\tmpg7u8k6u0\n",
      "exe_name = mf6\n",
      "\n",
      "###################\n",
      "Package mfsim.nam\n",
      "###################\n",
      "\n",
      "package_name = mfsim.nam\n",
      "filename = mfsim.nam\n",
      "package_type = nam\n",
      "model_or_simulation_package = simulation\n",
      "simulation_name = Beta01\n",
      "\n",
      "\n",
      "###################\n",
      "Package Beta01.tdis\n",
      "###################\n",
      "\n",
      "package_name = Beta01.tdis\n",
      "filename = Beta01.tdis\n",
      "package_type = tdis\n",
      "model_or_simulation_package = simulation\n",
      "simulation_name = Beta01\n",
      "\n",
      "\n",
      "###################\n",
      "Package ims_-1\n",
      "###################\n",
      "\n",
      "package_name = ims_-1\n",
      "filename = Beta01.ims\n",
      "package_type = ims\n",
      "model_or_simulation_package = simulation\n",
      "simulation_name = Beta01\n",
      "\n",
      "\n",
      "@@@@@@@@@@@@@@@@@@@@\n",
      "Model Beta01\n",
      "@@@@@@@@@@@@@@@@@@@@\n",
      "\n",
      "name = Beta01\n",
      "model_type = gwf6\n",
      "version = mf6\n",
      "model_relative_path = .\n",
      "\n",
      "###################\n",
      "Package dis\n",
      "###################\n",
      "\n",
      "package_name = dis\n",
      "filename = Beta01.dis\n",
      "package_type = dis\n",
      "model_or_simulation_package = model\n",
      "model_name = Beta01\n",
      "\n",
      "\n",
      "###################\n",
      "Package ic\n",
      "###################\n",
      "\n",
      "package_name = ic\n",
      "filename = Beta01.ic\n",
      "package_type = ic\n",
      "model_or_simulation_package = model\n",
      "model_name = Beta01\n",
      "\n",
      "\n",
      "###################\n",
      "Package npf\n",
      "###################\n",
      "\n",
      "package_name = npf\n",
      "filename = Beta01.npf\n",
      "package_type = npf\n",
      "model_or_simulation_package = model\n",
      "model_name = Beta01\n",
      "\n",
      "\n",
      "###################\n",
      "Package chd_0\n",
      "###################\n",
      "\n",
      "package_name = chd_0\n",
      "filename = Beta01.chd\n",
      "package_type = chd\n",
      "model_or_simulation_package = model\n",
      "model_name = Beta01\n",
      "\n",
      "\n",
      "\n",
      "\n"
     ]
    }
   ],
   "source": [
    "print(sim)"
   ]
  },
  {
   "cell_type": "code",
   "execution_count": null,
   "id": "153f2c46",
   "metadata": {},
   "outputs": [],
   "source": []
  }
 ],
 "metadata": {
  "kernelspec": {
   "display_name": "Python 3 (ipykernel)",
   "language": "python",
   "name": "python3"
  },
  "language_info": {
   "codemirror_mode": {
    "name": "ipython",
    "version": 3
   },
   "file_extension": ".py",
   "mimetype": "text/x-python",
   "name": "python",
   "nbconvert_exporter": "python",
   "pygments_lexer": "ipython3",
   "version": "3.13.1"
  }
 },
 "nbformat": 4,
 "nbformat_minor": 5
}
