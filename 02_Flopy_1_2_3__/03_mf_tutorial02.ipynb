{
 "cells": [
  {
   "cell_type": "markdown",
   "id": "586987a0",
   "metadata": {},
   "source": [
    "# MODFLOW Tutorial 2: Unconfined Transient Flow Model\n",
    "\n",
    "In this example, we will convert the tutorial 1 model into an unconfined,\n",
    "transient flow model with time varying boundaries. Instead of using constant\n",
    "heads for the left and right boundaries (by setting ibound to -1), we will use\n",
    "general head boundaries. We will have the model consider the following\n",
    "conditions:\n",
    "\n",
    "* Initial conditions -- head is 10.0 everywhere\n",
    "* Period 1 (1 day) -- steady state with left and right GHB stage = 10.\n",
    "* Period 2 (100 days) -- left GHB with stage = 10., right GHB with stage set\n",
    "  to 0.\n",
    "* Period 3 (100 days) -- pumping well at model center with rate = -500., left\n",
    "  and right GHB = 10., and 0.\n",
    "\n",
    "We will start with selected model commands from the previous tutorial.\n"
   ]
  },
  {
   "cell_type": "code",
   "execution_count": null,
   "id": "1e095462",
   "metadata": {},
   "outputs": [],
   "source": [
    "# ## Getting Started\n",
    "#\n",
    "# As shown in the previous MODFLOW tutorial, import flopy.\n",
    "from pathlib import Path\n",
    "from tempfile import TemporaryDirectory"
   ]
  },
  {
   "cell_type": "code",
   "execution_count": null,
   "id": "932aafce",
   "metadata": {},
   "outputs": [],
   "source": [
    "import numpy as np"
   ]
  },
  {
   "cell_type": "code",
   "execution_count": null,
   "id": "0b1ad64c",
   "metadata": {},
   "outputs": [],
   "source": [
    "import flopy"
   ]
  },
  {
   "cell_type": "markdown",
   "id": "3079bf41",
   "metadata": {},
   "source": [
    "## Creating the MODFLOW Model\n",
    "\n",
    "### Define the Model Extent, Grid Resolution, and Characteristics\n",
    "\n",
    "Assign the model information"
   ]
  },
  {
   "cell_type": "code",
   "execution_count": null,
   "id": "1ecd8a97",
   "metadata": {},
   "outputs": [],
   "source": [
    "Lx = 1000.0\n",
    "Ly = 1000.0\n",
    "ztop = 10.0\n",
    "zbot = -50.0\n",
    "nlay = 1\n",
    "nrow = 10\n",
    "ncol = 10\n",
    "delr = Lx / ncol\n",
    "delc = Ly / nrow\n",
    "delv = (ztop - zbot) / nlay\n",
    "botm = np.linspace(ztop, zbot, nlay + 1)\n",
    "hk = 1.0\n",
    "vka = 1.0\n",
    "sy = 0.1\n",
    "ss = 1.0e-4\n",
    "laytyp = 1"
   ]
  },
  {
   "cell_type": "markdown",
   "id": "10af18c4",
   "metadata": {},
   "source": [
    "Variables for the BAS package\n",
    "Note that changes from the MODFLOW tutorial 1"
   ]
  },
  {
   "cell_type": "code",
   "execution_count": null,
   "id": "9f42b68e",
   "metadata": {},
   "outputs": [],
   "source": [
    "ibound = np.ones((nlay, nrow, ncol), dtype=np.int32)\n",
    "strt = 10.0 * np.ones((nlay, nrow, ncol), dtype=np.float32)"
   ]
  },
  {
   "cell_type": "markdown",
   "id": "6962bdbd",
   "metadata": {},
   "source": [
    "### Define the Stress Periods\n",
    "\n",
    "To create a model with multiple stress periods, we need to define nper,\n",
    "perlen, nstp, and steady.  This is done in the following block in a manner\n",
    "that allows us to pass these variable directly to the discretization object:"
   ]
  },
  {
   "cell_type": "code",
   "execution_count": null,
   "id": "20a168cd",
   "metadata": {},
   "outputs": [],
   "source": [
    "nper = 3\n",
    "perlen = [1, 100, 100]\n",
    "nstp = [1, 100, 100]\n",
    "steady = [True, False, False]"
   ]
  },
  {
   "cell_type": "markdown",
   "id": "1a1c0fbb",
   "metadata": {},
   "source": [
    "### Create Time-Invariant Flopy Objects\n",
    "\n",
    "With this information, we can now create the static flopy objects that do\n",
    "not change with time:"
   ]
  },
  {
   "cell_type": "code",
   "execution_count": null,
   "id": "eb198ade",
   "metadata": {},
   "outputs": [],
   "source": [
    "temp_dir = TemporaryDirectory()\n",
    "workspace = temp_dir.name\n",
    "name = \"tutorial02_mf\"\n",
    "mf = flopy.modflow.Modflow(name, exe_name=\"mf2005\", model_ws=workspace)\n",
    "dis = flopy.modflow.ModflowDis(\n",
    "    mf,\n",
    "    nlay,\n",
    "    nrow,\n",
    "    ncol,\n",
    "    delr=delr,\n",
    "    delc=delc,\n",
    "    top=ztop,\n",
    "    botm=botm[1:],\n",
    "    nper=nper,\n",
    "    perlen=perlen,\n",
    "    nstp=nstp,\n",
    "    steady=steady,\n",
    ")\n",
    "bas = flopy.modflow.ModflowBas(mf, ibound=ibound, strt=strt)\n",
    "lpf = flopy.modflow.ModflowLpf(\n",
    "    mf, hk=hk, vka=vka, sy=sy, ss=ss, laytyp=laytyp, ipakcb=53\n",
    ")\n",
    "pcg = flopy.modflow.ModflowPcg(mf)"
   ]
  },
  {
   "cell_type": "markdown",
   "id": "4952668c",
   "metadata": {},
   "source": [
    "### Transient General-Head Boundary Package\n",
    "\n",
    "At this point, our model is ready to add our transient boundary packages.\n",
    "First, we will create the GHB object, which is of the following type:\n",
    "`flopy.modflow.ModflowGhb()`.\n",
    "\n",
    "The key to creating Flopy transient boundary packages is recognizing that\n",
    "the boundary data is stored in a dictionary with key values equal to the\n",
    "zero-based stress period number and values equal to the boundary conditions\n",
    "for that stress period.  For a GHB the values can be a two-dimensional nested\n",
    "list of `[layer, row, column, stage, conductance]`."
   ]
  },
  {
   "cell_type": "code",
   "execution_count": null,
   "id": "535e7328",
   "metadata": {},
   "outputs": [],
   "source": [
    "stageleft = 10.0\n",
    "stageright = 10.0\n",
    "bound_sp1 = []\n",
    "for il in range(nlay):\n",
    "    condleft = hk * (stageleft - zbot) * delc\n",
    "    condright = hk * (stageright - zbot) * delc\n",
    "    for ir in range(nrow):\n",
    "        bound_sp1.append([il, ir, 0, stageleft, condleft])\n",
    "        bound_sp1.append([il, ir, ncol - 1, stageright, condright])\n",
    "print(\"Adding \", len(bound_sp1), \"GHBs for stress period 1.\")"
   ]
  },
  {
   "cell_type": "code",
   "execution_count": null,
   "id": "5acd8291",
   "metadata": {},
   "outputs": [],
   "source": [
    "# Make list for stress period 2\n",
    "stageleft = 10.0\n",
    "stageright = 0.0\n",
    "condleft = hk * (stageleft - zbot) * delc\n",
    "condright = hk * (stageright - zbot) * delc\n",
    "bound_sp2 = []\n",
    "for il in range(nlay):\n",
    "    for ir in range(nrow):\n",
    "        bound_sp2.append([il, ir, 0, stageleft, condleft])\n",
    "        bound_sp2.append([il, ir, ncol - 1, stageright, condright])\n",
    "print(\"Adding \", len(bound_sp2), \"GHBs for stress period 2.\")"
   ]
  },
  {
   "cell_type": "code",
   "execution_count": null,
   "id": "3c229e38",
   "metadata": {},
   "outputs": [],
   "source": [
    "# We do not need to add a dictionary entry for stress period 3.\n",
    "# Flopy will automatically take the list from stress period 2 and apply it\n",
    "# to the end of the simulation\n",
    "stress_period_data = {0: bound_sp1, 1: bound_sp2}"
   ]
  },
  {
   "cell_type": "code",
   "execution_count": null,
   "id": "b4521464",
   "metadata": {},
   "outputs": [],
   "source": [
    "# Create the flopy ghb object\n",
    "ghb = flopy.modflow.ModflowGhb(mf, stress_period_data=stress_period_data)"
   ]
  },
  {
   "cell_type": "markdown",
   "id": "0677706c",
   "metadata": {},
   "source": [
    "### Transient Well Package\n",
    "\n",
    "Now we can create the well package object, which is of the type,\n",
    "`flopy.modflow.ModflowWel()`."
   ]
  },
  {
   "cell_type": "code",
   "execution_count": null,
   "id": "1c4df966",
   "metadata": {},
   "outputs": [],
   "source": [
    "# Create the well package\n",
    "# Remember to use zero-based layer, row, column indices!\n",
    "pumping_rate = -500.0\n",
    "wel_sp1 = [[0, nrow / 2 - 1, ncol / 2 - 1, 0.0]]\n",
    "wel_sp2 = [[0, nrow / 2 - 1, ncol / 2 - 1, 0.0]]\n",
    "wel_sp3 = [[0, nrow / 2 - 1, ncol / 2 - 1, pumping_rate]]\n",
    "stress_period_data = {0: wel_sp1, 1: wel_sp2, 2: wel_sp3}\n",
    "wel = flopy.modflow.ModflowWel(mf, stress_period_data=stress_period_data)"
   ]
  },
  {
   "cell_type": "markdown",
   "id": "8dc2d9ba",
   "metadata": {},
   "source": [
    "### Output Control\n",
    "\n",
    "Here we create the output control package object, which is of the\n",
    "type `flopy.modflow.ModflowOc()`."
   ]
  },
  {
   "cell_type": "code",
   "execution_count": null,
   "id": "6b4c2bbf",
   "metadata": {},
   "outputs": [],
   "source": [
    "stress_period_data = {}\n",
    "for kper in range(nper):\n",
    "    for kstp in range(nstp[kper]):\n",
    "        stress_period_data[(kper, kstp)] = [\n",
    "            \"save head\",\n",
    "            \"save drawdown\",\n",
    "            \"save budget\",\n",
    "            \"print head\",\n",
    "            \"print budget\",\n",
    "        ]\n",
    "oc = flopy.modflow.ModflowOc(mf, stress_period_data=stress_period_data, compact=True)"
   ]
  },
  {
   "cell_type": "markdown",
   "id": "bec91038",
   "metadata": {},
   "source": [
    "## Running the Model\n",
    "\n",
    "Run the model with the run_model method, which returns a success flag and\n",
    "the stream of output. With run_model, we have some finer control, that\n",
    "allows us to suppress the output."
   ]
  },
  {
   "cell_type": "code",
   "execution_count": null,
   "id": "7ff352b6",
   "metadata": {},
   "outputs": [],
   "source": [
    "# Write the model input files\n",
    "mf.write_input()"
   ]
  },
  {
   "cell_type": "code",
   "execution_count": null,
   "id": "9d447500",
   "metadata": {},
   "outputs": [],
   "source": [
    "# Run the model\n",
    "success, mfoutput = mf.run_model(silent=True, pause=False)\n",
    "assert success, \"MODFLOW did not terminate normally.\""
   ]
  },
  {
   "cell_type": "markdown",
   "id": "21b2a159",
   "metadata": {},
   "source": [
    "## Post-Processing the Results\n",
    "\n",
    "Once again, we can read heads from the MODFLOW binary output file, using\n",
    "the `flopy.utils.binaryfile()` module. Included with the HeadFile object\n",
    "are several methods that we will use here:"
   ]
  },
  {
   "cell_type": "markdown",
   "id": "9d82d0d1",
   "metadata": {},
   "source": [
    "* `get_times()` will return a list of times contained in the binary head file\n",
    "* `get_data()` will return a three-dimensional head array for the specified\n",
    "  time\n",
    "* `get_ts()` will return a time series array `[ntimes, headval]` for the\n",
    "  specified cell\n",
    "\n",
    "Using these methods, we can create head plots and hydrographs from the\n",
    "model results."
   ]
  },
  {
   "cell_type": "code",
   "execution_count": null,
   "id": "f6bb26dd",
   "metadata": {},
   "outputs": [],
   "source": [
    "# Imports\n",
    "import matplotlib.pyplot as plt"
   ]
  },
  {
   "cell_type": "code",
   "execution_count": null,
   "id": "453e504d",
   "metadata": {},
   "outputs": [],
   "source": [
    "import flopy.utils.binaryfile as bf"
   ]
  },
  {
   "cell_type": "code",
   "execution_count": null,
   "id": "48b7c0bc",
   "metadata": {},
   "outputs": [],
   "source": [
    "# Create the headfile and budget file objects\n",
    "headobj = bf.HeadFile(Path(workspace) / f\"{name}.hds\")\n",
    "times = headobj.get_times()\n",
    "cbb = bf.CellBudgetFile(Path(workspace) / f\"{name}.cbc\")"
   ]
  },
  {
   "cell_type": "code",
   "execution_count": null,
   "id": "02d95d55",
   "metadata": {},
   "outputs": [],
   "source": [
    "# Setup contour parameters\n",
    "levels = np.linspace(0, 10, 11)\n",
    "extent = (delr / 2.0, Lx - delr / 2.0, delc / 2.0, Ly - delc / 2.0)\n",
    "print(\"Levels: \", levels)\n",
    "print(\"Extent: \", extent)"
   ]
  },
  {
   "cell_type": "code",
   "execution_count": null,
   "id": "55b80e68",
   "metadata": {},
   "outputs": [],
   "source": [
    "# Well point for plotting\n",
    "wpt = (450.0, 550.0)"
   ]
  },
  {
   "cell_type": "markdown",
   "id": "3932784c",
   "metadata": {},
   "source": [
    "Create a figure with maps for three times"
   ]
  },
  {
   "cell_type": "code",
   "execution_count": null,
   "id": "dc8db58b",
   "metadata": {},
   "outputs": [],
   "source": [
    "# Make the plots\n",
    "fig = plt.figure(figsize=(5, 15))\n",
    "mytimes = [1.0, 101.0, 201.0]\n",
    "for iplot, time in enumerate(mytimes):\n",
    "    print(\"*****Processing time: \", time)\n",
    "    head = headobj.get_data(totim=time)\n",
    "    # Print statistics\n",
    "    print(\"Head statistics\")\n",
    "    print(\"  min: \", head.min())\n",
    "    print(\"  max: \", head.max())\n",
    "    print(\"  std: \", head.std())\n",
    "\n",
    "    # Extract flow right face and flow front face\n",
    "    frf = cbb.get_data(text=\"FLOW RIGHT FACE\", totim=time)[0]\n",
    "    fff = cbb.get_data(text=\"FLOW FRONT FACE\", totim=time)[0]\n",
    "\n",
    "    # Create a map for this time\n",
    "    ax = fig.add_subplot(len(mytimes), 1, iplot + 1, aspect=\"equal\")\n",
    "    ax.set_title(f\"stress period {iplot + 1}\")\n",
    "\n",
    "    pmv = flopy.plot.PlotMapView(model=mf, layer=0, ax=ax)\n",
    "    qm = pmv.plot_ibound()\n",
    "    lc = pmv.plot_grid()\n",
    "    qm = pmv.plot_bc(\"GHB\", alpha=0.5)\n",
    "    if head.min() != head.max():\n",
    "        cs = pmv.contour_array(head, levels=levels)\n",
    "        plt.clabel(cs, inline=1, fontsize=10, fmt=\"%1.1f\")\n",
    "        quiver = pmv.plot_vector(frf, fff)\n",
    "\n",
    "    mfc = \"None\"\n",
    "    if (iplot + 1) == len(mytimes):\n",
    "        mfc = \"black\"\n",
    "    ax.plot(\n",
    "        wpt[0],\n",
    "        wpt[1],\n",
    "        lw=0,\n",
    "        marker=\"o\",\n",
    "        markersize=8,\n",
    "        markeredgewidth=0.5,\n",
    "        markeredgecolor=\"black\",\n",
    "        markerfacecolor=mfc,\n",
    "        zorder=9,\n",
    "    )\n",
    "    ax.text(wpt[0] + 25, wpt[1] - 25, \"well\", size=12, zorder=12)"
   ]
  },
  {
   "cell_type": "markdown",
   "id": "7f63a87c",
   "metadata": {},
   "source": [
    "Create a hydrograph"
   ]
  },
  {
   "cell_type": "code",
   "execution_count": null,
   "id": "28a34e5f",
   "metadata": {},
   "outputs": [],
   "source": [
    "# Plot the head versus time\n",
    "idx = (0, int(nrow / 2) - 1, int(ncol / 2) - 1)\n",
    "ts = headobj.get_ts(idx)\n",
    "fig = plt.figure(figsize=(6, 6))\n",
    "ax = fig.add_subplot(1, 1, 1)\n",
    "ttl = f\"Head at cell ({idx[0] + 1},{idx[1] + 1},{idx[2] + 1})\"\n",
    "ax.set_title(ttl)\n",
    "ax.set_xlabel(\"time\")\n",
    "ax.set_ylabel(\"head\")\n",
    "ax.plot(ts[:, 0], ts[:, 1], \"bo-\")"
   ]
  },
  {
   "cell_type": "code",
   "execution_count": null,
   "id": "36e351e3",
   "metadata": {},
   "outputs": [],
   "source": [
    "try:\n",
    "    temp_dir.cleanup()\n",
    "except:\n",
    "    # prevent windows permission error\n",
    "    pass"
   ]
  }
 ],
 "metadata": {
  "jupytext": {
   "notebook_metadata_filter": "metadata",
   "text_representation": {
    "extension": ".py",
    "format_name": "light",
    "format_version": "1.5",
    "jupytext_version": "1.16.4"
   }
  },
  "kernelspec": {
   "display_name": "Python 3 (ipykernel)",
   "language": "python",
   "name": "python3"
  },
  "metadata": {
   "section": "mf2005"
  }
 },
 "nbformat": 4,
 "nbformat_minor": 5
}
