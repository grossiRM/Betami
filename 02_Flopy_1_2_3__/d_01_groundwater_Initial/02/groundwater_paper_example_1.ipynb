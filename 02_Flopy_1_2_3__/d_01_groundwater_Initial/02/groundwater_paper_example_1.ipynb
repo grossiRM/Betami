{
 "cells": [
  {
   "cell_type": "code",
   "execution_count": 2,
   "id": "10d196b4",
   "metadata": {},
   "outputs": [],
   "source": [
    "import os\n",
    "import flopy.modflow as fpm"
   ]
  },
  {
   "cell_type": "code",
   "execution_count": 3,
   "id": "37835ba8",
   "metadata": {},
   "outputs": [],
   "source": [
    "exe = \"MF2K5_FMP2_rls64\"\n",
    "ws = os.path.join(\"temp\")\n",
    "model = fpm.Modflow(modelname=\"gwexample\", exe_name=exe, model_ws=ws)"
   ]
  },
  {
   "cell_type": "code",
   "execution_count": 4,
   "id": "14b0442e",
   "metadata": {},
   "outputs": [
    {
     "data": {
      "text/plain": [
       "\n",
       "MODFLOW Discretization Package Class.\n",
       "\n",
       "Parameters\n",
       "----------\n",
       "model : model object\n",
       "    The model object (of type :class:`flopy.modflow.Modflow`) to which\n",
       "    this package will be added.\n",
       "nlay : int\n",
       "    Number of model layers (the default is 1).\n",
       "nrow : int\n",
       "    Number of model rows (the default is 2).\n",
       "ncol : int\n",
       "    Number of model columns (the default is 2).\n",
       "nper : int\n",
       "    Number of model stress periods (the default is 1).\n",
       "delr : float or array of floats (ncol), optional\n",
       "    An array of spacings along a row (the default is 1.0).\n",
       "delc : float or array of floats (nrow), optional\n",
       "    An array of spacings along a column (the default is 0.0).\n",
       "laycbd : int or array of ints (nlay), optional\n",
       "    An array of flags indicating whether or not a layer has a Quasi-3D\n",
       "    confining bed below it. 0 indicates no confining bed, and not zero\n",
       "    indicates a confining bed. LAYCBD for the bottom layer must be 0. (the\n",
       "    default is 0)\n",
       "top : float or array of floats (nrow, ncol), optional\n",
       "    An array of the top elevation of layer 1. For the common situation in\n",
       "    which the top layer represents a water-table aquifer, it may be\n",
       "    reasonable to set Top equal to land-surface elevation (the default is\n",
       "    1.0)\n",
       "botm : float or array of floats (nlay, nrow, ncol), optional\n",
       "    An array of the bottom elevation for each model cell (the default is\n",
       "    0.)\n",
       "perlen : float or array of floats (nper)\n",
       "    An array of the stress period lengths.\n",
       "nstp : int or array of ints (nper)\n",
       "    Number of time steps in each stress period (default is 1).\n",
       "tsmult : float or array of floats (nper)\n",
       "    Time step multiplier (default is 1.0).\n",
       "steady : bool or array of bool (nper)\n",
       "    true or False indicating whether or not stress period is steady state\n",
       "    (default is True).\n",
       "itmuni : int\n",
       "    Time units, default is days (4)\n",
       "lenuni : int\n",
       "    Length units, default is meters (2)\n",
       "extension : string\n",
       "    Filename extension (default is 'dis')\n",
       "unitnumber : int\n",
       "    File unit number (default is None).\n",
       "filenames : str or list of str\n",
       "    Filenames to use for the package. If filenames=None the package name\n",
       "    will be created using the model name and package extension. If a\n",
       "    single string is passed the package will be set to the string.\n",
       "    Default is None.\n",
       "xul : float\n",
       "    x coordinate of upper left corner of the grid, default is None, which\n",
       "    means xul will be set to zero.\n",
       "yul : float\n",
       "    y coordinate of upper-left corner of the grid, default is None, which\n",
       "    means yul will be calculated as the sum of the delc array.  This\n",
       "    default, combined with the xul and rotation defaults will place the\n",
       "    lower-left corner of the grid at (0, 0).\n",
       "rotation : float\n",
       "    counter-clockwise rotation (in degrees) of the grid about the lower-\n",
       "    left corner. default is 0.0\n",
       "crs : pyproj.CRS, int, str, optional if `prjfile` is specified\n",
       "    Coordinate reference system (CRS) for the model grid\n",
       "    (must be projected; geographic CRS are not supported).\n",
       "    The value can be anything accepted by\n",
       "    :meth:`pyproj.CRS.from_user_input() <pyproj.crs.CRS.from_user_input>`,\n",
       "    such as an authority string (eg \"EPSG:26916\") or a WKT string.\n",
       "prjfile : str or pathlike, optional if `crs` is specified\n",
       "    ESRI-style projection file with well-known text defining the CRS\n",
       "    for the model grid (must be projected; geographic CRS are not supported).\n",
       "start_datetime : str\n",
       "    starting datetime of the simulation. default is '1/1/1970'\n",
       "**kwargs : dict, optional\n",
       "    Support deprecated keyword options.\n",
       "\n",
       "    .. deprecated:: 3.5\n",
       "       ``proj4_str`` will be removed for FloPy 3.6, use ``crs`` instead.\n",
       "\n",
       "Attributes\n",
       "----------\n",
       "heading : str\n",
       "    Text string written to top of package input file.\n",
       "\n",
       "Methods\n",
       "-------\n",
       "\n",
       "See Also\n",
       "--------\n",
       "\n",
       "Notes\n",
       "-----\n",
       "\n",
       "Examples\n",
       "--------\n",
       "\n",
       ">>> import flopy\n",
       ">>> m = flopy.modflow.Modflow()\n",
       ">>> dis = flopy.modflow.ModflowDis(m)\n",
       "\n",
       " _name = DIS\n",
       " _parent = MODFLOW 1 layer(s) 1 row(s) 201 column(s) 1 stress period(s) ('flopy.modflow.mf.Modflow)\n",
       " _totim = None ('NoneType)\n",
       " acceptable_dtypes (list, items = 3)\n",
       " allowDuplicates = False ('bool)\n",
       " botm = <flopy.utils.util_array.Util3d object at 0x0000013B67FB9160> ('flopy.utils.util_array.Util3d)\n",
       " delc = <flopy.utils.util_array.Util2d object at 0x0000013B67FBCE10> ('flopy.utils.util_array.Util2d)\n",
       " delr = <flopy.utils.util_array.Util2d object at 0x0000013B63D8EC10> ('flopy.utils.util_array.Util2d)\n",
       " file_name = gwexample.dis\n",
       " fn_path = E:\\15_REPOS\\00_Betami\\02_Flopy_1_2_3__\\d_01_groundwater_Initial\\02\\temp\\gwexample.dis ('str)\n",
       " itmuni = 4 ('int)\n",
       " itmuni_dict = {0: 'undefined', 1: 'seconds', 2: 'minutes', 3: 'hours', 4: 'days', 5: 'years'} ('dict)\n",
       " laycbd = <flopy.utils.util_array.Util2d object at 0x0000013B67FB8EC0> ('flopy.utils.util_array.Util2d)\n",
       " lenuni = 2 ('int)\n",
       " ncol = 201 ('int)\n",
       " nlay = 1 ('int)\n",
       " nper = 1 ('int)\n",
       " nrow = 1 ('int)\n",
       " nstp = <flopy.utils.util_array.Util2d object at 0x0000013B63F4DBF0> ('flopy.utils.util_array.Util2d)\n",
       " perlen = <flopy.utils.util_array.Util2d object at 0x0000013B67F570B0> ('flopy.utils.util_array.Util2d)\n",
       " start_datetime = 1-1-1970 ('str)\n",
       " steady = <flopy.utils.util_array.Util2d object at 0x0000013B67F6A050> ('flopy.utils.util_array.Util2d)\n",
       " top = <flopy.utils.util_array.Util2d object at 0x0000013B67E86FD0> ('flopy.utils.util_array.Util2d)\n",
       " tr = <flopy.utils.reference.TemporalReference object at 0x0000013B67FB8980> ('flopy.utils.reference.TemporalReference)\n",
       " tsmult = <flopy.utils.util_array.Util2d object at 0x0000013B67F5E030> ('flopy.utils.util_array.Util2d)\n",
       " unit_number = 11"
      ]
     },
     "execution_count": 4,
     "metadata": {},
     "output_type": "execute_result"
    }
   ],
   "source": [
    "fpm.ModflowDis(model, nlay=1, nrow=1, ncol=201, delr=10, delc=1, top=50, botm=0)"
   ]
  },
  {
   "cell_type": "code",
   "execution_count": 8,
   "id": "4b9100e2",
   "metadata": {},
   "outputs": [],
   "source": [
    "model.write_input()\n"
   ]
  },
  {
   "cell_type": "markdown",
   "id": "1d30b789",
   "metadata": {},
   "source": [
    "from pprint import pformat # ------------------------------------  https://docs.python.org/3/library/pprint.html\n",
    "success, buff = model.run_model(silent=True, report=True)\n",
    "assert success, pformat(buff)"
   ]
  },
  {
   "cell_type": "code",
   "execution_count": null,
   "id": "3aad022f",
   "metadata": {},
   "outputs": [],
   "source": [
    "fpm.Modflow  Dis\n",
    "fpm.Modflow  Bas (model, ibound=ibound, strt=20)\n",
    "fpm.Modflow  Lpf  (model, hk=10, laytyp=1)\n",
    "fpm.Modflow  Wel (model, stress_period_data=lrcQ)\n",
    "fpm.Modflow  Pcg  (model)\n",
    "fpm.Modflow  Oc   (model)"
   ]
  }
 ],
 "metadata": {
  "jupytext": {
   "notebook_metadata_filter": "metadata"
  },
  "kernelspec": {
   "display_name": "Python 3 (ipykernel)",
   "language": "python",
   "name": "python3"
  },
  "language_info": {
   "codemirror_mode": {
    "name": "ipython",
    "version": 3
   },
   "file_extension": ".py",
   "mimetype": "text/x-python",
   "name": "python",
   "nbconvert_exporter": "python",
   "pygments_lexer": "ipython3",
   "version": "3.13.1"
  },
  "metadata": {
   "section": "2016gw-paper"
  }
 },
 "nbformat": 4,
 "nbformat_minor": 5
}
