{
 "cells": [
  {
   "cell_type": "code",
   "execution_count": null,
   "id": "10d196b4",
   "metadata": {},
   "outputs": [],
   "source": [
    "import os\n",
    "import sys\n",
    "from pprint import pformat\n",
    "\n",
    "import matplotlib as mpl\n",
    "import numpy as np\n",
    "\n",
    "# run installed version of flopy or add local path\n",
    "import flopy\n",
    "import flopy.modflow as fpm\n",
    "import flopy.utils as fpu\n",
    "\n",
    "print(sys.version)\n",
    "print(f\"numpy version: {np.__version__}\")\n",
    "print(f\"matplotlib version: {mpl.__version__}\")\n",
    "print(f\"flopy version: {flopy.__version__}\")"
   ]
  },
  {
   "cell_type": "markdown",
   "id": "0f8ee566",
   "metadata": {},
   "source": [
    "exe = \"mf2005\"\n",
    "ws = os.path.join(\"tempIN\")\n",
    "model = fpm.Modflow(modelname=\"gwexample\", exe_name=exe, model_ws=ws)"
   ]
  },
  {
   "cell_type": "code",
   "execution_count": null,
   "id": "37835ba8",
   "metadata": {},
   "outputs": [],
   "source": [
    "exe = \"MF2K5_FMP2_rls64\"\n",
    "ws = os.path.join(\"tempIN\")\n",
    "model = fpm.Modflow(modelname=\"gwexample\", exe_name=exe, model_ws=ws)"
   ]
  },
  {
   "cell_type": "code",
   "execution_count": null,
   "id": "14b0442e",
   "metadata": {},
   "outputs": [],
   "source": [
    "fpm.ModflowDis(model, nlay=1, nrow=1, ncol=201, delr=10, delc=1, top=50, botm=0)"
   ]
  },
  {
   "cell_type": "code",
   "execution_count": null,
   "id": "4b9100e2",
   "metadata": {},
   "outputs": [],
   "source": [
    "model.write_input()\n",
    "success, buff = model.run_model(silent=True, report=True)\n",
    "assert success, pformat(buff)"
   ]
  },
  {
   "cell_type": "code",
   "execution_count": null,
   "id": "d9e61365",
   "metadata": {},
   "outputs": [],
   "source": []
  },
  {
   "cell_type": "code",
   "execution_count": null,
   "id": "10803174",
   "metadata": {},
   "outputs": [],
   "source": []
  },
  {
   "cell_type": "code",
   "execution_count": null,
   "id": "070df64a",
   "metadata": {},
   "outputs": [],
   "source": []
  },
  {
   "cell_type": "code",
   "execution_count": null,
   "id": "8d337062",
   "metadata": {},
   "outputs": [],
   "source": [
    "ibound = np.ones((1, 201))\n",
    "ibound[0, 0] = ibound[0, -1] = -1\n",
    "fpm.ModflowBas(model, ibound=ibound, strt=20)"
   ]
  },
  {
   "cell_type": "code",
   "execution_count": null,
   "id": "e5909861",
   "metadata": {},
   "outputs": [],
   "source": [
    "fpm.ModflowLpf(model, hk=10, laytyp=1)"
   ]
  },
  {
   "cell_type": "code",
   "execution_count": null,
   "id": "0a41ca53",
   "metadata": {},
   "outputs": [],
   "source": [
    "fpm.ModflowRch(model, rech=0.001)\n",
    "lrcQ = {0: [[0, 0, 50, -1], [0, 0, 150, -1]]}\n",
    "fpm.ModflowWel(model, stress_period_data=lrcQ)"
   ]
  },
  {
   "cell_type": "code",
   "execution_count": null,
   "id": "af7a1d02",
   "metadata": {},
   "outputs": [],
   "source": [
    "fpm.ModflowPcg(model)"
   ]
  },
  {
   "cell_type": "code",
   "execution_count": null,
   "id": "ec148064",
   "metadata": {},
   "outputs": [],
   "source": [
    "fpm.ModflowOc(model)"
   ]
  },
  {
   "cell_type": "code",
   "execution_count": null,
   "id": "411a20e6",
   "metadata": {},
   "outputs": [],
   "source": [
    "model.write_input()\n",
    "success, buff = model.run_model(silent=True, report=True)\n",
    "assert success, pformat(buff)"
   ]
  },
  {
   "cell_type": "code",
   "execution_count": null,
   "id": "a734d6c9",
   "metadata": {},
   "outputs": [],
   "source": [
    "fpth = os.path.join(ws, \"gwexample.hds\")\n",
    "hfile = fpu.HeadFile(fpth)\n",
    "h = hfile.get_data(totim=1.0)"
   ]
  },
  {
   "cell_type": "code",
   "execution_count": null,
   "id": "fbe0d07b",
   "metadata": {},
   "outputs": [],
   "source": [
    "import matplotlib.pyplot as plt\n",
    "\n",
    "ax = plt.subplot(111)\n",
    "x = model.modelgrid.xcellcenters[0]\n",
    "ax.plot(x, h[0, 0, :])\n",
    "ax.set_xlim(0, x.max())\n",
    "ax.set_xlabel(\"x(m)\")\n",
    "ax.set_ylabel(\"head(m)\")\n",
    "plt.show()"
   ]
  },
  {
   "cell_type": "code",
   "execution_count": null,
   "id": "7cc941f3",
   "metadata": {},
   "outputs": [],
   "source": []
  }
 ],
 "metadata": {
  "jupytext": {
   "notebook_metadata_filter": "metadata"
  },
  "kernelspec": {
   "display_name": "Python 3 (ipykernel)",
   "language": "python",
   "name": "python3"
  },
  "language_info": {
   "codemirror_mode": {
    "name": "ipython",
    "version": 3
   },
   "file_extension": ".py",
   "mimetype": "text/x-python",
   "name": "python",
   "nbconvert_exporter": "python",
   "pygments_lexer": "ipython3",
   "version": "3.13.1"
  },
  "metadata": {
   "section": "2016gw-paper"
  }
 },
 "nbformat": 4,
 "nbformat_minor": 5
}
