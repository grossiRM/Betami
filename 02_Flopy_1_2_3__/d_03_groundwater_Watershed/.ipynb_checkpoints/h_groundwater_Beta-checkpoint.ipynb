{
 "cells": [
  {
   "cell_type": "code",
   "execution_count": 10,
   "id": "38d44f27",
   "metadata": {},
   "outputs": [],
   "source": [
    "import matplotlib as mpl\n",
    "import numpy as np\n",
    "import flopy\n",
    "import sys\n",
    "\n",
    "import os\n",
    "import pathlib as pl\n",
    "import pooch"
   ]
  },
  {
   "cell_type": "code",
   "execution_count": 5,
   "id": "0d15517f",
   "metadata": {},
   "outputs": [
    {
     "name": "stdout",
     "output_type": "stream",
     "text": [
      "3.13.1 | packaged by conda-forge | (main, Dec  5 2024, 21:02:16) [MSC v.1942 64 bit (AMD64)]\n",
      "numpy version: 2.2.0\n",
      "matplotlib version: 3.9.4\n",
      "flopy version: 3.8.2\n"
     ]
    }
   ],
   "source": [
    "print(sys.version)\n",
    "print(f\"numpy version: {np.__version__}\")\n",
    "print(f\"matplotlib version: {mpl.__version__}\")\n",
    "print(f\"flopy version: {flopy.__version__}\")"
   ]
  },
  {
   "cell_type": "code",
   "execution_count": 12,
   "id": "a468f115",
   "metadata": {},
   "outputs": [
    {
     "data": {
      "text/plain": [
       "'E:\\\\15_REPOS\\\\00_Betami\\\\02_Flopy_1_2_3__\\\\d_03_groundwater_Watershed\\\\groundwater2023\\\\geometries.yml'"
      ]
     },
     "execution_count": 12,
     "metadata": {},
     "output_type": "execute_result"
    }
   ],
   "source": [
    "try:\n",
    "    root = pl.Path(git.Repo(\".\", search_parent_directories=True).working_dir)\n",
    "except:\n",
    "    root = None\n",
    "data_path = root / \"examples\" / \"data\" if root else pl.Path.cwd()\n",
    "folder_name = \"groundwater2023\"\n",
    "fname = \"geometries.yml\"\n",
    "pooch.retrieve(\n",
    "    url=f\"https://github.com/modflowpy/flopy/raw/develop/examples/data/{folder_name}/{fname}\",\n",
    "    fname=fname,\n",
    "    path=data_path / folder_name,\n",
    "    known_hash=None,\n",
    ")"
   ]
  },
  {
   "cell_type": "code",
   "execution_count": null,
   "id": "a75d129c",
   "metadata": {},
   "outputs": [],
   "source": []
  }
 ],
 "metadata": {
  "kernelspec": {
   "display_name": "Python 3 (ipykernel)",
   "language": "python",
   "name": "python3"
  },
  "language_info": {
   "codemirror_mode": {
    "name": "ipython",
    "version": 3
   },
   "file_extension": ".py",
   "mimetype": "text/x-python",
   "name": "python",
   "nbconvert_exporter": "python",
   "pygments_lexer": "ipython3",
   "version": "3.13.1"
  }
 },
 "nbformat": 4,
 "nbformat_minor": 5
}
