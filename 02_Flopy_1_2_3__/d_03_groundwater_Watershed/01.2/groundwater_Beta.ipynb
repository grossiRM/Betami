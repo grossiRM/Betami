{
 "cells": [
  {
   "cell_type": "code",
   "execution_count": 58,
   "id": "38d44f27",
   "metadata": {},
   "outputs": [],
   "source": [
    "import matplotlib as mpl\n",
    "import numpy as np\n",
    "import flopy\n",
    "import sys\n",
    "\n",
    "import os\n",
    "import pathlib as pl\n",
    "import pooch"
   ]
  },
  {
   "cell_type": "code",
   "execution_count": 59,
   "id": "0d15517f",
   "metadata": {},
   "outputs": [
    {
     "name": "stdout",
     "output_type": "stream",
     "text": [
      "3.13.1 | packaged by conda-forge | (main, Dec  5 2024, 21:02:16) [MSC v.1942 64 bit (AMD64)]\n",
      "numpy version: 2.2.0\n",
      "matplotlib version: 3.9.4\n",
      "flopy version: 3.8.2\n"
     ]
    }
   ],
   "source": [
    "print(sys.version)\n",
    "print(f\"numpy version: {np.__version__}\")\n",
    "print(f\"matplotlib version: {mpl.__version__}\")\n",
    "print(f\"flopy version: {flopy.__version__}\")"
   ]
  },
  {
   "cell_type": "code",
   "execution_count": 60,
   "id": "a468f115",
   "metadata": {},
   "outputs": [
    {
     "data": {
      "text/plain": [
       "'E:\\\\15_REPOS\\\\00_Betami\\\\02_Flopy_1_2_3__\\\\d_03_groundwater_Watershed\\\\01.2\\\\groundwater2023\\\\geometries.yml'"
      ]
     },
     "execution_count": 60,
     "metadata": {},
     "output_type": "execute_result"
    }
   ],
   "source": [
    "try:\n",
    "    root = pl.Path(git.Repo(\".\", search_parent_directories=True).working_dir)\n",
    "except:\n",
    "    root = None\n",
    "data_path = root / \"examples\" / \"data\" if root else pl.Path.cwd()\n",
    "folder_name = \"groundwater2023\"\n",
    "fname = \"geometries.yml\"\n",
    "pooch.retrieve(\n",
    "    url=f\"https://github.com/modflowpy/flopy/raw/develop/examples/data/{folder_name}/{fname}\",\n",
    "    fname=fname,\n",
    "    path=data_path / folder_name,\n",
    "    known_hash=None,\n",
    ")"
   ]
  },
  {
   "cell_type": "code",
   "execution_count": 61,
   "id": "a75d129c",
   "metadata": {},
   "outputs": [],
   "source": [
    "# make a temporary working directory for gridgen output\n",
    "temp_path = \"./temp5\"\n",
    "if not os.path.isdir(temp_path):\n",
    "    os.mkdir(temp_path)"
   ]
  },
  {
   "cell_type": "code",
   "execution_count": 62,
   "id": "fbbd14d5",
   "metadata": {},
   "outputs": [],
   "source": [
    "# Load the fine topography that will be sampled\n",
    "fname = \"fine_topo.asc\"\n",
    "ascii_file = pooch.retrieve(\n",
    "    url=f\"https://github.com/modflowpy/flopy/raw/develop/examples/data/geospatial/{fname}\",\n",
    "    fname=fname,\n",
    "    path=data_path / \"geospatial\",\n",
    "    known_hash=None,\n",
    ")\n",
    "fine_topo = flopy.utils.Raster.load(ascii_file)"
   ]
  },
  {
   "cell_type": "code",
   "execution_count": 63,
   "id": "a53c9b17",
   "metadata": {},
   "outputs": [],
   "source": [
    "# define a few utility functions\n",
    "def string2geom(geostring, conversion=None):\n",
    "    if conversion is None:\n",
    "        multiplier = 1.0\n",
    "    else:\n",
    "        multiplier = float(conversion)\n",
    "    res = []\n",
    "    for line in geostring.split(\"\\n\"):\n",
    "        if not any(line):\n",
    "            continue\n",
    "        line = line.strip()\n",
    "        line = line.split(\" \")\n",
    "        x = float(line[0]) * multiplier\n",
    "        y = float(line[1]) * multiplier\n",
    "        res.append((x, y))\n",
    "    return res"
   ]
  },
  {
   "cell_type": "code",
   "execution_count": 64,
   "id": "8a9da004",
   "metadata": {},
   "outputs": [],
   "source": [
    "def densify_geometry(line, step, keep_internal_nodes=True):\n",
    "    xy = []  # list of tuple of coordinates\n",
    "    lines_strings = []\n",
    "    if keep_internal_nodes:\n",
    "        for idx in range(1, len(line)):\n",
    "            lines_strings.append(shapely.geometry.LineString(line[idx - 1 : idx + 1]))\n",
    "    else:\n",
    "        lines_strings = [shapely.geometry.LineString(line)]\n",
    "\n",
    "    for line_string in lines_strings:\n",
    "        length_m = line_string.length  # get the length\n",
    "        for distance in np.arange(0, length_m + step, step):\n",
    "            point = line_string.interpolate(distance)\n",
    "            xy_tuple = (point.x, point.y)\n",
    "            if xy_tuple not in xy:\n",
    "                xy.append(xy_tuple)\n",
    "        # make sure the end point is in xy\n",
    "        if keep_internal_nodes:\n",
    "            xy_tuple = line_string.coords[-1]\n",
    "            if xy_tuple not in xy:\n",
    "                xy.append(xy_tuple)\n",
    "\n",
    "    return xy"
   ]
  },
  {
   "cell_type": "code",
   "execution_count": 65,
   "id": "59907a8a",
   "metadata": {},
   "outputs": [],
   "source": [
    "try:\n",
    "    root = pl.Path(git.Repo(\".\", search_parent_directories=True).working_dir)\n",
    "except:\n",
    "    root = None\n",
    "data_path = root / \"examples\" / \"data\" if root else pl.Path.cwd()\n",
    "folder_name = \"groundwater2023\"\n",
    "fname = \"geometries.yml\"\n",
    "pooch.retrieve(\n",
    "    url=f\"https://github.com/modflowpy/flopy/raw/develop/examples/data/{folder_name}/{fname}\",\n",
    "    fname=fname,\n",
    "    path=data_path / folder_name,\n",
    "    known_hash=None,\n",
    ")\n",
    "geometries = yaml.safe_load(open(data_path / folder_name / fname))"
   ]
  },
  {
   "cell_type": "code",
   "execution_count": 66,
   "id": "70101aa3",
   "metadata": {},
   "outputs": [],
   "source": [
    "Lx = 180000\n",
    "Ly = 100000\n",
    "extent = (0, Lx, 0, Ly)\n",
    "vmin, vmax = 0.0, 100.0"
   ]
  },
  {
   "cell_type": "code",
   "execution_count": 70,
   "id": "187cfba3",
   "metadata": {},
   "outputs": [],
   "source": [
    "import matplotlib.pyplot as plt\n",
    "# basic figure size\n",
    "figwidth = 180  # 90 # mm\n",
    "figwidth = figwidth / 10 / 2.54  # inches\n",
    "figheight = figwidth\n",
    "figsize = (figwidth, figheight)"
   ]
  },
  {
   "cell_type": "code",
   "execution_count": 71,
   "id": "cccb8726",
   "metadata": {},
   "outputs": [
    {
     "data": {
      "image/png": "[encoded data removed]",
      "text/plain": [
       "<Figure size 708.661x708.661 with 1 Axes>"
      ]
     },
     "metadata": {},
     "output_type": "display_data"
    }
   ],
   "source": [
    "boundary_polygon = string2geom(geometries[\"boundary\"])\n",
    "bp = np.array(boundary_polygon)\n",
    "\n",
    "sgs = [string2geom(geometries[f\"streamseg{i}\"]) for i in range(1, 5)]\n",
    "\n",
    "fig = plt.figure(figsize=figsize)\n",
    "ax = fig.add_subplot()\n",
    "ax.set_aspect(\"equal\")\n",
    "\n",
    "riv_colors = (\"blue\", \"cyan\", \"green\", \"orange\", \"red\")\n",
    "\n",
    "ax.plot(bp[:, 0], bp[:, 1], \"ko-\")\n",
    "for idx, sg in enumerate(sgs):\n",
    "    sa = np.array(sg)\n",
    "    ax.plot(sa[:, 0], sa[:, 1], color=riv_colors[idx], lw=0.75, marker=\"o\")"
   ]
  },
  {
   "cell_type": "code",
   "execution_count": null,
   "id": "e8a48076",
   "metadata": {},
   "outputs": [],
   "source": []
  },
  {
   "cell_type": "code",
   "execution_count": null,
   "id": "8bfaf911",
   "metadata": {},
   "outputs": [],
   "source": []
  }
 ],
 "metadata": {
  "kernelspec": {
   "display_name": "Python 3 (ipykernel)",
   "language": "python",
   "name": "python3"
  },
  "language_info": {
   "codemirror_mode": {
    "name": "ipython",
    "version": 3
   },
   "file_extension": ".py",
   "mimetype": "text/x-python",
   "name": "python",
   "nbconvert_exporter": "python",
   "pygments_lexer": "ipython3",
   "version": "3.13.1"
  }
 },
 "nbformat": 4,
 "nbformat_minor": 5
}
