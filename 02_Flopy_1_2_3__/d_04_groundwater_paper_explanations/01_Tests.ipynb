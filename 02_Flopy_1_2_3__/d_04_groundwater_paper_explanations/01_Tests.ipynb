{
 "cells": [
  {
   "cell_type": "code",
   "execution_count": 1,
   "id": "b5805c76-a39c-42f4-b21d-2d29c84e326c",
   "metadata": {},
   "outputs": [
    {
     "name": "stdout",
     "output_type": "stream",
     "text": [
      "Requirement already satisfied: flopy in c:\\users\\gross.desktop-airqm2m\\anaconda3\\envs\\flopy\\lib\\site-packages (3.8.2)\n",
      "Requirement already satisfied: numpy>=1.20.3 in c:\\users\\gross.desktop-airqm2m\\anaconda3\\envs\\flopy\\lib\\site-packages (from flopy) (2.2.0)\n",
      "Requirement already satisfied: matplotlib>=1.4.0 in c:\\users\\gross.desktop-airqm2m\\anaconda3\\envs\\flopy\\lib\\site-packages (from flopy) (3.9.4)\n",
      "Requirement already satisfied: pandas>=2.0.0 in c:\\users\\gross.desktop-airqm2m\\anaconda3\\envs\\flopy\\lib\\site-packages (from flopy) (2.2.3)\n",
      "Requirement already satisfied: contourpy>=1.0.1 in c:\\users\\gross.desktop-airqm2m\\anaconda3\\envs\\flopy\\lib\\site-packages (from matplotlib>=1.4.0->flopy) (1.3.1)\n",
      "Requirement already satisfied: cycler>=0.10 in c:\\users\\gross.desktop-airqm2m\\anaconda3\\envs\\flopy\\lib\\site-packages (from matplotlib>=1.4.0->flopy) (0.12.1)\n",
      "Requirement already satisfied: fonttools>=4.22.0 in c:\\users\\gross.desktop-airqm2m\\anaconda3\\envs\\flopy\\lib\\site-packages (from matplotlib>=1.4.0->flopy) (4.55.3)\n",
      "Requirement already satisfied: kiwisolver>=1.3.1 in c:\\users\\gross.desktop-airqm2m\\anaconda3\\envs\\flopy\\lib\\site-packages (from matplotlib>=1.4.0->flopy) (1.4.7)\n",
      "Requirement already satisfied: packaging>=20.0 in c:\\users\\gross.desktop-airqm2m\\anaconda3\\envs\\flopy\\lib\\site-packages (from matplotlib>=1.4.0->flopy) (24.2)\n",
      "Requirement already satisfied: pillow>=8 in c:\\users\\gross.desktop-airqm2m\\anaconda3\\envs\\flopy\\lib\\site-packages (from matplotlib>=1.4.0->flopy) (11.0.0)\n",
      "Requirement already satisfied: pyparsing>=2.3.1 in c:\\users\\gross.desktop-airqm2m\\anaconda3\\envs\\flopy\\lib\\site-packages (from matplotlib>=1.4.0->flopy) (3.2.0)\n",
      "Requirement already satisfied: python-dateutil>=2.7 in c:\\users\\gross.desktop-airqm2m\\anaconda3\\envs\\flopy\\lib\\site-packages (from matplotlib>=1.4.0->flopy) (2.9.0.post0)\n",
      "Requirement already satisfied: pytz>=2020.1 in c:\\users\\gross.desktop-airqm2m\\anaconda3\\envs\\flopy\\lib\\site-packages (from pandas>=2.0.0->flopy) (2024.1)\n",
      "Requirement already satisfied: tzdata>=2022.7 in c:\\users\\gross.desktop-airqm2m\\anaconda3\\envs\\flopy\\lib\\site-packages (from pandas>=2.0.0->flopy) (2024.2)\n",
      "Requirement already satisfied: six>=1.5 in c:\\users\\gross.desktop-airqm2m\\anaconda3\\envs\\flopy\\lib\\site-packages (from python-dateutil>=2.7->matplotlib>=1.4.0->flopy) (1.17.0)\n"
     ]
    }
   ],
   "source": [
    "!pip install flopy"
   ]
  },
  {
   "cell_type": "code",
   "execution_count": 1,
   "id": "b9e3ceb3",
   "metadata": {},
   "outputs": [],
   "source": [
    "import numpy as np\n",
    "import flopy.modflow as fpm\n",
    "import flopy.utils as fpu\n",
    "import os"
   ]
  },
  {
   "cell_type": "code",
   "execution_count": 2,
   "id": "7c315268",
   "metadata": {},
   "outputs": [],
   "source": [
    "exe = \"MF2K5_FMP2_dbg64\"\n",
    "ws = os.path.join(\"temp\")\n",
    "model = fpm.Modflow(modelname=\"Beta\", exe_name=exe, model_ws=ws)"
   ]
  },
  {
   "cell_type": "code",
   "execution_count": null,
   "id": "871bcb2d",
   "metadata": {},
   "outputs": [],
   "source": [
    "fpm.ModflowDis(model, nlay=50, nrow=10, ncol=10, delr=10, delc=10, top=100, botm=0, rotation=270, start_datetime='12/17/2024')"
   ]
  },
  {
   "cell_type": "code",
   "execution_count": 4,
   "id": "087476db",
   "metadata": {},
   "outputs": [],
   "source": [
    "model.write_input() #____ E:\\15_REPOS\\00_Betami\\04_Flopy\\08_Explanations\\temp"
   ]
  },
  {
   "cell_type": "code",
   "execution_count": null,
   "id": "3e08e001",
   "metadata": {},
   "outputs": [],
   "source": [
    "#model = fpm.Modflow(modelname = 'gwexample')\n",
    "      #  fpm.ModflowBas(model, ibound=ibound, strt=20)\n",
    "      #  fpm.ModflowLpf(model, hk=10, laytyp=1)\n",
    "      #  fpm.ModflowWel(model, stress_period_data=lrcQ)\n",
    "      #  fpm.ModflowPcg(model)\n",
    "      #  fpm.ModflowOc(model)"
   ]
  },
  {
   "cell_type": "code",
   "execution_count": 5,
   "id": "cf18f070",
   "metadata": {},
   "outputs": [],
   "source": [
    "# strees periods\n",
    "nper = 3\n",
    "perlen = [1, 100, 100]\n",
    "nstp = [1, 100, 100]\n",
    "steady = [True, False, False]"
   ]
  },
  {
   "cell_type": "code",
   "execution_count": null,
   "id": "6eee3753",
   "metadata": {},
   "outputs": [],
   "source": [
    "'flopy.modflow.mf.Modflow\n",
    "'flopy.utils.util_array.Util2d"
   ]
  }
 ],
 "metadata": {
  "kernelspec": {
   "display_name": "Python 3 (ipykernel)",
   "language": "python",
   "name": "python3"
  },
  "language_info": {
   "codemirror_mode": {
    "name": "ipython",
    "version": 3
   },
   "file_extension": ".py",
   "mimetype": "text/x-python",
   "name": "python",
   "nbconvert_exporter": "python",
   "pygments_lexer": "ipython3",
   "version": "3.13.1"
  }
 },
 "nbformat": 4,
 "nbformat_minor": 5
}
