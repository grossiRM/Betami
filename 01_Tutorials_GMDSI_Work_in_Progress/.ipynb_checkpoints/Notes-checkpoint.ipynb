{
 "cells": [
  {
   "cell_type": "markdown",
   "id": "48648e34-0fc5-4a76-a64a-01dc94b62528",
   "metadata": {},
   "source": [
    "## Viewing data in pandas\n",
    "\n",
    "Pandas has built in methods to inspect `DataFrame` objects. We'll look at a few handy methods:\n",
    "\n",
    "   - `.head()`: inspect the first few rows of data\n",
    "   - `.tail()`: inspect the last few rows of data\n",
    "   - `.index()`: show the row indexes\n",
    "   - `.columns()`: show the column names\n",
    "   - `.describe()`: statistically describe the dat"
   ]
  },
  {
   "cell_type": "code",
   "execution_count": null,
   "id": "7f7bf12e-bc54-4db5-8d4a-0f06d103d7bd",
   "metadata": {},
   "outputs": [],
   "source": [
    "# from tempfile import TemporaryDirectory"
   ]
  }
 ],
 "metadata": {
  "kernelspec": {
   "display_name": "Python 3 (ipykernel)",
   "language": "python",
   "name": "python3"
  },
  "language_info": {
   "codemirror_mode": {
    "name": "ipython",
    "version": 3
   },
   "file_extension": ".py",
   "mimetype": "text/x-python",
   "name": "python",
   "nbconvert_exporter": "python",
   "pygments_lexer": "ipython3",
   "version": "3.11.11"
  }
 },
 "nbformat": 4,
 "nbformat_minor": 5
}
